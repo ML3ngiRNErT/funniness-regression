{
  "nbformat": 4,
  "nbformat_minor": 0,
  "metadata": {
    "accelerator": "GPU",
    "colab": {
      "name": "Evaluating BERT and RoBERTa on the unseen test data",
      "provenance": [],
      "collapsed_sections": [
        "rdeFaoc3lDpK",
        "9HyHwHkUlDpa"
      ],
      "toc_visible": true
    },
    "kernelspec": {
      "display_name": "Python 3",
      "language": "python",
      "name": "python3"
    },
    "language_info": {
      "codemirror_mode": {
        "name": "ipython",
        "version": 3
      },
      "file_extension": ".py",
      "mimetype": "text/x-python",
      "name": "python",
      "nbconvert_exporter": "python",
      "pygments_lexer": "ipython3",
      "version": "3.7.9-final"
    },
    "widgets": {
      "application/vnd.jupyter.widget-state+json": {
        "92f2690bd54d47c6864c92a09e7dbd76": {
          "model_module": "@jupyter-widgets/controls",
          "model_name": "HBoxModel",
          "state": {
            "_view_name": "HBoxView",
            "_dom_classes": [],
            "_model_name": "HBoxModel",
            "_view_module": "@jupyter-widgets/controls",
            "_model_module_version": "1.5.0",
            "_view_count": null,
            "_view_module_version": "1.5.0",
            "box_style": "",
            "layout": "IPY_MODEL_70b0c2d2bb8047a1807a68f7645d4ddc",
            "_model_module": "@jupyter-widgets/controls",
            "children": [
              "IPY_MODEL_5759b7cf21504362b3dc6cfbf0c936c5",
              "IPY_MODEL_e9cab77c6eeb4089be5673d8888a9f37"
            ]
          }
        },
        "70b0c2d2bb8047a1807a68f7645d4ddc": {
          "model_module": "@jupyter-widgets/base",
          "model_name": "LayoutModel",
          "state": {
            "_view_name": "LayoutView",
            "grid_template_rows": null,
            "right": null,
            "justify_content": null,
            "_view_module": "@jupyter-widgets/base",
            "overflow": null,
            "_model_module_version": "1.2.0",
            "_view_count": null,
            "flex_flow": null,
            "width": null,
            "min_width": null,
            "border": null,
            "align_items": null,
            "bottom": null,
            "_model_module": "@jupyter-widgets/base",
            "top": null,
            "grid_column": null,
            "overflow_y": null,
            "overflow_x": null,
            "grid_auto_flow": null,
            "grid_area": null,
            "grid_template_columns": null,
            "flex": null,
            "_model_name": "LayoutModel",
            "justify_items": null,
            "grid_row": null,
            "max_height": null,
            "align_content": null,
            "visibility": null,
            "align_self": null,
            "height": null,
            "min_height": null,
            "padding": null,
            "grid_auto_rows": null,
            "grid_gap": null,
            "max_width": null,
            "order": null,
            "_view_module_version": "1.2.0",
            "grid_template_areas": null,
            "object_position": null,
            "object_fit": null,
            "grid_auto_columns": null,
            "margin": null,
            "display": null,
            "left": null
          }
        },
        "5759b7cf21504362b3dc6cfbf0c936c5": {
          "model_module": "@jupyter-widgets/controls",
          "model_name": "FloatProgressModel",
          "state": {
            "_view_name": "ProgressView",
            "style": "IPY_MODEL_f8361a8324444697bf63d2d606f9af93",
            "_dom_classes": [],
            "description": "Downloading: 100%",
            "_model_name": "FloatProgressModel",
            "bar_style": "success",
            "max": 231508,
            "_view_module": "@jupyter-widgets/controls",
            "_model_module_version": "1.5.0",
            "value": 231508,
            "_view_count": null,
            "_view_module_version": "1.5.0",
            "orientation": "horizontal",
            "min": 0,
            "description_tooltip": null,
            "_model_module": "@jupyter-widgets/controls",
            "layout": "IPY_MODEL_d4a9ff87118a42409622a77a7631cdc0"
          }
        },
        "e9cab77c6eeb4089be5673d8888a9f37": {
          "model_module": "@jupyter-widgets/controls",
          "model_name": "HTMLModel",
          "state": {
            "_view_name": "HTMLView",
            "style": "IPY_MODEL_fe47f6b6a0754f9bbd423ba517519f55",
            "_dom_classes": [],
            "description": "",
            "_model_name": "HTMLModel",
            "placeholder": "​",
            "_view_module": "@jupyter-widgets/controls",
            "_model_module_version": "1.5.0",
            "value": " 232k/232k [00:00&lt;00:00, 3.16MB/s]",
            "_view_count": null,
            "_view_module_version": "1.5.0",
            "description_tooltip": null,
            "_model_module": "@jupyter-widgets/controls",
            "layout": "IPY_MODEL_a57abfa06d294553bd8b77332a5ca1ea"
          }
        },
        "f8361a8324444697bf63d2d606f9af93": {
          "model_module": "@jupyter-widgets/controls",
          "model_name": "ProgressStyleModel",
          "state": {
            "_view_name": "StyleView",
            "_model_name": "ProgressStyleModel",
            "description_width": "initial",
            "_view_module": "@jupyter-widgets/base",
            "_model_module_version": "1.5.0",
            "_view_count": null,
            "_view_module_version": "1.2.0",
            "bar_color": null,
            "_model_module": "@jupyter-widgets/controls"
          }
        },
        "d4a9ff87118a42409622a77a7631cdc0": {
          "model_module": "@jupyter-widgets/base",
          "model_name": "LayoutModel",
          "state": {
            "_view_name": "LayoutView",
            "grid_template_rows": null,
            "right": null,
            "justify_content": null,
            "_view_module": "@jupyter-widgets/base",
            "overflow": null,
            "_model_module_version": "1.2.0",
            "_view_count": null,
            "flex_flow": null,
            "width": null,
            "min_width": null,
            "border": null,
            "align_items": null,
            "bottom": null,
            "_model_module": "@jupyter-widgets/base",
            "top": null,
            "grid_column": null,
            "overflow_y": null,
            "overflow_x": null,
            "grid_auto_flow": null,
            "grid_area": null,
            "grid_template_columns": null,
            "flex": null,
            "_model_name": "LayoutModel",
            "justify_items": null,
            "grid_row": null,
            "max_height": null,
            "align_content": null,
            "visibility": null,
            "align_self": null,
            "height": null,
            "min_height": null,
            "padding": null,
            "grid_auto_rows": null,
            "grid_gap": null,
            "max_width": null,
            "order": null,
            "_view_module_version": "1.2.0",
            "grid_template_areas": null,
            "object_position": null,
            "object_fit": null,
            "grid_auto_columns": null,
            "margin": null,
            "display": null,
            "left": null
          }
        },
        "fe47f6b6a0754f9bbd423ba517519f55": {
          "model_module": "@jupyter-widgets/controls",
          "model_name": "DescriptionStyleModel",
          "state": {
            "_view_name": "StyleView",
            "_model_name": "DescriptionStyleModel",
            "description_width": "",
            "_view_module": "@jupyter-widgets/base",
            "_model_module_version": "1.5.0",
            "_view_count": null,
            "_view_module_version": "1.2.0",
            "_model_module": "@jupyter-widgets/controls"
          }
        },
        "a57abfa06d294553bd8b77332a5ca1ea": {
          "model_module": "@jupyter-widgets/base",
          "model_name": "LayoutModel",
          "state": {
            "_view_name": "LayoutView",
            "grid_template_rows": null,
            "right": null,
            "justify_content": null,
            "_view_module": "@jupyter-widgets/base",
            "overflow": null,
            "_model_module_version": "1.2.0",
            "_view_count": null,
            "flex_flow": null,
            "width": null,
            "min_width": null,
            "border": null,
            "align_items": null,
            "bottom": null,
            "_model_module": "@jupyter-widgets/base",
            "top": null,
            "grid_column": null,
            "overflow_y": null,
            "overflow_x": null,
            "grid_auto_flow": null,
            "grid_area": null,
            "grid_template_columns": null,
            "flex": null,
            "_model_name": "LayoutModel",
            "justify_items": null,
            "grid_row": null,
            "max_height": null,
            "align_content": null,
            "visibility": null,
            "align_self": null,
            "height": null,
            "min_height": null,
            "padding": null,
            "grid_auto_rows": null,
            "grid_gap": null,
            "max_width": null,
            "order": null,
            "_view_module_version": "1.2.0",
            "grid_template_areas": null,
            "object_position": null,
            "object_fit": null,
            "grid_auto_columns": null,
            "margin": null,
            "display": null,
            "left": null
          }
        },
        "48397f53b2bb4d17863e50e11333068b": {
          "model_module": "@jupyter-widgets/controls",
          "model_name": "HBoxModel",
          "state": {
            "_view_name": "HBoxView",
            "_dom_classes": [],
            "_model_name": "HBoxModel",
            "_view_module": "@jupyter-widgets/controls",
            "_model_module_version": "1.5.0",
            "_view_count": null,
            "_view_module_version": "1.5.0",
            "box_style": "",
            "layout": "IPY_MODEL_c17e4aee83514730a88f8fff1b0ef5fa",
            "_model_module": "@jupyter-widgets/controls",
            "children": [
              "IPY_MODEL_28b566efcbfd40a398d5b0b17b3ba51b",
              "IPY_MODEL_c7fcb93a892043e3bece5a6e3a0d7a71"
            ]
          }
        },
        "c17e4aee83514730a88f8fff1b0ef5fa": {
          "model_module": "@jupyter-widgets/base",
          "model_name": "LayoutModel",
          "state": {
            "_view_name": "LayoutView",
            "grid_template_rows": null,
            "right": null,
            "justify_content": null,
            "_view_module": "@jupyter-widgets/base",
            "overflow": null,
            "_model_module_version": "1.2.0",
            "_view_count": null,
            "flex_flow": null,
            "width": null,
            "min_width": null,
            "border": null,
            "align_items": null,
            "bottom": null,
            "_model_module": "@jupyter-widgets/base",
            "top": null,
            "grid_column": null,
            "overflow_y": null,
            "overflow_x": null,
            "grid_auto_flow": null,
            "grid_area": null,
            "grid_template_columns": null,
            "flex": null,
            "_model_name": "LayoutModel",
            "justify_items": null,
            "grid_row": null,
            "max_height": null,
            "align_content": null,
            "visibility": null,
            "align_self": null,
            "height": null,
            "min_height": null,
            "padding": null,
            "grid_auto_rows": null,
            "grid_gap": null,
            "max_width": null,
            "order": null,
            "_view_module_version": "1.2.0",
            "grid_template_areas": null,
            "object_position": null,
            "object_fit": null,
            "grid_auto_columns": null,
            "margin": null,
            "display": null,
            "left": null
          }
        },
        "28b566efcbfd40a398d5b0b17b3ba51b": {
          "model_module": "@jupyter-widgets/controls",
          "model_name": "FloatProgressModel",
          "state": {
            "_view_name": "ProgressView",
            "style": "IPY_MODEL_6ef5c002df9c41f68645f048a2137442",
            "_dom_classes": [],
            "description": "Downloading: 100%",
            "_model_name": "FloatProgressModel",
            "bar_style": "success",
            "max": 898823,
            "_view_module": "@jupyter-widgets/controls",
            "_model_module_version": "1.5.0",
            "value": 898823,
            "_view_count": null,
            "_view_module_version": "1.5.0",
            "orientation": "horizontal",
            "min": 0,
            "description_tooltip": null,
            "_model_module": "@jupyter-widgets/controls",
            "layout": "IPY_MODEL_e33e7c70ba2642afbd1bd5c7099fa468"
          }
        },
        "c7fcb93a892043e3bece5a6e3a0d7a71": {
          "model_module": "@jupyter-widgets/controls",
          "model_name": "HTMLModel",
          "state": {
            "_view_name": "HTMLView",
            "style": "IPY_MODEL_010f7d1a4497441999b281818d8be54c",
            "_dom_classes": [],
            "description": "",
            "_model_name": "HTMLModel",
            "placeholder": "​",
            "_view_module": "@jupyter-widgets/controls",
            "_model_module_version": "1.5.0",
            "value": " 899k/899k [00:00&lt;00:00, 7.81MB/s]",
            "_view_count": null,
            "_view_module_version": "1.5.0",
            "description_tooltip": null,
            "_model_module": "@jupyter-widgets/controls",
            "layout": "IPY_MODEL_d9ad862823d24b74ae1b74ef1f45b8db"
          }
        },
        "6ef5c002df9c41f68645f048a2137442": {
          "model_module": "@jupyter-widgets/controls",
          "model_name": "ProgressStyleModel",
          "state": {
            "_view_name": "StyleView",
            "_model_name": "ProgressStyleModel",
            "description_width": "initial",
            "_view_module": "@jupyter-widgets/base",
            "_model_module_version": "1.5.0",
            "_view_count": null,
            "_view_module_version": "1.2.0",
            "bar_color": null,
            "_model_module": "@jupyter-widgets/controls"
          }
        },
        "e33e7c70ba2642afbd1bd5c7099fa468": {
          "model_module": "@jupyter-widgets/base",
          "model_name": "LayoutModel",
          "state": {
            "_view_name": "LayoutView",
            "grid_template_rows": null,
            "right": null,
            "justify_content": null,
            "_view_module": "@jupyter-widgets/base",
            "overflow": null,
            "_model_module_version": "1.2.0",
            "_view_count": null,
            "flex_flow": null,
            "width": null,
            "min_width": null,
            "border": null,
            "align_items": null,
            "bottom": null,
            "_model_module": "@jupyter-widgets/base",
            "top": null,
            "grid_column": null,
            "overflow_y": null,
            "overflow_x": null,
            "grid_auto_flow": null,
            "grid_area": null,
            "grid_template_columns": null,
            "flex": null,
            "_model_name": "LayoutModel",
            "justify_items": null,
            "grid_row": null,
            "max_height": null,
            "align_content": null,
            "visibility": null,
            "align_self": null,
            "height": null,
            "min_height": null,
            "padding": null,
            "grid_auto_rows": null,
            "grid_gap": null,
            "max_width": null,
            "order": null,
            "_view_module_version": "1.2.0",
            "grid_template_areas": null,
            "object_position": null,
            "object_fit": null,
            "grid_auto_columns": null,
            "margin": null,
            "display": null,
            "left": null
          }
        },
        "010f7d1a4497441999b281818d8be54c": {
          "model_module": "@jupyter-widgets/controls",
          "model_name": "DescriptionStyleModel",
          "state": {
            "_view_name": "StyleView",
            "_model_name": "DescriptionStyleModel",
            "description_width": "",
            "_view_module": "@jupyter-widgets/base",
            "_model_module_version": "1.5.0",
            "_view_count": null,
            "_view_module_version": "1.2.0",
            "_model_module": "@jupyter-widgets/controls"
          }
        },
        "d9ad862823d24b74ae1b74ef1f45b8db": {
          "model_module": "@jupyter-widgets/base",
          "model_name": "LayoutModel",
          "state": {
            "_view_name": "LayoutView",
            "grid_template_rows": null,
            "right": null,
            "justify_content": null,
            "_view_module": "@jupyter-widgets/base",
            "overflow": null,
            "_model_module_version": "1.2.0",
            "_view_count": null,
            "flex_flow": null,
            "width": null,
            "min_width": null,
            "border": null,
            "align_items": null,
            "bottom": null,
            "_model_module": "@jupyter-widgets/base",
            "top": null,
            "grid_column": null,
            "overflow_y": null,
            "overflow_x": null,
            "grid_auto_flow": null,
            "grid_area": null,
            "grid_template_columns": null,
            "flex": null,
            "_model_name": "LayoutModel",
            "justify_items": null,
            "grid_row": null,
            "max_height": null,
            "align_content": null,
            "visibility": null,
            "align_self": null,
            "height": null,
            "min_height": null,
            "padding": null,
            "grid_auto_rows": null,
            "grid_gap": null,
            "max_width": null,
            "order": null,
            "_view_module_version": "1.2.0",
            "grid_template_areas": null,
            "object_position": null,
            "object_fit": null,
            "grid_auto_columns": null,
            "margin": null,
            "display": null,
            "left": null
          }
        },
        "a4bdc4263ba241a8b95b6f3ea4881aae": {
          "model_module": "@jupyter-widgets/controls",
          "model_name": "HBoxModel",
          "state": {
            "_view_name": "HBoxView",
            "_dom_classes": [],
            "_model_name": "HBoxModel",
            "_view_module": "@jupyter-widgets/controls",
            "_model_module_version": "1.5.0",
            "_view_count": null,
            "_view_module_version": "1.5.0",
            "box_style": "",
            "layout": "IPY_MODEL_dc53e2149c624d5695e04d6e1e16fa47",
            "_model_module": "@jupyter-widgets/controls",
            "children": [
              "IPY_MODEL_14d7ecb3336a4e16bd8fc123da953aa5",
              "IPY_MODEL_dd5ac7661d594046bf2730a22c1b3bff"
            ]
          }
        },
        "dc53e2149c624d5695e04d6e1e16fa47": {
          "model_module": "@jupyter-widgets/base",
          "model_name": "LayoutModel",
          "state": {
            "_view_name": "LayoutView",
            "grid_template_rows": null,
            "right": null,
            "justify_content": null,
            "_view_module": "@jupyter-widgets/base",
            "overflow": null,
            "_model_module_version": "1.2.0",
            "_view_count": null,
            "flex_flow": null,
            "width": null,
            "min_width": null,
            "border": null,
            "align_items": null,
            "bottom": null,
            "_model_module": "@jupyter-widgets/base",
            "top": null,
            "grid_column": null,
            "overflow_y": null,
            "overflow_x": null,
            "grid_auto_flow": null,
            "grid_area": null,
            "grid_template_columns": null,
            "flex": null,
            "_model_name": "LayoutModel",
            "justify_items": null,
            "grid_row": null,
            "max_height": null,
            "align_content": null,
            "visibility": null,
            "align_self": null,
            "height": null,
            "min_height": null,
            "padding": null,
            "grid_auto_rows": null,
            "grid_gap": null,
            "max_width": null,
            "order": null,
            "_view_module_version": "1.2.0",
            "grid_template_areas": null,
            "object_position": null,
            "object_fit": null,
            "grid_auto_columns": null,
            "margin": null,
            "display": null,
            "left": null
          }
        },
        "14d7ecb3336a4e16bd8fc123da953aa5": {
          "model_module": "@jupyter-widgets/controls",
          "model_name": "FloatProgressModel",
          "state": {
            "_view_name": "ProgressView",
            "style": "IPY_MODEL_4556c8574c1f46e09301c25e176c05e4",
            "_dom_classes": [],
            "description": "Downloading: 100%",
            "_model_name": "FloatProgressModel",
            "bar_style": "success",
            "max": 456318,
            "_view_module": "@jupyter-widgets/controls",
            "_model_module_version": "1.5.0",
            "value": 456318,
            "_view_count": null,
            "_view_module_version": "1.5.0",
            "orientation": "horizontal",
            "min": 0,
            "description_tooltip": null,
            "_model_module": "@jupyter-widgets/controls",
            "layout": "IPY_MODEL_a2443b2ca7a4493584c59e589bfe6418"
          }
        },
        "dd5ac7661d594046bf2730a22c1b3bff": {
          "model_module": "@jupyter-widgets/controls",
          "model_name": "HTMLModel",
          "state": {
            "_view_name": "HTMLView",
            "style": "IPY_MODEL_b8fe5610df6847c9b9e13ce1e90a6f74",
            "_dom_classes": [],
            "description": "",
            "_model_name": "HTMLModel",
            "placeholder": "​",
            "_view_module": "@jupyter-widgets/controls",
            "_model_module_version": "1.5.0",
            "value": " 456k/456k [00:00&lt;00:00, 4.29MB/s]",
            "_view_count": null,
            "_view_module_version": "1.5.0",
            "description_tooltip": null,
            "_model_module": "@jupyter-widgets/controls",
            "layout": "IPY_MODEL_c856ccee406c46f2a5d4c670d391145e"
          }
        },
        "4556c8574c1f46e09301c25e176c05e4": {
          "model_module": "@jupyter-widgets/controls",
          "model_name": "ProgressStyleModel",
          "state": {
            "_view_name": "StyleView",
            "_model_name": "ProgressStyleModel",
            "description_width": "initial",
            "_view_module": "@jupyter-widgets/base",
            "_model_module_version": "1.5.0",
            "_view_count": null,
            "_view_module_version": "1.2.0",
            "bar_color": null,
            "_model_module": "@jupyter-widgets/controls"
          }
        },
        "a2443b2ca7a4493584c59e589bfe6418": {
          "model_module": "@jupyter-widgets/base",
          "model_name": "LayoutModel",
          "state": {
            "_view_name": "LayoutView",
            "grid_template_rows": null,
            "right": null,
            "justify_content": null,
            "_view_module": "@jupyter-widgets/base",
            "overflow": null,
            "_model_module_version": "1.2.0",
            "_view_count": null,
            "flex_flow": null,
            "width": null,
            "min_width": null,
            "border": null,
            "align_items": null,
            "bottom": null,
            "_model_module": "@jupyter-widgets/base",
            "top": null,
            "grid_column": null,
            "overflow_y": null,
            "overflow_x": null,
            "grid_auto_flow": null,
            "grid_area": null,
            "grid_template_columns": null,
            "flex": null,
            "_model_name": "LayoutModel",
            "justify_items": null,
            "grid_row": null,
            "max_height": null,
            "align_content": null,
            "visibility": null,
            "align_self": null,
            "height": null,
            "min_height": null,
            "padding": null,
            "grid_auto_rows": null,
            "grid_gap": null,
            "max_width": null,
            "order": null,
            "_view_module_version": "1.2.0",
            "grid_template_areas": null,
            "object_position": null,
            "object_fit": null,
            "grid_auto_columns": null,
            "margin": null,
            "display": null,
            "left": null
          }
        },
        "b8fe5610df6847c9b9e13ce1e90a6f74": {
          "model_module": "@jupyter-widgets/controls",
          "model_name": "DescriptionStyleModel",
          "state": {
            "_view_name": "StyleView",
            "_model_name": "DescriptionStyleModel",
            "description_width": "",
            "_view_module": "@jupyter-widgets/base",
            "_model_module_version": "1.5.0",
            "_view_count": null,
            "_view_module_version": "1.2.0",
            "_model_module": "@jupyter-widgets/controls"
          }
        },
        "c856ccee406c46f2a5d4c670d391145e": {
          "model_module": "@jupyter-widgets/base",
          "model_name": "LayoutModel",
          "state": {
            "_view_name": "LayoutView",
            "grid_template_rows": null,
            "right": null,
            "justify_content": null,
            "_view_module": "@jupyter-widgets/base",
            "overflow": null,
            "_model_module_version": "1.2.0",
            "_view_count": null,
            "flex_flow": null,
            "width": null,
            "min_width": null,
            "border": null,
            "align_items": null,
            "bottom": null,
            "_model_module": "@jupyter-widgets/base",
            "top": null,
            "grid_column": null,
            "overflow_y": null,
            "overflow_x": null,
            "grid_auto_flow": null,
            "grid_area": null,
            "grid_template_columns": null,
            "flex": null,
            "_model_name": "LayoutModel",
            "justify_items": null,
            "grid_row": null,
            "max_height": null,
            "align_content": null,
            "visibility": null,
            "align_self": null,
            "height": null,
            "min_height": null,
            "padding": null,
            "grid_auto_rows": null,
            "grid_gap": null,
            "max_width": null,
            "order": null,
            "_view_module_version": "1.2.0",
            "grid_template_areas": null,
            "object_position": null,
            "object_fit": null,
            "grid_auto_columns": null,
            "margin": null,
            "display": null,
            "left": null
          }
        }
      }
    }
  },
  "cells": [
    {
      "cell_type": "code",
      "metadata": {
        "colab": {
          "base_uri": "https://localhost:8080/"
        },
        "id": "axmewNekXEkc",
        "outputId": "ffe428ea-e48e-49f0-d80b-00541825e1e8"
      },
      "source": [
        "try:\n",
        "    from google.colab import drive\n",
        "    drive.mount('/content/drive')\n",
        "    data_dir = '/content/drive/MyDrive/data/task-1'\n",
        "    bert_dir = '/content/drive/MyDrive/BERT'\n",
        "    roberta_dir = '/content/drive/MyDrive/RoBERTa'\n",
        "except:\n",
        "    data_dir = './data/'\n",
        "    bert_dir = './BERT/BERT'\n",
        "    roberta_dir = './RoBERTa/RoBERTa'"
      ],
      "execution_count": null,
      "outputs": []
    },
    {
      "cell_type": "code",
      "metadata": {
        "colab": {
          "base_uri": "https://localhost:8080/"
        },
        "id": "tV6UcBDWEGUr",
        "outputId": "172f13cd-c0f1-4b87-e56d-39c9acb115a0"
      },
      "source": [
        "!pip install ekphrasis"
      ],
      "execution_count": null,
      "outputs": []
    },
    {
      "cell_type": "code",
      "metadata": {
        "colab": {
          "base_uri": "https://localhost:8080/"
        },
        "id": "MbZQUEp1Xk31",
        "outputId": "a5189d5f-a8f5-47ff-8a3b-a2a4c1ef78fc"
      },
      "source": [
        "!pip install transformers"
      ],
      "execution_count": null,
      "outputs": []
    },
    {
      "cell_type": "code",
      "metadata": {
        "colab": {
          "base_uri": "https://localhost:8080/"
        },
        "id": "wzCRdDeahuqk",
        "outputId": "704b0c15-1af0-4de7-ecaf-6ef98e6b9b8e"
      },
      "source": [
        "!python -m spacy download en_core_web_lg"
      ],
      "execution_count": null,
      "outputs": []
    },
    {
      "cell_type": "markdown",
      "metadata": {
        "id": "Kucw77SvTQEo"
      },
      "source": [
        "### Setting up"
      ]
    },
    {
      "cell_type": "code",
      "metadata": {
        "id": "WX9TqmK7lDoK"
      },
      "source": [
        "# Imports\n",
        "\n",
        "import torch\n",
        "import torch.nn as nn\n",
        "import pandas as pd\n",
        "import numpy as np\n",
        "import codecs\n",
        "import re\n",
        "import spacy\n",
        "import nltk\n",
        "import torch.nn.functional as F\n",
        "import matplotlib.pyplot as plt\n",
        "import seaborn as sns\n",
        "\n",
        "from tqdm import tqdm\n",
        "from nltk.corpus import stopwords\n",
        "from sklearn.feature_extraction.text import CountVectorizer\n",
        "from sklearn.feature_extraction.text import TfidfTransformer\n",
        "from sklearn.model_selection import train_test_split\n",
        "from sklearn.linear_model import LinearRegression\n",
        "from torch.utils.data import Dataset, random_split\n",
        "from ekphrasis.classes.preprocessor import TextPreProcessor\n",
        "from ekphrasis.classes.tokenizer import SocialTokenizer\n",
        "from transformers import BertForSequenceClassification, BertTokenizer, RobertaForSequenceClassification, RobertaTokenizer"
      ],
      "execution_count": null,
      "outputs": []
    },
    {
      "cell_type": "code",
      "metadata": {
        "id": "X09jt8VRlDoM"
      },
      "source": [
        "# Setting random seed and device\n",
        "SEED = 1\n",
        "\n",
        "torch.manual_seed(SEED)\n",
        "torch.cuda.manual_seed(SEED)\n",
        "torch.backends.cudnn.deterministic = True\n",
        "\n",
        "use_cuda = torch.cuda.is_available()\n",
        "device = torch.device(\"cuda:0\" if use_cuda else \"cpu\")"
      ],
      "execution_count": null,
      "outputs": []
    },
    {
      "cell_type": "markdown",
      "metadata": {
        "id": "8Dnji6Do7bAy"
      },
      "source": [
        "### Loading the data"
      ]
    },
    {
      "cell_type": "code",
      "metadata": {
        "id": "AqhlzLl6lDoO"
      },
      "source": [
        "# Load data\n",
        "test_df = pd.read_csv(f'{data_dir}/test.csv')"
      ],
      "execution_count": null,
      "outputs": []
    },
    {
      "cell_type": "code",
      "metadata": {
        "id": "3d9SWnJpOqL0"
      },
      "source": [
        "nlp = spacy.load('en_core_web_lg')"
      ],
      "execution_count": null,
      "outputs": []
    },
    {
      "cell_type": "code",
      "metadata": {
        "id": "kN0NukhFcraW",
        "colab": {
          "base_uri": "https://localhost:8080/",
          "height": 202
        },
        "outputId": "37b72001-ab45-48b3-8041-610e0581f30b"
      },
      "source": [
        "test_df.head()"
      ],
      "execution_count": null,
      "outputs": []
    },
    {
      "cell_type": "markdown",
      "metadata": {
        "id": "T9ci8eyzThNF"
      },
      "source": [
        "### Preprocessing functions"
      ]
    },
    {
      "cell_type": "code",
      "metadata": {
        "id": "EGhbGB_Phpu1"
      },
      "source": [
        "def capitalisation_by_ner(sentence, entities=['GPE', 'ORG', 'NORP', 'PERSON']):\r\n",
        "    edited_row = []\r\n",
        "\r\n",
        "    trial_doc = nlp(sentence)\r\n",
        "        \r\n",
        "    for tok in trial_doc:\r\n",
        "        if tok.ent_type_ in entities:\r\n",
        "            edited_row.append(tok.text)\r\n",
        "        else:\r\n",
        "            edited_row.append(tok.text.lower())\r\n",
        "    \r\n",
        "    return ' '.join(edited_row)"
      ],
      "execution_count": null,
      "outputs": []
    },
    {
      "cell_type": "code",
      "metadata": {
        "id": "q8pCEBigg47h"
      },
      "source": [
        "# Word replacement\r\n",
        "# Join the contractions\r\n",
        "# Tokenize\r\n",
        "# remove stop words\r\n",
        "# remove punct EXCEPT ! ? #\r\n",
        "# Twitter handles\r\n",
        "\r\n",
        "def preprocessor(df):\r\n",
        "    _df = pd.DataFrame(index=df.index, columns=['edited_sentences', 'meanGrade'])\r\n",
        "\r\n",
        "    _df['meanGrade'] = df.meanGrade\r\n",
        "\r\n",
        "    text_processor = TextPreProcessor(\r\n",
        "        fix_html=True,  # fix HTML tokens\r\n",
        "\r\n",
        "        # corpus from which the word statistics are going to be used \r\n",
        "        # for word segmentation \r\n",
        "        segmenter=\"english\", \r\n",
        "\r\n",
        "        # corpus from which the word statistics are going to be used \r\n",
        "        # for spell correction\r\n",
        "        corrector=\"english\", \r\n",
        "\r\n",
        "        unpack_hashtags=False,  # perform word segmentation on hashtags\r\n",
        "        unpack_contractions=False,  # Unpack contractions (can't -> can not)\r\n",
        "        spell_correct=True,  # spell correction for elongated words\r\n",
        "    )\r\n",
        "    \r\n",
        "    punct = \"[\\.,:;\\(\\)\\[\\]@\\-\\$£]\"\r\n",
        "    \r\n",
        "    nltk.download('stopwords')\r\n",
        "    stops = stopwords.words('english')\r\n",
        "\r\n",
        "    # Word replacement + join the contractions\r\n",
        "    # NOTE: need to deal with ' '\r\n",
        "    # NOTE: Numbers/digits have not been removed\r\n",
        "    # NOTE: We have removed all stop words. We analysed the sentiment of the stop \r\n",
        "    # words in the training set to determine if removing them would negatively \r\n",
        "    # affect our results. The motivation for this check was that any word with a \r\n",
        "    # sentiment would affect the funniness score of the sentence. \r\n",
        "    # Since stop words have no sentiment, they have been removed\r\n",
        "    # This doesn't retain any twitter handles, but retains the hashtags\r\n",
        "\r\n",
        "    _df['edited_sentences'] = df[['original', 'edit']] \\\r\n",
        "        .apply(lambda x: re.subn(\"<.*/>\", x[1], x[0])[0], axis=1) \\\r\n",
        "        .apply(lambda x: capitalisation_by_ner(x)) \\\r\n",
        "        .str.replace(\" (?P<one>\\w*'\\w+)\", lambda x: x.group(\"one\")) \\\r\n",
        "        .apply(lambda x: text_processor.pre_process_doc(x)) \\\r\n",
        "        .str.replace(\"#\", \"# \") \\\r\n",
        "        .str.replace(\"[‘’]\", \"'\") \\\r\n",
        "        .str.replace(\"'s\", \"\") \\\r\n",
        "        .str.replace(punct, \"\") \\\r\n",
        "        .apply(lambda x: \" \".join([w for w in x.split(\" \") if w not in stops])) \\\r\n",
        "        .str.replace(\"[0-9]\", \"\")\r\n",
        "\r\n",
        "    return _df"
      ],
      "execution_count": null,
      "outputs": []
    },
    {
      "cell_type": "markdown",
      "metadata": {
        "id": "Yxi4X4YP7kSe"
      },
      "source": [
        "### Setting up the models and the evaluation functions"
      ]
    },
    {
      "cell_type": "code",
      "metadata": {
        "id": "NzXeDgHmlDob"
      },
      "source": [
        "def model_eval(data_loader, model):\n",
        "  model.eval()\n",
        "  preds = []\n",
        "  targets = []\n",
        "  rmse = 0\n",
        "  model = model.to(device)\n",
        "\n",
        "  with torch.no_grad():\n",
        "    for batch in data_loader:\n",
        "          input_ids = batch['input_ids'].to(device)\n",
        "          attention_mask = batch['attention_mask'].to(device)\n",
        "          labels = batch['labels'].to(device)\n",
        "          outputs = model(input_ids, attention_mask=attention_mask, labels=labels)\n",
        "          preds.extend(outputs.logits.squeeze(1).detach().cpu().numpy())\n",
        "          targets.extend(labels.detach().cpu().numpy())\n",
        "\n",
        "  preds = np.array(preds)\n",
        "  targets = np.array(targets)\n",
        "  print(preds, targets)\n",
        "  model_performance(preds, targets, print_output=True)\n",
        "  return preds, targets"
      ],
      "execution_count": null,
      "outputs": []
    },
    {
      "cell_type": "code",
      "metadata": {
        "id": "2_22fHHElDog"
      },
      "source": [
        "# How we print the model performance\n",
        "def model_performance(output, target, print_output=False):\n",
        "    \"\"\"\n",
        "    Returns SSE and MSE per batch (printing the MSE and the RMSE)\n",
        "    \"\"\"\n",
        "\n",
        "    sq_error = (output - target)**2\n",
        "\n",
        "    sse = np.sum(sq_error)\n",
        "    mse = np.mean(sq_error)\n",
        "    rmse = np.sqrt(mse)\n",
        "\n",
        "    if print_output:\n",
        "        print(f'| MSE: {mse:.2f} | RMSE: {rmse:.2f} |')\n",
        "\n",
        "    return sse, mse"
      ],
      "execution_count": null,
      "outputs": []
    },
    {
      "cell_type": "code",
      "metadata": {
        "id": "jzQ0KLXslDoq"
      },
      "source": [
        "class Task1Dataset(Dataset):\n",
        "\n",
        "    def __init__(self, train_data, labels):\n",
        "        self.x_train = train_data\n",
        "        self.y_train = labels\n",
        "\n",
        "    def __len__(self):\n",
        "        return len(self.y_train)\n",
        "\n",
        "    def __getitem__(self, idx):\n",
        "        item = {key: torch.tensor(val[idx]) for key, val in self.x_train.items()}\n",
        "        item['labels'] = torch.tensor(self.y_train[idx], dtype=torch.float)\n",
        "        return item"
      ],
      "execution_count": null,
      "outputs": []
    },
    {
      "cell_type": "code",
      "metadata": {
        "colab": {
          "base_uri": "https://localhost:8080/"
        },
        "id": "xeLPXxWThOod",
        "outputId": "f63648e3-dadc-4ef6-d237-c5cecd576496"
      },
      "source": [
        "clean_test_df = preprocessor(test_df)"
      ],
      "execution_count": null,
      "outputs": []
    },
    {
      "cell_type": "code",
      "metadata": {
        "id": "3DUPjPIzCl8P"
      },
      "source": [
        "test_data = clean_test_df['edited_sentences']"
      ],
      "execution_count": null,
      "outputs": []
    },
    {
      "cell_type": "code",
      "metadata": {
        "id": "X9U4LSkzTk43"
      },
      "source": [
        "bert_model = BertForSequenceClassification.from_pretrained(bert_dir)"
      ],
      "execution_count": null,
      "outputs": []
    },
    {
      "cell_type": "code",
      "metadata": {
        "id": "L3cGviFaTvgP"
      },
      "source": [
        "roberta_model = RobertaForSequenceClassification.from_pretrained(roberta_dir)"
      ],
      "execution_count": null,
      "outputs": []
    },
    {
      "cell_type": "code",
      "metadata": {
        "colab": {
          "base_uri": "https://localhost:8080/",
          "height": 165,
          "referenced_widgets": [
            "92f2690bd54d47c6864c92a09e7dbd76",
            "70b0c2d2bb8047a1807a68f7645d4ddc",
            "5759b7cf21504362b3dc6cfbf0c936c5",
            "e9cab77c6eeb4089be5673d8888a9f37",
            "f8361a8324444697bf63d2d606f9af93",
            "d4a9ff87118a42409622a77a7631cdc0",
            "fe47f6b6a0754f9bbd423ba517519f55",
            "a57abfa06d294553bd8b77332a5ca1ea",
            "48397f53b2bb4d17863e50e11333068b",
            "c17e4aee83514730a88f8fff1b0ef5fa",
            "28b566efcbfd40a398d5b0b17b3ba51b",
            "c7fcb93a892043e3bece5a6e3a0d7a71",
            "6ef5c002df9c41f68645f048a2137442",
            "e33e7c70ba2642afbd1bd5c7099fa468",
            "010f7d1a4497441999b281818d8be54c",
            "d9ad862823d24b74ae1b74ef1f45b8db",
            "a4bdc4263ba241a8b95b6f3ea4881aae",
            "dc53e2149c624d5695e04d6e1e16fa47",
            "14d7ecb3336a4e16bd8fc123da953aa5",
            "dd5ac7661d594046bf2730a22c1b3bff",
            "4556c8574c1f46e09301c25e176c05e4",
            "a2443b2ca7a4493584c59e589bfe6418",
            "b8fe5610df6847c9b9e13ce1e90a6f74",
            "c856ccee406c46f2a5d4c670d391145e"
          ]
        },
        "id": "ZAjup_B1UR06",
        "outputId": "7b27919b-04fe-4f90-f5f4-1a51966a4afd"
      },
      "source": [
        "tokenizer_bert = BertTokenizer.from_pretrained('bert-base-uncased')\r\n",
        "tokenizer_roberta = RobertaTokenizer.from_pretrained('roberta-base')"
      ],
      "execution_count": null,
      "outputs": []
    },
    {
      "cell_type": "markdown",
      "metadata": {
        "id": "uifYAIdtUc7k"
      },
      "source": [
        "### Evaluating the BERT model on unseen test data"
      ]
    },
    {
      "cell_type": "code",
      "metadata": {
        "id": "sd58T-FpCuvz"
      },
      "source": [
        "test_X = tokenizer_bert(test_data.to_list(), add_special_tokens=False, padding=True, return_tensors=\"pt\")"
      ],
      "execution_count": null,
      "outputs": []
    },
    {
      "cell_type": "code",
      "metadata": {
        "id": "oOlgvA1xC8ES"
      },
      "source": [
        "test_dataset = Task1Dataset(test_X, test_df['meanGrade'])"
      ],
      "execution_count": null,
      "outputs": []
    },
    {
      "cell_type": "code",
      "metadata": {
        "id": "81WbQ7fdDaDx"
      },
      "source": [
        "bert_model = bert_model.to(device)"
      ],
      "execution_count": null,
      "outputs": []
    },
    {
      "cell_type": "code",
      "metadata": {
        "id": "bp9d32sOlDo6",
        "scrolled": true,
        "colab": {
          "base_uri": "https://localhost:8080/"
        },
        "outputId": "09a89e5d-d478-4c82-a34e-18702555fcc2"
      },
      "source": [
        "BATCH_SIZE = 32\n",
        "test_loader = torch.utils.data.DataLoader(test_dataset, batch_size=BATCH_SIZE)\n",
        "\n",
        "print(\"Dataloaders created.\")\n"
      ],
      "execution_count": null,
      "outputs": []
    },
    {
      "cell_type": "code",
      "metadata": {
        "colab": {
          "base_uri": "https://localhost:8080/"
        },
        "id": "LCondAvEi4Ro",
        "outputId": "8370c117-7b1b-41d6-c1bb-1287541458dc"
      },
      "source": [
        "predictions, target = model_eval(test_loader, bert_model)\r\n",
        "model_performance(predictions, target, print_output=True)"
      ],
      "execution_count": null,
      "outputs": []
    },
    {
      "cell_type": "code",
      "metadata": {
        "id": "gcydCZnXVN9Y"
      },
      "source": [
        "clean_test_df['predictions_bert'] = predictions"
      ],
      "execution_count": null,
      "outputs": []
    },
    {
      "cell_type": "code",
      "metadata": {
        "colab": {
          "base_uri": "https://localhost:8080/",
          "height": 501
        },
        "id": "Clg4NNpsVRxX",
        "outputId": "301907b5-0ccf-4822-d79e-ab9e544cc1ee"
      },
      "source": [
        "fig, (ax1, ax2) = plt.subplots(ncols=2, figsize=(20, 10))\r\n",
        "\r\n",
        " \r\n",
        "fig.suptitle('Final Test Dataset Analysis')\r\n",
        "sns.boxplot(x='meanGrade', y='predictions_bert', data=clean_test_df, ax=ax1)\r\n",
        "sns.scatterplot(x='meanGrade', y='predictions_bert', data=clean_test_df, ax=ax2)\r\n",
        "plt.show()"
      ],
      "execution_count": null,
      "outputs": []
    },
    {
      "cell_type": "markdown",
      "metadata": {
        "id": "c8TMh92YVb9T"
      },
      "source": [
        "### Evaluating the RoBERTa model on unseen test data"
      ]
    },
    {
      "cell_type": "code",
      "metadata": {
        "id": "wnktU8FWVmeA"
      },
      "source": [
        "test_X_roberta = tokenizer_roberta(test_data.to_list(), add_special_tokens=False, padding=True, return_tensors=\"pt\")"
      ],
      "execution_count": null,
      "outputs": []
    },
    {
      "cell_type": "code",
      "metadata": {
        "id": "ozSdmVfGVmeJ"
      },
      "source": [
        "test_dataset_roberta = Task1Dataset(test_X_roberta, test_df['meanGrade'])"
      ],
      "execution_count": null,
      "outputs": []
    },
    {
      "cell_type": "code",
      "metadata": {
        "id": "japtAu56VmeJ"
      },
      "source": [
        "roberta_model = roberta_model.to(device)"
      ],
      "execution_count": null,
      "outputs": []
    },
    {
      "cell_type": "code",
      "metadata": {
        "scrolled": true,
        "colab": {
          "base_uri": "https://localhost:8080/"
        },
        "id": "xpEXk54aVmeJ",
        "outputId": "ac7f72a8-8ff0-4cd4-ccee-5e0f2492a911"
      },
      "source": [
        "BATCH_SIZE = 32\n",
        "test_loader_roberta = torch.utils.data.DataLoader(test_dataset_roberta, batch_size=BATCH_SIZE)\n",
        "\n",
        "print(\"Dataloaders created.\")\n"
      ],
      "execution_count": null,
      "outputs": []
    },
    {
      "cell_type": "code",
      "metadata": {
        "colab": {
          "base_uri": "https://localhost:8080/"
        },
        "id": "ywPmNmqvVmeK",
        "outputId": "9fc1dcda-f4e8-4dc8-e777-d1b2be9dc898"
      },
      "source": [
        "predictions_r, target_r = model_eval(test_loader_roberta, roberta_model)\r\n",
        "model_performance(predictions_r, target_r, print_output=True)"
      ],
      "execution_count": null,
      "outputs": []
    },
    {
      "cell_type": "code",
      "metadata": {
        "id": "bJVyvqUE9uYB",
        "colab": {
          "base_uri": "https://localhost:8080/",
          "height": 202
        },
        "outputId": "a7ab97d9-42cb-417e-f9f3-4e48a046d77b"
      },
      "source": [
        "clean_test_df['predictions_roberta'] = predictions_r\r\n",
        "clean_test_df.head()"
      ],
      "execution_count": null,
      "outputs": []
    },
    {
      "cell_type": "code",
      "metadata": {
        "id": "s5Nnuij3Vfjo",
        "colab": {
          "base_uri": "https://localhost:8080/",
          "height": 501
        },
        "outputId": "0805a3d1-c9c3-43fb-db2e-3a5794bae7c7"
      },
      "source": [
        "fig, (ax1, ax2) = plt.subplots(ncols=2, figsize=(20, 10))\r\n",
        "\r\n",
        " \r\n",
        "fig.suptitle('Final Test Dataset Analysis for RoBERTa model')\r\n",
        "sns.boxplot(x='meanGrade', y='predictions_roberta', data=clean_test_df, ax=ax1)\r\n",
        "sns.scatterplot(x='meanGrade', y='predictions_roberta', data=clean_test_df, ax=ax2)\r\n",
        "plt.show()"
      ],
      "execution_count": null,
      "outputs": []
    }
  ]
}