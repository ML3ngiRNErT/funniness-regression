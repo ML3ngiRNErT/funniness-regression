{
 "cells": [
  {
   "cell_type": "markdown",
   "metadata": {
    "id": "2TvyemfDlDmu"
   },
   "source": [
    "### Coursework coding instructions (please also see full coursework spec)\n",
    "\n",
    "Please choose if you want to do either Task 1 or Task 2. You should write your report about one task only.\n",
    "\n",
    "For the task you choose you will need to do two approaches:\n",
    "  - Approach 1, which can use use pre-trained embeddings / models\n",
    "  - Approach 2, which should not use any pre-trained embeddings or models\n",
    "We should be able to run both approaches from the same colab file\n",
    "\n",
    "#### Running your code:\n",
    "  - Your models should run automatically when running your colab file without further intervention\n",
    "  - For each task you should automatically output the performance of both models\n",
    "  - Your code should automatically download any libraries required\n",
    "\n",
    "#### Structure of your code:\n",
    "  - You are expected to use the 'train', 'eval' and 'model_performance' functions, although you may edit these as required\n",
    "  - Otherwise there are no restrictions on what you can do in your code\n",
    "\n",
    "#### Documentation:\n",
    "  - You are expected to produce a .README file summarising how you have approached both tasks\n",
    "\n",
    "#### Reproducibility:\n",
    "  - Your .README file should explain how to replicate the different experiments mentioned in your report\n",
    "\n",
    "Good luck! We are really looking forward to seeing your reports and your model code!"
   ]
  },
  {
   "cell_type": "code",
   "execution_count": 1,
   "metadata": {
    "colab": {
     "base_uri": "https://localhost:8080/"
    },
    "id": "ShZnoBC3IwQM",
    "outputId": "e6261e66-45a7-4c85-bd84-1c08ec89927f"
   },
   "outputs": [],
   "source": [
    "try:\n",
    "    from google.colab import drive\n",
    "    drive.mount('/content/drive')\n",
    "    data_dir = '/content/drive/MyDrive/'\n",
    "except Exception:\n",
    "    data_dir = './data/'"
   ]
  },
  {
   "cell_type": "code",
   "execution_count": 2,
   "metadata": {
    "colab": {
     "base_uri": "https://localhost:8080/"
    },
    "id": "LRWFk-kelDoA",
    "outputId": "57729f5d-7cd7-4606-8f53-abbcc898f967"
   },
   "outputs": [],
   "source": [
    "# You will need to download any word embeddings required for your code, e.g.:\n",
    "\n",
    "# !wget http://nlp.stanford.edu/data/glove.6B.zip\n",
    "# !unzip glove.6B.zip\n",
    "\n",
    "# For any packages that Colab does not provide auotmatically you will also need to install these below, e.g.:\n",
    "\n",
    "#! pip install torch"
   ]
  },
  {
   "cell_type": "code",
   "execution_count": 123,
   "metadata": {
    "colab": {
     "base_uri": "https://localhost:8080/"
    },
    "id": "tV6UcBDWEGUr",
    "outputId": "fb047824-f5c9-44e4-a7c5-5bfd138b218c"
   },
   "outputs": [
    {
     "name": "stdout",
     "output_type": "stream",
     "text": [
      "Requirement already satisfied: ekphrasis in /vol/bitbucket/rrr2417/deepscm/ENV2/lib/python3.8/site-packages (0.5.1)\n",
      "Requirement already satisfied: gensim in /vol/bitbucket/rrr2417/deepscm/ENV2/lib/python3.8/site-packages (3.8.3)\n",
      "Requirement already satisfied: spacy in /vol/bitbucket/rrr2417/deepscm/ENV2/lib/python3.8/site-packages (3.0.3)\n",
      "Requirement already satisfied: nltk in /vol/bitbucket/rrr2417/deepscm/ENV2/lib/python3.8/site-packages (3.5)\n",
      "Requirement already satisfied: ujson in /vol/bitbucket/rrr2417/deepscm/ENV2/lib/python3.8/site-packages (from ekphrasis) (4.0.2)\n",
      "Requirement already satisfied: tqdm in /vol/bitbucket/rrr2417/deepscm/ENV2/lib/python3.8/site-packages (from ekphrasis) (4.58.0)\n",
      "Requirement already satisfied: colorama in /vol/bitbucket/rrr2417/deepscm/ENV2/lib/python3.8/site-packages (from ekphrasis) (0.4.3)\n",
      "Requirement already satisfied: ftfy in /vol/bitbucket/rrr2417/deepscm/ENV2/lib/python3.8/site-packages (from ekphrasis) (5.9)\n",
      "Requirement already satisfied: termcolor in /vol/bitbucket/rrr2417/deepscm/ENV2/lib/python3.8/site-packages (from ekphrasis) (1.1.0)\n",
      "Requirement already satisfied: matplotlib in /vol/bitbucket/rrr2417/deepscm/ENV2/lib/python3.8/site-packages (from ekphrasis) (3.3.4)\n",
      "Requirement already satisfied: numpy in /vol/bitbucket/rrr2417/deepscm/ENV2/lib/python3.8/site-packages (from ekphrasis) (1.19.4)\n",
      "Requirement already satisfied: six>=1.5.0 in /vol/bitbucket/rrr2417/deepscm/ENV2/lib/python3.8/site-packages (from gensim) (1.14.0)\n",
      "Requirement already satisfied: scipy>=0.18.1 in /vol/bitbucket/rrr2417/deepscm/ENV2/lib/python3.8/site-packages (from gensim) (1.6.0)\n",
      "Requirement already satisfied: smart-open>=1.8.1 in /vol/bitbucket/rrr2417/deepscm/ENV2/lib/python3.8/site-packages (from gensim) (3.0.0)\n",
      "Requirement already satisfied: preshed<3.1.0,>=3.0.2 in /vol/bitbucket/rrr2417/deepscm/ENV2/lib/python3.8/site-packages (from spacy) (3.0.5)\n",
      "Requirement already satisfied: jinja2 in /vol/bitbucket/rrr2417/deepscm/ENV2/lib/python3.8/site-packages (from spacy) (2.11.3)\n",
      "Requirement already satisfied: typer<0.4.0,>=0.3.0 in /vol/bitbucket/rrr2417/deepscm/ENV2/lib/python3.8/site-packages (from spacy) (0.3.2)\n",
      "Requirement already satisfied: blis<0.8.0,>=0.4.0 in /vol/bitbucket/rrr2417/deepscm/ENV2/lib/python3.8/site-packages (from spacy) (0.7.4)\n",
      "Requirement already satisfied: srsly<3.0.0,>=2.4.0 in /vol/bitbucket/rrr2417/deepscm/ENV2/lib/python3.8/site-packages (from spacy) (2.4.0)\n",
      "Requirement already satisfied: murmurhash<1.1.0,>=0.28.0 in /vol/bitbucket/rrr2417/deepscm/ENV2/lib/python3.8/site-packages (from spacy) (1.0.5)\n",
      "Requirement already satisfied: setuptools in /vol/bitbucket/rrr2417/deepscm/ENV2/lib/python3.8/site-packages (from spacy) (44.0.0)\n",
      "Requirement already satisfied: thinc<8.1.0,>=8.0.0 in /vol/bitbucket/rrr2417/deepscm/ENV2/lib/python3.8/site-packages (from spacy) (8.0.1)\n",
      "Requirement already satisfied: catalogue<2.1.0,>=2.0.1 in /vol/bitbucket/rrr2417/deepscm/ENV2/lib/python3.8/site-packages (from spacy) (2.0.1)\n",
      "Requirement already satisfied: spacy-legacy<3.1.0,>=3.0.0 in /vol/bitbucket/rrr2417/deepscm/ENV2/lib/python3.8/site-packages (from spacy) (3.0.1)\n",
      "Requirement already satisfied: cymem<2.1.0,>=2.0.2 in /vol/bitbucket/rrr2417/deepscm/ENV2/lib/python3.8/site-packages (from spacy) (2.0.5)\n",
      "Requirement already satisfied: pathy in /vol/bitbucket/rrr2417/deepscm/ENV2/lib/python3.8/site-packages (from spacy) (0.4.0)\n",
      "Requirement already satisfied: requests<3.0.0,>=2.13.0 in /vol/bitbucket/rrr2417/deepscm/ENV2/lib/python3.8/site-packages (from spacy) (2.22.0)\n",
      "Requirement already satisfied: pydantic<1.8.0,>=1.7.1 in /vol/bitbucket/rrr2417/deepscm/ENV2/lib/python3.8/site-packages (from spacy) (1.7.3)\n",
      "Requirement already satisfied: wasabi<1.1.0,>=0.8.1 in /vol/bitbucket/rrr2417/deepscm/ENV2/lib/python3.8/site-packages (from spacy) (0.8.2)\n",
      "Requirement already satisfied: packaging>=20.0 in /vol/bitbucket/rrr2417/deepscm/ENV2/lib/python3.8/site-packages (from spacy) (20.3)\n",
      "Requirement already satisfied: regex in /vol/bitbucket/rrr2417/deepscm/ENV2/lib/python3.8/site-packages (from nltk) (2020.11.13)\n",
      "Requirement already satisfied: joblib in /vol/bitbucket/rrr2417/deepscm/ENV2/lib/python3.8/site-packages (from nltk) (1.0.1)\n",
      "Requirement already satisfied: click in /vol/bitbucket/rrr2417/deepscm/ENV2/lib/python3.8/site-packages (from nltk) (7.1.2)\n",
      "Requirement already satisfied: wcwidth in /vol/bitbucket/rrr2417/deepscm/ENV2/lib/python3.8/site-packages (from ftfy->ekphrasis) (0.2.5)\n",
      "Requirement already satisfied: python-dateutil>=2.1 in /vol/bitbucket/rrr2417/deepscm/ENV2/lib/python3.8/site-packages (from matplotlib->ekphrasis) (2.8.1)\n",
      "Requirement already satisfied: kiwisolver>=1.0.1 in /vol/bitbucket/rrr2417/deepscm/ENV2/lib/python3.8/site-packages (from matplotlib->ekphrasis) (1.3.1)\n",
      "Requirement already satisfied: pyparsing!=2.0.4,!=2.1.2,!=2.1.6,>=2.0.3 in /vol/bitbucket/rrr2417/deepscm/ENV2/lib/python3.8/site-packages (from matplotlib->ekphrasis) (2.4.6)\n",
      "Requirement already satisfied: cycler>=0.10 in /vol/bitbucket/rrr2417/deepscm/ENV2/lib/python3.8/site-packages (from matplotlib->ekphrasis) (0.10.0)\n",
      "Requirement already satisfied: pillow>=6.2.0 in /vol/bitbucket/rrr2417/deepscm/ENV2/lib/python3.8/site-packages (from matplotlib->ekphrasis) (8.1.0)\n",
      "Requirement already satisfied: MarkupSafe>=0.23 in /vol/bitbucket/rrr2417/deepscm/ENV2/lib/python3.8/site-packages (from jinja2->spacy) (1.1.1)\n",
      "Requirement already satisfied: en-core-web-sm==3.0.0 from https://github.com/explosion/spacy-models/releases/download/en_core_web_sm-3.0.0/en_core_web_sm-3.0.0-py3-none-any.whl#egg=en_core_web_sm==3.0.0 in /vol/bitbucket/rrr2417/deepscm/ENV2/lib/python3.8/site-packages (3.0.0)\n",
      "Requirement already satisfied: spacy<3.1.0,>=3.0.0 in /vol/bitbucket/rrr2417/deepscm/ENV2/lib/python3.8/site-packages (from en-core-web-sm==3.0.0) (3.0.3)\n",
      "Requirement already satisfied: blis<0.8.0,>=0.4.0 in /vol/bitbucket/rrr2417/deepscm/ENV2/lib/python3.8/site-packages (from spacy<3.1.0,>=3.0.0->en-core-web-sm==3.0.0) (0.7.4)\n",
      "Requirement already satisfied: pathy in /vol/bitbucket/rrr2417/deepscm/ENV2/lib/python3.8/site-packages (from spacy<3.1.0,>=3.0.0->en-core-web-sm==3.0.0) (0.4.0)\n",
      "Requirement already satisfied: requests<3.0.0,>=2.13.0 in /vol/bitbucket/rrr2417/deepscm/ENV2/lib/python3.8/site-packages (from spacy<3.1.0,>=3.0.0->en-core-web-sm==3.0.0) (2.22.0)\n",
      "Requirement already satisfied: wasabi<1.1.0,>=0.8.1 in /vol/bitbucket/rrr2417/deepscm/ENV2/lib/python3.8/site-packages (from spacy<3.1.0,>=3.0.0->en-core-web-sm==3.0.0) (0.8.2)\n",
      "Requirement already satisfied: setuptools in /vol/bitbucket/rrr2417/deepscm/ENV2/lib/python3.8/site-packages (from spacy<3.1.0,>=3.0.0->en-core-web-sm==3.0.0) (44.0.0)\n",
      "Requirement already satisfied: preshed<3.1.0,>=3.0.2 in /vol/bitbucket/rrr2417/deepscm/ENV2/lib/python3.8/site-packages (from spacy<3.1.0,>=3.0.0->en-core-web-sm==3.0.0) (3.0.5)\n",
      "Requirement already satisfied: srsly<3.0.0,>=2.4.0 in /vol/bitbucket/rrr2417/deepscm/ENV2/lib/python3.8/site-packages (from spacy<3.1.0,>=3.0.0->en-core-web-sm==3.0.0) (2.4.0)\n",
      "Requirement already satisfied: thinc<8.1.0,>=8.0.0 in /vol/bitbucket/rrr2417/deepscm/ENV2/lib/python3.8/site-packages (from spacy<3.1.0,>=3.0.0->en-core-web-sm==3.0.0) (8.0.1)\n",
      "Requirement already satisfied: spacy-legacy<3.1.0,>=3.0.0 in /vol/bitbucket/rrr2417/deepscm/ENV2/lib/python3.8/site-packages (from spacy<3.1.0,>=3.0.0->en-core-web-sm==3.0.0) (3.0.1)\n",
      "Requirement already satisfied: cymem<2.1.0,>=2.0.2 in /vol/bitbucket/rrr2417/deepscm/ENV2/lib/python3.8/site-packages (from spacy<3.1.0,>=3.0.0->en-core-web-sm==3.0.0) (2.0.5)\n",
      "Requirement already satisfied: packaging>=20.0 in /vol/bitbucket/rrr2417/deepscm/ENV2/lib/python3.8/site-packages (from spacy<3.1.0,>=3.0.0->en-core-web-sm==3.0.0) (20.3)\n",
      "Requirement already satisfied: jinja2 in /vol/bitbucket/rrr2417/deepscm/ENV2/lib/python3.8/site-packages (from spacy<3.1.0,>=3.0.0->en-core-web-sm==3.0.0) (2.11.3)\n",
      "Requirement already satisfied: tqdm<5.0.0,>=4.38.0 in /vol/bitbucket/rrr2417/deepscm/ENV2/lib/python3.8/site-packages (from spacy<3.1.0,>=3.0.0->en-core-web-sm==3.0.0) (4.58.0)\n",
      "Requirement already satisfied: catalogue<2.1.0,>=2.0.1 in /vol/bitbucket/rrr2417/deepscm/ENV2/lib/python3.8/site-packages (from spacy<3.1.0,>=3.0.0->en-core-web-sm==3.0.0) (2.0.1)\n",
      "Requirement already satisfied: murmurhash<1.1.0,>=0.28.0 in /vol/bitbucket/rrr2417/deepscm/ENV2/lib/python3.8/site-packages (from spacy<3.1.0,>=3.0.0->en-core-web-sm==3.0.0) (1.0.5)\n",
      "Requirement already satisfied: numpy>=1.15.0 in /vol/bitbucket/rrr2417/deepscm/ENV2/lib/python3.8/site-packages (from spacy<3.1.0,>=3.0.0->en-core-web-sm==3.0.0) (1.19.4)\n",
      "Requirement already satisfied: typer<0.4.0,>=0.3.0 in /vol/bitbucket/rrr2417/deepscm/ENV2/lib/python3.8/site-packages (from spacy<3.1.0,>=3.0.0->en-core-web-sm==3.0.0) (0.3.2)\n",
      "Requirement already satisfied: pydantic<1.8.0,>=1.7.1 in /vol/bitbucket/rrr2417/deepscm/ENV2/lib/python3.8/site-packages (from spacy<3.1.0,>=3.0.0->en-core-web-sm==3.0.0) (1.7.3)\n",
      "Requirement already satisfied: smart-open<4.0.0,>=2.2.0 in /vol/bitbucket/rrr2417/deepscm/ENV2/lib/python3.8/site-packages (from pathy->spacy<3.1.0,>=3.0.0->en-core-web-sm==3.0.0) (3.0.0)\n",
      "Requirement already satisfied: MarkupSafe>=0.23 in /vol/bitbucket/rrr2417/deepscm/ENV2/lib/python3.8/site-packages (from jinja2->spacy<3.1.0,>=3.0.0->en-core-web-sm==3.0.0) (1.1.1)\n",
      "Requirement already satisfied: click<7.2.0,>=7.1.1 in /vol/bitbucket/rrr2417/deepscm/ENV2/lib/python3.8/site-packages (from typer<0.4.0,>=0.3.0->spacy<3.1.0,>=3.0.0->en-core-web-sm==3.0.0) (7.1.2)\n",
      "\u001b[38;5;2m✔ Download and installation successful\u001b[0m\n",
      "You can now load the package via spacy.load('en_core_web_sm')\n",
      "Collecting en-core-web-lg==3.0.0\n",
      "  Downloading https://github.com/explosion/spacy-models/releases/download/en_core_web_lg-3.0.0/en_core_web_lg-3.0.0-py3-none-any.whl (778.8 MB)\n",
      "\u001b[K     |████████████████████████████████| 778.8 MB 10 kB/s  eta 0:00:0111     |███████████████████▍            | 470.5 MB 99.7 MB/s eta 0:00:04\n",
      "\u001b[?25hRequirement already satisfied: spacy<3.1.0,>=3.0.0 in /vol/bitbucket/rrr2417/deepscm/ENV2/lib/python3.8/site-packages (from en-core-web-lg==3.0.0) (3.0.3)\n",
      "Requirement already satisfied: requests<3.0.0,>=2.13.0 in /vol/bitbucket/rrr2417/deepscm/ENV2/lib/python3.8/site-packages (from spacy<3.1.0,>=3.0.0->en-core-web-lg==3.0.0) (2.22.0)\n",
      "Requirement already satisfied: pydantic<1.8.0,>=1.7.1 in /vol/bitbucket/rrr2417/deepscm/ENV2/lib/python3.8/site-packages (from spacy<3.1.0,>=3.0.0->en-core-web-lg==3.0.0) (1.7.3)\n",
      "Requirement already satisfied: pathy in /vol/bitbucket/rrr2417/deepscm/ENV2/lib/python3.8/site-packages (from spacy<3.1.0,>=3.0.0->en-core-web-lg==3.0.0) (0.4.0)\n",
      "Requirement already satisfied: catalogue<2.1.0,>=2.0.1 in /vol/bitbucket/rrr2417/deepscm/ENV2/lib/python3.8/site-packages (from spacy<3.1.0,>=3.0.0->en-core-web-lg==3.0.0) (2.0.1)\n",
      "Requirement already satisfied: tqdm<5.0.0,>=4.38.0 in /vol/bitbucket/rrr2417/deepscm/ENV2/lib/python3.8/site-packages (from spacy<3.1.0,>=3.0.0->en-core-web-lg==3.0.0) (4.58.0)\n",
      "Requirement already satisfied: thinc<8.1.0,>=8.0.0 in /vol/bitbucket/rrr2417/deepscm/ENV2/lib/python3.8/site-packages (from spacy<3.1.0,>=3.0.0->en-core-web-lg==3.0.0) (8.0.1)\n",
      "Requirement already satisfied: spacy-legacy<3.1.0,>=3.0.0 in /vol/bitbucket/rrr2417/deepscm/ENV2/lib/python3.8/site-packages (from spacy<3.1.0,>=3.0.0->en-core-web-lg==3.0.0) (3.0.1)\n",
      "Requirement already satisfied: packaging>=20.0 in /vol/bitbucket/rrr2417/deepscm/ENV2/lib/python3.8/site-packages (from spacy<3.1.0,>=3.0.0->en-core-web-lg==3.0.0) (20.3)\n",
      "Requirement already satisfied: blis<0.8.0,>=0.4.0 in /vol/bitbucket/rrr2417/deepscm/ENV2/lib/python3.8/site-packages (from spacy<3.1.0,>=3.0.0->en-core-web-lg==3.0.0) (0.7.4)\n",
      "Requirement already satisfied: murmurhash<1.1.0,>=0.28.0 in /vol/bitbucket/rrr2417/deepscm/ENV2/lib/python3.8/site-packages (from spacy<3.1.0,>=3.0.0->en-core-web-lg==3.0.0) (1.0.5)\n",
      "Requirement already satisfied: setuptools in /vol/bitbucket/rrr2417/deepscm/ENV2/lib/python3.8/site-packages (from spacy<3.1.0,>=3.0.0->en-core-web-lg==3.0.0) (44.0.0)\n",
      "Requirement already satisfied: wasabi<1.1.0,>=0.8.1 in /vol/bitbucket/rrr2417/deepscm/ENV2/lib/python3.8/site-packages (from spacy<3.1.0,>=3.0.0->en-core-web-lg==3.0.0) (0.8.2)\n",
      "Requirement already satisfied: jinja2 in /vol/bitbucket/rrr2417/deepscm/ENV2/lib/python3.8/site-packages (from spacy<3.1.0,>=3.0.0->en-core-web-lg==3.0.0) (2.11.3)\n",
      "Requirement already satisfied: cymem<2.1.0,>=2.0.2 in /vol/bitbucket/rrr2417/deepscm/ENV2/lib/python3.8/site-packages (from spacy<3.1.0,>=3.0.0->en-core-web-lg==3.0.0) (2.0.5)\n",
      "Requirement already satisfied: preshed<3.1.0,>=3.0.2 in /vol/bitbucket/rrr2417/deepscm/ENV2/lib/python3.8/site-packages (from spacy<3.1.0,>=3.0.0->en-core-web-lg==3.0.0) (3.0.5)\n",
      "Requirement already satisfied: typer<0.4.0,>=0.3.0 in /vol/bitbucket/rrr2417/deepscm/ENV2/lib/python3.8/site-packages (from spacy<3.1.0,>=3.0.0->en-core-web-lg==3.0.0) (0.3.2)\n",
      "Requirement already satisfied: srsly<3.0.0,>=2.4.0 in /vol/bitbucket/rrr2417/deepscm/ENV2/lib/python3.8/site-packages (from spacy<3.1.0,>=3.0.0->en-core-web-lg==3.0.0) (2.4.0)\n",
      "Requirement already satisfied: numpy>=1.15.0 in /vol/bitbucket/rrr2417/deepscm/ENV2/lib/python3.8/site-packages (from spacy<3.1.0,>=3.0.0->en-core-web-lg==3.0.0) (1.19.4)\n",
      "Requirement already satisfied: smart-open<4.0.0,>=2.2.0 in /vol/bitbucket/rrr2417/deepscm/ENV2/lib/python3.8/site-packages (from pathy->spacy<3.1.0,>=3.0.0->en-core-web-lg==3.0.0) (3.0.0)\n",
      "Requirement already satisfied: MarkupSafe>=0.23 in /vol/bitbucket/rrr2417/deepscm/ENV2/lib/python3.8/site-packages (from jinja2->spacy<3.1.0,>=3.0.0->en-core-web-lg==3.0.0) (1.1.1)\n",
      "Requirement already satisfied: click<7.2.0,>=7.1.1 in /vol/bitbucket/rrr2417/deepscm/ENV2/lib/python3.8/site-packages (from typer<0.4.0,>=0.3.0->spacy<3.1.0,>=3.0.0->en-core-web-lg==3.0.0) (7.1.2)\n",
      "Installing collected packages: en-core-web-lg\n",
      "Successfully installed en-core-web-lg-3.0.0\n",
      "\u001b[38;5;2m✔ Download and installation successful\u001b[0m\n",
      "You can now load the package via spacy.load('en_core_web_lg')\n"
     ]
    }
   ],
   "source": [
    "!pip install ekphrasis gensim spacy nltk\n",
    "!python -m spacy download 'en_core_web_sm'\n",
    "!python -m spacy download 'en_core_web_lg'"
   ]
  },
  {
   "cell_type": "markdown",
   "metadata": {},
   "source": [
    "# Loading Data"
   ]
  },
  {
   "cell_type": "code",
   "execution_count": 3,
   "metadata": {},
   "outputs": [],
   "source": [
    "%%bash\n",
    "export GENSIM_DATA_DIR='./data/'\n",
    "# python -m gensim.downloader --download glove-twitter-25\n",
    "# python -m gensim.downloader --download word2vec-google-news-300\n",
    "# python -m gensim.downloader --download fasttext-wiki-news-subwords-300\n",
    "# python -m gensim.downloader --download glove-twitter-100"
   ]
  },
  {
   "cell_type": "code",
   "execution_count": 121,
   "metadata": {
    "id": "WX9TqmK7lDoK"
   },
   "outputs": [],
   "source": [
    "import os\n",
    "import re\n",
    "import codecs\n",
    "\n",
    "import torch\n",
    "import torch.nn as nn\n",
    "import pandas as pd\n",
    "import numpy as np\n",
    "import gensim\n",
    "import gensim.downloader as api\n",
    "import spacy\n",
    "import nltk\n",
    "from sklearn.feature_extraction.text import CountVectorizer\n",
    "from sklearn.feature_extraction.text import TfidfTransformer\n",
    "from sklearn.model_selection import train_test_split\n",
    "from sklearn.linear_model import LinearRegression\n",
    "from torch.utils.data import Dataset, random_split\n",
    "from gensim.models import KeyedVectors\n",
    "\n",
    "from ekphrasis.classes.preprocessor import TextPreProcessor\n",
    "from ekphrasis.classes.tokenizer import SocialTokenizer\n",
    "# from ekphrasis.dicts.noslang.slangdict"
   ]
  },
  {
   "cell_type": "code",
   "execution_count": 5,
   "metadata": {
    "id": "X09jt8VRlDoM"
   },
   "outputs": [
    {
     "data": {
      "text/plain": [
       "device(type='cuda', index=0)"
      ]
     },
     "execution_count": 5,
     "metadata": {},
     "output_type": "execute_result"
    }
   ],
   "source": [
    "# Setting random seed and device\n",
    "SEED = 1\n",
    "\n",
    "torch.manual_seed(SEED)\n",
    "torch.cuda.manual_seed(SEED)\n",
    "torch.backends.cudnn.deterministic = True\n",
    "\n",
    "use_cuda = torch.cuda.is_available()\n",
    "device = torch.device(\"cuda:0\" if use_cuda else \"cpu\")\n",
    "device"
   ]
  },
  {
   "cell_type": "code",
   "execution_count": 397,
   "metadata": {},
   "outputs": [],
   "source": [
    "# Load data\n",
    "train_df = pd.read_csv(f'{data_dir}/train.csv')\n",
    "test_df = pd.read_csv(f'{data_dir}/dev.csv')"
   ]
  },
  {
   "cell_type": "code",
   "execution_count": 398,
   "metadata": {},
   "outputs": [],
   "source": [
    "train_df2 = pd.read_csv(f'{data_dir}/train_funlines.csv')"
   ]
  },
  {
   "cell_type": "code",
   "execution_count": 399,
   "metadata": {},
   "outputs": [],
   "source": [
    "train_df = pd.concat([train_df, train_df2])\n",
    "train_df.reset_index(inplace=True, drop=True)"
   ]
  },
  {
   "cell_type": "code",
   "execution_count": 400,
   "metadata": {},
   "outputs": [
    {
     "data": {
      "text/html": [
       "<div>\n",
       "<style scoped>\n",
       "    .dataframe tbody tr th:only-of-type {\n",
       "        vertical-align: middle;\n",
       "    }\n",
       "\n",
       "    .dataframe tbody tr th {\n",
       "        vertical-align: top;\n",
       "    }\n",
       "\n",
       "    .dataframe thead th {\n",
       "        text-align: right;\n",
       "    }\n",
       "</style>\n",
       "<table border=\"1\" class=\"dataframe\">\n",
       "  <thead>\n",
       "    <tr style=\"text-align: right;\">\n",
       "      <th></th>\n",
       "      <th>id</th>\n",
       "      <th>original</th>\n",
       "      <th>edit</th>\n",
       "      <th>grades</th>\n",
       "      <th>meanGrade</th>\n",
       "    </tr>\n",
       "  </thead>\n",
       "  <tbody>\n",
       "    <tr>\n",
       "      <th>17890</th>\n",
       "      <td>108238</td>\n",
       "      <td>How to block Facebook and Google from identify...</td>\n",
       "      <td>mistress</td>\n",
       "      <td>33221</td>\n",
       "      <td>2.2</td>\n",
       "    </tr>\n",
       "    <tr>\n",
       "      <th>17891</th>\n",
       "      <td>108239</td>\n",
       "      <td>How to block Facebook and Google from &lt;identif...</td>\n",
       "      <td>mustaching</td>\n",
       "      <td>32221</td>\n",
       "      <td>2.0</td>\n",
       "    </tr>\n",
       "    <tr>\n",
       "      <th>17892</th>\n",
       "      <td>108240</td>\n",
       "      <td>Downtown Tokyo 's homeless fear &lt;removal/&gt; ahe...</td>\n",
       "      <td>Godzilla</td>\n",
       "      <td>32221</td>\n",
       "      <td>2.0</td>\n",
       "    </tr>\n",
       "    <tr>\n",
       "      <th>17893</th>\n",
       "      <td>108241</td>\n",
       "      <td>Israel signs pact to bar gay couples from adop...</td>\n",
       "      <td>Oligarchs</td>\n",
       "      <td>22100</td>\n",
       "      <td>1.0</td>\n",
       "    </tr>\n",
       "    <tr>\n",
       "      <th>17894</th>\n",
       "      <td>108242</td>\n",
       "      <td>Fear grips Chinese city as &lt;virus/&gt; lockdown b...</td>\n",
       "      <td>vampire</td>\n",
       "      <td>22222</td>\n",
       "      <td>2.0</td>\n",
       "    </tr>\n",
       "    <tr>\n",
       "      <th>17895</th>\n",
       "      <td>108243</td>\n",
       "      <td>Banning Facial &lt;Recognition/&gt; Is n’t Enough - ...</td>\n",
       "      <td>Cleansers</td>\n",
       "      <td>22222</td>\n",
       "      <td>2.0</td>\n",
       "    </tr>\n",
       "    <tr>\n",
       "      <th>17896</th>\n",
       "      <td>108244</td>\n",
       "      <td>Trump is reportedly threatening &lt;Republicans/&gt;...</td>\n",
       "      <td>children</td>\n",
       "      <td>21100</td>\n",
       "      <td>0.8</td>\n",
       "    </tr>\n",
       "    <tr>\n",
       "      <th>17897</th>\n",
       "      <td>108245</td>\n",
       "      <td>Peruvian indigenous group wins suit to block o...</td>\n",
       "      <td>Women</td>\n",
       "      <td>22110</td>\n",
       "      <td>1.2</td>\n",
       "    </tr>\n",
       "    <tr>\n",
       "      <th>17898</th>\n",
       "      <td>108246</td>\n",
       "      <td>Joe Rogan says he 's probably voting for &lt;Bern...</td>\n",
       "      <td>Illuminati</td>\n",
       "      <td>22000</td>\n",
       "      <td>0.8</td>\n",
       "    </tr>\n",
       "    <tr>\n",
       "      <th>17899</th>\n",
       "      <td>108247</td>\n",
       "      <td>While Microsoft Was Making Its Climate Pledge ...</td>\n",
       "      <td>Spill</td>\n",
       "      <td>21111</td>\n",
       "      <td>1.2</td>\n",
       "    </tr>\n",
       "  </tbody>\n",
       "</table>\n",
       "</div>"
      ],
      "text/plain": [
       "           id                                           original        edit  \\\n",
       "17890  108238  How to block Facebook and Google from identify...    mistress   \n",
       "17891  108239  How to block Facebook and Google from <identif...  mustaching   \n",
       "17892  108240  Downtown Tokyo 's homeless fear <removal/> ahe...    Godzilla   \n",
       "17893  108241  Israel signs pact to bar gay couples from adop...   Oligarchs   \n",
       "17894  108242  Fear grips Chinese city as <virus/> lockdown b...     vampire   \n",
       "17895  108243  Banning Facial <Recognition/> Is n’t Enough - ...   Cleansers   \n",
       "17896  108244  Trump is reportedly threatening <Republicans/>...    children   \n",
       "17897  108245  Peruvian indigenous group wins suit to block o...       Women   \n",
       "17898  108246  Joe Rogan says he 's probably voting for <Bern...  Illuminati   \n",
       "17899  108247  While Microsoft Was Making Its Climate Pledge ...       Spill   \n",
       "\n",
       "       grades  meanGrade  \n",
       "17890   33221        2.2  \n",
       "17891   32221        2.0  \n",
       "17892   32221        2.0  \n",
       "17893   22100        1.0  \n",
       "17894   22222        2.0  \n",
       "17895   22222        2.0  \n",
       "17896   21100        0.8  \n",
       "17897   22110        1.2  \n",
       "17898   22000        0.8  \n",
       "17899   21111        1.2  "
      ]
     },
     "execution_count": 400,
     "metadata": {},
     "output_type": "execute_result"
    }
   ],
   "source": [
    "train_df[-10:]"
   ]
  },
  {
   "cell_type": "code",
   "execution_count": 401,
   "metadata": {
    "colab": {
     "base_uri": "https://localhost:8080/",
     "height": 204
    },
    "id": "T9wrBEX_sGrT",
    "outputId": "e117b2f2-bec7-4566-a270-c3c16deb016c"
   },
   "outputs": [
    {
     "data": {
      "text/html": [
       "<div>\n",
       "<style scoped>\n",
       "    .dataframe tbody tr th:only-of-type {\n",
       "        vertical-align: middle;\n",
       "    }\n",
       "\n",
       "    .dataframe tbody tr th {\n",
       "        vertical-align: top;\n",
       "    }\n",
       "\n",
       "    .dataframe thead th {\n",
       "        text-align: right;\n",
       "    }\n",
       "</style>\n",
       "<table border=\"1\" class=\"dataframe\">\n",
       "  <thead>\n",
       "    <tr style=\"text-align: right;\">\n",
       "      <th></th>\n",
       "      <th>id</th>\n",
       "      <th>original</th>\n",
       "      <th>edit</th>\n",
       "      <th>grades</th>\n",
       "      <th>meanGrade</th>\n",
       "    </tr>\n",
       "  </thead>\n",
       "  <tbody>\n",
       "    <tr>\n",
       "      <th>0</th>\n",
       "      <td>14530</td>\n",
       "      <td>France is ‘ hunting down its citizens who join...</td>\n",
       "      <td>twins</td>\n",
       "      <td>10000</td>\n",
       "      <td>0.2</td>\n",
       "    </tr>\n",
       "    <tr>\n",
       "      <th>1</th>\n",
       "      <td>13034</td>\n",
       "      <td>Pentagon claims 2,000 % increase in Russian tr...</td>\n",
       "      <td>bowling</td>\n",
       "      <td>33110</td>\n",
       "      <td>1.6</td>\n",
       "    </tr>\n",
       "    <tr>\n",
       "      <th>2</th>\n",
       "      <td>8731</td>\n",
       "      <td>Iceland PM Calls Snap Vote as Pedophile Furor ...</td>\n",
       "      <td>party</td>\n",
       "      <td>22100</td>\n",
       "      <td>1.0</td>\n",
       "    </tr>\n",
       "    <tr>\n",
       "      <th>3</th>\n",
       "      <td>76</td>\n",
       "      <td>In an apparent first , Iran and Israel &lt;engage...</td>\n",
       "      <td>slap</td>\n",
       "      <td>20000</td>\n",
       "      <td>0.4</td>\n",
       "    </tr>\n",
       "    <tr>\n",
       "      <th>4</th>\n",
       "      <td>6164</td>\n",
       "      <td>Trump was told weeks ago that Flynn misled &lt;Vi...</td>\n",
       "      <td>school</td>\n",
       "      <td>0</td>\n",
       "      <td>0.0</td>\n",
       "    </tr>\n",
       "  </tbody>\n",
       "</table>\n",
       "</div>"
      ],
      "text/plain": [
       "      id                                           original     edit  grades  \\\n",
       "0  14530  France is ‘ hunting down its citizens who join...    twins   10000   \n",
       "1  13034  Pentagon claims 2,000 % increase in Russian tr...  bowling   33110   \n",
       "2   8731  Iceland PM Calls Snap Vote as Pedophile Furor ...    party   22100   \n",
       "3     76  In an apparent first , Iran and Israel <engage...     slap   20000   \n",
       "4   6164  Trump was told weeks ago that Flynn misled <Vi...   school       0   \n",
       "\n",
       "   meanGrade  \n",
       "0        0.2  \n",
       "1        1.6  \n",
       "2        1.0  \n",
       "3        0.4  \n",
       "4        0.0  "
      ]
     },
     "execution_count": 401,
     "metadata": {},
     "output_type": "execute_result"
    }
   ],
   "source": [
    "train_df.head()"
   ]
  },
  {
   "cell_type": "code",
   "execution_count": 354,
   "metadata": {
    "colab": {
     "base_uri": "https://localhost:8080/",
     "height": 297
    },
    "id": "bU7039mZsVC7",
    "outputId": "47fee855-afc4-491c-d3fc-cea8afef4c98"
   },
   "outputs": [
    {
     "data": {
      "text/html": [
       "<div>\n",
       "<style scoped>\n",
       "    .dataframe tbody tr th:only-of-type {\n",
       "        vertical-align: middle;\n",
       "    }\n",
       "\n",
       "    .dataframe tbody tr th {\n",
       "        vertical-align: top;\n",
       "    }\n",
       "\n",
       "    .dataframe thead th {\n",
       "        text-align: right;\n",
       "    }\n",
       "</style>\n",
       "<table border=\"1\" class=\"dataframe\">\n",
       "  <thead>\n",
       "    <tr style=\"text-align: right;\">\n",
       "      <th></th>\n",
       "      <th>id</th>\n",
       "      <th>grades</th>\n",
       "      <th>meanGrade</th>\n",
       "    </tr>\n",
       "  </thead>\n",
       "  <tbody>\n",
       "    <tr>\n",
       "      <th>count</th>\n",
       "      <td>17900.000000</td>\n",
       "      <td>1.790000e+04</td>\n",
       "      <td>17900.000000</td>\n",
       "    </tr>\n",
       "    <tr>\n",
       "      <th>mean</th>\n",
       "      <td>52043.866704</td>\n",
       "      <td>1.104498e+11</td>\n",
       "      <td>1.090601</td>\n",
       "    </tr>\n",
       "    <tr>\n",
       "      <th>std</th>\n",
       "      <td>48277.755973</td>\n",
       "      <td>6.030790e+12</td>\n",
       "      <td>0.596054</td>\n",
       "    </tr>\n",
       "    <tr>\n",
       "      <th>min</th>\n",
       "      <td>1.000000</td>\n",
       "      <td>0.000000e+00</td>\n",
       "      <td>0.000000</td>\n",
       "    </tr>\n",
       "    <tr>\n",
       "      <th>25%</th>\n",
       "      <td>6967.000000</td>\n",
       "      <td>2.000000e+04</td>\n",
       "      <td>0.600000</td>\n",
       "    </tr>\n",
       "    <tr>\n",
       "      <th>50%</th>\n",
       "      <td>14014.500000</td>\n",
       "      <td>2.211000e+04</td>\n",
       "      <td>1.000000</td>\n",
       "    </tr>\n",
       "    <tr>\n",
       "      <th>75%</th>\n",
       "      <td>103772.250000</td>\n",
       "      <td>3.210000e+04</td>\n",
       "      <td>1.600000</td>\n",
       "    </tr>\n",
       "    <tr>\n",
       "      <th>max</th>\n",
       "      <td>108247.000000</td>\n",
       "      <td>3.333332e+14</td>\n",
       "      <td>3.000000</td>\n",
       "    </tr>\n",
       "  </tbody>\n",
       "</table>\n",
       "</div>"
      ],
      "text/plain": [
       "                  id        grades     meanGrade\n",
       "count   17900.000000  1.790000e+04  17900.000000\n",
       "mean    52043.866704  1.104498e+11      1.090601\n",
       "std     48277.755973  6.030790e+12      0.596054\n",
       "min         1.000000  0.000000e+00      0.000000\n",
       "25%      6967.000000  2.000000e+04      0.600000\n",
       "50%     14014.500000  2.211000e+04      1.000000\n",
       "75%    103772.250000  3.210000e+04      1.600000\n",
       "max    108247.000000  3.333332e+14      3.000000"
      ]
     },
     "execution_count": 354,
     "metadata": {},
     "output_type": "execute_result"
    }
   ],
   "source": [
    "train_df.describe()"
   ]
  },
  {
   "cell_type": "markdown",
   "metadata": {
    "id": "GSK-xxIWsgoA"
   },
   "source": [
    "### Analysing Data Distribution and Outliers"
   ]
  },
  {
   "cell_type": "code",
   "execution_count": 355,
   "metadata": {
    "colab": {
     "base_uri": "https://localhost:8080/"
    },
    "id": "4q1QNdzmMXxQ",
    "outputId": "e48c5641-9c17-4692-c979-73cdc78d05c5"
   },
   "outputs": [
    {
     "data": {
      "text/plain": [
       "id           3361\n",
       "original     3361\n",
       "edit         3361\n",
       "grades       3361\n",
       "meanGrade    3361\n",
       "dtype: int64"
      ]
     },
     "execution_count": 355,
     "metadata": {},
     "output_type": "execute_result"
    }
   ],
   "source": [
    "grade_std = train_df.meanGrade.std()\n",
    "grade_mean = train_df.meanGrade.mean()\n",
    "ub = grade_mean + grade_std * 3\n",
    "lb = grade_mean - grade_std\n",
    "\n",
    "train_df[(train_df['meanGrade'] > ub) | (train_df['meanGrade'] < lb)].count()"
   ]
  },
  {
   "cell_type": "code",
   "execution_count": 356,
   "metadata": {},
   "outputs": [
    {
     "data": {
      "text/plain": [
       "(0.5960541095747479, 1.0906011108692673)"
      ]
     },
     "execution_count": 356,
     "metadata": {},
     "output_type": "execute_result"
    }
   ],
   "source": [
    "grade_std, grade_mean"
   ]
  },
  {
   "cell_type": "code",
   "execution_count": 357,
   "metadata": {
    "colab": {
     "base_uri": "https://localhost:8080/"
    },
    "id": "YlC3UY-hNOEF",
    "outputId": "f627aefa-6979-4439-a75b-add38133a4d2"
   },
   "outputs": [
    {
     "name": "stdout",
     "output_type": "stream",
     "text": [
      "<class 'pandas.core.frame.DataFrame'>\n",
      "Int64Index: 786 entries, 70 to 8238\n",
      "Data columns (total 5 columns):\n",
      " #   Column     Non-Null Count  Dtype  \n",
      "---  ------     --------------  -----  \n",
      " 0   id         786 non-null    int64  \n",
      " 1   original   786 non-null    object \n",
      " 2   edit       786 non-null    object \n",
      " 3   grades     786 non-null    int64  \n",
      " 4   meanGrade  786 non-null    float64\n",
      "dtypes: float64(1), int64(2), object(2)\n",
      "memory usage: 36.8+ KB\n"
     ]
    }
   ],
   "source": [
    "train_df[train_df['meanGrade'] >= 2.2].info()"
   ]
  },
  {
   "cell_type": "code",
   "execution_count": 358,
   "metadata": {
    "colab": {
     "base_uri": "https://localhost:8080/"
    },
    "id": "k6GaMGUhUqoI",
    "outputId": "10057e5b-2a5b-4e09-8f65-01cfee9d0ddb"
   },
   "outputs": [
    {
     "name": "stdout",
     "output_type": "stream",
     "text": [
      "<class 'pandas.core.frame.DataFrame'>\n",
      "Int64Index: 17900 entries, 0 to 8247\n",
      "Data columns (total 5 columns):\n",
      " #   Column     Non-Null Count  Dtype  \n",
      "---  ------     --------------  -----  \n",
      " 0   id         17900 non-null  int64  \n",
      " 1   original   17900 non-null  object \n",
      " 2   edit       17900 non-null  object \n",
      " 3   grades     17900 non-null  int64  \n",
      " 4   meanGrade  17900 non-null  float64\n",
      "dtypes: float64(1), int64(2), object(2)\n",
      "memory usage: 839.1+ KB\n"
     ]
    }
   ],
   "source": [
    "train_df.info()"
   ]
  },
  {
   "cell_type": "code",
   "execution_count": 359,
   "metadata": {},
   "outputs": [
    {
     "data": {
      "text/plain": [
       "array([0.2       , 1.6       , 1.        , 0.4       , 0.        ,\n",
       "       1.2       , 0.8       , 1.4       , 0.6       , 1.8       ,\n",
       "       2.2       , 2.        , 2.4       , 1.3       , 2.06666667,\n",
       "       0.9       , 2.6       , 0.5       , 2.8       , 1.5       ,\n",
       "       1.9       , 1.7       , 3.        , 1.1       , 0.7       ,\n",
       "       2.13333333, 2.5       , 2.1       , 0.86666667, 2.3       ,\n",
       "       0.3       , 1.33333333, 1.53333333, 1.375     , 1.28571429,\n",
       "       1.83333333, 2.33333333, 0.83333333, 0.16666667, 1.66666667,\n",
       "       2.16666667, 1.16666667, 0.66666667, 0.33333333, 0.57142857,\n",
       "       1.42857143, 0.55555556, 0.85714286, 1.72727273, 2.125     ,\n",
       "       1.14285714, 2.66666667, 1.45454545, 0.28571429, 1.18181818,\n",
       "       1.85714286, 1.54545455])"
      ]
     },
     "execution_count": 359,
     "metadata": {},
     "output_type": "execute_result"
    }
   ],
   "source": [
    "train_df.meanGrade.unique()"
   ]
  },
  {
   "cell_type": "code",
   "execution_count": 360,
   "metadata": {},
   "outputs": [
    {
     "data": {
      "text/plain": [
       "0.000000     676\n",
       "0.166667       7\n",
       "0.200000    1204\n",
       "0.285714       1\n",
       "0.300000       2\n",
       "0.333333       9\n",
       "0.400000    1458\n",
       "0.500000      19\n",
       "0.555556       1\n",
       "0.571429       2\n",
       "0.600000    1722\n",
       "0.666667      14\n",
       "0.700000       5\n",
       "0.800000    1923\n",
       "0.833333      26\n",
       "0.857143       1\n",
       "0.866667       1\n",
       "0.900000       7\n",
       "1.000000    2026\n",
       "1.100000      13\n",
       "1.142857       1\n",
       "1.166667      36\n",
       "1.181818       1\n",
       "1.200000    2012\n",
       "1.285714       2\n",
       "1.300000      13\n",
       "1.333333      47\n",
       "1.375000       1\n",
       "1.400000    1888\n",
       "1.428571       4\n",
       "1.454545       1\n",
       "1.500000      57\n",
       "1.533333       1\n",
       "1.545455       1\n",
       "1.600000    1667\n",
       "1.666667      30\n",
       "1.700000      11\n",
       "1.727273       1\n",
       "1.800000    1259\n",
       "1.833333      29\n",
       "1.857143       2\n",
       "1.900000      10\n",
       "2.000000     903\n",
       "2.066667       1\n",
       "2.100000       9\n",
       "2.125000       1\n",
       "2.133333       1\n",
       "2.166667       8\n",
       "2.200000     466\n",
       "2.300000       3\n",
       "2.333333       5\n",
       "2.400000     213\n",
       "2.500000       2\n",
       "2.600000      73\n",
       "2.666667       1\n",
       "2.800000      19\n",
       "3.000000       4\n",
       "Name: meanGrade, dtype: int64"
      ]
     },
     "execution_count": 360,
     "metadata": {},
     "output_type": "execute_result"
    }
   ],
   "source": [
    "train_df.meanGrade.value_counts().sort_index()"
   ]
  },
  {
   "cell_type": "code",
   "execution_count": 361,
   "metadata": {},
   "outputs": [
    {
     "data": {
      "text/plain": [
       "<AxesSubplot:>"
      ]
     },
     "execution_count": 361,
     "metadata": {},
     "output_type": "execute_result"
    },
    {
     "data": {
      "image/png": "[encoded data removed]",
      "text/plain": [
       "<Figure size 432x288 with 1 Axes>"
      ]
     },
     "metadata": {
      "needs_background": "light"
     },
     "output_type": "display_data"
    }
   ],
   "source": [
    "train_df.meanGrade.hist(bins=30)"
   ]
  },
  {
   "cell_type": "code",
   "execution_count": 362,
   "metadata": {},
   "outputs": [],
   "source": [
    "def remove_outliers(df, ub):\n",
    "    _df = df.copy()\n",
    "    return _df[(_df.meanGrade <= ub)]"
   ]
  },
  {
   "cell_type": "code",
   "execution_count": 363,
   "metadata": {},
   "outputs": [
    {
     "data": {
      "text/plain": [
       "<AxesSubplot:>"
      ]
     },
     "execution_count": 363,
     "metadata": {},
     "output_type": "execute_result"
    },
    {
     "data": {
      "image/png": "[encoded data removed]",
      "text/plain": [
       "<Figure size 432x288 with 1 Axes>"
      ]
     },
     "metadata": {
      "needs_background": "light"
     },
     "output_type": "display_data"
    }
   ],
   "source": [
    "remove_outliers(train_df, ub=2.2).meanGrade.hist(bins=30)"
   ]
  },
  {
   "cell_type": "markdown",
   "metadata": {
    "id": "SaEL0KmMtH-0"
   },
   "source": [
    "### Preprocessing"
   ]
  },
  {
   "cell_type": "code",
   "execution_count": 364,
   "metadata": {
    "id": "Ukhx1gLlthg2"
   },
   "outputs": [],
   "source": [
    "nlp = spacy.load('en_core_web_lg')"
   ]
  },
  {
   "cell_type": "code",
   "execution_count": 19,
   "metadata": {},
   "outputs": [
    {
     "name": "stdout",
     "output_type": "stream",
     "text": [
      "GENSIM LIST OF WORD EMBEDDINGS\n"
     ]
    },
    {
     "data": {
      "text/plain": [
       "dict_keys(['fasttext-wiki-news-subwords-300', 'conceptnet-numberbatch-17-06-300', 'word2vec-ruscorpora-300', 'word2vec-google-news-300', 'glove-wiki-gigaword-50', 'glove-wiki-gigaword-100', 'glove-wiki-gigaword-200', 'glove-wiki-gigaword-300', 'glove-twitter-25', 'glove-twitter-50', 'glove-twitter-100', 'glove-twitter-200', '__testing_word2vec-matrix-synopsis'])"
      ]
     },
     "execution_count": 19,
     "metadata": {},
     "output_type": "execute_result"
    }
   ],
   "source": [
    "print('GENSIM LIST OF WORD EMBEDDINGS')\n",
    "api.info()['models'].keys()"
   ]
  },
  {
   "cell_type": "code",
   "execution_count": 16,
   "metadata": {},
   "outputs": [],
   "source": [
    "model = KeyedVectors.load_word2vec_format('./data/fasttext-wiki-news-subwords-300/fasttext-wiki-news-subwords-300.gz')"
   ]
  },
  {
   "cell_type": "code",
   "execution_count": 188,
   "metadata": {},
   "outputs": [],
   "source": [
    "embeddings = model"
   ]
  },
  {
   "cell_type": "markdown",
   "metadata": {},
   "source": [
    "#### Ekphrasis Preprocessor"
   ]
  },
  {
   "cell_type": "code",
   "execution_count": 22,
   "metadata": {
    "colab": {
     "base_uri": "https://localhost:8080/"
    },
    "id": "VekS8ZMqaiUj",
    "outputId": "874b0006-10c9-4f55-84ea-6562f9285484"
   },
   "outputs": [
    {
     "name": "stdout",
     "output_type": "stream",
     "text": [
      "Reading english - 1grams ...\n",
      "Reading english - 2grams ...\n"
     ]
    },
    {
     "name": "stderr",
     "output_type": "stream",
     "text": [
      "/vol/bitbucket/rrr2417/deepscm/ENV2/lib/python3.8/site-packages/ekphrasis/classes/exmanager.py:14: FutureWarning: Possible nested set at position 42\n",
      "  regexes = {k.lower(): re.compile(self.expressions[k]) for k, v in\n"
     ]
    },
    {
     "name": "stdout",
     "output_type": "stream",
     "text": [
      "Reading english - 1grams ...\n"
     ]
    }
   ],
   "source": [
    "text_processor = TextPreProcessor(\n",
    "    annotate=['hashtag'],\n",
    "    fix_html=True,  # fix HTML tokens\n",
    "    \n",
    "    # corpus from which the word statistics are going to be used \n",
    "    # for word segmentation \n",
    "    segmenter=\"english\", \n",
    "    \n",
    "    # corpus from which the word statistics are going to be used \n",
    "    # for spell correction\n",
    "    corrector=\"english\", \n",
    "    \n",
    "    unpack_hashtags=True,  # perform word segmentation on hashtags\n",
    "    unpack_contractions=True,  # Unpack contractions (can't -> can not)\n",
    "    spell_correct=True,  # spell correction for elongated words\n",
    ")"
   ]
  },
  {
   "cell_type": "markdown",
   "metadata": {},
   "source": [
    "#### Some Test Case"
   ]
  },
  {
   "cell_type": "code",
   "execution_count": 67,
   "metadata": {},
   "outputs": [],
   "source": [
    "fancy_ascii_apostrophe = 0\n",
    "apostrophe_s = 12\n",
    "apostrophe_s_2 = 43\n",
    "contraction_won_t = 48\n",
    "contraction_won_t_2 = 264\n",
    "punct_check = 50\n",
    "contraction_isnt_2 = 66\n",
    "hashtag = 425 \n",
    "hashtag2 = 529 \n",
    "punct_exclaim = 80\n",
    "punct_question = 27\n",
    "punct_dash = 26\n",
    "contraction_dont = 128\n",
    "contraction_hell = 131\n",
    "punct_twitter_handle = 4388\n",
    "\n",
    "test_sentences = [\n",
    "    fancy_ascii_apostrophe,\n",
    "    apostrophe_s,\n",
    "    apostrophe_s_2,\n",
    "    contraction_won_t,\n",
    "    contraction_won_t_2,\n",
    "    punct_check,\n",
    "    contraction_isnt_2,\n",
    "    hashtag,\n",
    "    hashtag2, \n",
    "    punct_exclaim,\n",
    "    punct_question,\n",
    "    punct_dash,\n",
    "    contraction_dont,\n",
    "    contraction_hell,\n",
    "    punct_twitter_handle,\n",
    "]"
   ]
  },
  {
   "cell_type": "code",
   "execution_count": 68,
   "metadata": {
    "colab": {
     "base_uri": "https://localhost:8080/",
     "height": 35
    },
    "id": "Hfd-qlwhJsYw",
    "outputId": "c673c3c5-33dd-4732-b5a1-92f58fcb297f",
    "scrolled": false
   },
   "outputs": [
    {
     "data": {
      "text/html": [
       "<div>\n",
       "<style scoped>\n",
       "    .dataframe tbody tr th:only-of-type {\n",
       "        vertical-align: middle;\n",
       "    }\n",
       "\n",
       "    .dataframe tbody tr th {\n",
       "        vertical-align: top;\n",
       "    }\n",
       "\n",
       "    .dataframe thead th {\n",
       "        text-align: right;\n",
       "    }\n",
       "</style>\n",
       "<table border=\"1\" class=\"dataframe\">\n",
       "  <thead>\n",
       "    <tr style=\"text-align: right;\">\n",
       "      <th></th>\n",
       "      <th>id</th>\n",
       "      <th>original</th>\n",
       "      <th>edit</th>\n",
       "      <th>grades</th>\n",
       "      <th>meanGrade</th>\n",
       "    </tr>\n",
       "  </thead>\n",
       "  <tbody>\n",
       "    <tr>\n",
       "      <th>0</th>\n",
       "      <td>14530</td>\n",
       "      <td>France is ‘ hunting down its citizens who join...</td>\n",
       "      <td>twins</td>\n",
       "      <td>10000</td>\n",
       "      <td>0.2</td>\n",
       "    </tr>\n",
       "    <tr>\n",
       "      <th>12</th>\n",
       "      <td>7614</td>\n",
       "      <td>Trump 's 2nd Nominee for &lt;Army/&gt; Secretary Wit...</td>\n",
       "      <td>Class</td>\n",
       "      <td>22100</td>\n",
       "      <td>1.0</td>\n",
       "    </tr>\n",
       "    <tr>\n",
       "      <th>43</th>\n",
       "      <td>5732</td>\n",
       "      <td>Fox 's James Murdoch rebukes &lt;Trump/&gt; over Cha...</td>\n",
       "      <td>grits</td>\n",
       "      <td>10000</td>\n",
       "      <td>0.2</td>\n",
       "    </tr>\n",
       "    <tr>\n",
       "      <th>48</th>\n",
       "      <td>3274</td>\n",
       "      <td>Kelly wo n't commit to defending DACA in &lt;cour...</td>\n",
       "      <td>space</td>\n",
       "      <td>33100</td>\n",
       "      <td>1.4</td>\n",
       "    </tr>\n",
       "    <tr>\n",
       "      <th>264</th>\n",
       "      <td>13786</td>\n",
       "      <td>Franken Reiterates He Wo n't &lt;Resign/&gt; : ' I K...</td>\n",
       "      <td>diet</td>\n",
       "      <td>31111</td>\n",
       "      <td>1.4</td>\n",
       "    </tr>\n",
       "    <tr>\n",
       "      <th>50</th>\n",
       "      <td>13443</td>\n",
       "      <td>Rand Paul : Saudi Arabia ’s Role in Backing &lt;T...</td>\n",
       "      <td>Turpentine</td>\n",
       "      <td>10000</td>\n",
       "      <td>0.2</td>\n",
       "    </tr>\n",
       "    <tr>\n",
       "      <th>66</th>\n",
       "      <td>7780</td>\n",
       "      <td>This Is n't ' Another Watergate ' But It Plays...</td>\n",
       "      <td>Vaudeville</td>\n",
       "      <td>11000</td>\n",
       "      <td>0.4</td>\n",
       "    </tr>\n",
       "    <tr>\n",
       "      <th>425</th>\n",
       "      <td>13225</td>\n",
       "      <td>Steve Bannon &lt;Meets/&gt; with Billionaire Mercer ...</td>\n",
       "      <td>canoodles</td>\n",
       "      <td>21000</td>\n",
       "      <td>0.6</td>\n",
       "    </tr>\n",
       "    <tr>\n",
       "      <th>529</th>\n",
       "      <td>3636</td>\n",
       "      <td>China Is Attempting To &lt;Muzzle/&gt; #MeToo</td>\n",
       "      <td>start</td>\n",
       "      <td>0</td>\n",
       "      <td>0.0</td>\n",
       "    </tr>\n",
       "    <tr>\n",
       "      <th>80</th>\n",
       "      <td>8947</td>\n",
       "      <td>Trump to Dems : Of course I colluded , big &lt;de...</td>\n",
       "      <td>time</td>\n",
       "      <td>21000</td>\n",
       "      <td>0.6</td>\n",
       "    </tr>\n",
       "    <tr>\n",
       "      <th>27</th>\n",
       "      <td>11124</td>\n",
       "      <td>If America is Great Again , Why Is the &lt;Dollar...</td>\n",
       "      <td>intelligence</td>\n",
       "      <td>22210</td>\n",
       "      <td>1.4</td>\n",
       "    </tr>\n",
       "    <tr>\n",
       "      <th>26</th>\n",
       "      <td>12583</td>\n",
       "      <td>Oregon : 20-Year-Old Sues Kroger for &lt;Refusing...</td>\n",
       "      <td>trying</td>\n",
       "      <td>22100</td>\n",
       "      <td>1.0</td>\n",
       "    </tr>\n",
       "    <tr>\n",
       "      <th>128</th>\n",
       "      <td>2104</td>\n",
       "      <td>Cold weather : Do n't &lt;leave/&gt; these things in...</td>\n",
       "      <td>Cook</td>\n",
       "      <td>21100</td>\n",
       "      <td>0.8</td>\n",
       "    </tr>\n",
       "    <tr>\n",
       "      <th>131</th>\n",
       "      <td>6095</td>\n",
       "      <td>' I think he 'll be just fine ' : Trump hints ...</td>\n",
       "      <td>incarceration</td>\n",
       "      <td>21000</td>\n",
       "      <td>0.6</td>\n",
       "    </tr>\n",
       "    <tr>\n",
       "      <th>4388</th>\n",
       "      <td>12579</td>\n",
       "      <td>Who Is The Mystery &lt;Man/&gt; Behind @realDonaldTr...</td>\n",
       "      <td>turnip</td>\n",
       "      <td>32100</td>\n",
       "      <td>1.2</td>\n",
       "    </tr>\n",
       "  </tbody>\n",
       "</table>\n",
       "</div>"
      ],
      "text/plain": [
       "         id                                           original           edit  \\\n",
       "0     14530  France is ‘ hunting down its citizens who join...          twins   \n",
       "12     7614  Trump 's 2nd Nominee for <Army/> Secretary Wit...          Class   \n",
       "43     5732  Fox 's James Murdoch rebukes <Trump/> over Cha...          grits   \n",
       "48     3274  Kelly wo n't commit to defending DACA in <cour...          space   \n",
       "264   13786  Franken Reiterates He Wo n't <Resign/> : ' I K...           diet   \n",
       "50    13443  Rand Paul : Saudi Arabia ’s Role in Backing <T...     Turpentine   \n",
       "66     7780  This Is n't ' Another Watergate ' But It Plays...     Vaudeville   \n",
       "425   13225  Steve Bannon <Meets/> with Billionaire Mercer ...      canoodles   \n",
       "529    3636            China Is Attempting To <Muzzle/> #MeToo          start   \n",
       "80     8947  Trump to Dems : Of course I colluded , big <de...           time   \n",
       "27    11124  If America is Great Again , Why Is the <Dollar...   intelligence   \n",
       "26    12583  Oregon : 20-Year-Old Sues Kroger for <Refusing...         trying   \n",
       "128    2104  Cold weather : Do n't <leave/> these things in...           Cook   \n",
       "131    6095  ' I think he 'll be just fine ' : Trump hints ...  incarceration   \n",
       "4388  12579  Who Is The Mystery <Man/> Behind @realDonaldTr...         turnip   \n",
       "\n",
       "      grades  meanGrade  \n",
       "0      10000        0.2  \n",
       "12     22100        1.0  \n",
       "43     10000        0.2  \n",
       "48     33100        1.4  \n",
       "264    31111        1.4  \n",
       "50     10000        0.2  \n",
       "66     11000        0.4  \n",
       "425    21000        0.6  \n",
       "529        0        0.0  \n",
       "80     21000        0.6  \n",
       "27     22210        1.4  \n",
       "26     22100        1.0  \n",
       "128    21100        0.8  \n",
       "131    21000        0.6  \n",
       "4388   32100        1.2  "
      ]
     },
     "execution_count": 68,
     "metadata": {},
     "output_type": "execute_result"
    }
   ],
   "source": [
    "train_df.loc[test_sentences]"
   ]
  },
  {
   "cell_type": "markdown",
   "metadata": {},
   "source": [
    "#### Merging replacements in the original dataset"
   ]
  },
  {
   "cell_type": "code",
   "execution_count": 25,
   "metadata": {},
   "outputs": [
    {
     "data": {
      "text/plain": [
       "0    France is ‘ hunting down its citizens who join...\n",
       "1    Pentagon claims 2,000 % increase in Russian tr...\n",
       "2    Iceland PM Calls Snap Vote as Pedophile Furor ...\n",
       "3    In an apparent first , Iran and Israel slap ea...\n",
       "4    Trump was told weeks ago that Flynn misled sch...\n",
       "dtype: object"
      ]
     },
     "execution_count": 25,
     "metadata": {},
     "output_type": "execute_result"
    }
   ],
   "source": [
    "edited_sentences = train_df[['original', 'edit']] \\\n",
    "    .apply(lambda x: re.subn(\"<.*/>\", x[1], x[0])[0], axis=1)\n",
    "edited_sentences.head()"
   ]
  },
  {
   "cell_type": "markdown",
   "metadata": {},
   "source": [
    "#### Removing apostrophes"
   ]
  },
  {
   "cell_type": "code",
   "execution_count": 26,
   "metadata": {
    "colab": {
     "base_uri": "https://localhost:8080/"
    },
    "id": "KWF1u2qXor6-",
    "outputId": "2015abfc-6c57-4156-d4d9-b8edc26acb70"
   },
   "outputs": [
    {
     "name": "stderr",
     "output_type": "stream",
     "text": [
      "<ipython-input-26-649f357cc77e>:1: FutureWarning: The default value of regex will change from True to False in a future version.\n",
      "  edited_sentences.str.replace(\" (?P<one>\\w*'\\w+)\", lambda x: x.group(\"one\"))[[0, 12, 43, 48, 50, 264, 66]]\n"
     ]
    },
    {
     "data": {
      "text/plain": [
       "0      France is ‘ hunting down its citizens who join...\n",
       "12     Trump's 2nd Nominee for Class Secretary Withdraws\n",
       "43     Fox's James Murdoch rebukes grits over Charlot...\n",
       "48        Kelly won't commit to defending DACA in space \n",
       "50     Rand Paul : Saudi Arabia ’s Role in Backing Tu...\n",
       "264    Franken Reiterates He Won't diet : ' I Know Th...\n",
       "66     This Isn't ' Another Watergate ' But It Plays ...\n",
       "dtype: object"
      ]
     },
     "execution_count": 26,
     "metadata": {},
     "output_type": "execute_result"
    }
   ],
   "source": [
    "edited_sentences.str.replace(\" (?P<one>\\w*'\\w+)\", lambda x: x.group(\"one\"))[[0, 12, 43, 48, 50, 264, 66]]"
   ]
  },
  {
   "cell_type": "markdown",
   "metadata": {},
   "source": [
    "#### Named Entity Recognition (NER)\n",
    "\n",
    "Pretrained Word2Vec doesn't represent \"france\" and \"France\" in the same way (case sensitive). There are many named entities for which this happens which could be problematic if we want to utilities context sensitive representations."
   ]
  },
  {
   "cell_type": "code",
   "execution_count": 135,
   "metadata": {},
   "outputs": [],
   "source": [
    "from spacy import displacy \n",
    "\n",
    "def ner_viewer(sentence):\n",
    "    trial_doc = nlp(sentence)\n",
    "\n",
    "    for ent in trial_doc.ents:\n",
    "        print(ent.text, ent.start_char, ent.end_char, ent.label_)\n",
    "\n",
    "    displacy.render(trial_doc, style=\"ent\", jupyter=True)"
   ]
  },
  {
   "cell_type": "code",
   "execution_count": 136,
   "metadata": {},
   "outputs": [
    {
     "name": "stdout",
     "output_type": "stream",
     "text": [
      "France 0 6 GPE\n",
      "Iraq 74 78 GPE\n"
     ]
    },
    {
     "data": {
      "text/html": [
       "<span class=\"tex2jax_ignore\"><div class=\"entities\" style=\"line-height: 2.5; direction: ltr\">\n",
       "<mark class=\"entity\" style=\"background: #feca74; padding: 0.45em 0.6em; margin: 0 0.25em; line-height: 1; border-radius: 0.35em;\">\n",
       "    France\n",
       "    <span style=\"font-size: 0.8em; font-weight: bold; line-height: 1; border-radius: 0.35em; vertical-align: middle; margin-left: 0.5rem\">GPE</span>\n",
       "</mark>\n",
       " is ' hunting down its citizens who joined twins ' without trial in \n",
       "<mark class=\"entity\" style=\"background: #feca74; padding: 0.45em 0.6em; margin: 0 0.25em; line-height: 1; border-radius: 0.35em;\">\n",
       "    Iraq\n",
       "    <span style=\"font-size: 0.8em; font-weight: bold; line-height: 1; border-radius: 0.35em; vertical-align: middle; margin-left: 0.5rem\">GPE</span>\n",
       "</mark>\n",
       "</div></span>"
      ],
      "text/plain": [
       "<IPython.core.display.HTML object>"
      ]
     },
     "metadata": {},
     "output_type": "display_data"
    },
    {
     "name": "stdout",
     "output_type": "stream",
     "text": [
      "Donald Trump 0 12 PERSON\n",
      "Twitter 51 58 PRODUCT\n"
     ]
    },
    {
     "data": {
      "text/html": [
       "<span class=\"tex2jax_ignore\"><div class=\"entities\" style=\"line-height: 2.5; direction: ltr\">\n",
       "<mark class=\"entity\" style=\"background: #aa9cfc; padding: 0.45em 0.6em; margin: 0 0.25em; line-height: 1; border-radius: 0.35em;\">\n",
       "    Donald Trump\n",
       "    <span style=\"font-size: 0.8em; font-weight: bold; line-height: 1; border-radius: 0.35em; vertical-align: middle; margin-left: 0.5rem\">PERSON</span>\n",
       "</mark>\n",
       " revives ' Crooked penis ' nickname on \n",
       "<mark class=\"entity\" style=\"background: #bfeeb7; padding: 0.45em 0.6em; margin: 0 0.25em; line-height: 1; border-radius: 0.35em;\">\n",
       "    Twitter\n",
       "    <span style=\"font-size: 0.8em; font-weight: bold; line-height: 1; border-radius: 0.35em; vertical-align: middle; margin-left: 0.5rem\">PRODUCT</span>\n",
       "</mark>\n",
       " only to be trumped by election rival with ' covfefe ' KO</div></span>"
      ],
      "text/plain": [
       "<IPython.core.display.HTML object>"
      ]
     },
     "metadata": {},
     "output_type": "display_data"
    },
    {
     "name": "stdout",
     "output_type": "stream",
     "text": [
      "Nobel Prize 30 41 WORK_OF_ART\n"
     ]
    },
    {
     "data": {
      "text/html": [
       "<span class=\"tex2jax_ignore\"><div class=\"entities\" style=\"line-height: 2.5; direction: ltr\">Donkey calls for trump to win \n",
       "<mark class=\"entity\" style=\"background: #f0d0ff; padding: 0.45em 0.6em; margin: 0 0.25em; line-height: 1; border-radius: 0.35em;\">\n",
       "    Nobel Prize\n",
       "    <span style=\"font-size: 0.8em; font-weight: bold; line-height: 1; border-radius: 0.35em; vertical-align: middle; margin-left: 0.5rem\">WORK_OF_ART</span>\n",
       "</mark>\n",
       "</div></span>"
      ],
      "text/plain": [
       "<IPython.core.display.HTML object>"
      ]
     },
     "metadata": {},
     "output_type": "display_data"
    }
   ],
   "source": [
    "ner_viewer(sents.edited_sentences[0])\n",
    "ner_viewer(sents.edited_sentences[1120])\n",
    "ner_viewer(sents.edited_sentences[1477])"
   ]
  },
  {
   "cell_type": "code",
   "execution_count": 47,
   "metadata": {},
   "outputs": [],
   "source": [
    "# Analysing similiarty of vectors under google news embeddings\n",
    "# top 10 similiarities\n",
    "\n",
    "def similiarities(model, word1, word2, top_n=1000):\n",
    "    top_words_list = model.similar_by_word(word1, topn=top_n)\n",
    "    top_words_list2 = model.similar_by_word(word2, topn=top_n)\n",
    "    top_words_set = set(w for w, sim in top_words_list)\n",
    "    top_words_set2 = set(w for w, sim in top_words_list2)\n",
    "    return top_words_list, top_words_list2, top_words_set.intersection(top_words_set2)"
   ]
  },
  {
   "cell_type": "code",
   "execution_count": 189,
   "metadata": {},
   "outputs": [
    {
     "data": {
      "text/plain": [
       "{'-France',\n",
       " 'AirFrance',\n",
       " 'Belgium',\n",
       " 'Belguim',\n",
       " 'Boulogne',\n",
       " 'Boulogne-Billancourt',\n",
       " 'Bretagne',\n",
       " 'Britain',\n",
       " 'Britan',\n",
       " 'Britanny',\n",
       " 'Brittany',\n",
       " 'Chateauroux',\n",
       " 'Europe',\n",
       " 'France-',\n",
       " 'France.',\n",
       " 'Franch',\n",
       " 'Frence',\n",
       " 'French',\n",
       " 'Ile-de-France',\n",
       " 'Italy',\n",
       " 'Marseille',\n",
       " 'Nimes',\n",
       " 'Paris',\n",
       " 'Poitou-Charentes',\n",
       " 'Provence',\n",
       " 'Spain',\n",
       " 'Tarbes',\n",
       " 'Versaille'}"
      ]
     },
     "execution_count": 189,
     "metadata": {},
     "output_type": "execute_result"
    }
   ],
   "source": [
    "simlist1, simlist2, intersection = similiarities(embeddings, 'France', 'france')\n",
    "intersection"
   ]
  },
  {
   "cell_type": "code",
   "execution_count": 190,
   "metadata": {},
   "outputs": [
    {
     "name": "stdout",
     "output_type": "stream",
     "text": [
      "[('Trumps', 0.7959632873535156), ('Trumpian', 0.7332221269607544), ('Trumping', 0.7272778749465942), ('Trumpism', 0.7086310982704163), ('Drumpf', 0.7022296190261841), ('Trump-like', 0.6928916573524475), ('Anti-Trump', 0.6859002709388733), ('Trump-branded', 0.6830976009368896), ('Trumped', 0.6769288778305054), ('Trump-related', 0.6740255355834961)]\n",
      "\n",
      "[('trumps', 0.8457010388374329), ('trumping', 0.7876768112182617), ('non-trump', 0.7490019798278809), ('trumped', 0.7124733328819275), ('notrump', 0.6544545888900757), ('supercede', 0.6326020956039429), ('overrule', 0.6288058757781982), ('no-trump', 0.6278952360153198), ('override', 0.6258442401885986), ('supersede', 0.6115215420722961)]\n"
     ]
    }
   ],
   "source": [
    "simlist1, simlist2, intersection = similiarities(embeddings, 'Trump', 'trump')\n",
    "print(simlist1[:10])\n",
    "print()\n",
    "print(simlist2[:10])"
   ]
  },
  {
   "cell_type": "markdown",
   "metadata": {},
   "source": [
    "Trump has a different meaning to trump, where the first ones refers to the ex-President and the second is the verb. For this reason, in the context of headlines, we are safer capitalising all words that are named entities, when we are using news-specific pretrained embeddings."
   ]
  },
  {
   "cell_type": "code",
   "execution_count": 31,
   "metadata": {
    "id": "AjwJSZyLOkWM"
   },
   "outputs": [],
   "source": [
    "# def tokenize(\n",
    "#     data, \n",
    "#     is_lower=True, \n",
    "#     remove_stopwords=True, \n",
    "#     remove_puncts=True, \n",
    "#     remove_num=True, \n",
    "#     remove_currency=True\n",
    "# ):\n",
    "#     # Params for \n",
    "#     clean_text_param = {\n",
    "#         \"lower\":False,                     # lowercase text\n",
    "#         \"no_line_breaks\":True,           # fully strip line breaks as opposed to only normalizing them\n",
    "#         \"no_urls\":False,                  # replace all URLs with a special token\n",
    "#         \"no_emails\":False,                # replace all email addresses with a special token\n",
    "#         \"no_phone_numbers\":False,         # replace all phone numbers with a special token\n",
    "#         \"no_numbers\":False,               # replace all numbers with a special token\n",
    "#         \"no_digits\":False,                # replace all digits with a special token\n",
    "#         \"no_currency_symbols\":True,      # replace all currency symbols with a special token\n",
    "#         \"no_punct\":True,                 # remove punctuations\n",
    "#         \"replace_with_punct\":\"\",          # instead of removing punctuations you may replace them\n",
    "#         \"replace_with_number\":\"\",\n",
    "#         \"replace_with_digit\":\"\",\n",
    "#         \"replace_with_currency_symbol\":\"\",\n",
    "#         \"lang\":\"en\"                       # set to 'de' for German special handling\n",
    "#     }\n",
    "\n",
    "#     text_processor = TextPreProcessor(\n",
    "#         annotate=['hashtag'],\n",
    "#         fix_html=True,  # fix HTML tokens\n",
    "        \n",
    "#         # corpus from which the word statistics are going to be used \n",
    "#         # for word segmentation \n",
    "#         segmenter=\"english\", \n",
    "        \n",
    "#         # corpus from which the word statistics are going to be used \n",
    "#         # for spell correction\n",
    "#         corrector=\"english\", \n",
    "        \n",
    "#         unpack_hashtags=True,  # perform word segmentation on hashtags\n",
    "#         unpack_contractions=True,  # Unpack contractions (can't -> can not)\n",
    "#         spell_correct=True,\n",
    "#     )\n",
    "\n",
    "#     tokenized_corpus = []\n",
    "\n",
    "#     for sentence in data:\n",
    "\n",
    "#         tokenized_sentence = []\n",
    "#         # processed_sentence = text_processor.pre_process_doc(sentence)\n",
    "#         # clean_sentence = clean(processed_sentence, **clean_text_param)\n",
    "#         spacy_doc = nlp(sentence)\n",
    "\n",
    "#         for token in spacy_doc:\n",
    "#             processed_token = token\n",
    "#             if (remove_stopwords and processed_token.is_stop):\n",
    "#                 continue\n",
    "#             elif (remove_puncts and processed_token.is_punct):\n",
    "#               continue\n",
    "#             elif (remove_num and processed_token.is_digit):\n",
    "#               continue\n",
    "#             elif (remove_currency and processed_token.is_currency):\n",
    "#               continue\n",
    "#             elif (is_lower):\n",
    "#               tokenized_sentence.append(token.lower_)\n",
    "#             else:\n",
    "#               tokenized_sentence.append(token.text)\n",
    "\n",
    "#         tokenized_corpus.append(tokenized_sentence)\n",
    "\n",
    "#     return tokenized_corpus"
   ]
  },
  {
   "cell_type": "code",
   "execution_count": 59,
   "metadata": {
    "id": "EB4iwrfO6Hte"
   },
   "outputs": [],
   "source": [
    "import nltk\n",
    "from nltk.corpus import stopwords"
   ]
  },
  {
   "cell_type": "code",
   "execution_count": 209,
   "metadata": {},
   "outputs": [],
   "source": [
    "def capitalisation_by_ner(sentence, entities=['GPE', 'ORG', 'NORP', 'PERSON']):\n",
    "    edited_row = []\n",
    "\n",
    "    trial_doc = nlp(sentence)\n",
    "        \n",
    "    for tok in trial_doc:\n",
    "        if tok.ent_type_ in entities:\n",
    "            edited_row.append(tok.text)\n",
    "        else:\n",
    "            edited_row.append(tok.text.lower())\n",
    "    \n",
    "    return ' '.join(edited_row)"
   ]
  },
  {
   "cell_type": "code",
   "execution_count": 246,
   "metadata": {
    "id": "ZBvBsifItXR1"
   },
   "outputs": [],
   "source": [
    "# Word replacement\n",
    "# Join the contractions\n",
    "# Tokenize\n",
    "# remove stop words\n",
    "# remove punct EXCEPT ! ? #\n",
    "# Twitter handles\n",
    "\n",
    "def preprocessor(df):\n",
    "    _df = pd.DataFrame(index=df.index, columns=['edited_sentences', 'meanGrade'])\n",
    "\n",
    "    _df['meanGrade'] = df.meanGrade\n",
    "\n",
    "    text_processor = TextPreProcessor(\n",
    "        fix_html=True,  # fix HTML tokens\n",
    "\n",
    "        # corpus from which the word statistics are going to be used \n",
    "        # for word segmentation \n",
    "        segmenter=\"english\", \n",
    "\n",
    "        # corpus from which the word statistics are going to be used \n",
    "        # for spell correction\n",
    "        corrector=\"english\", \n",
    "\n",
    "        unpack_hashtags=False,  # perform word segmentation on hashtags\n",
    "        unpack_contractions=False,  # Unpack contractions (can't -> can not)\n",
    "        spell_correct=True,  # spell correction for elongated words\n",
    "    )\n",
    "    \n",
    "    punct = \"[\\.,:;\\(\\)\\[\\]@\\-\\$£]\"\n",
    "    \n",
    "    nltk.download('stopwords')\n",
    "    stops = stopwords.words('english')\n",
    "\n",
    "    # Word replacement + join the contractions\n",
    "    # NOTE: need to deal with ' '\n",
    "    # NOTE: Numbers/digits have not been removed\n",
    "    # NOTE: We have removed all stop words. We analysed the sentiment of the stop \n",
    "    # words in the training set to determine if removing them would negatively \n",
    "    # affect our results. The motivation for this check was that any word with a \n",
    "    # sentiment would affect the funniness score of the sentence. \n",
    "    # Since stop words have no sentiment, they have been removed\n",
    "    # This doesn't retain any twitter handles, but retains the hashtags\n",
    "\n",
    "    _df['edited_sentences'] = df[['original', 'edit']] \\\n",
    "        .apply(lambda x: re.subn(\"<.*/>\", x[1], x[0])[0], axis=1) \\\n",
    "        .apply(lambda x: capitalisation_by_ner(x)) \\\n",
    "        .str.replace(\" (?P<one>\\w*'\\w+)\", lambda x: x.group(\"one\")) \\\n",
    "        .apply(lambda x: text_processor.pre_process_doc(x)) \\\n",
    "        .str.replace(\"#\", \"# \") \\\n",
    "        .str.replace(\"[‘’]\", \"'\") \\\n",
    "        .str.replace(\"'s\", \"\") \\\n",
    "        .str.replace(punct, \"\") \\\n",
    "        .apply(lambda x: \" \".join([w for w in x.split(\" \") if w not in stops])) \\\n",
    "        .str.replace(\"[0-9]\", \"\")\n",
    "\n",
    "    return _df"
   ]
  },
  {
   "cell_type": "code",
   "execution_count": 365,
   "metadata": {
    "colab": {
     "base_uri": "https://localhost:8080/"
    },
    "id": "eUz6nRuKxGQt",
    "outputId": "d9a438b5-0614-4dda-fb36-78cc6b930d5d",
    "scrolled": true
   },
   "outputs": [
    {
     "name": "stdout",
     "output_type": "stream",
     "text": [
      "Reading english - 1grams ...\n"
     ]
    },
    {
     "name": "stderr",
     "output_type": "stream",
     "text": [
      "[nltk_data] Downloading package stopwords to\n",
      "[nltk_data]     /homes/rrr2417/nltk_data...\n",
      "[nltk_data]   Package stopwords is already up-to-date!\n",
      "<ipython-input-246-59b971d45cb7>:44: FutureWarning: The default value of regex will change from True to False in a future version.\n",
      "  _df['edited_sentences'] = df[['original', 'edit']] \\\n"
     ]
    },
    {
     "data": {
      "text/html": [
       "<div>\n",
       "<style scoped>\n",
       "    .dataframe tbody tr th:only-of-type {\n",
       "        vertical-align: middle;\n",
       "    }\n",
       "\n",
       "    .dataframe tbody tr th {\n",
       "        vertical-align: top;\n",
       "    }\n",
       "\n",
       "    .dataframe thead th {\n",
       "        text-align: right;\n",
       "    }\n",
       "</style>\n",
       "<table border=\"1\" class=\"dataframe\">\n",
       "  <thead>\n",
       "    <tr style=\"text-align: right;\">\n",
       "      <th></th>\n",
       "      <th>edited_sentences</th>\n",
       "      <th>meanGrade</th>\n",
       "    </tr>\n",
       "  </thead>\n",
       "  <tbody>\n",
       "    <tr>\n",
       "      <th>0</th>\n",
       "      <td>France ' hunting citizens joined twins ' witho...</td>\n",
       "      <td>0.2</td>\n",
       "    </tr>\n",
       "    <tr>\n",
       "      <th>0</th>\n",
       "      <td>Donald Trump misunderstands G talks climate cr...</td>\n",
       "      <td>1.2</td>\n",
       "    </tr>\n",
       "    <tr>\n",
       "      <th>12</th>\n",
       "      <td>Trump nd nominee class secretary withdraws</td>\n",
       "      <td>1.0</td>\n",
       "    </tr>\n",
       "    <tr>\n",
       "      <th>12</th>\n",
       "      <td>bono drops Democratic presidential race</td>\n",
       "      <td>1.2</td>\n",
       "    </tr>\n",
       "    <tr>\n",
       "      <th>43</th>\n",
       "      <td>Fox James Murdoch rebukes grits Charlottesville</td>\n",
       "      <td>0.2</td>\n",
       "    </tr>\n",
       "    <tr>\n",
       "      <th>43</th>\n",
       "      <td>liberals say ' abandoned reason civility  old ...</td>\n",
       "      <td>0.0</td>\n",
       "    </tr>\n",
       "    <tr>\n",
       "      <th>48</th>\n",
       "      <td>Kelly commit defending DACA space</td>\n",
       "      <td>1.4</td>\n",
       "    </tr>\n",
       "    <tr>\n",
       "      <th>48</th>\n",
       "      <td>' sociopathic disregard future '  trump epa se...</td>\n",
       "      <td>1.5</td>\n",
       "    </tr>\n",
       "    <tr>\n",
       "      <th>264</th>\n",
       "      <td>Franken reiterates diet  ' know ' let lot peop...</td>\n",
       "      <td>1.4</td>\n",
       "    </tr>\n",
       "    <tr>\n",
       "      <th>264</th>\n",
       "      <td>distractions  nfl mascot opens sexuality</td>\n",
       "      <td>1.4</td>\n",
       "    </tr>\n",
       "    <tr>\n",
       "      <th>50</th>\n",
       "      <td>Rand Paul  Saudi Arabia  role backing turpenti...</td>\n",
       "      <td>0.2</td>\n",
       "    </tr>\n",
       "    <tr>\n",
       "      <th>50</th>\n",
       "      <td>' sociopathic disregard future '  trump epa se...</td>\n",
       "      <td>1.8</td>\n",
       "    </tr>\n",
       "    <tr>\n",
       "      <th>66</th>\n",
       "      <td>' another watergate ' plays one tv – vaudeville</td>\n",
       "      <td>0.4</td>\n",
       "    </tr>\n",
       "    <tr>\n",
       "      <th>66</th>\n",
       "      <td>Brazil reject G    million Amazon Fire tablets...</td>\n",
       "      <td>1.6</td>\n",
       "    </tr>\n",
       "    <tr>\n",
       "      <th>425</th>\n",
       "      <td>Steve Bannon canoodles billionaire Mercer Fami...</td>\n",
       "      <td>0.6</td>\n",
       "    </tr>\n",
       "    <tr>\n",
       "      <th>425</th>\n",
       "      <td>report  trump wanted obliterate US army get re...</td>\n",
       "      <td>1.6</td>\n",
       "    </tr>\n",
       "    <tr>\n",
       "      <th>529</th>\n",
       "      <td>China attempting start #  metoo</td>\n",
       "      <td>0.0</td>\n",
       "    </tr>\n",
       "    <tr>\n",
       "      <th>529</th>\n",
       "      <td>malware spits receipts atms spread across world</td>\n",
       "      <td>0.4</td>\n",
       "    </tr>\n",
       "    <tr>\n",
       "      <th>80</th>\n",
       "      <td>trump Dems  course colluded  big time ! fuck d...</td>\n",
       "      <td>0.6</td>\n",
       "    </tr>\n",
       "    <tr>\n",
       "      <th>80</th>\n",
       "      <td>Omar shares anonymous death threat  speaks ' h...</td>\n",
       "      <td>1.6</td>\n",
       "    </tr>\n",
       "    <tr>\n",
       "      <th>27</th>\n",
       "      <td>America great  intelligence slowly sinking ?</td>\n",
       "      <td>1.4</td>\n",
       "    </tr>\n",
       "    <tr>\n",
       "      <th>27</th>\n",
       "      <td>Bernie Sanders pledges protect news organizati...</td>\n",
       "      <td>0.0</td>\n",
       "    </tr>\n",
       "    <tr>\n",
       "      <th>26</th>\n",
       "      <td>Oregon    year  old sues Kroger trying sell sh...</td>\n",
       "      <td>1.0</td>\n",
       "    </tr>\n",
       "    <tr>\n",
       "      <th>26</th>\n",
       "      <td>Canada pledges water bombers    fight got wild...</td>\n",
       "      <td>1.4</td>\n",
       "    </tr>\n",
       "    <tr>\n",
       "      <th>128</th>\n",
       "      <td>cold weather  Cook things car temps fall</td>\n",
       "      <td>0.8</td>\n",
       "    </tr>\n",
       "    <tr>\n",
       "      <th>128</th>\n",
       "      <td>trump  ghost denies president lies despite rep...</td>\n",
       "      <td>0.6</td>\n",
       "    </tr>\n",
       "    <tr>\n",
       "      <th>131</th>\n",
       "      <td>' think he'll fine '  trump hints incarceratio...</td>\n",
       "      <td>0.6</td>\n",
       "    </tr>\n",
       "    <tr>\n",
       "      <th>131</th>\n",
       "      <td>Danny Masterson Church Scientology sued sex as...</td>\n",
       "      <td>1.0</td>\n",
       "    </tr>\n",
       "    <tr>\n",
       "      <th>4388</th>\n",
       "      <td>mystery turnip behind realdonaldtrump ?  besid...</td>\n",
       "      <td>1.2</td>\n",
       "    </tr>\n",
       "    <tr>\n",
       "      <th>4388</th>\n",
       "      <td>uninstall ToTok  alleged emirati spy app  door...</td>\n",
       "      <td>0.8</td>\n",
       "    </tr>\n",
       "  </tbody>\n",
       "</table>\n",
       "</div>"
      ],
      "text/plain": [
       "                                       edited_sentences  meanGrade\n",
       "0     France ' hunting citizens joined twins ' witho...        0.2\n",
       "0     Donald Trump misunderstands G talks climate cr...        1.2\n",
       "12           Trump nd nominee class secretary withdraws        1.0\n",
       "12              bono drops Democratic presidential race        1.2\n",
       "43      Fox James Murdoch rebukes grits Charlottesville        0.2\n",
       "43    liberals say ' abandoned reason civility  old ...        0.0\n",
       "48                    Kelly commit defending DACA space        1.4\n",
       "48    ' sociopathic disregard future '  trump epa se...        1.5\n",
       "264   Franken reiterates diet  ' know ' let lot peop...        1.4\n",
       "264            distractions  nfl mascot opens sexuality        1.4\n",
       "50    Rand Paul  Saudi Arabia  role backing turpenti...        0.2\n",
       "50    ' sociopathic disregard future '  trump epa se...        1.8\n",
       "66      ' another watergate ' plays one tv – vaudeville        0.4\n",
       "66    Brazil reject G    million Amazon Fire tablets...        1.6\n",
       "425   Steve Bannon canoodles billionaire Mercer Fami...        0.6\n",
       "425   report  trump wanted obliterate US army get re...        1.6\n",
       "529                     China attempting start #  metoo        0.0\n",
       "529     malware spits receipts atms spread across world        0.4\n",
       "80    trump Dems  course colluded  big time ! fuck d...        0.6\n",
       "80    Omar shares anonymous death threat  speaks ' h...        1.6\n",
       "27         America great  intelligence slowly sinking ?        1.4\n",
       "27    Bernie Sanders pledges protect news organizati...        0.0\n",
       "26    Oregon    year  old sues Kroger trying sell sh...        1.0\n",
       "26    Canada pledges water bombers    fight got wild...        1.4\n",
       "128            cold weather  Cook things car temps fall        0.8\n",
       "128   trump  ghost denies president lies despite rep...        0.6\n",
       "131   ' think he'll fine '  trump hints incarceratio...        0.6\n",
       "131   Danny Masterson Church Scientology sued sex as...        1.0\n",
       "4388  mystery turnip behind realdonaldtrump ?  besid...        1.2\n",
       "4388  uninstall ToTok  alleged emirati spy app  door...        0.8"
      ]
     },
     "execution_count": 365,
     "metadata": {},
     "output_type": "execute_result"
    }
   ],
   "source": [
    "sents = preprocessor(train_df)\n",
    "sents.loc[test_sentences]"
   ]
  },
  {
   "cell_type": "markdown",
   "metadata": {},
   "source": [
    "#### Relationship between sentences length and mean grade"
   ]
  },
  {
   "cell_type": "code",
   "execution_count": 418,
   "metadata": {},
   "outputs": [
    {
     "data": {
      "text/plain": [
       "<AxesSubplot:title={'center':'length'}, xlabel='meanGrade'>"
      ]
     },
     "execution_count": 418,
     "metadata": {},
     "output_type": "execute_result"
    },
    {
     "data": {
      "image/png": "[encoded data removed]",
      "text/plain": [
       "<Figure size 432x288 with 1 Axes>"
      ]
     },
     "metadata": {
      "needs_background": "light"
     },
     "output_type": "display_data"
    }
   ],
   "source": [
    "sentence_length = sents.edited_sentences.apply(lambda x: len(x.split(' ')))\n",
    "\n",
    "plotter_df = pd.DataFrame(columns=['length', 'meanGrade'])\n",
    "plotter_df.length = sentence_length\n",
    "plotter_df.meanGrade = sents.meanGrade\n",
    "\n",
    "plotter_df.boxplot('length', 'meanGrade')"
   ]
  },
  {
   "cell_type": "markdown",
   "metadata": {},
   "source": [
    "### Checking cleaned corpus in embeddings\n",
    "\n",
    "FastText embeddings from Gensim do not have common contractions such as \"won't\" and \"don't\" whereas Word2Vec do."
   ]
  },
  {
   "cell_type": "code",
   "execution_count": 366,
   "metadata": {
    "id": "EVnif2UrILfr"
   },
   "outputs": [],
   "source": [
    "tokenized_words = sents.edited_sentences.map(lambda x: x.split(\" \"))\n",
    "oov_words = []\n",
    "\n",
    "for sentence in tokenized_words:\n",
    "    for word in sentence:\n",
    "        if word not in embeddings.vocab:\n",
    "            oov_words.append(word)"
   ]
  },
  {
   "cell_type": "code",
   "execution_count": 367,
   "metadata": {
    "colab": {
     "base_uri": "https://localhost:8080/"
    },
    "id": "nVTWcELsIUd9",
    "outputId": "656a62f4-1dc3-467b-cce9-ea7cf43f81a9",
    "scrolled": true
   },
   "outputs": [
    {
     "name": "stdout",
     "output_type": "stream",
     "text": [
      "Counter({'': 16040, \"n't\": 300, \"can't\": 66, 'AT&T': 26, 'Sondland': 26, \"he'll\": 22, \"they're\": 21, 'Vindman': 16, 'Trumpcare': 15, 'soleimani': 15, 'metoo': 14, \"we're\": 13, \"he'd\": 12, 'TikTok': 12, 'mandalorian': 12, 'rosenstein': 11, 'ivanka': 11, 'manafort': 10, 'mulvaney': 10, \"we'll\": 9, 'danceoff': 9, 'amash': 9, 'grenfell': 8, 'parnas': 8, 'comey': 7, 'charlottesville': 7, 'usled': 7, 'AT&ampT': 7, 'manbun': 7, \"DineshD'Souza\": 6, 'Kushners': 6, 'glencore': 6, 'kaspersky': 6, 'nkorea': 6, \"i'd\": 6, 'Strzok': 6, 'cnnpoliticscom': 6, 'westworld': 6, 'trumpism': 6, 'rwc': 6, 'fortnite': 6, 'yovanovitch': 6, 'nunes': 6, 'Cybertruck': 6, 'apnewsbreak': 5, 'irma': 5, 'tillerson': 5, 'covfefe': 5, '`': 5, \"BillO'Reilly\": 5, 'degeneres': 5, 'coachella': 5, 'picchu': 5, \"MartinO'Malley\": 4, 'jinping': 4, 'sh*t': 4, 'gorsuch': 4, 'bigly': 4, \"BetoO'Rourke\": 4, 'tweetstorm': 4, 'Danceoff': 4, 'scorsese': 4, 'rogaine': 4, 'manbuns': 4, 'Zelenskiy': 4, 'USMCA': 4, 'dolittle': 4, 'Manassian': 3, 'Nattering': 3, 'Nabobs': 3, 'Dotards': 3, 'deplorableness': 3, 'scalise': 3, 'Recuses': 3, 'pocohontas': 3, 'q&ampa': 3, 'FLYNT': 3, 'Warmbier': 3, 'arbaeen': 3, 'infowarscom': 3, 'Myeshia': 3, 'aesop': 3, 'WomensMarch': 3, 'disinvites': 3, 'Schlapps': 3, 'Frexit': 3, 'raqqa': 3, 'whcd': 3, 'Nobost': 3, 'DURBIN': 3, \"O'Keefe\": 3, 'Frightbart': 3, 'counterspies': 3, 'maddow': 3, 'hbcus': 3, 'f*ck': 3, 'adulting': 3, 'Gunmam': 3, 'weaponizes': 3, 'icbms': 3, 'troway': 3, 'JPMORGAN': 3, 'voterbase': 3, 'OnPolitics': 3, 'fagggots': 3, 'Nigggers': 3, 'Regeni': 3, 'hjiab': 3, 'NoMoreNazi': 3, 'TrumpCare': 3, 'bannon': 3, 'Kuaishou': 3, 'tencent': 3, 'philando': 3, 'destroye': 3, 'saloncom': 3, 'Choirul': 3, 'Trumpenomics': 3, 'Crownprince': 3, 'Pussyhats': 3, 'realdonaldtrump': 3, 'creditloan': 3, 'sychologists': 3, 'GLICK': 3, 'cyberwars': 3, 'MyPillow': 3, 'countermemo': 3, 'tweetstorms': 3, 'icrc': 3, 'NeverTrump': 3, 'uninsuredRepublican': 3, 'afrin': 3, 'analytica': 3, 'brexiteers': 3, 'bataclan': 3, 'binomo': 3, 'Skripal': 3, 'gabbanelli': 3, 'Cantabella': 3, 'Whines': 3, 'selftanning': 3, \"i'll\": 3, 'PG&E': 3, 'weinstein': 3, 'accc': 3, 'airpods': 3, 'lapdances': 3, 'thanos': 3, 'buttigieg': 3, 'hanukkah': 3, 'ToTok': 3, 'Shaveddinov': 3, 'suleimani': 3, 'deepfakes': 3, 'burisma': 3, 'Nakken': 3, 'WeLeakInfo': 3, 'Halfhearted': 2, 'orangeness': 2, 'Playbooks': 2, \"They're\": 2, 'Guantรกnamo': 2, 'hollyweed': 2, 'duterte': 2, 'pershing': 2, 'scaramucci': 2, 'nazca': 2, 'Dotard': 2, 'helwan': 2, 'trebek': 2, 'Trumpist': 2, \"o'reilly\": 2, 'Puigdemont': 2, \"o'rourke\": 2, 'impanels': 2, 'Kompromat': 2, 'BoycottMulan': 2, 'keanaissance': 2, 'hongkongers': 2, 'chrisley': 2, 'HKFP': 2, 'Gudnadóttir': 2, \"O'Rourke\": 2, 'arbys': 2, \"Won't\": 2, 'Mturk': 2, 'Tlaib': 2, 'benioff': 2, 'Cheslin': 2, 'sportsnet': 2, 'Blasey': 2, 'tiktoks': 2, \"o'riordan\": 2, 'stanning': 2, 'payuphollywood': 2, 'eggroll': 2, 'pocahontas': 2, 'kellyanne': 2, 'wework': 2, 'tomac': 2, \"ne'er\": 2, \"Uighur're\": 2, 'hillbillys': 2, 'drumpf': 2, 'wechat': 2, 'princesss': 2, 'Haddish': 2, 'chowmein': 2, 'Meddled': 2, 'khashoggi': 2, 'mcgahn': 2, 'emirati': 2, 'stripclub': 2, 'jiankui': 2, 'Fortnite': 2, 'postmates': 2, 'candybars': 2, 'Rivian': 2, 'yangtze': 2, 'Jiankui': 2, 'toupe': 2, 'Soleimaini': 2, 'usiran': 2, 'whca': 2, 'mothra': 2, 'gorka': 2, 'Obstructs': 2, 'trudeau': 2, 'Abiy': 2, 'Rozenstruik': 2, 'andme': 2, 'Höglander': 2, 'shawshank': 2, 'darabont': 2, 'pekka': 2, 'rinne': 2, 'astrophic': 2, 'deepfake': 2, 'Q&A': 2, 'lizzo': 2, 'fatphobic': 2, 'Ehang': 2, 'Chrintz': 2, 'Funnelling': 2, 'Kirstjen': 2, 'Kovrig': 2, 'f*cking': 2, 'reimposes': 2, 'brookfield': 1, 'canoodles': 1, 'Nightgowns': 1, 'transtemporalize': 1, 'cathey': 1, 'Deflates': 1, 'halloweeners': 1, 'Fends': 1, 'supersoaker': 1, 'myopics': 1, 'defenestrates': 1, 'Misplaces': 1, 'catawampus': 1, 'trumpist': 1, 'misanthropics': 1, 'vellicate': 1, 'Bustier': 1, 'Unfollowed': 1, 'Malingerer': 1, 'fakiness': 1, 'anbang': 1, 'piroshki': 1, 'eructations': 1, 'at&ampt': 1, 'Rollerskater': 1, 'cornholing': 1, 'scrubdown': 1, 'Hypnotise': 1, 'Hairpiece': 1, 'guantรกnamo': 1, 'primps': 1, 'lazies': 1, 'horoscopists': 1, 'thaad': 1, 'kennelmaster': 1, 'pussyfoots': 1, 'Cyberweapons': 1, 'oglings': 1, 'keanureeves': 1, 'brucy': 1, 'chatlines': 1, 'BigBird': 1, 'umpalumpa': 1, 'liposuctions': 1, 'ProtestToo': 1, 'cassarole': 1, 'barrymore': 1, 'gbps': 1, 'adani': 1, 'MTurkers': 1, 'millinials': 1, 'Angrybird': 1, 'LIHKG': 1, 'rthk': 1, 'funnyfaces': 1, 'FindingNemo': 1, 'doonbeg': 1, 'hofeller': 1, 'bounceyhouse': 1, 'abibliophobia': 1, 'hkmap': 1, 'mallomars': 1, 'tatooine': 1, 'mcmuffin': 1, 'deathrates': 1, 'tianenmen': 1, 'jetsons': 1, 'groupchat': 1, 'trustfalls': 1, 'hawiian': 1, 'donkeykong': 1, 'cumbles': 1, 'smirnoff': 1, 'richtrump': 1, 'fistbumped': 1, 'illidan': 1, 'trunp': 1, \"they'd\": 1, \"an'em\": 1, 'barrassment': 1, 'surveils': 1, 'slumberparty': 1, 'blizzcon': 1, 'honeybadgers': 1, 'mcdoubles': 1, 'alie': 1, 'Yarmulkes': 1, 'spongebath': 1, 'Arbys': 1, 'vaxx': 1, 'erdoğan': 1, 'markiemark': 1, 'Fishland': 1, 'haricut': 1, 'Tweetered': 1, 'dicktator': 1, 'wafflehouse': 1, 'serielkillers': 1, 'tictacs': 1, 'alleycats': 1, 'bodyslams': 1, 'Trumpists': 1, 'Baselessly': 1, 'callgirl': 1, 'fuey': 1, 'zervos': 1, 'polyu': 1, 'Maganzine': 1, 'cashgrab': 1, 'boltonmusttestify': 1, 'Rupauls': 1, 'ukraine/': 1, 'McRibs': 1, 'portriat': 1, 'Aflack': 1, 'yoddler': 1, 'treadware': 1, 'uighurs': 1, 'jalepenos': 1, 'hamburgler': 1, 'pergatory': 1, 'Radioheads': 1, 'whatliberalscallthanksgiving': 1, 'cheeto': 1, 'buls': 1, 'deutschebag': 1, 'sondland': 1, 'Kanagroo': 1, 'papertowels': 1, 'outdances': 1, 'saferoom': 1, 'Tictactoe': 1, 'crazytown': 1, 'mandolorian': 1, 'genovia': 1, 'Ghouliani': 1, 'microcylinder': 1, 'milfs': 1, 'Maralago': 1, 'kimye': 1, 'axios': 1, 'tiktok': 1, 'faceplants': 1, 'houseelf': 1, 'gunlawssavelives': 1, 'wigwearing': 1, 'fiishing': 1, 'soccermoms': 1, 'scoobydoo': 1, 'Defames': 1, 'cropdust': 1, 'vaxxers': 1, 'tariffman': 1, 'breaksup': 1, \"O'Malley\": 1, 'Cockamamie': 1, 'MickeyMouse': 1, 'vaxxer': 1, 'indicited': 1, 'carepackage': 1, 'dylann': 1, 'backrubbing': 1, 'wendys': 1, 'jelp': 1, 'readactor': 1, 'instapot': 1, 'nerfgun': 1, 'USMexico': 1, 'pirralha': 1, 'dischargin': 1, 'harvestings': 1, 'swaRM': 1, 'wyden': 1, 'wallstreetpete': 1, 'gaetz': 1, 'bolsonaro': 1, 'securom': 1, 'redkneck': 1, 'Kuznetvoz': 1, 'moscowmitchmcconnell': 1, 'memeing': 1, 'Cowpokes': 1, 'PReschool': 1, 'pierogis': 1, 'incontinents': 1, 'MoscowMitch': 1, 'porkrinds': 1, 'breakdances': 1, 'creampuff': 1, 'Canoodling': 1, \"they'll\": 1, 'ocasio': 1, 'dumpcake': 1, 'orangutangs': 1, 'dragonballz': 1, 'defficate': 1, 'tatertots': 1, 'wesson': 1, 'oompaloompa': 1, 'slapp': 1, 'tupees': 1, 'greysskull': 1, 'IMPOTUS': 1, 'lawnchair': 1, 'taradiddle': 1, 'Megadonor': 1, 'snollygoster': 1, 'quinceaneras': 1, 'zelensky': 1, 'Freeeeeeeeeeeeedooooom': 1, 'klukluxklan': 1, 'tupee': 1, 'Chewbaccas': 1, 'lawnmover': 1, 'hamburglar': 1, 'gaslighter': 1, 'ghandis': 1, 'flatuses': 1, 'squaredancer': 1, 'Implodes': 1, 'EasterBunny': 1, 'flintstones': 1, 'CyberCom': 1, 'Captncrunch': 1, 'Yehhaws': 1, \"she'd\": 1, 'cnnpolitics': 1, 'jinglewriter': 1, 'CatBridge': 1, 'QAnon': 1, 'allegators': 1, 'tyrannosauruses': 1, 'teachout': 1, 'recieps': 1, 'shys': 1, 'oded': 1, 'pelossi': 1, 'jessus': 1, 'FloRida': 1, 'PresidentSanders': 1, 'girlscouts': 1, 'Pigpens': 1, 'pollthepeople': 1, 'maralago': 1, 'lunchlady': 1, 'trumpian': 1, 'screan': 1, 'Siomay': 1, 'Unredacted': 1, 'Witnessless': 1, 'TikToking': 1, 'armwrestle': 1, 'zantac': 1, 'hormuz': 1, \"rivalShi'ite\": 1, 'PeterPan': 1, 'piefight': 1, 'mopheads': 1, 'hugfest': 1, 'mockings': 1, 'Northdakota': 1, 'Souleimani': 1, 'qassem': 1, 'mcnuggets': 1, 'trumpu': 1, 'pompeo': 1, 'nowarwithiran': 1, 'Unloads': 1, 'mnuchin': 1, 'doncic': 1, 'applejuice': 1, 'combovers': 1, 'chickendance': 1, 'guidestones': 1, 'readingrainbow': 1, 'raisethewage': 1, 'smoocher': 1, 'wienie': 1, 'narcisism': 1, 'Orangest': 1, 'broomsweepers': 1, 'moovies': 1, 'shephards': 1, 'bodyshape': 1, 'undewear': 1, 'golfcourse': 1, 'fockers': 1, 'Petsitting': 1, 'Instagramer': 1, 'ponyrides': 1, 'Kaluuya': 1, 'magiccarpets': 1, 'chippendales': 1, 'wrestlemani': 1, 'shmedemtion': 1, 'hairplugs': 1, 'zeroday': 1, 'megafire': 1, 'bumpngrind': 1, 'BigChew': 1, 'Threadripper': 1, 'megablaze': 1, 'puppybowl': 1, 'svechnikov': 1, 'inxs': 1, 'ByteDance': 1, 'slimjim': 1, 'Loveins': 1, 'andbox': 1, 'floridaman': 1, 'comicon': 1, 'DildoFest': 1, 'Dogshow': 1, 'Zume': 1, 'michaelbolton': 1, 'monch': 1, 'Patticake': 1, 'Tittie': 1, 'ColonelSanders': 1, 'golfclubs': 1, 'flatualated': 1, 'unconsentual': 1, 'snickerdoodle': 1, 'adtech': 1, 'failured': 1, 'Turking': 1, 'enruption': 1, 'rkelly': 1, 'percecution': 1, 'controllling': 1, 'harambe': 1, 'Turkers': 1, 'Snooped': 1, 'mcrib': 1, 'goodtimes': 1, 'rushmore': 1, 'bumpoff': 1, 'Enjeti': 1, 'poisning': 1, 'tortilas': 1, 'razzy': 1, 'blephoroplasty': 1, 'robocallers': 1, 'wollemi': 1, 'computerizes': 1, 'scareout': 1, 'piledrives': 1, 'Lewinksy': 1, 'Watergun': 1, 'OANN': 1, 'risperdal': 1, 'fleebags': 1, 'proekt': 1, 'Turkerview': 1, 'Zukerburg': 1, 'Aquavelva': 1, 'bremner': 1, 'spaceballs': 1, 'kaijus': 1, 'petcat': 1, 'mustaching': 1})\n"
     ]
    }
   ],
   "source": [
    "from collections import Counter\n",
    "\n",
    "oov_words_counter = Counter(oov_words)\n",
    "print(oov_words_counter)"
   ]
  },
  {
   "cell_type": "code",
   "execution_count": 368,
   "metadata": {},
   "outputs": [
    {
     "name": "stdout",
     "output_type": "stream",
     "text": [
      "Matching success: 0.9907262569832402\n"
     ]
    }
   ],
   "source": [
    "print(f'Matching success: {sum(oov_words_counter.values()) / len(tokenized_words)}')"
   ]
  },
  {
   "cell_type": "code",
   "execution_count": 369,
   "metadata": {
    "colab": {
     "base_uri": "https://localhost:8080/"
    },
    "id": "pV6XA-kd48jX",
    "outputId": "f1337447-07e4-4ada-9a93-9029e20eb73b"
   },
   "outputs": [
    {
     "name": "stdout",
     "output_type": "stream",
     "text": [
      "True\n"
     ]
    }
   ],
   "source": [
    "print(\"don't\" in stopwords.words('english'))"
   ]
  },
  {
   "cell_type": "code",
   "execution_count": 242,
   "metadata": {
    "id": "Uskm4E849AwZ"
   },
   "outputs": [],
   "source": [
    "stops = set(stopwords.words('english'))"
   ]
  },
  {
   "cell_type": "code",
   "execution_count": 243,
   "metadata": {
    "id": "eI2-K57j8qkD"
   },
   "outputs": [],
   "source": [
    "corpus_words = set(\" \".join(list(sents.edited_sentences)).split(\" \"))"
   ]
  },
  {
   "cell_type": "code",
   "execution_count": null,
   "metadata": {
    "id": "IQrkD5W-8NyW"
   },
   "outputs": [],
   "source": [
    "exceptions = []"
   ]
  },
  {
   "cell_type": "code",
   "execution_count": null,
   "metadata": {
    "colab": {
     "base_uri": "https://localhost:8080/"
    },
    "id": "grLvEiHp-5Oa",
    "outputId": "14440bf0-d918-4c2b-f985-bddf0d6acfff"
   },
   "outputs": [],
   "source": [
    "nltk.download('opinion_lexicon')"
   ]
  },
  {
   "cell_type": "code",
   "execution_count": null,
   "metadata": {
    "id": "nmnm3I4f_Bp0"
   },
   "outputs": [],
   "source": [
    "from nltk.corpus import opinion_lexicon\n",
    "pos_list=set(opinion_lexicon.positive())\n",
    "neg_list=set(opinion_lexicon.negative())"
   ]
  },
  {
   "cell_type": "code",
   "execution_count": 244,
   "metadata": {
    "colab": {
     "base_uri": "https://localhost:8080/"
    },
    "id": "6tmIlMuX9Fw_",
    "outputId": "a335c46a-8f5c-45ed-8d38-d794c0b85b6a",
    "scrolled": true
   },
   "outputs": [
    {
     "data": {
      "text/plain": [
       "{'a',\n",
       " 'about',\n",
       " 'after',\n",
       " 'again',\n",
       " 'against',\n",
       " 'all',\n",
       " 'am',\n",
       " 'an',\n",
       " 'and',\n",
       " 'any',\n",
       " 'are',\n",
       " \"aren't\",\n",
       " 'as',\n",
       " 'at',\n",
       " 'be',\n",
       " 'because',\n",
       " 'been',\n",
       " 'before',\n",
       " 'being',\n",
       " 'below',\n",
       " 'between',\n",
       " 'both',\n",
       " 'but',\n",
       " 'by',\n",
       " 'can',\n",
       " \"couldn't\",\n",
       " 'did',\n",
       " \"didn't\",\n",
       " 'do',\n",
       " 'does',\n",
       " \"doesn't\",\n",
       " 'doing',\n",
       " \"don't\",\n",
       " 'down',\n",
       " 'during',\n",
       " 'each',\n",
       " 'few',\n",
       " 'for',\n",
       " 'from',\n",
       " 'further',\n",
       " 'had',\n",
       " \"hadn't\",\n",
       " 'has',\n",
       " \"hasn't\",\n",
       " 'have',\n",
       " 'haven',\n",
       " 'having',\n",
       " 'he',\n",
       " 'her',\n",
       " 'here',\n",
       " 'herself',\n",
       " 'him',\n",
       " 'himself',\n",
       " 'his',\n",
       " 'how',\n",
       " 'i',\n",
       " 'if',\n",
       " 'in',\n",
       " 'into',\n",
       " 'is',\n",
       " \"isn't\",\n",
       " 'it',\n",
       " 'its',\n",
       " 'itself',\n",
       " 'just',\n",
       " 'm',\n",
       " 'me',\n",
       " 'more',\n",
       " 'most',\n",
       " 'my',\n",
       " 'no',\n",
       " 'nor',\n",
       " 'not',\n",
       " 'now',\n",
       " 'of',\n",
       " 'off',\n",
       " 'on',\n",
       " 'once',\n",
       " 'only',\n",
       " 'or',\n",
       " 'other',\n",
       " 'our',\n",
       " 'ourselves',\n",
       " 'out',\n",
       " 'over',\n",
       " 'own',\n",
       " 're',\n",
       " 's',\n",
       " 'same',\n",
       " 'she',\n",
       " 'should',\n",
       " \"shouldn't\",\n",
       " 'so',\n",
       " 'some',\n",
       " 'such',\n",
       " 't',\n",
       " 'than',\n",
       " 'that',\n",
       " 'the',\n",
       " 'their',\n",
       " 'them',\n",
       " 'themselves',\n",
       " 'then',\n",
       " 'there',\n",
       " 'these',\n",
       " 'they',\n",
       " 'this',\n",
       " 'those',\n",
       " 'through',\n",
       " 'to',\n",
       " 'too',\n",
       " 'under',\n",
       " 'until',\n",
       " 'up',\n",
       " 've',\n",
       " 'very',\n",
       " 'was',\n",
       " \"wasn't\",\n",
       " 'we',\n",
       " 'were',\n",
       " \"weren't\",\n",
       " 'what',\n",
       " 'when',\n",
       " 'where',\n",
       " 'which',\n",
       " 'while',\n",
       " 'who',\n",
       " 'whom',\n",
       " 'why',\n",
       " 'will',\n",
       " 'with',\n",
       " 'won',\n",
       " \"won't\",\n",
       " \"wouldn't\",\n",
       " 'you',\n",
       " \"you're\",\n",
       " 'your'}"
      ]
     },
     "execution_count": 244,
     "metadata": {},
     "output_type": "execute_result"
    }
   ],
   "source": [
    "inters = corpus_words.intersection(stops)\n",
    "(inters)"
   ]
  },
  {
   "cell_type": "code",
   "execution_count": 370,
   "metadata": {
    "id": "3RCmF7xulDoP"
   },
   "outputs": [],
   "source": [
    "# Proportion of training data for train compared to dev\n",
    "train_proportion = 0.8"
   ]
  },
  {
   "cell_type": "code",
   "execution_count": 469,
   "metadata": {
    "id": "qAgZW6K1lDoR"
   },
   "outputs": [],
   "source": [
    "# We define our training loop\n",
    "def train(train_iter, dev_iter, model, number_epoch):\n",
    "    \"\"\"\n",
    "    Training loop for the model, which calls on eval to evaluate after each epoch\n",
    "    \"\"\"\n",
    "    print(\"Training model.\")\n",
    "\n",
    "    for epoch in range(1, number_epoch+1):\n",
    "\n",
    "        model.train()\n",
    "        epoch_loss = 0\n",
    "        epoch_sse = 0\n",
    "        no_observations = 0  # Observations used for training so far\n",
    "\n",
    "        for batch in train_iter:\n",
    "\n",
    "            feature, target = batch\n",
    "\n",
    "            feature, target = feature.to(device), target.to(device)\n",
    "\n",
    "            # for RNN:\n",
    "            model.batch_size = target.shape[0]\n",
    "            no_observations = no_observations + target.shape[0]\n",
    "            model.hidden = model.init_hidden()\n",
    "\n",
    "            # print(feature)\n",
    "\n",
    "            predictions = model(feature).squeeze(1)\n",
    "            # print(predictions.shape)\n",
    "            # print(predictions.mean(), predictions.std())\n",
    "\n",
    "            optimizer.zero_grad()\n",
    "\n",
    "            loss = loss_fn(predictions, target)\n",
    "\n",
    "            sse, __ = model_performance(predictions.detach().cpu().numpy(), target.detach().cpu().numpy())\n",
    "\n",
    "            loss.backward()\n",
    "            optimizer.step()\n",
    "\n",
    "            epoch_loss += loss.item() * target.shape[0]\n",
    "            epoch_sse += sse\n",
    "\n",
    "        valid_loss, valid_mse, __, __ = eval(dev_iter, model)\n",
    "\n",
    "        epoch_loss, epoch_mse = epoch_loss / no_observations, epoch_sse / no_observations\n",
    "        print(f'| Epoch: {epoch:02} | Train Loss: {epoch_loss:.2f} | Train MSE: {epoch_mse:.2f} | Train RMSE: {epoch_mse**0.5:.2f} | \\\n",
    "        Val. Loss: {valid_loss:.2f} | Val. MSE: {valid_mse:.2f} |  Val. RMSE: {valid_mse**0.5:.2f} |')"
   ]
  },
  {
   "cell_type": "code",
   "execution_count": 372,
   "metadata": {
    "id": "NzXeDgHmlDob"
   },
   "outputs": [],
   "source": [
    "# We evaluate performance on our dev set\n",
    "def eval(data_iter, model):\n",
    "    \"\"\"\n",
    "    Evaluating model performance on the dev set\n",
    "    \"\"\"\n",
    "    model.eval()\n",
    "    epoch_loss = 0\n",
    "    epoch_sse = 0\n",
    "    pred_all = []\n",
    "    trg_all = []\n",
    "    no_observations = 0\n",
    "\n",
    "    with torch.no_grad():\n",
    "        for batch in data_iter:\n",
    "            feature, target = batch\n",
    "\n",
    "            feature, target = feature.to(device), target.to(device)\n",
    "\n",
    "            # for RNN:\n",
    "            model.batch_size = target.shape[0]\n",
    "            no_observations = no_observations + target.shape[0]\n",
    "            model.hidden = model.init_hidden()\n",
    "\n",
    "            predictions = model(feature).squeeze(1)\n",
    "            loss = loss_fn(predictions, target)\n",
    "\n",
    "            # We get the mse\n",
    "            pred, trg = predictions.detach().cpu().numpy(), target.detach().cpu().numpy()\n",
    "            sse, __ = model_performance(pred, trg)\n",
    "\n",
    "            epoch_loss += loss.item() * target.shape[0]\n",
    "            epoch_sse += sse\n",
    "            pred_all.extend(pred)\n",
    "            trg_all.extend(trg)\n",
    "\n",
    "    return epoch_loss/no_observations, epoch_sse/no_observations, np.array(pred_all), np.array(trg_all)"
   ]
  },
  {
   "cell_type": "code",
   "execution_count": 373,
   "metadata": {
    "id": "2_22fHHElDog"
   },
   "outputs": [],
   "source": [
    "# How we print the model performance\n",
    "def model_performance(output, target, print_output=False):\n",
    "    \"\"\"\n",
    "    Returns SSE and MSE per batch (printing the MSE and the RMSE)\n",
    "    \"\"\"\n",
    "\n",
    "    sq_error = (output - target)**2\n",
    "\n",
    "    sse = np.sum(sq_error)\n",
    "    mse = np.mean(sq_error)\n",
    "    rmse = np.sqrt(mse)\n",
    "\n",
    "    if print_output:\n",
    "        print(f'| MSE: {mse:.2f} | RMSE: {rmse:.2f} |')\n",
    "\n",
    "    return sse, mse"
   ]
  },
  {
   "cell_type": "code",
   "execution_count": 374,
   "metadata": {
    "id": "LcxmqrKhlDoj"
   },
   "outputs": [],
   "source": [
    "def create_vocab(data):\n",
    "    \"\"\"\n",
    "    Creating a corpus of all the tokens used\n",
    "    \"\"\"\n",
    "    tokenized_corpus = [] # Let us put the tokenized corpus in a list\n",
    "    \n",
    "    for sentence in data:\n",
    "        tokenized_sentence = []\n",
    "        for token in sentence.split(' '): # simplest split is\n",
    "            tokenized_sentence.append(token)\n",
    "        tokenized_corpus.append(tokenized_sentence)\n",
    "\n",
    "    # Create single list of all vocabulary\n",
    "    vocabulary = []  # Let us put all the tokens (mostly words) appearing in the vocabulary in a list\n",
    "\n",
    "    for sentence in tokenized_corpus:\n",
    "        for token in sentence:\n",
    "            if token not in vocabulary:\n",
    "                if True:\n",
    "                    vocabulary.append(token)\n",
    "\n",
    "    return vocabulary, tokenized_corpus"
   ]
  },
  {
   "cell_type": "code",
   "execution_count": 375,
   "metadata": {
    "id": "jzQ0KLXslDoq"
   },
   "outputs": [],
   "source": [
    "def collate_fn_padd(batch):\n",
    "    '''\n",
    "    We add padding to our minibatches and create tensors for our model\n",
    "    '''\n",
    "    batch_labels = [l for f, l in batch]\n",
    "    batch_features = [f for f, l in batch]\n",
    "\n",
    "    batch_features_len = [len(f) for f, l in batch]\n",
    "\n",
    "    seq_tensor = torch.zeros((len(batch), max(batch_features_len))).long()\n",
    "\n",
    "    for idx, (seq, seqlen) in enumerate(zip(batch_features, batch_features_len)):\n",
    "        seq_tensor[idx, :seqlen] = torch.LongTensor(seq)\n",
    "\n",
    "    batch_labels = torch.FloatTensor(batch_labels)\n",
    "\n",
    "    return seq_tensor, batch_labels\n",
    "\n",
    "class Task1Dataset(Dataset):\n",
    "\n",
    "    def __init__(self, train_data, labels):\n",
    "        self.x_train = train_data\n",
    "        self.y_train = labels\n",
    "\n",
    "    def __len__(self):\n",
    "        return len(self.y_train)\n",
    "\n",
    "    def __getitem__(self, item):\n",
    "        return self.x_train[item], self.y_train[item]"
   ]
  },
  {
   "cell_type": "code",
   "execution_count": 465,
   "metadata": {
    "id": "sWaxTh2UlDoy"
   },
   "outputs": [],
   "source": [
    "class BiLSTM(nn.Module):\n",
    "\n",
    "    def __init__(self, embedding_dim, hidden_dim, vocab_size, batch_size,\n",
    "                 device, stacks=1, lstm_dropout=0, bi=False):\n",
    "        super(BiLSTM, self).__init__()\n",
    "        \n",
    "        self.hidden_dim = hidden_dim\n",
    "        self.embedding_dim = embedding_dim\n",
    "        self.device = device\n",
    "        self.batch_size = batch_size\n",
    "        \n",
    "        self.embedding = nn.Embedding(vocab_size, embedding_dim, padding_idx=0)\n",
    "\n",
    "        # The LSTM takes word embeddings as inputs, and outputs hidden states\n",
    "        # with dimensionality hidden_dim.\n",
    "        self.lstm = nn.LSTM(embedding_dim, hidden_dim, bidirectional=bi,\n",
    "                            num_layers=stacks, dropout=lstm_dropout)\n",
    "\n",
    "        # The linear layer that maps from hidden state space to tag space\n",
    "        if bi:\n",
    "            self.hidden_dim *= 2\n",
    "            \n",
    "        output_dims = 64\n",
    "        \n",
    "        self.fc = nn.Sequential(\n",
    "            nn.Linear(self.hidden_dim, output_dims),\n",
    "            nn.Dropout(0.3),\n",
    "            nn.ReLU(),\n",
    "            nn.Linear(output_dims, output_dims),\n",
    "            nn.Dropout(0.3),\n",
    "            nn.ReLU(),\n",
    "            nn.Linear(output_dims, 1),\n",
    "        )\n",
    "            \n",
    "        self.hidden = self.init_hidden()\n",
    "\n",
    "    def init_hidden(self):\n",
    "        # Before we've done anything, we dont have any hidden state.\n",
    "        # Refer to the Pytorch documentation to see exactly why they have this dimensionality.\n",
    "        # The axes semantics are (num_layers * num_directions, minibatch_size, hidden_dim)\n",
    "        return torch.zeros(2, self.batch_size, self.hidden_dim).to(self.device), \\\n",
    "               torch.zeros(2, self.batch_size, self.hidden_dim).to(self.device)\n",
    "\n",
    "    def forward(self, sentence):\n",
    "        embedded = self.embedding(sentence)\n",
    "        embedded = embedded.permute(1, 0, 2)\n",
    "\n",
    "        lstm_out, self.hidden = self.lstm(\n",
    "            embedded.view(len(embedded), self.batch_size, self.embedding_dim),\n",
    "            self.hidden\n",
    "        )\n",
    "\n",
    "        out = self.fc(lstm_out[-1])\n",
    "        # out = torch.distributions.transforms.ExpTransform()(out)\n",
    "        return out"
   ]
  },
  {
   "cell_type": "code",
   "execution_count": 420,
   "metadata": {},
   "outputs": [
    {
     "name": "stdout",
     "output_type": "stream",
     "text": [
      "Reading english - 1grams ...\n"
     ]
    },
    {
     "name": "stderr",
     "output_type": "stream",
     "text": [
      "[nltk_data] Downloading package stopwords to\n",
      "[nltk_data]     /homes/rrr2417/nltk_data...\n",
      "[nltk_data]   Package stopwords is already up-to-date!\n",
      "<ipython-input-246-59b971d45cb7>:44: FutureWarning: The default value of regex will change from True to False in a future version.\n",
      "  _df['edited_sentences'] = df[['original', 'edit']] \\\n"
     ]
    },
    {
     "name": "stdout",
     "output_type": "stream",
     "text": [
      "Reading english - 1grams ...\n"
     ]
    },
    {
     "name": "stderr",
     "output_type": "stream",
     "text": [
      "[nltk_data] Downloading package stopwords to\n",
      "[nltk_data]     /homes/rrr2417/nltk_data...\n",
      "[nltk_data]   Package stopwords is already up-to-date!\n"
     ]
    }
   ],
   "source": [
    "clean_train_df = preprocessor(train_df)\n",
    "clean_test_df = preprocessor(test_df)"
   ]
  },
  {
   "cell_type": "code",
   "execution_count": 421,
   "metadata": {
    "colab": {
     "base_uri": "https://localhost:8080/"
    },
    "id": "FPdnr84aKgiB",
    "outputId": "943e1890-9015-4407-cd82-747bc7ef7cc0"
   },
   "outputs": [
    {
     "name": "stdout",
     "output_type": "stream",
     "text": [
      "Vocab created.\n"
     ]
    }
   ],
   "source": [
    "## Approach 1 code, using functions defined above:\n",
    "\n",
    "# We set our training data and test data\n",
    "training_data = clean_train_df['edited_sentences']\n",
    "test_data = clean_test_df['edited_sentences']\n",
    "\n",
    "# Creating word vectors\n",
    "training_vocab, training_tokenized_corpus = create_vocab(training_data)\n",
    "test_vocab, test_tokenized_corpus = create_vocab(test_data)\n",
    "\n",
    "# Creating joint vocab from test and train:\n",
    "joint_vocab, joint_tokenized_corpus = create_vocab(pd.concat([training_data, test_data]))\n",
    "\n",
    "print(\"Vocab created.\")"
   ]
  },
  {
   "cell_type": "code",
   "execution_count": 422,
   "metadata": {},
   "outputs": [
    {
     "data": {
      "text/plain": [
       "(17900,)"
      ]
     },
     "execution_count": 422,
     "metadata": {},
     "output_type": "execute_result"
    }
   ],
   "source": [
    "training_data.shape"
   ]
  },
  {
   "cell_type": "code",
   "execution_count": 466,
   "metadata": {
    "colab": {
     "base_uri": "https://localhost:8080/"
    },
    "id": "bp9d32sOlDo6",
    "outputId": "978777c5-9b7b-4dc0-fc0d-a4c426f12e3e",
    "scrolled": true
   },
   "outputs": [],
   "source": [
    "# We create representations for our tokens\n",
    "wvecs = [] # word vectors\n",
    "word2idx = [] # word2index\n",
    "idx2word = []\n",
    "\n",
    "index = 1\n",
    "\n",
    "for word in joint_vocab:\n",
    "    if word in embeddings.vocab:\n",
    "        vec = embeddings.get_vector(word)\n",
    "        wvecs.append(vec)\n",
    "        word2idx.append((word, index))\n",
    "        idx2word.append((index, word))\n",
    "        index += 1\n",
    "\n",
    "vector_dim = len(wvecs[0])\n",
    "wvecs.insert(0, np.zeros(vector_dim))\n",
    "wvecs = np.array(wvecs)\n",
    "word2idx = dict(word2idx)\n",
    "idx2word = dict(idx2word)\n",
    "\n",
    "vectorized_seqs = [\n",
    "    [word2idx[tok] for tok in seq if tok in word2idx]\n",
    "    for seq in training_tokenized_corpus\n",
    "]\n",
    "\n",
    "# To avoid any sentences being empty (if no words match to our word embeddings)\n",
    "vectorized_seqs = [x if len(x) > 0 else [0] for x in vectorized_seqs]"
   ]
  },
  {
   "cell_type": "code",
   "execution_count": 491,
   "metadata": {},
   "outputs": [
    {
     "name": "stdout",
     "output_type": "stream",
     "text": [
      "Model initialised.\n",
      "Dataloaders created.\n"
     ]
    }
   ],
   "source": [
    "INPUT_DIM = len(word2idx)\n",
    "EMBEDDING_DIM = wvecs.shape[1]\n",
    "BATCH_SIZE = 52\n",
    "HIDDEN_DIM = 20\n",
    "\n",
    "model = BiLSTM(EMBEDDING_DIM, HIDDEN_DIM, INPUT_DIM + 1,\n",
    "               BATCH_SIZE, device, stacks=2, lstm_dropout=0.2)\n",
    "print(\"Model initialised.\")\n",
    "\n",
    "model.to(device)\n",
    "# We provide the model with our embeddings\n",
    "model.embedding.weight.data.copy_(torch.from_numpy(wvecs))\n",
    "\n",
    "feature = vectorized_seqs\n",
    "\n",
    "# 'feature' is a list of lists, each containing embedding IDs for word tokens\n",
    "train_and_dev = Task1Dataset(feature, train_df['meanGrade'])\n",
    "\n",
    "train_examples = round(len(train_and_dev)*train_proportion)\n",
    "dev_examples = len(train_and_dev) - train_examples\n",
    "\n",
    "train_dataset, dev_dataset = random_split(train_and_dev,\n",
    "                                           (train_examples,\n",
    "                                            dev_examples))\n",
    "\n",
    "train_loader = torch.utils.data.DataLoader(train_dataset, shuffle=True, batch_size=BATCH_SIZE, collate_fn=collate_fn_padd)\n",
    "dev_loader = torch.utils.data.DataLoader(dev_dataset, batch_size=BATCH_SIZE, collate_fn=collate_fn_padd)\n",
    "\n",
    "print(\"Dataloaders created.\")\n",
    "\n",
    "loss_fn = nn.SmoothL1Loss(beta=0.2)\n",
    "loss_fn = loss_fn.to(device)\n",
    "\n",
    "optimizer = torch.optim.Adam(model.parameters(), lr=1e-5)"
   ]
  },
  {
   "cell_type": "code",
   "execution_count": 492,
   "metadata": {},
   "outputs": [
    {
     "data": {
      "text/plain": [
       "BiLSTM(\n",
       "  (embedding): Embedding(19128, 300, padding_idx=0)\n",
       "  (lstm): LSTM(300, 20, num_layers=2, dropout=0.2)\n",
       "  (fc): Sequential(\n",
       "    (0): Linear(in_features=20, out_features=64, bias=True)\n",
       "    (1): Dropout(p=0.3, inplace=False)\n",
       "    (2): ReLU()\n",
       "    (3): Linear(in_features=64, out_features=64, bias=True)\n",
       "    (4): Dropout(p=0.3, inplace=False)\n",
       "    (5): ReLU()\n",
       "    (6): Linear(in_features=64, out_features=1, bias=True)\n",
       "  )\n",
       ")"
      ]
     },
     "execution_count": 492,
     "metadata": {},
     "output_type": "execute_result"
    }
   ],
   "source": [
    "model"
   ]
  },
  {
   "cell_type": "code",
   "execution_count": 493,
   "metadata": {
    "colab": {
     "base_uri": "https://localhost:8080/"
    },
    "id": "s171jZQEMhju",
    "outputId": "dd5c22a9-ebf3-4249-c8db-01b132bb66e0",
    "scrolled": false
   },
   "outputs": [
    {
     "name": "stdout",
     "output_type": "stream",
     "text": [
      "Training model.\n",
      "| Epoch: 01 | Train Loss: 1.09 | Train MSE: 1.76 | Train RMSE: 1.33 |         Val. Loss: 1.05 | Val. MSE: 1.67 |  Val. RMSE: 1.29 |\n",
      "| Epoch: 02 | Train Loss: 1.04 | Train MSE: 1.65 | Train RMSE: 1.28 |         Val. Loss: 0.99 | Val. MSE: 1.55 |  Val. RMSE: 1.24 |\n",
      "| Epoch: 03 | Train Loss: 0.98 | Train MSE: 1.51 | Train RMSE: 1.23 |         Val. Loss: 0.93 | Val. MSE: 1.40 |  Val. RMSE: 1.18 |\n",
      "| Epoch: 04 | Train Loss: 0.90 | Train MSE: 1.34 | Train RMSE: 1.16 |         Val. Loss: 0.83 | Val. MSE: 1.20 |  Val. RMSE: 1.09 |\n",
      "| Epoch: 05 | Train Loss: 0.79 | Train MSE: 1.10 | Train RMSE: 1.05 |         Val. Loss: 0.69 | Val. MSE: 0.91 |  Val. RMSE: 0.95 |\n",
      "| Epoch: 06 | Train Loss: 0.63 | Train MSE: 0.78 | Train RMSE: 0.89 |         Val. Loss: 0.51 | Val. MSE: 0.57 |  Val. RMSE: 0.76 |\n",
      "| Epoch: 07 | Train Loss: 0.49 | Train MSE: 0.52 | Train RMSE: 0.72 |         Val. Loss: 0.42 | Val. MSE: 0.39 |  Val. RMSE: 0.63 |\n",
      "| Epoch: 08 | Train Loss: 0.44 | Train MSE: 0.43 | Train RMSE: 0.66 |         Val. Loss: 0.41 | Val. MSE: 0.36 |  Val. RMSE: 0.60 |\n",
      "| Epoch: 09 | Train Loss: 0.44 | Train MSE: 0.42 | Train RMSE: 0.65 |         Val. Loss: 0.41 | Val. MSE: 0.36 |  Val. RMSE: 0.60 |\n",
      "| Epoch: 10 | Train Loss: 0.44 | Train MSE: 0.42 | Train RMSE: 0.65 |         Val. Loss: 0.41 | Val. MSE: 0.36 |  Val. RMSE: 0.60 |\n",
      "| Epoch: 11 | Train Loss: 0.44 | Train MSE: 0.42 | Train RMSE: 0.65 |         Val. Loss: 0.41 | Val. MSE: 0.36 |  Val. RMSE: 0.60 |\n",
      "| Epoch: 12 | Train Loss: 0.44 | Train MSE: 0.42 | Train RMSE: 0.65 |         Val. Loss: 0.41 | Val. MSE: 0.36 |  Val. RMSE: 0.60 |\n",
      "| Epoch: 13 | Train Loss: 0.44 | Train MSE: 0.42 | Train RMSE: 0.64 |         Val. Loss: 0.41 | Val. MSE: 0.36 |  Val. RMSE: 0.60 |\n",
      "| Epoch: 14 | Train Loss: 0.43 | Train MSE: 0.41 | Train RMSE: 0.64 |         Val. Loss: 0.41 | Val. MSE: 0.36 |  Val. RMSE: 0.60 |\n",
      "| Epoch: 15 | Train Loss: 0.43 | Train MSE: 0.41 | Train RMSE: 0.64 |         Val. Loss: 0.41 | Val. MSE: 0.36 |  Val. RMSE: 0.60 |\n",
      "| Epoch: 16 | Train Loss: 0.43 | Train MSE: 0.41 | Train RMSE: 0.64 |         Val. Loss: 0.40 | Val. MSE: 0.36 |  Val. RMSE: 0.60 |\n",
      "| Epoch: 17 | Train Loss: 0.43 | Train MSE: 0.41 | Train RMSE: 0.64 |         Val. Loss: 0.40 | Val. MSE: 0.36 |  Val. RMSE: 0.60 |\n",
      "| Epoch: 18 | Train Loss: 0.43 | Train MSE: 0.40 | Train RMSE: 0.64 |         Val. Loss: 0.40 | Val. MSE: 0.36 |  Val. RMSE: 0.60 |\n",
      "| Epoch: 19 | Train Loss: 0.43 | Train MSE: 0.40 | Train RMSE: 0.64 |         Val. Loss: 0.40 | Val. MSE: 0.36 |  Val. RMSE: 0.60 |\n",
      "| Epoch: 20 | Train Loss: 0.43 | Train MSE: 0.40 | Train RMSE: 0.63 |         Val. Loss: 0.40 | Val. MSE: 0.36 |  Val. RMSE: 0.60 |\n",
      "| Epoch: 21 | Train Loss: 0.43 | Train MSE: 0.40 | Train RMSE: 0.63 |         Val. Loss: 0.40 | Val. MSE: 0.36 |  Val. RMSE: 0.60 |\n",
      "| Epoch: 22 | Train Loss: 0.43 | Train MSE: 0.40 | Train RMSE: 0.63 |         Val. Loss: 0.40 | Val. MSE: 0.36 |  Val. RMSE: 0.60 |\n",
      "| Epoch: 23 | Train Loss: 0.42 | Train MSE: 0.39 | Train RMSE: 0.63 |         Val. Loss: 0.40 | Val. MSE: 0.36 |  Val. RMSE: 0.60 |\n",
      "| Epoch: 24 | Train Loss: 0.42 | Train MSE: 0.39 | Train RMSE: 0.62 |         Val. Loss: 0.40 | Val. MSE: 0.36 |  Val. RMSE: 0.60 |\n",
      "| Epoch: 25 | Train Loss: 0.42 | Train MSE: 0.39 | Train RMSE: 0.62 |         Val. Loss: 0.40 | Val. MSE: 0.35 |  Val. RMSE: 0.60 |\n",
      "| Epoch: 26 | Train Loss: 0.42 | Train MSE: 0.38 | Train RMSE: 0.62 |         Val. Loss: 0.40 | Val. MSE: 0.35 |  Val. RMSE: 0.59 |\n",
      "| Epoch: 27 | Train Loss: 0.41 | Train MSE: 0.38 | Train RMSE: 0.62 |         Val. Loss: 0.40 | Val. MSE: 0.35 |  Val. RMSE: 0.59 |\n",
      "| Epoch: 28 | Train Loss: 0.41 | Train MSE: 0.38 | Train RMSE: 0.62 |         Val. Loss: 0.40 | Val. MSE: 0.35 |  Val. RMSE: 0.59 |\n",
      "| Epoch: 29 | Train Loss: 0.41 | Train MSE: 0.37 | Train RMSE: 0.61 |         Val. Loss: 0.40 | Val. MSE: 0.35 |  Val. RMSE: 0.59 |\n",
      "| Epoch: 30 | Train Loss: 0.40 | Train MSE: 0.37 | Train RMSE: 0.61 |         Val. Loss: 0.40 | Val. MSE: 0.35 |  Val. RMSE: 0.59 |\n",
      "| Epoch: 31 | Train Loss: 0.40 | Train MSE: 0.36 | Train RMSE: 0.60 |         Val. Loss: 0.39 | Val. MSE: 0.35 |  Val. RMSE: 0.59 |\n",
      "| Epoch: 32 | Train Loss: 0.39 | Train MSE: 0.35 | Train RMSE: 0.59 |         Val. Loss: 0.39 | Val. MSE: 0.34 |  Val. RMSE: 0.59 |\n",
      "| Epoch: 33 | Train Loss: 0.39 | Train MSE: 0.35 | Train RMSE: 0.59 |         Val. Loss: 0.39 | Val. MSE: 0.34 |  Val. RMSE: 0.58 |\n",
      "| Epoch: 34 | Train Loss: 0.38 | Train MSE: 0.33 | Train RMSE: 0.58 |         Val. Loss: 0.39 | Val. MSE: 0.34 |  Val. RMSE: 0.58 |\n",
      "| Epoch: 35 | Train Loss: 0.37 | Train MSE: 0.33 | Train RMSE: 0.57 |         Val. Loss: 0.39 | Val. MSE: 0.34 |  Val. RMSE: 0.58 |\n",
      "| Epoch: 36 | Train Loss: 0.36 | Train MSE: 0.32 | Train RMSE: 0.56 |         Val. Loss: 0.39 | Val. MSE: 0.34 |  Val. RMSE: 0.58 |\n",
      "| Epoch: 37 | Train Loss: 0.35 | Train MSE: 0.31 | Train RMSE: 0.56 |         Val. Loss: 0.38 | Val. MSE: 0.34 |  Val. RMSE: 0.58 |\n",
      "| Epoch: 38 | Train Loss: 0.35 | Train MSE: 0.30 | Train RMSE: 0.55 |         Val. Loss: 0.38 | Val. MSE: 0.34 |  Val. RMSE: 0.58 |\n",
      "| Epoch: 39 | Train Loss: 0.34 | Train MSE: 0.29 | Train RMSE: 0.54 |         Val. Loss: 0.38 | Val. MSE: 0.34 |  Val. RMSE: 0.59 |\n",
      "| Epoch: 40 | Train Loss: 0.33 | Train MSE: 0.29 | Train RMSE: 0.53 |         Val. Loss: 0.38 | Val. MSE: 0.34 |  Val. RMSE: 0.59 |\n",
      "| Epoch: 41 | Train Loss: 0.33 | Train MSE: 0.28 | Train RMSE: 0.53 |         Val. Loss: 0.39 | Val. MSE: 0.35 |  Val. RMSE: 0.59 |\n",
      "| Epoch: 42 | Train Loss: 0.33 | Train MSE: 0.28 | Train RMSE: 0.52 |         Val. Loss: 0.39 | Val. MSE: 0.35 |  Val. RMSE: 0.59 |\n",
      "| Epoch: 43 | Train Loss: 0.32 | Train MSE: 0.27 | Train RMSE: 0.52 |         Val. Loss: 0.39 | Val. MSE: 0.35 |  Val. RMSE: 0.59 |\n",
      "| Epoch: 44 | Train Loss: 0.32 | Train MSE: 0.27 | Train RMSE: 0.52 |         Val. Loss: 0.39 | Val. MSE: 0.35 |  Val. RMSE: 0.59 |\n",
      "| Epoch: 45 | Train Loss: 0.31 | Train MSE: 0.26 | Train RMSE: 0.51 |         Val. Loss: 0.39 | Val. MSE: 0.36 |  Val. RMSE: 0.60 |\n",
      "| Epoch: 46 | Train Loss: 0.31 | Train MSE: 0.26 | Train RMSE: 0.51 |         Val. Loss: 0.39 | Val. MSE: 0.36 |  Val. RMSE: 0.60 |\n",
      "| Epoch: 47 | Train Loss: 0.30 | Train MSE: 0.25 | Train RMSE: 0.50 |         Val. Loss: 0.39 | Val. MSE: 0.36 |  Val. RMSE: 0.60 |\n",
      "| Epoch: 48 | Train Loss: 0.30 | Train MSE: 0.25 | Train RMSE: 0.50 |         Val. Loss: 0.39 | Val. MSE: 0.36 |  Val. RMSE: 0.60 |\n"
     ]
    },
    {
     "ename": "KeyboardInterrupt",
     "evalue": "",
     "output_type": "error",
     "traceback": [
      "\u001b[0;31m---------------------------------------------------------------------------\u001b[0m",
      "\u001b[0;31mKeyboardInterrupt\u001b[0m                         Traceback (most recent call last)",
      "\u001b[0;32m<ipython-input-493-e03a224e3700>\u001b[0m in \u001b[0;36m<module>\u001b[0;34m\u001b[0m\n\u001b[1;32m      2\u001b[0m \u001b[0mepochs\u001b[0m \u001b[0;34m=\u001b[0m \u001b[0;36m100\u001b[0m\u001b[0;34m\u001b[0m\u001b[0;34m\u001b[0m\u001b[0m\n\u001b[1;32m      3\u001b[0m \u001b[0;34m\u001b[0m\u001b[0m\n\u001b[0;32m----> 4\u001b[0;31m \u001b[0mtrain\u001b[0m\u001b[0;34m(\u001b[0m\u001b[0mtrain_loader\u001b[0m\u001b[0;34m,\u001b[0m \u001b[0mdev_loader\u001b[0m\u001b[0;34m,\u001b[0m \u001b[0mmodel\u001b[0m\u001b[0;34m,\u001b[0m \u001b[0mepochs\u001b[0m\u001b[0;34m)\u001b[0m\u001b[0;34m\u001b[0m\u001b[0;34m\u001b[0m\u001b[0m\n\u001b[0m",
      "\u001b[0;32m<ipython-input-469-80a8fa69cb24>\u001b[0m in \u001b[0;36mtrain\u001b[0;34m(train_iter, dev_iter, model, number_epoch)\u001b[0m\n\u001b[1;32m     37\u001b[0m \u001b[0;34m\u001b[0m\u001b[0m\n\u001b[1;32m     38\u001b[0m             \u001b[0mloss\u001b[0m\u001b[0;34m.\u001b[0m\u001b[0mbackward\u001b[0m\u001b[0;34m(\u001b[0m\u001b[0;34m)\u001b[0m\u001b[0;34m\u001b[0m\u001b[0;34m\u001b[0m\u001b[0m\n\u001b[0;32m---> 39\u001b[0;31m             \u001b[0moptimizer\u001b[0m\u001b[0;34m.\u001b[0m\u001b[0mstep\u001b[0m\u001b[0;34m(\u001b[0m\u001b[0;34m)\u001b[0m\u001b[0;34m\u001b[0m\u001b[0;34m\u001b[0m\u001b[0m\n\u001b[0m\u001b[1;32m     40\u001b[0m \u001b[0;34m\u001b[0m\u001b[0m\n\u001b[1;32m     41\u001b[0m             \u001b[0mepoch_loss\u001b[0m \u001b[0;34m+=\u001b[0m \u001b[0mloss\u001b[0m\u001b[0;34m.\u001b[0m\u001b[0mitem\u001b[0m\u001b[0;34m(\u001b[0m\u001b[0;34m)\u001b[0m\u001b[0;34m*\u001b[0m\u001b[0mtarget\u001b[0m\u001b[0;34m.\u001b[0m\u001b[0mshape\u001b[0m\u001b[0;34m[\u001b[0m\u001b[0;36m0\u001b[0m\u001b[0;34m]\u001b[0m\u001b[0;34m\u001b[0m\u001b[0;34m\u001b[0m\u001b[0m\n",
      "\u001b[0;32m/vol/bitbucket/rrr2417/deepscm/ENV2/lib/python3.8/site-packages/torch/autograd/grad_mode.py\u001b[0m in \u001b[0;36mdecorate_context\u001b[0;34m(*args, **kwargs)\u001b[0m\n\u001b[1;32m     24\u001b[0m         \u001b[0;32mdef\u001b[0m \u001b[0mdecorate_context\u001b[0m\u001b[0;34m(\u001b[0m\u001b[0;34m*\u001b[0m\u001b[0margs\u001b[0m\u001b[0;34m,\u001b[0m \u001b[0;34m**\u001b[0m\u001b[0mkwargs\u001b[0m\u001b[0;34m)\u001b[0m\u001b[0;34m:\u001b[0m\u001b[0;34m\u001b[0m\u001b[0;34m\u001b[0m\u001b[0m\n\u001b[1;32m     25\u001b[0m             \u001b[0;32mwith\u001b[0m \u001b[0mself\u001b[0m\u001b[0;34m.\u001b[0m\u001b[0m__class__\u001b[0m\u001b[0;34m(\u001b[0m\u001b[0;34m)\u001b[0m\u001b[0;34m:\u001b[0m\u001b[0;34m\u001b[0m\u001b[0;34m\u001b[0m\u001b[0m\n\u001b[0;32m---> 26\u001b[0;31m                 \u001b[0;32mreturn\u001b[0m \u001b[0mfunc\u001b[0m\u001b[0;34m(\u001b[0m\u001b[0;34m*\u001b[0m\u001b[0margs\u001b[0m\u001b[0;34m,\u001b[0m \u001b[0;34m**\u001b[0m\u001b[0mkwargs\u001b[0m\u001b[0;34m)\u001b[0m\u001b[0;34m\u001b[0m\u001b[0;34m\u001b[0m\u001b[0m\n\u001b[0m\u001b[1;32m     27\u001b[0m         \u001b[0;32mreturn\u001b[0m \u001b[0mcast\u001b[0m\u001b[0;34m(\u001b[0m\u001b[0mF\u001b[0m\u001b[0;34m,\u001b[0m \u001b[0mdecorate_context\u001b[0m\u001b[0;34m)\u001b[0m\u001b[0;34m\u001b[0m\u001b[0;34m\u001b[0m\u001b[0m\n\u001b[1;32m     28\u001b[0m \u001b[0;34m\u001b[0m\u001b[0m\n",
      "\u001b[0;32m/vol/bitbucket/rrr2417/deepscm/ENV2/lib/python3.8/site-packages/torch/optim/adam.py\u001b[0m in \u001b[0;36mstep\u001b[0;34m(self, closure)\u001b[0m\n\u001b[1;32m    106\u001b[0m \u001b[0;34m\u001b[0m\u001b[0m\n\u001b[1;32m    107\u001b[0m             \u001b[0mbeta1\u001b[0m\u001b[0;34m,\u001b[0m \u001b[0mbeta2\u001b[0m \u001b[0;34m=\u001b[0m \u001b[0mgroup\u001b[0m\u001b[0;34m[\u001b[0m\u001b[0;34m'betas'\u001b[0m\u001b[0;34m]\u001b[0m\u001b[0;34m\u001b[0m\u001b[0;34m\u001b[0m\u001b[0m\n\u001b[0;32m--> 108\u001b[0;31m             F.adam(params_with_grad,\n\u001b[0m\u001b[1;32m    109\u001b[0m                    \u001b[0mgrads\u001b[0m\u001b[0;34m,\u001b[0m\u001b[0;34m\u001b[0m\u001b[0;34m\u001b[0m\u001b[0m\n\u001b[1;32m    110\u001b[0m                    \u001b[0mexp_avgs\u001b[0m\u001b[0;34m,\u001b[0m\u001b[0;34m\u001b[0m\u001b[0;34m\u001b[0m\u001b[0m\n",
      "\u001b[0;32m/vol/bitbucket/rrr2417/deepscm/ENV2/lib/python3.8/site-packages/torch/optim/functional.py\u001b[0m in \u001b[0;36madam\u001b[0;34m(params, grads, exp_avgs, exp_avg_sqs, max_exp_avg_sqs, state_steps, amsgrad, beta1, beta2, lr, weight_decay, eps)\u001b[0m\n\u001b[1;32m     96\u001b[0m         \u001b[0mstep_size\u001b[0m \u001b[0;34m=\u001b[0m \u001b[0mlr\u001b[0m \u001b[0;34m/\u001b[0m \u001b[0mbias_correction1\u001b[0m\u001b[0;34m\u001b[0m\u001b[0;34m\u001b[0m\u001b[0m\n\u001b[1;32m     97\u001b[0m \u001b[0;34m\u001b[0m\u001b[0m\n\u001b[0;32m---> 98\u001b[0;31m         \u001b[0mparam\u001b[0m\u001b[0;34m.\u001b[0m\u001b[0maddcdiv_\u001b[0m\u001b[0;34m(\u001b[0m\u001b[0mexp_avg\u001b[0m\u001b[0;34m,\u001b[0m \u001b[0mdenom\u001b[0m\u001b[0;34m,\u001b[0m \u001b[0mvalue\u001b[0m\u001b[0;34m=\u001b[0m\u001b[0;34m-\u001b[0m\u001b[0mstep_size\u001b[0m\u001b[0;34m)\u001b[0m\u001b[0;34m\u001b[0m\u001b[0;34m\u001b[0m\u001b[0m\n\u001b[0m",
      "\u001b[0;31mKeyboardInterrupt\u001b[0m: "
     ]
    }
   ],
   "source": [
    "# Number of epochs\n",
    "epochs = 100\n",
    "\n",
    "train(train_loader, dev_loader, model, epochs)"
   ]
  },
  {
   "cell_type": "markdown",
   "metadata": {
    "id": "l5GLR90E7haM"
   },
   "source": [
    "##### Evaluating the model"
   ]
  },
  {
   "cell_type": "code",
   "execution_count": 475,
   "metadata": {
    "colab": {
     "base_uri": "https://localhost:8080/"
    },
    "id": "vxYjHr1r_NAI",
    "outputId": "aaf8d55b-381f-4100-9af4-c20b6c242b9d"
   },
   "outputs": [
    {
     "name": "stdout",
     "output_type": "stream",
     "text": [
      "<class 'pandas.core.frame.DataFrame'>\n",
      "RangeIndex: 2419 entries, 0 to 2418\n",
      "Data columns (total 8 columns):\n",
      " #   Column       Non-Null Count  Dtype  \n",
      "---  ------       --------------  -----  \n",
      " 0   id           2419 non-null   int64  \n",
      " 1   original     2419 non-null   object \n",
      " 2   edit         2419 non-null   object \n",
      " 3   grades       2419 non-null   int64  \n",
      " 4   meanGrade    2419 non-null   float64\n",
      " 5   predictions  2419 non-null   float32\n",
      " 6   difference   2419 non-null   float32\n",
      " 7   target       2419 non-null   float32\n",
      "dtypes: float32(3), float64(1), int64(2), object(2)\n",
      "memory usage: 123.0+ KB\n"
     ]
    }
   ],
   "source": [
    "test_df.info()"
   ]
  },
  {
   "cell_type": "code",
   "execution_count": 476,
   "metadata": {
    "id": "WSHjBUWG93qQ"
   },
   "outputs": [],
   "source": [
    "vectorized_seqs_test = [\n",
    "    [word2idx[tok] for tok in seq if tok in word2idx]\n",
    "    for seq in test_tokenized_corpus\n",
    "]\n",
    "\n",
    "# To avoid any sentences being empty (if no words match to our word embeddings)\n",
    "vectorized_seqs_test = [x if len(x) > 0 else [0] for x in vectorized_seqs_test]"
   ]
  },
  {
   "cell_type": "code",
   "execution_count": 477,
   "metadata": {
    "id": "h5lL8-cuByAW"
   },
   "outputs": [],
   "source": [
    "test_dataset = Task1Dataset(vectorized_seqs_test, test_df['meanGrade'])\n",
    "test_loader = torch.utils.data.DataLoader(test_dataset, batch_size=BATCH_SIZE, collate_fn=collate_fn_padd)"
   ]
  },
  {
   "cell_type": "code",
   "execution_count": 478,
   "metadata": {
    "colab": {
     "base_uri": "https://localhost:8080/"
    },
    "id": "MeDhp1va74r9",
    "outputId": "ba8278d1-67bd-4dc2-9cd2-43543f462958"
   },
   "outputs": [
    {
     "name": "stdout",
     "output_type": "stream",
     "text": [
      "| MSE: 0.36 | RMSE: 0.60 |\n"
     ]
    },
    {
     "data": {
      "text/plain": [
       "(861.8911, 0.3563006)"
      ]
     },
     "execution_count": 478,
     "metadata": {},
     "output_type": "execute_result"
    }
   ],
   "source": [
    "loss, mse, predictions, target = eval(test_loader, model)\n",
    "model_performance(predictions, target, print_output=True)"
   ]
  },
  {
   "cell_type": "code",
   "execution_count": 479,
   "metadata": {
    "colab": {
     "base_uri": "https://localhost:8080/",
     "height": 265
    },
    "id": "zimIzi2Y78nT",
    "outputId": "dea38dc8-a266-4d03-ff51-414a068272fb"
   },
   "outputs": [
    {
     "data": {
      "image/png": "[encoded data removed]",
      "text/plain": [
       "<Figure size 432x288 with 1 Axes>"
      ]
     },
     "metadata": {
      "needs_background": "light"
     },
     "output_type": "display_data"
    }
   ],
   "source": [
    "import matplotlib.pyplot as plt\n",
    "\n",
    "plt.hist(predictions, bins=30)\n",
    "plt.hist(target, bins=30, alpha=0.5)\n",
    "plt.show()"
   ]
  },
  {
   "cell_type": "code",
   "execution_count": 480,
   "metadata": {
    "id": "_HV4E_ySK_ne"
   },
   "outputs": [],
   "source": [
    "from sklearn.metrics import explained_variance_score, r2_score"
   ]
  },
  {
   "cell_type": "code",
   "execution_count": 481,
   "metadata": {
    "colab": {
     "base_uri": "https://localhost:8080/"
    },
    "id": "G3aXIWuRLEjx",
    "outputId": "3aaa7711-6a8f-4761-fba1-80332c5996e9"
   },
   "outputs": [
    {
     "data": {
      "text/plain": [
       "-0.019822239875793457"
      ]
     },
     "execution_count": 481,
     "metadata": {},
     "output_type": "execute_result"
    }
   ],
   "source": [
    "explained_variance_score(target, predictions)"
   ]
  },
  {
   "cell_type": "code",
   "execution_count": 482,
   "metadata": {
    "colab": {
     "base_uri": "https://localhost:8080/"
    },
    "id": "Q54J8mU3LIbD",
    "outputId": "79e919f6-5e16-4af0-924e-b93287af1ba0"
   },
   "outputs": [
    {
     "data": {
      "text/plain": [
       "-0.06502799107346013"
      ]
     },
     "execution_count": 482,
     "metadata": {},
     "output_type": "execute_result"
    }
   ],
   "source": [
    "r2_score(target, predictions)"
   ]
  },
  {
   "cell_type": "code",
   "execution_count": 483,
   "metadata": {
    "colab": {
     "base_uri": "https://localhost:8080/"
    },
    "id": "p2SYl0n6ET4v",
    "outputId": "3b01ff49-06e5-4681-82cf-c8a7f1d8ea6e"
   },
   "outputs": [
    {
     "name": "stdout",
     "output_type": "stream",
     "text": [
      "0.61464137\n",
      "1.7208139\n",
      "0.6\n",
      "1.7\n"
     ]
    }
   ],
   "source": [
    "print(min(predictions))\n",
    "print(max(predictions))\n",
    "rounded_preds = np.round_(predictions, decimals=1)\n",
    "print(min(rounded_preds))\n",
    "print(max(rounded_preds))"
   ]
  },
  {
   "cell_type": "code",
   "execution_count": 484,
   "metadata": {
    "colab": {
     "base_uri": "https://localhost:8080/",
     "height": 419
    },
    "id": "3pd0iteLL2_Q",
    "outputId": "01c6ce16-9abe-4888-ed08-335c4f4a69f7"
   },
   "outputs": [
    {
     "data": {
      "text/html": [
       "<div>\n",
       "<style scoped>\n",
       "    .dataframe tbody tr th:only-of-type {\n",
       "        vertical-align: middle;\n",
       "    }\n",
       "\n",
       "    .dataframe tbody tr th {\n",
       "        vertical-align: top;\n",
       "    }\n",
       "\n",
       "    .dataframe thead th {\n",
       "        text-align: right;\n",
       "    }\n",
       "</style>\n",
       "<table border=\"1\" class=\"dataframe\">\n",
       "  <thead>\n",
       "    <tr style=\"text-align: right;\">\n",
       "      <th></th>\n",
       "      <th>original</th>\n",
       "      <th>edit</th>\n",
       "      <th>meanGrade</th>\n",
       "      <th>predictions</th>\n",
       "      <th>target</th>\n",
       "      <th>difference</th>\n",
       "    </tr>\n",
       "  </thead>\n",
       "  <tbody>\n",
       "    <tr>\n",
       "      <th>2</th>\n",
       "      <td>Spanish police detain man and search Ripoll ad...</td>\n",
       "      <td>squad</td>\n",
       "      <td>0.6</td>\n",
       "      <td>1.147781</td>\n",
       "      <td>0.6</td>\n",
       "      <td>0.547781</td>\n",
       "    </tr>\n",
       "    <tr>\n",
       "      <th>4</th>\n",
       "      <td>Vladimir Putin Releases Video Simulation Of Ru...</td>\n",
       "      <td>balloon</td>\n",
       "      <td>0.4</td>\n",
       "      <td>1.375476</td>\n",
       "      <td>0.4</td>\n",
       "      <td>0.975476</td>\n",
       "    </tr>\n",
       "    <tr>\n",
       "      <th>5</th>\n",
       "      <td>Ex-Goldman Sachs boss , Obama ambassador Murph...</td>\n",
       "      <td>chase</td>\n",
       "      <td>0.4</td>\n",
       "      <td>1.395656</td>\n",
       "      <td>0.4</td>\n",
       "      <td>0.995656</td>\n",
       "    </tr>\n",
       "    <tr>\n",
       "      <th>10</th>\n",
       "      <td>Trump Fundraiser 's Email Breach Shows &lt;Risks/...</td>\n",
       "      <td>Brunch</td>\n",
       "      <td>0.4</td>\n",
       "      <td>0.965778</td>\n",
       "      <td>0.4</td>\n",
       "      <td>0.565778</td>\n",
       "    </tr>\n",
       "    <tr>\n",
       "      <th>11</th>\n",
       "      <td>White House blasts &lt;request/&gt; from China as ' ...</td>\n",
       "      <td>ice</td>\n",
       "      <td>0.4</td>\n",
       "      <td>0.941441</td>\n",
       "      <td>0.4</td>\n",
       "      <td>0.541441</td>\n",
       "    </tr>\n",
       "    <tr>\n",
       "      <th>...</th>\n",
       "      <td>...</td>\n",
       "      <td>...</td>\n",
       "      <td>...</td>\n",
       "      <td>...</td>\n",
       "      <td>...</td>\n",
       "      <td>...</td>\n",
       "    </tr>\n",
       "    <tr>\n",
       "      <th>2408</th>\n",
       "      <td>Trump Orders Agencies To Reduce &lt;Regulations/&gt;</td>\n",
       "      <td>volumes</td>\n",
       "      <td>0.4</td>\n",
       "      <td>0.950063</td>\n",
       "      <td>0.4</td>\n",
       "      <td>0.550063</td>\n",
       "    </tr>\n",
       "    <tr>\n",
       "      <th>2410</th>\n",
       "      <td>Trump enjoys a week without a &lt;crisis/&gt;</td>\n",
       "      <td>carbohydrates</td>\n",
       "      <td>1.6</td>\n",
       "      <td>0.990703</td>\n",
       "      <td>1.6</td>\n",
       "      <td>0.609297</td>\n",
       "    </tr>\n",
       "    <tr>\n",
       "      <th>2411</th>\n",
       "      <td>The Guardian view on Trump and Israel : stick ...</td>\n",
       "      <td>brownie</td>\n",
       "      <td>0.4</td>\n",
       "      <td>1.084576</td>\n",
       "      <td>0.4</td>\n",
       "      <td>0.684576</td>\n",
       "    </tr>\n",
       "    <tr>\n",
       "      <th>2414</th>\n",
       "      <td>Supreme &lt;Court/&gt; Once Again Strikes Down Racia...</td>\n",
       "      <td>leaders</td>\n",
       "      <td>0.2</td>\n",
       "      <td>0.780459</td>\n",
       "      <td>0.2</td>\n",
       "      <td>0.580459</td>\n",
       "    </tr>\n",
       "    <tr>\n",
       "      <th>2415</th>\n",
       "      <td>Trump Mocks Schumer ’s Tears ; Vows to ‘ Make ...</td>\n",
       "      <td>Insane</td>\n",
       "      <td>3.0</td>\n",
       "      <td>1.319108</td>\n",
       "      <td>3.0</td>\n",
       "      <td>1.680892</td>\n",
       "    </tr>\n",
       "  </tbody>\n",
       "</table>\n",
       "<p>1065 rows × 6 columns</p>\n",
       "</div>"
      ],
      "text/plain": [
       "                                               original           edit  \\\n",
       "2     Spanish police detain man and search Ripoll ad...          squad   \n",
       "4     Vladimir Putin Releases Video Simulation Of Ru...        balloon   \n",
       "5     Ex-Goldman Sachs boss , Obama ambassador Murph...          chase   \n",
       "10    Trump Fundraiser 's Email Breach Shows <Risks/...         Brunch   \n",
       "11    White House blasts <request/> from China as ' ...            ice   \n",
       "...                                                 ...            ...   \n",
       "2408    Trump Orders Agencies To Reduce <Regulations/>         volumes   \n",
       "2410           Trump enjoys a week without a <crisis/>   carbohydrates   \n",
       "2411  The Guardian view on Trump and Israel : stick ...        brownie   \n",
       "2414  Supreme <Court/> Once Again Strikes Down Racia...        leaders   \n",
       "2415  Trump Mocks Schumer ’s Tears ; Vows to ‘ Make ...         Insane   \n",
       "\n",
       "      meanGrade  predictions  target  difference  \n",
       "2           0.6     1.147781     0.6    0.547781  \n",
       "4           0.4     1.375476     0.4    0.975476  \n",
       "5           0.4     1.395656     0.4    0.995656  \n",
       "10          0.4     0.965778     0.4    0.565778  \n",
       "11          0.4     0.941441     0.4    0.541441  \n",
       "...         ...          ...     ...         ...  \n",
       "2408        0.4     0.950063     0.4    0.550063  \n",
       "2410        1.6     0.990703     1.6    0.609297  \n",
       "2411        0.4     1.084576     0.4    0.684576  \n",
       "2414        0.2     0.780459     0.2    0.580459  \n",
       "2415        3.0     1.319108     3.0    1.680892  \n",
       "\n",
       "[1065 rows x 6 columns]"
      ]
     },
     "execution_count": 484,
     "metadata": {},
     "output_type": "execute_result"
    }
   ],
   "source": [
    "diff = abs(predictions - target)\n",
    "test_df['predictions'] = predictions\n",
    "test_df['difference'] = diff\n",
    "test_df['target'] = target\n",
    "results_df = test_df[diff > 0.5][['original', 'edit', 'meanGrade', 'predictions', 'target', 'difference']]\n",
    "results_df"
   ]
  },
  {
   "cell_type": "code",
   "execution_count": 485,
   "metadata": {
    "colab": {
     "base_uri": "https://localhost:8080/"
    },
    "id": "aOVYDexwN2pT",
    "outputId": "c8876be5-2c88-4b3a-b48f-669e51fedbbd"
   },
   "outputs": [
    {
     "name": "stdout",
     "output_type": "stream",
     "text": [
      "Spanish police detain man and search Ripoll addresses in hunt for terror <suspects/>   |  squad  |  0.6 1.1477813\n"
     ]
    }
   ],
   "source": [
    "for i in range(1):\n",
    "    index = results_df.index[i]\n",
    "    print(results_df['original'][index], \" | \", results_df['edit'][index], \" | \", results_df['meanGrade'][index], results_df['predictions'][index])"
   ]
  },
  {
   "cell_type": "code",
   "execution_count": 486,
   "metadata": {
    "colab": {
     "base_uri": "https://localhost:8080/"
    },
    "id": "aHwGa_SiJPXe",
    "outputId": "e9e23a22-50ed-494c-8928-14140ec5950b"
   },
   "outputs": [
    {
     "data": {
      "text/plain": [
       "0.3411772"
      ]
     },
     "execution_count": 486,
     "metadata": {},
     "output_type": "execute_result"
    }
   ],
   "source": [
    "np.var(target - predictions)"
   ]
  },
  {
   "cell_type": "code",
   "execution_count": 487,
   "metadata": {
    "colab": {
     "base_uri": "https://localhost:8080/",
     "height": 282
    },
    "id": "pIkzAqydLEU3",
    "outputId": "50e73284-7eb9-4c68-925b-3ce4ffde1fe0"
   },
   "outputs": [
    {
     "data": {
      "text/plain": [
       "<AxesSubplot:>"
      ]
     },
     "execution_count": 487,
     "metadata": {},
     "output_type": "execute_result"
    },
    {
     "data": {
      "image/png": "[encoded data removed]",
      "text/plain": [
       "<Figure size 432x288 with 1 Axes>"
      ]
     },
     "metadata": {
      "needs_background": "light"
     },
     "output_type": "display_data"
    }
   ],
   "source": [
    "train_df['meanGrade'].hist(bins=30)"
   ]
  },
  {
   "cell_type": "code",
   "execution_count": 488,
   "metadata": {
    "colab": {
     "base_uri": "https://localhost:8080/",
     "height": 282
    },
    "id": "cMRvqg2qaebG",
    "outputId": "848fd93c-8149-456d-eeb0-d8635bf69592"
   },
   "outputs": [
    {
     "data": {
      "text/plain": [
       "<AxesSubplot:>"
      ]
     },
     "execution_count": 488,
     "metadata": {},
     "output_type": "execute_result"
    },
    {
     "data": {
      "image/png": "[encoded data removed]",
      "text/plain": [
       "<Figure size 432x288 with 1 Axes>"
      ]
     },
     "metadata": {
      "needs_background": "light"
     },
     "output_type": "display_data"
    }
   ],
   "source": [
    "test_df[test_df['meanGrade'] >= 2.2]['meanGrade'].hist()"
   ]
  },
  {
   "cell_type": "code",
   "execution_count": 489,
   "metadata": {
    "colab": {
     "base_uri": "https://localhost:8080/",
     "height": 400
    },
    "id": "gHibf5ElEzUy",
    "outputId": "5f2b1c21-9d9e-4548-a588-2776761ca2ca"
   },
   "outputs": [
    {
     "data": {
      "text/plain": [
       "<seaborn.axisgrid.FacetGrid at 0x7fe3b952e2e0>"
      ]
     },
     "execution_count": 489,
     "metadata": {},
     "output_type": "execute_result"
    },
    {
     "data": {
      "image/png": "[encoded data removed]",
      "text/plain": [
       "<Figure size 360x360 with 1 Axes>"
      ]
     },
     "metadata": {
      "needs_background": "light"
     },
     "output_type": "display_data"
    }
   ],
   "source": [
    "import seaborn as sns\n",
    "\n",
    "sns.relplot(x='meanGrade', y='predictions', data=test_df)"
   ]
  },
  {
   "cell_type": "code",
   "execution_count": 490,
   "metadata": {
    "colab": {
     "base_uri": "https://localhost:8080/",
     "height": 292
    },
    "id": "nxnNeOTsHOme",
    "outputId": "593c9078-1cdb-4299-a7de-22c0a1614dab"
   },
   "outputs": [
    {
     "data": {
      "text/plain": [
       "<matplotlib.image.AxesImage at 0x7fe3a35b3a00>"
      ]
     },
     "execution_count": 490,
     "metadata": {},
     "output_type": "execute_result"
    },
    {
     "data": {
      "image/png": "[encoded data removed]",
      "text/plain": [
       "<Figure size 288x288 with 1 Axes>"
      ]
     },
     "metadata": {
      "needs_background": "light"
     },
     "output_type": "display_data"
    }
   ],
   "source": [
    "from sklearn.metrics import confusion_matrix, classification_report\n",
    "conf = confusion_matrix(target * 10, rounded_preds * 10)\n",
    "plt.matshow(conf)"
   ]
  },
  {
   "cell_type": "code",
   "execution_count": 334,
   "metadata": {
    "colab": {
     "base_uri": "https://localhost:8080/"
    },
    "id": "9Xm1Kx64I7m7",
    "outputId": "f281365c-4791-49cf-a8e5-533e4b5121ad"
   },
   "outputs": [
    {
     "name": "stdout",
     "output_type": "stream",
     "text": [
      "              precision    recall  f1-score   support\n",
      "\n",
      "         0.0       0.00      0.00      0.00       124\n",
      "         2.0       0.00      0.00      0.00       218\n",
      "         3.0       0.00      0.00      0.00         1\n",
      "         4.0       0.00      0.00      0.00       274\n",
      "         5.0       0.00      0.00      0.00         1\n",
      "         6.0       0.16      0.05      0.08       319\n",
      "         7.0       0.00      0.00      0.00         4\n",
      "         8.0       0.12      0.19      0.15       300\n",
      "         9.0       0.00      0.00      0.00         5\n",
      "        10.0       0.12      0.14      0.13       296\n",
      "        11.0       0.00      0.00      0.00         0\n",
      "        12.0       0.09      0.06      0.07       246\n",
      "        13.0       0.00      0.00      0.00         0\n",
      "        14.0       0.16      0.06      0.09       217\n",
      "        15.0       0.00      0.00      0.00         1\n",
      "        16.0       0.04      0.01      0.01       150\n",
      "        17.0       0.00      0.00      0.00         6\n",
      "        18.0       0.08      0.01      0.02       111\n",
      "        19.0       0.00      0.00      0.00         1\n",
      "        20.0       0.25      0.02      0.03        61\n",
      "        21.0       0.00      0.00      0.00         1\n",
      "        22.0       0.00      0.00      0.00        42\n",
      "        23.0       0.00      0.00      0.00         0\n",
      "        24.0       0.00      0.00      0.00        24\n",
      "        25.0       0.00      0.00      0.00         0\n",
      "        26.0       0.00      0.00      0.00        11\n",
      "        28.0       0.00      0.00      0.00         3\n",
      "        30.0       0.00      0.00      0.00         3\n",
      "\n",
      "    accuracy                           0.06      2419\n",
      "   macro avg       0.04      0.02      0.02      2419\n",
      "weighted avg       0.09      0.06      0.06      2419\n",
      "\n"
     ]
    },
    {
     "name": "stderr",
     "output_type": "stream",
     "text": [
      "/vol/bitbucket/rrr2417/deepscm/ENV2/lib/python3.8/site-packages/sklearn/metrics/_classification.py:1245: UndefinedMetricWarning: Precision and F-score are ill-defined and being set to 0.0 in labels with no predicted samples. Use `zero_division` parameter to control this behavior.\n",
      "  _warn_prf(average, modifier, msg_start, len(result))\n",
      "/vol/bitbucket/rrr2417/deepscm/ENV2/lib/python3.8/site-packages/sklearn/metrics/_classification.py:1245: UndefinedMetricWarning: Recall and F-score are ill-defined and being set to 0.0 in labels with no true samples. Use `zero_division` parameter to control this behavior.\n",
      "  _warn_prf(average, modifier, msg_start, len(result))\n",
      "/vol/bitbucket/rrr2417/deepscm/ENV2/lib/python3.8/site-packages/sklearn/metrics/_classification.py:1245: UndefinedMetricWarning: Precision and F-score are ill-defined and being set to 0.0 in labels with no predicted samples. Use `zero_division` parameter to control this behavior.\n",
      "  _warn_prf(average, modifier, msg_start, len(result))\n",
      "/vol/bitbucket/rrr2417/deepscm/ENV2/lib/python3.8/site-packages/sklearn/metrics/_classification.py:1245: UndefinedMetricWarning: Recall and F-score are ill-defined and being set to 0.0 in labels with no true samples. Use `zero_division` parameter to control this behavior.\n",
      "  _warn_prf(average, modifier, msg_start, len(result))\n",
      "/vol/bitbucket/rrr2417/deepscm/ENV2/lib/python3.8/site-packages/sklearn/metrics/_classification.py:1245: UndefinedMetricWarning: Precision and F-score are ill-defined and being set to 0.0 in labels with no predicted samples. Use `zero_division` parameter to control this behavior.\n",
      "  _warn_prf(average, modifier, msg_start, len(result))\n",
      "/vol/bitbucket/rrr2417/deepscm/ENV2/lib/python3.8/site-packages/sklearn/metrics/_classification.py:1245: UndefinedMetricWarning: Recall and F-score are ill-defined and being set to 0.0 in labels with no true samples. Use `zero_division` parameter to control this behavior.\n",
      "  _warn_prf(average, modifier, msg_start, len(result))\n"
     ]
    }
   ],
   "source": [
    "print(classification_report(target * 10, rounded_preds * 10))"
   ]
  },
  {
   "cell_type": "code",
   "execution_count": 335,
   "metadata": {
    "id": "jTNqPhIAcyw7"
   },
   "outputs": [],
   "source": [
    "train_and_dev_loader = torch.utils.data.DataLoader(train_and_dev, batch_size=BATCH_SIZE, collate_fn=collate_fn_padd)"
   ]
  },
  {
   "cell_type": "code",
   "execution_count": 336,
   "metadata": {
    "colab": {
     "base_uri": "https://localhost:8080/"
    },
    "id": "9Y2CJqXNcAe3",
    "outputId": "dff455b5-7cdb-4770-d1bd-3ab9de75e74a"
   },
   "outputs": [
    {
     "name": "stdout",
     "output_type": "stream",
     "text": [
      "| MSE: 0.25 | RMSE: 0.50 |\n"
     ]
    },
    {
     "data": {
      "text/plain": [
       "(2438.09, 0.25259948)"
      ]
     },
     "execution_count": 336,
     "metadata": {},
     "output_type": "execute_result"
    }
   ],
   "source": [
    "loss_t, mse_t, predictions_t, target_t = eval(train_and_dev_loader, model)\n",
    "model_performance(predictions_t, target_t, print_output=True)"
   ]
  },
  {
   "cell_type": "code",
   "execution_count": 337,
   "metadata": {
    "id": "b3U_C4XfcWW7"
   },
   "outputs": [],
   "source": [
    "diff_t = abs(predictions_t - target_t)\n",
    "train_eval_df = train_df.copy(deep=True)\n",
    "train_eval_df['predictions'] = predictions_t\n",
    "train_eval_df['difference'] = diff_t\n",
    "train_eval_df['target'] = target_t"
   ]
  },
  {
   "cell_type": "code",
   "execution_count": 338,
   "metadata": {
    "colab": {
     "base_uri": "https://localhost:8080/",
     "height": 400
    },
    "id": "T1FtVWEddrp2",
    "outputId": "508101a7-854e-492e-c038-384c5328cf81"
   },
   "outputs": [
    {
     "data": {
      "text/plain": [
       "<seaborn.axisgrid.FacetGrid at 0x7fe3b7d9e400>"
      ]
     },
     "execution_count": 338,
     "metadata": {},
     "output_type": "execute_result"
    },
    {
     "data": {
      "image/png": "[encoded data removed]",
      "text/plain": [
       "<Figure size 360x360 with 1 Axes>"
      ]
     },
     "metadata": {
      "needs_background": "light"
     },
     "output_type": "display_data"
    }
   ],
   "source": [
    "sns.relplot(x='meanGrade', y='predictions', data=train_eval_df)"
   ]
  },
  {
   "cell_type": "code",
   "execution_count": 339,
   "metadata": {
    "colab": {
     "base_uri": "https://localhost:8080/",
     "height": 372
    },
    "id": "VkijFEZleJhC",
    "outputId": "22683f2c-62ec-4dc8-af31-4676f4435e54"
   },
   "outputs": [
    {
     "data": {
      "text/plain": [
       "<AxesSubplot:title={'center':'predictions'}, xlabel='[meanGrade]'>"
      ]
     },
     "execution_count": 339,
     "metadata": {},
     "output_type": "execute_result"
    },
    {
     "data": {
      "image/png": "[encoded data removed]",
      "text/plain": [
       "<Figure size 432x288 with 1 Axes>"
      ]
     },
     "metadata": {
      "needs_background": "light"
     },
     "output_type": "display_data"
    }
   ],
   "source": [
    "train_eval_df[['meanGrade', 'predictions']].boxplot(by='meanGrade')"
   ]
  },
  {
   "cell_type": "code",
   "execution_count": 287,
   "metadata": {
    "colab": {
     "base_uri": "https://localhost:8080/",
     "height": 1000
    },
    "id": "lASZyYXKewMP",
    "outputId": "eb61f72e-b51a-48f7-ae1a-8536e3c6dbcf"
   },
   "outputs": [
    {
     "data": {
      "text/html": [
       "<div>\n",
       "<style scoped>\n",
       "    .dataframe tbody tr th:only-of-type {\n",
       "        vertical-align: middle;\n",
       "    }\n",
       "\n",
       "    .dataframe tbody tr th {\n",
       "        vertical-align: top;\n",
       "    }\n",
       "\n",
       "    .dataframe thead th {\n",
       "        text-align: right;\n",
       "    }\n",
       "</style>\n",
       "<table border=\"1\" class=\"dataframe\">\n",
       "  <thead>\n",
       "    <tr style=\"text-align: right;\">\n",
       "      <th></th>\n",
       "      <th>id</th>\n",
       "      <th>original</th>\n",
       "      <th>edit</th>\n",
       "      <th>grades</th>\n",
       "      <th>meanGrade</th>\n",
       "      <th>predictions</th>\n",
       "      <th>difference</th>\n",
       "      <th>target</th>\n",
       "    </tr>\n",
       "  </thead>\n",
       "  <tbody>\n",
       "    <tr>\n",
       "      <th>190</th>\n",
       "      <td>2883</td>\n",
       "      <td>Is the Senate &lt;filibuster/&gt; of Gorsuch really ...</td>\n",
       "      <td>laziness</td>\n",
       "      <td>10000</td>\n",
       "      <td>0.2</td>\n",
       "      <td>1.344123</td>\n",
       "      <td>1.144123</td>\n",
       "      <td>0.2</td>\n",
       "    </tr>\n",
       "    <tr>\n",
       "      <th>267</th>\n",
       "      <td>770</td>\n",
       "      <td>TRUMP &lt;FUMES/&gt; AT MUELLER AFTER COHEN RAID : '...</td>\n",
       "      <td>LAUGHS</td>\n",
       "      <td>0</td>\n",
       "      <td>0.0</td>\n",
       "      <td>1.168607</td>\n",
       "      <td>1.168607</td>\n",
       "      <td>0.0</td>\n",
       "    </tr>\n",
       "    <tr>\n",
       "      <th>269</th>\n",
       "      <td>12059</td>\n",
       "      <td>How &lt;America/&gt; feels about Trump</td>\n",
       "      <td>marshmallow</td>\n",
       "      <td>10000</td>\n",
       "      <td>0.2</td>\n",
       "      <td>1.287891</td>\n",
       "      <td>1.087891</td>\n",
       "      <td>0.2</td>\n",
       "    </tr>\n",
       "    <tr>\n",
       "      <th>429</th>\n",
       "      <td>5311</td>\n",
       "      <td>Shocking &lt;scale/&gt; of US drinking water crisis</td>\n",
       "      <td>bottle</td>\n",
       "      <td>10000</td>\n",
       "      <td>0.2</td>\n",
       "      <td>1.432445</td>\n",
       "      <td>1.232445</td>\n",
       "      <td>0.2</td>\n",
       "    </tr>\n",
       "    <tr>\n",
       "      <th>578</th>\n",
       "      <td>10727</td>\n",
       "      <td>Bill Maher : “ I &lt;doubt/&gt; that Trump will be p...</td>\n",
       "      <td>hope</td>\n",
       "      <td>10000</td>\n",
       "      <td>0.2</td>\n",
       "      <td>1.236855</td>\n",
       "      <td>1.036855</td>\n",
       "      <td>0.2</td>\n",
       "    </tr>\n",
       "    <tr>\n",
       "      <th>579</th>\n",
       "      <td>4246</td>\n",
       "      <td>The Russian government is giving up control of...</td>\n",
       "      <td>Weather</td>\n",
       "      <td>10000</td>\n",
       "      <td>0.2</td>\n",
       "      <td>1.214815</td>\n",
       "      <td>1.014815</td>\n",
       "      <td>0.2</td>\n",
       "    </tr>\n",
       "    <tr>\n",
       "      <th>863</th>\n",
       "      <td>7907</td>\n",
       "      <td>When a Holocaust &lt;denier/&gt; chooses to run for ...</td>\n",
       "      <td>survivor</td>\n",
       "      <td>0</td>\n",
       "      <td>0.0</td>\n",
       "      <td>1.122697</td>\n",
       "      <td>1.122697</td>\n",
       "      <td>0.0</td>\n",
       "    </tr>\n",
       "    <tr>\n",
       "      <th>1263</th>\n",
       "      <td>5771</td>\n",
       "      <td>&lt;Trump/&gt; Rally : Why it 's misunderstood and ...</td>\n",
       "      <td>Casserole</td>\n",
       "      <td>10000</td>\n",
       "      <td>0.2</td>\n",
       "      <td>1.776996</td>\n",
       "      <td>1.576996</td>\n",
       "      <td>0.2</td>\n",
       "    </tr>\n",
       "    <tr>\n",
       "      <th>1352</th>\n",
       "      <td>877</td>\n",
       "      <td>Where 's Zuck ? Facebook CEO silent as data ha...</td>\n",
       "      <td>progresses</td>\n",
       "      <td>0</td>\n",
       "      <td>0.0</td>\n",
       "      <td>1.483834</td>\n",
       "      <td>1.483834</td>\n",
       "      <td>0.0</td>\n",
       "    </tr>\n",
       "    <tr>\n",
       "      <th>1367</th>\n",
       "      <td>14706</td>\n",
       "      <td>Russia elected Trump while U.S. &lt;spies/&gt; ' sle...</td>\n",
       "      <td>kittens</td>\n",
       "      <td>10000</td>\n",
       "      <td>0.2</td>\n",
       "      <td>1.548965</td>\n",
       "      <td>1.348965</td>\n",
       "      <td>0.2</td>\n",
       "    </tr>\n",
       "    <tr>\n",
       "      <th>1448</th>\n",
       "      <td>4948</td>\n",
       "      <td>China ’s Xi Takes on Trump in &lt;Rebuttal/&gt; Agai...</td>\n",
       "      <td>Rant</td>\n",
       "      <td>0</td>\n",
       "      <td>0.0</td>\n",
       "      <td>1.570688</td>\n",
       "      <td>1.570688</td>\n",
       "      <td>0.0</td>\n",
       "    </tr>\n",
       "    <tr>\n",
       "      <th>1472</th>\n",
       "      <td>448</td>\n",
       "      <td>Roadside bombings kill 10 Egypt soldiers durin...</td>\n",
       "      <td>pyramid</td>\n",
       "      <td>0</td>\n",
       "      <td>0.0</td>\n",
       "      <td>1.099167</td>\n",
       "      <td>1.099167</td>\n",
       "      <td>0.0</td>\n",
       "    </tr>\n",
       "    <tr>\n",
       "      <th>1499</th>\n",
       "      <td>9437</td>\n",
       "      <td>One &lt;slip/&gt; from Trump and this rally will gri...</td>\n",
       "      <td>lie</td>\n",
       "      <td>0</td>\n",
       "      <td>0.0</td>\n",
       "      <td>1.018922</td>\n",
       "      <td>1.018922</td>\n",
       "      <td>0.0</td>\n",
       "    </tr>\n",
       "    <tr>\n",
       "      <th>1565</th>\n",
       "      <td>7352</td>\n",
       "      <td>Christie &lt;signs/&gt; N.J. budget , ending 3-day g...</td>\n",
       "      <td>pays</td>\n",
       "      <td>10000</td>\n",
       "      <td>0.2</td>\n",
       "      <td>1.365418</td>\n",
       "      <td>1.165418</td>\n",
       "      <td>0.2</td>\n",
       "    </tr>\n",
       "    <tr>\n",
       "      <th>1666</th>\n",
       "      <td>14438</td>\n",
       "      <td>Majority of Americans against Trump 's &lt;wall/&gt;...</td>\n",
       "      <td>election</td>\n",
       "      <td>0</td>\n",
       "      <td>0.0</td>\n",
       "      <td>1.046129</td>\n",
       "      <td>1.046129</td>\n",
       "      <td>0.0</td>\n",
       "    </tr>\n",
       "    <tr>\n",
       "      <th>1712</th>\n",
       "      <td>6546</td>\n",
       "      <td>DOJ ends program that oversees local &lt;police/&gt;...</td>\n",
       "      <td>clothing</td>\n",
       "      <td>0</td>\n",
       "      <td>0.0</td>\n",
       "      <td>1.012901</td>\n",
       "      <td>1.012901</td>\n",
       "      <td>0.0</td>\n",
       "    </tr>\n",
       "    <tr>\n",
       "      <th>1885</th>\n",
       "      <td>1067</td>\n",
       "      <td>Seattle to dismiss misdemeanor &lt;marijuana/&gt; ch...</td>\n",
       "      <td>popcorn</td>\n",
       "      <td>10000</td>\n",
       "      <td>0.2</td>\n",
       "      <td>1.264391</td>\n",
       "      <td>1.064391</td>\n",
       "      <td>0.2</td>\n",
       "    </tr>\n",
       "    <tr>\n",
       "      <th>1934</th>\n",
       "      <td>13124</td>\n",
       "      <td>North Korea says it will &lt;suspend/&gt; nuclear an...</td>\n",
       "      <td>spank</td>\n",
       "      <td>10000</td>\n",
       "      <td>0.2</td>\n",
       "      <td>1.611899</td>\n",
       "      <td>1.411899</td>\n",
       "      <td>0.2</td>\n",
       "    </tr>\n",
       "    <tr>\n",
       "      <th>1984</th>\n",
       "      <td>4125</td>\n",
       "      <td>List of the Unremarkable &lt;Performers/&gt; for the...</td>\n",
       "      <td>pants</td>\n",
       "      <td>10000</td>\n",
       "      <td>0.2</td>\n",
       "      <td>1.771403</td>\n",
       "      <td>1.571403</td>\n",
       "      <td>0.2</td>\n",
       "    </tr>\n",
       "    <tr>\n",
       "      <th>2172</th>\n",
       "      <td>7048</td>\n",
       "      <td>Louise Slaughter , ' &lt;Trailblazer/&gt; ' In Congr...</td>\n",
       "      <td>Butcher</td>\n",
       "      <td>10000</td>\n",
       "      <td>0.2</td>\n",
       "      <td>1.239211</td>\n",
       "      <td>1.039211</td>\n",
       "      <td>0.2</td>\n",
       "    </tr>\n",
       "    <tr>\n",
       "      <th>2587</th>\n",
       "      <td>12506</td>\n",
       "      <td>Yet again , &lt;Trump/&gt; 's defensiveness makes hi...</td>\n",
       "      <td>Alabama</td>\n",
       "      <td>0</td>\n",
       "      <td>0.0</td>\n",
       "      <td>1.212474</td>\n",
       "      <td>1.212474</td>\n",
       "      <td>0.0</td>\n",
       "    </tr>\n",
       "    <tr>\n",
       "      <th>2764</th>\n",
       "      <td>13795</td>\n",
       "      <td>Africa Signs Free-Trade Deal to Replace Existi...</td>\n",
       "      <td>Country</td>\n",
       "      <td>10000</td>\n",
       "      <td>0.2</td>\n",
       "      <td>1.655680</td>\n",
       "      <td>1.455680</td>\n",
       "      <td>0.2</td>\n",
       "    </tr>\n",
       "    <tr>\n",
       "      <th>3155</th>\n",
       "      <td>2784</td>\n",
       "      <td>Martin O'Malley &lt;believes/&gt; Trump was \" very m...</td>\n",
       "      <td>hopes</td>\n",
       "      <td>0</td>\n",
       "      <td>0.0</td>\n",
       "      <td>1.045719</td>\n",
       "      <td>1.045719</td>\n",
       "      <td>0.0</td>\n",
       "    </tr>\n",
       "    <tr>\n",
       "      <th>3610</th>\n",
       "      <td>14545</td>\n",
       "      <td>Major Russian mafia trial opens in &lt;Spain/&gt;</td>\n",
       "      <td>contempt</td>\n",
       "      <td>0</td>\n",
       "      <td>0.0</td>\n",
       "      <td>1.087731</td>\n",
       "      <td>1.087731</td>\n",
       "      <td>0.0</td>\n",
       "    </tr>\n",
       "    <tr>\n",
       "      <th>3829</th>\n",
       "      <td>4008</td>\n",
       "      <td>Trump is facing the ' first serious ' &lt;crisis/...</td>\n",
       "      <td>promenade</td>\n",
       "      <td>10000</td>\n",
       "      <td>0.2</td>\n",
       "      <td>1.993536</td>\n",
       "      <td>1.793536</td>\n",
       "      <td>0.2</td>\n",
       "    </tr>\n",
       "    <tr>\n",
       "      <th>3916</th>\n",
       "      <td>1306</td>\n",
       "      <td>The ‘ American Health Care Act ’ Is a Wealth G...</td>\n",
       "      <td>release</td>\n",
       "      <td>10000</td>\n",
       "      <td>0.2</td>\n",
       "      <td>1.349934</td>\n",
       "      <td>1.149934</td>\n",
       "      <td>0.2</td>\n",
       "    </tr>\n",
       "    <tr>\n",
       "      <th>3971</th>\n",
       "      <td>13861</td>\n",
       "      <td>GOP lawmaker &lt;loses/&gt; nearly $ 17 million afte...</td>\n",
       "      <td>spends</td>\n",
       "      <td>0</td>\n",
       "      <td>0.0</td>\n",
       "      <td>1.046229</td>\n",
       "      <td>1.046229</td>\n",
       "      <td>0.0</td>\n",
       "    </tr>\n",
       "    <tr>\n",
       "      <th>4381</th>\n",
       "      <td>2969</td>\n",
       "      <td>Woman thrown out of West Virginia town hall me...</td>\n",
       "      <td>passers</td>\n",
       "      <td>0</td>\n",
       "      <td>0.0</td>\n",
       "      <td>1.048734</td>\n",
       "      <td>1.048734</td>\n",
       "      <td>0.0</td>\n",
       "    </tr>\n",
       "    <tr>\n",
       "      <th>4446</th>\n",
       "      <td>6423</td>\n",
       "      <td>Trump distances himself from Ed Gillespie afte...</td>\n",
       "      <td>chase</td>\n",
       "      <td>0</td>\n",
       "      <td>0.0</td>\n",
       "      <td>1.226343</td>\n",
       "      <td>1.226343</td>\n",
       "      <td>0.0</td>\n",
       "    </tr>\n",
       "    <tr>\n",
       "      <th>4676</th>\n",
       "      <td>9125</td>\n",
       "      <td>Flynn 's lawyers split from &lt;Trump/&gt; , signali...</td>\n",
       "      <td>banana</td>\n",
       "      <td>10000</td>\n",
       "      <td>0.2</td>\n",
       "      <td>1.985757</td>\n",
       "      <td>1.785757</td>\n",
       "      <td>0.2</td>\n",
       "    </tr>\n",
       "    <tr>\n",
       "      <th>4929</th>\n",
       "      <td>8716</td>\n",
       "      <td>Legal experts say Donald Trump Jr has just con...</td>\n",
       "      <td>agent</td>\n",
       "      <td>0</td>\n",
       "      <td>0.0</td>\n",
       "      <td>1.220337</td>\n",
       "      <td>1.220337</td>\n",
       "      <td>0.0</td>\n",
       "    </tr>\n",
       "    <tr>\n",
       "      <th>6299</th>\n",
       "      <td>6128</td>\n",
       "      <td>Trump to host Netanyahu in meeting focused on ...</td>\n",
       "      <td>location</td>\n",
       "      <td>10000</td>\n",
       "      <td>0.2</td>\n",
       "      <td>1.243443</td>\n",
       "      <td>1.043443</td>\n",
       "      <td>0.2</td>\n",
       "    </tr>\n",
       "    <tr>\n",
       "      <th>6438</th>\n",
       "      <td>1290</td>\n",
       "      <td>Former FBI director James Comey &lt;confirms/&gt; he...</td>\n",
       "      <td>brayed</td>\n",
       "      <td>0</td>\n",
       "      <td>0.0</td>\n",
       "      <td>1.153259</td>\n",
       "      <td>1.153259</td>\n",
       "      <td>0.0</td>\n",
       "    </tr>\n",
       "    <tr>\n",
       "      <th>6686</th>\n",
       "      <td>5910</td>\n",
       "      <td>Puerto Rico Bondholders Reject Island 's Restr...</td>\n",
       "      <td>Rum</td>\n",
       "      <td>10000</td>\n",
       "      <td>0.2</td>\n",
       "      <td>1.449616</td>\n",
       "      <td>1.249616</td>\n",
       "      <td>0.2</td>\n",
       "    </tr>\n",
       "    <tr>\n",
       "      <th>6721</th>\n",
       "      <td>8006</td>\n",
       "      <td>Donald Trump &lt;Praises/&gt; His Mom on Mother &amp;amp...</td>\n",
       "      <td>calls</td>\n",
       "      <td>0</td>\n",
       "      <td>0.0</td>\n",
       "      <td>1.528742</td>\n",
       "      <td>1.528742</td>\n",
       "      <td>0.0</td>\n",
       "    </tr>\n",
       "    <tr>\n",
       "      <th>6799</th>\n",
       "      <td>79</td>\n",
       "      <td>Phoenix : Arizona 's Republican Governor will ...</td>\n",
       "      <td>dinner</td>\n",
       "      <td>10000</td>\n",
       "      <td>0.2</td>\n",
       "      <td>2.108080</td>\n",
       "      <td>1.908080</td>\n",
       "      <td>0.2</td>\n",
       "    </tr>\n",
       "    <tr>\n",
       "      <th>6871</th>\n",
       "      <td>13950</td>\n",
       "      <td>Elon Musk &lt;pencils/&gt; in 2024 for first Mars mi...</td>\n",
       "      <td>rings</td>\n",
       "      <td>0</td>\n",
       "      <td>0.0</td>\n",
       "      <td>1.597368</td>\n",
       "      <td>1.597368</td>\n",
       "      <td>0.0</td>\n",
       "    </tr>\n",
       "    <tr>\n",
       "      <th>7029</th>\n",
       "      <td>2228</td>\n",
       "      <td>Jeremy Corbyn 's performance inspires &lt;Bernie ...</td>\n",
       "      <td>exodus</td>\n",
       "      <td>0</td>\n",
       "      <td>0.0</td>\n",
       "      <td>1.198881</td>\n",
       "      <td>1.198881</td>\n",
       "      <td>0.0</td>\n",
       "    </tr>\n",
       "    <tr>\n",
       "      <th>7199</th>\n",
       "      <td>3932</td>\n",
       "      <td>Andrew McCabe 's fishy resignation exposes Hou...</td>\n",
       "      <td>failure</td>\n",
       "      <td>0</td>\n",
       "      <td>0.0</td>\n",
       "      <td>1.212487</td>\n",
       "      <td>1.212487</td>\n",
       "      <td>0.0</td>\n",
       "    </tr>\n",
       "    <tr>\n",
       "      <th>7440</th>\n",
       "      <td>12907</td>\n",
       "      <td>Breitbart News 29th Most Trafficked Site in &lt;A...</td>\n",
       "      <td>school</td>\n",
       "      <td>10000</td>\n",
       "      <td>0.2</td>\n",
       "      <td>1.230925</td>\n",
       "      <td>1.030925</td>\n",
       "      <td>0.2</td>\n",
       "    </tr>\n",
       "    <tr>\n",
       "      <th>7652</th>\n",
       "      <td>14467</td>\n",
       "      <td>Some global investors see fresh worries in an ...</td>\n",
       "      <td>poverty</td>\n",
       "      <td>0</td>\n",
       "      <td>0.0</td>\n",
       "      <td>1.197391</td>\n",
       "      <td>1.197391</td>\n",
       "      <td>0.0</td>\n",
       "    </tr>\n",
       "    <tr>\n",
       "      <th>7765</th>\n",
       "      <td>6309</td>\n",
       "      <td>Trump suggests in tweet Justice Dept is ' out ...</td>\n",
       "      <td>expose</td>\n",
       "      <td>10000</td>\n",
       "      <td>0.2</td>\n",
       "      <td>2.056525</td>\n",
       "      <td>1.856525</td>\n",
       "      <td>0.2</td>\n",
       "    </tr>\n",
       "    <tr>\n",
       "      <th>8068</th>\n",
       "      <td>14054</td>\n",
       "      <td>Stunning details reveal how Israel ’s spy agen...</td>\n",
       "      <td>chickens</td>\n",
       "      <td>10000</td>\n",
       "      <td>0.2</td>\n",
       "      <td>1.400290</td>\n",
       "      <td>1.200289</td>\n",
       "      <td>0.2</td>\n",
       "    </tr>\n",
       "    <tr>\n",
       "      <th>8075</th>\n",
       "      <td>8706</td>\n",
       "      <td>Ninth Circuit Claims Unprecedented Power , Aff...</td>\n",
       "      <td>celebration</td>\n",
       "      <td>0</td>\n",
       "      <td>0.0</td>\n",
       "      <td>1.061870</td>\n",
       "      <td>1.061870</td>\n",
       "      <td>0.0</td>\n",
       "    </tr>\n",
       "    <tr>\n",
       "      <th>8084</th>\n",
       "      <td>12722</td>\n",
       "      <td>The Latest : Trump discusses &lt;health/&gt; insuran...</td>\n",
       "      <td>Pet</td>\n",
       "      <td>10000</td>\n",
       "      <td>0.2</td>\n",
       "      <td>2.039108</td>\n",
       "      <td>1.839108</td>\n",
       "      <td>0.2</td>\n",
       "    </tr>\n",
       "    <tr>\n",
       "      <th>8208</th>\n",
       "      <td>7964</td>\n",
       "      <td>Obama 's letters to &lt;college/&gt; girlfriend</td>\n",
       "      <td>railroad</td>\n",
       "      <td>10000</td>\n",
       "      <td>0.2</td>\n",
       "      <td>2.146172</td>\n",
       "      <td>1.946172</td>\n",
       "      <td>0.2</td>\n",
       "    </tr>\n",
       "    <tr>\n",
       "      <th>8250</th>\n",
       "      <td>2023</td>\n",
       "      <td>A top State Department official could n't expl...</td>\n",
       "      <td>loves</td>\n",
       "      <td>0</td>\n",
       "      <td>0.0</td>\n",
       "      <td>1.166275</td>\n",
       "      <td>1.166275</td>\n",
       "      <td>0.0</td>\n",
       "    </tr>\n",
       "    <tr>\n",
       "      <th>8330</th>\n",
       "      <td>9609</td>\n",
       "      <td>Mick Mulvaney shows why we need to radically c...</td>\n",
       "      <td>eyes</td>\n",
       "      <td>10000</td>\n",
       "      <td>0.2</td>\n",
       "      <td>2.088301</td>\n",
       "      <td>1.888301</td>\n",
       "      <td>0.2</td>\n",
       "    </tr>\n",
       "    <tr>\n",
       "      <th>8854</th>\n",
       "      <td>1369</td>\n",
       "      <td>Trump walks back bizarre &lt;comments/&gt; on fundin...</td>\n",
       "      <td>rant</td>\n",
       "      <td>0</td>\n",
       "      <td>0.0</td>\n",
       "      <td>1.506112</td>\n",
       "      <td>1.506112</td>\n",
       "      <td>0.0</td>\n",
       "    </tr>\n",
       "    <tr>\n",
       "      <th>8927</th>\n",
       "      <td>1609</td>\n",
       "      <td>Trump Is on the Verge of His Own &lt;Bull/&gt; Market</td>\n",
       "      <td>Dolphin</td>\n",
       "      <td>10000</td>\n",
       "      <td>0.2</td>\n",
       "      <td>1.256251</td>\n",
       "      <td>1.056251</td>\n",
       "      <td>0.2</td>\n",
       "    </tr>\n",
       "    <tr>\n",
       "      <th>8931</th>\n",
       "      <td>13647</td>\n",
       "      <td>Trump : If Dems Get Back in &lt;Power/&gt; , They ’r...</td>\n",
       "      <td>energy</td>\n",
       "      <td>0</td>\n",
       "      <td>0.0</td>\n",
       "      <td>1.408628</td>\n",
       "      <td>1.408628</td>\n",
       "      <td>0.0</td>\n",
       "    </tr>\n",
       "    <tr>\n",
       "      <th>9262</th>\n",
       "      <td>7148</td>\n",
       "      <td>DR Congo : 250 killed in ' ethnic ' massacres ...</td>\n",
       "      <td>blames</td>\n",
       "      <td>0</td>\n",
       "      <td>0.0</td>\n",
       "      <td>1.138412</td>\n",
       "      <td>1.138412</td>\n",
       "      <td>0.0</td>\n",
       "    </tr>\n",
       "  </tbody>\n",
       "</table>\n",
       "</div>"
      ],
      "text/plain": [
       "         id                                           original         edit  \\\n",
       "190    2883  Is the Senate <filibuster/> of Gorsuch really ...     laziness   \n",
       "267     770  TRUMP <FUMES/> AT MUELLER AFTER COHEN RAID : '...       LAUGHS   \n",
       "269   12059                   How <America/> feels about Trump  marshmallow   \n",
       "429    5311      Shocking <scale/> of US drinking water crisis       bottle   \n",
       "578   10727  Bill Maher : “ I <doubt/> that Trump will be p...         hope   \n",
       "579    4246  The Russian government is giving up control of...      Weather   \n",
       "863    7907  When a Holocaust <denier/> chooses to run for ...     survivor   \n",
       "1263   5771   <Trump/> Rally : Why it 's misunderstood and ...    Casserole   \n",
       "1352    877  Where 's Zuck ? Facebook CEO silent as data ha...   progresses   \n",
       "1367  14706  Russia elected Trump while U.S. <spies/> ' sle...      kittens   \n",
       "1448   4948  China ’s Xi Takes on Trump in <Rebuttal/> Agai...         Rant   \n",
       "1472    448  Roadside bombings kill 10 Egypt soldiers durin...      pyramid   \n",
       "1499   9437  One <slip/> from Trump and this rally will gri...          lie   \n",
       "1565   7352  Christie <signs/> N.J. budget , ending 3-day g...         pays   \n",
       "1666  14438  Majority of Americans against Trump 's <wall/>...     election   \n",
       "1712   6546  DOJ ends program that oversees local <police/>...     clothing   \n",
       "1885   1067  Seattle to dismiss misdemeanor <marijuana/> ch...      popcorn   \n",
       "1934  13124  North Korea says it will <suspend/> nuclear an...        spank   \n",
       "1984   4125  List of the Unremarkable <Performers/> for the...        pants   \n",
       "2172   7048  Louise Slaughter , ' <Trailblazer/> ' In Congr...      Butcher   \n",
       "2587  12506  Yet again , <Trump/> 's defensiveness makes hi...      Alabama   \n",
       "2764  13795  Africa Signs Free-Trade Deal to Replace Existi...      Country   \n",
       "3155   2784  Martin O'Malley <believes/> Trump was \" very m...        hopes   \n",
       "3610  14545       Major Russian mafia trial opens in <Spain/>      contempt   \n",
       "3829   4008  Trump is facing the ' first serious ' <crisis/...    promenade   \n",
       "3916   1306  The ‘ American Health Care Act ’ Is a Wealth G...      release   \n",
       "3971  13861  GOP lawmaker <loses/> nearly $ 17 million afte...       spends   \n",
       "4381   2969  Woman thrown out of West Virginia town hall me...      passers   \n",
       "4446   6423  Trump distances himself from Ed Gillespie afte...        chase   \n",
       "4676   9125  Flynn 's lawyers split from <Trump/> , signali...       banana   \n",
       "4929   8716  Legal experts say Donald Trump Jr has just con...        agent   \n",
       "6299   6128  Trump to host Netanyahu in meeting focused on ...     location   \n",
       "6438   1290  Former FBI director James Comey <confirms/> he...       brayed   \n",
       "6686   5910  Puerto Rico Bondholders Reject Island 's Restr...          Rum   \n",
       "6721   8006  Donald Trump <Praises/> His Mom on Mother &amp...        calls   \n",
       "6799     79  Phoenix : Arizona 's Republican Governor will ...       dinner   \n",
       "6871  13950  Elon Musk <pencils/> in 2024 for first Mars mi...        rings   \n",
       "7029   2228  Jeremy Corbyn 's performance inspires <Bernie ...       exodus   \n",
       "7199   3932  Andrew McCabe 's fishy resignation exposes Hou...      failure   \n",
       "7440  12907  Breitbart News 29th Most Trafficked Site in <A...       school   \n",
       "7652  14467  Some global investors see fresh worries in an ...      poverty   \n",
       "7765   6309  Trump suggests in tweet Justice Dept is ' out ...       expose   \n",
       "8068  14054  Stunning details reveal how Israel ’s spy agen...     chickens   \n",
       "8075   8706  Ninth Circuit Claims Unprecedented Power , Aff...  celebration   \n",
       "8084  12722  The Latest : Trump discusses <health/> insuran...          Pet   \n",
       "8208   7964          Obama 's letters to <college/> girlfriend     railroad   \n",
       "8250   2023  A top State Department official could n't expl...        loves   \n",
       "8330   9609  Mick Mulvaney shows why we need to radically c...         eyes   \n",
       "8854   1369  Trump walks back bizarre <comments/> on fundin...         rant   \n",
       "8927   1609    Trump Is on the Verge of His Own <Bull/> Market      Dolphin   \n",
       "8931  13647  Trump : If Dems Get Back in <Power/> , They ’r...       energy   \n",
       "9262   7148  DR Congo : 250 killed in ' ethnic ' massacres ...       blames   \n",
       "\n",
       "      grades  meanGrade  predictions  difference  target  \n",
       "190    10000        0.2     1.344123    1.144123     0.2  \n",
       "267        0        0.0     1.168607    1.168607     0.0  \n",
       "269    10000        0.2     1.287891    1.087891     0.2  \n",
       "429    10000        0.2     1.432445    1.232445     0.2  \n",
       "578    10000        0.2     1.236855    1.036855     0.2  \n",
       "579    10000        0.2     1.214815    1.014815     0.2  \n",
       "863        0        0.0     1.122697    1.122697     0.0  \n",
       "1263   10000        0.2     1.776996    1.576996     0.2  \n",
       "1352       0        0.0     1.483834    1.483834     0.0  \n",
       "1367   10000        0.2     1.548965    1.348965     0.2  \n",
       "1448       0        0.0     1.570688    1.570688     0.0  \n",
       "1472       0        0.0     1.099167    1.099167     0.0  \n",
       "1499       0        0.0     1.018922    1.018922     0.0  \n",
       "1565   10000        0.2     1.365418    1.165418     0.2  \n",
       "1666       0        0.0     1.046129    1.046129     0.0  \n",
       "1712       0        0.0     1.012901    1.012901     0.0  \n",
       "1885   10000        0.2     1.264391    1.064391     0.2  \n",
       "1934   10000        0.2     1.611899    1.411899     0.2  \n",
       "1984   10000        0.2     1.771403    1.571403     0.2  \n",
       "2172   10000        0.2     1.239211    1.039211     0.2  \n",
       "2587       0        0.0     1.212474    1.212474     0.0  \n",
       "2764   10000        0.2     1.655680    1.455680     0.2  \n",
       "3155       0        0.0     1.045719    1.045719     0.0  \n",
       "3610       0        0.0     1.087731    1.087731     0.0  \n",
       "3829   10000        0.2     1.993536    1.793536     0.2  \n",
       "3916   10000        0.2     1.349934    1.149934     0.2  \n",
       "3971       0        0.0     1.046229    1.046229     0.0  \n",
       "4381       0        0.0     1.048734    1.048734     0.0  \n",
       "4446       0        0.0     1.226343    1.226343     0.0  \n",
       "4676   10000        0.2     1.985757    1.785757     0.2  \n",
       "4929       0        0.0     1.220337    1.220337     0.0  \n",
       "6299   10000        0.2     1.243443    1.043443     0.2  \n",
       "6438       0        0.0     1.153259    1.153259     0.0  \n",
       "6686   10000        0.2     1.449616    1.249616     0.2  \n",
       "6721       0        0.0     1.528742    1.528742     0.0  \n",
       "6799   10000        0.2     2.108080    1.908080     0.2  \n",
       "6871       0        0.0     1.597368    1.597368     0.0  \n",
       "7029       0        0.0     1.198881    1.198881     0.0  \n",
       "7199       0        0.0     1.212487    1.212487     0.0  \n",
       "7440   10000        0.2     1.230925    1.030925     0.2  \n",
       "7652       0        0.0     1.197391    1.197391     0.0  \n",
       "7765   10000        0.2     2.056525    1.856525     0.2  \n",
       "8068   10000        0.2     1.400290    1.200289     0.2  \n",
       "8075       0        0.0     1.061870    1.061870     0.0  \n",
       "8084   10000        0.2     2.039108    1.839108     0.2  \n",
       "8208   10000        0.2     2.146172    1.946172     0.2  \n",
       "8250       0        0.0     1.166275    1.166275     0.0  \n",
       "8330   10000        0.2     2.088301    1.888301     0.2  \n",
       "8854       0        0.0     1.506112    1.506112     0.0  \n",
       "8927   10000        0.2     1.256251    1.056251     0.2  \n",
       "8931       0        0.0     1.408628    1.408628     0.0  \n",
       "9262       0        0.0     1.138412    1.138412     0.0  "
      ]
     },
     "execution_count": 287,
     "metadata": {},
     "output_type": "execute_result"
    }
   ],
   "source": [
    "low_grade = train_eval_df[(train_eval_df['meanGrade'] < 0.3) & (train_eval_df['difference'] >= 1.0)]\n",
    "low_grade"
   ]
  },
  {
   "cell_type": "markdown",
   "metadata": {
    "id": "rdeFaoc3lDpK"
   },
   "source": [
    "#### Approach 2: No pre-trained representations"
   ]
  },
  {
   "cell_type": "code",
   "execution_count": null,
   "metadata": {
    "id": "46gm47T4lDpQ"
   },
   "outputs": [],
   "source": [
    "train_and_dev = train_df['edit']\n",
    "\n",
    "training_data, dev_data, training_y, dev_y = train_test_split(train_df['edit'], train_df['meanGrade'],\n",
    "                                                                        test_size=(1-train_proportion),\n",
    "                                                                        random_state=42)\n",
    "\n",
    "# We train a Tf-idf model\n",
    "count_vect = CountVectorizer(stop_words='english')\n",
    "train_counts = count_vect.fit_transform(training_data)\n",
    "transformer = TfidfTransformer().fit(train_counts)\n",
    "train_counts = transformer.transform(train_counts)\n",
    "regression_model = LinearRegression().fit(train_counts, training_y)\n",
    "\n",
    "# Train predictions\n",
    "predicted_train = regression_model.predict(train_counts)\n",
    "\n",
    "# Calculate Tf-idf using train and dev, and validate model on dev:\n",
    "test_and_test_counts = count_vect.transform(train_and_dev)\n",
    "transformer = TfidfTransformer().fit(test_and_test_counts)\n",
    "\n",
    "test_counts = count_vect.transform(dev_data)\n",
    "\n",
    "test_counts = transformer.transform(test_counts)\n",
    "\n",
    "# Dev predictions\n",
    "predicted = regression_model.predict(test_counts)\n",
    "\n",
    "# We run the evaluation:\n",
    "print(\"\\nTrain performance:\")\n",
    "sse, mse = model_performance(predicted_train, training_y, True)\n",
    "\n",
    "print(\"\\nDev performance:\")\n",
    "sse, mse = model_performance(predicted, dev_y, True)"
   ]
  },
  {
   "cell_type": "markdown",
   "metadata": {
    "id": "9HyHwHkUlDpa"
   },
   "source": [
    "#### Baseline for task 2"
   ]
  },
  {
   "cell_type": "code",
   "execution_count": null,
   "metadata": {
    "colab": {
     "base_uri": "https://localhost:8080/"
    },
    "id": "7DA3q4o1lDpd",
    "outputId": "1c4c8abb-29f2-474a-c088-96dfbceb5e9d"
   },
   "outputs": [],
   "source": [
    "# Baseline for the task\n",
    "pred_baseline = torch.zeros(len(dev_y)) + np.mean(training_y)\n",
    "print(\"\\nBaseline performance:\")\n",
    "sse, mse = model_performance(pred_baseline, dev_y, True)"
   ]
  },
  {
   "cell_type": "code",
   "execution_count": null,
   "metadata": {
    "id": "84nQDZyBlDpg"
   },
   "outputs": [],
   "source": []
  }
 ],
 "metadata": {
  "accelerator": "GPU",
  "colab": {
   "collapsed_sections": [],
   "name": "NLP_CW_1 Using Gensim vectors",
   "provenance": []
  },
  "kernelspec": {
   "display_name": "Python 3",
   "language": "python",
   "name": "python3"
  },
  "language_info": {
   "codemirror_mode": {
    "name": "ipython",
    "version": 3
   },
   "file_extension": ".py",
   "mimetype": "text/x-python",
   "name": "python",
   "nbconvert_exporter": "python",
   "pygments_lexer": "ipython3",
   "version": "3.8.5"
  }
 },
 "nbformat": 4,
 "nbformat_minor": 1
}
