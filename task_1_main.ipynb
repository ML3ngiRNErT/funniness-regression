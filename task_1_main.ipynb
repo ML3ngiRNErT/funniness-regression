{
 "cells": [
  {
   "cell_type": "markdown",
   "metadata": {
    "id": "2TvyemfDlDmu"
   },
   "source": [
    "### Coursework coding instructions (please also see full coursework spec)\n",
    "\n",
    "Please choose if you want to do either Task 1 or Task 2. You should write your report about one task only.\n",
    "\n",
    "For the task you choose you will need to do two approaches:\n",
    "  - Approach 1, which can use use pre-trained embeddings / models\n",
    "  - Approach 2, which should not use any pre-trained embeddings or models\n",
    "We should be able to run both approaches from the same colab file\n",
    "\n",
    "#### Running your code:\n",
    "  - Your models should run automatically when running your colab file without further intervention\n",
    "  - For each task you should automatically output the performance of both models\n",
    "  - Your code should automatically download any libraries required\n",
    "\n",
    "#### Structure of your code:\n",
    "  - You are expected to use the 'train', 'eval' and 'model_performance' functions, although you may edit these as required\n",
    "  - Otherwise there are no restrictions on what you can do in your code\n",
    "\n",
    "#### Documentation:\n",
    "  - You are expected to produce a .README file summarising how you have approached both tasks\n",
    "\n",
    "#### Reproducibility:\n",
    "  - Your .README file should explain how to replicate the different experiments mentioned in your report\n",
    "\n",
    "Good luck! We are really looking forward to seeing your reports and your model code!"
   ]
  },
  {
   "cell_type": "code",
   "execution_count": 1,
   "metadata": {
    "id": "LRWFk-kelDoA",
    "scrolled": true,
    "tags": []
   },
   "outputs": [],
   "source": [
    "# You will need to download any word embeddings required for your code, e.g.:\n",
    "# ! pip install sacremoses\n",
    "# ! pip install transformers\n",
    "# !wget http://nlp.stanford.edu/data/glove.6B.zip -P /vol/bitbucket/rp3317/data/\n",
    "# !unzip /vol/bitbucket/rp3317/data/glove.6B.zip -d /vol/bitbucket/rp3317/data/\n"
   ]
  },
  {
   "cell_type": "code",
   "execution_count": 2,
   "metadata": {
    "id": "LRWFk-kelDoA",
    "tags": []
   },
   "outputs": [],
   "source": [
    "# For any packages that Colab does not provide auotmatically you will also need to install these below, e.g.:\n",
    "\n",
    "# !pip install ipympl\n",
    "#! pip install torch\n",
    "# ! pip install swifter\n",
    "# !wget https://cs.rochester.edu/u/nhossain/semeval-2020-task-7-dataset.zip -P data/\n",
    "# !unzip data/semeval-2020-task-7-dataset.zip\n",
    "# ! python -m spacy download en"
   ]
  },
  {
   "cell_type": "code",
   "execution_count": 12,
   "metadata": {
    "collapsed": true,
    "jupyter": {
     "outputs_hidden": true
    },
    "tags": []
   },
   "outputs": [
    {
     "name": "stdout",
     "output_type": "stream",
     "text": [
      "--2021-03-01 12:21:20--  https://docs.google.com/uc?export=download&confirm=L_US&id=1n2iImmVxmV9FtrNx2Z4FyVJI6bPsCTTm\n",
      "Resolving docs.google.com (docs.google.com)... 2a00:1450:4009:817::200e, 172.217.169.14\n",
      "Connecting to docs.google.com (docs.google.com)|2a00:1450:4009:817::200e|:443... connected.\n",
      "HTTP request sent, awaiting response... 302 Moved Temporarily\n",
      "Location: https://doc-0o-80-docs.googleusercontent.com/docs/securesc/1ibjbqmv2pnkirj6blrql7f5ftjp04cg/9rs149kpjsel6chmcn082f9bcf7401ko/1614601275000/16703018712613523847/08769474311849947251Z/1n2iImmVxmV9FtrNx2Z4FyVJI6bPsCTTm?e=download [following]\n",
      "--2021-03-01 12:21:20--  https://doc-0o-80-docs.googleusercontent.com/docs/securesc/1ibjbqmv2pnkirj6blrql7f5ftjp04cg/9rs149kpjsel6chmcn082f9bcf7401ko/1614601275000/16703018712613523847/08769474311849947251Z/1n2iImmVxmV9FtrNx2Z4FyVJI6bPsCTTm?e=download\n",
      "Resolving doc-0o-80-docs.googleusercontent.com (doc-0o-80-docs.googleusercontent.com)... 2a00:1450:4009:806::2001, 216.58.204.65\n",
      "Connecting to doc-0o-80-docs.googleusercontent.com (doc-0o-80-docs.googleusercontent.com)|2a00:1450:4009:806::2001|:443... connected.\n",
      "HTTP request sent, awaiting response... 302 Found\n",
      "Location: https://docs.google.com/nonceSigner?nonce=3gtpbrrahtmcu&continue=https://doc-0o-80-docs.googleusercontent.com/docs/securesc/1ibjbqmv2pnkirj6blrql7f5ftjp04cg/9rs149kpjsel6chmcn082f9bcf7401ko/1614601275000/16703018712613523847/08769474311849947251Z/1n2iImmVxmV9FtrNx2Z4FyVJI6bPsCTTm?e%3Ddownload&hash=78acuqlm3l0m3bd0kdu4rbf4dl3fol50 [following]\n",
      "--2021-03-01 12:21:20--  https://docs.google.com/nonceSigner?nonce=3gtpbrrahtmcu&continue=https://doc-0o-80-docs.googleusercontent.com/docs/securesc/1ibjbqmv2pnkirj6blrql7f5ftjp04cg/9rs149kpjsel6chmcn082f9bcf7401ko/1614601275000/16703018712613523847/08769474311849947251Z/1n2iImmVxmV9FtrNx2Z4FyVJI6bPsCTTm?e%3Ddownload&hash=78acuqlm3l0m3bd0kdu4rbf4dl3fol50\n",
      "Connecting to docs.google.com (docs.google.com)|2a00:1450:4009:817::200e|:443... connected.\n",
      "HTTP request sent, awaiting response... 302 Found\n",
      "Location: https://doc-0o-80-docs.googleusercontent.com/docs/securesc/1ibjbqmv2pnkirj6blrql7f5ftjp04cg/9rs149kpjsel6chmcn082f9bcf7401ko/1614601275000/16703018712613523847/08769474311849947251Z/1n2iImmVxmV9FtrNx2Z4FyVJI6bPsCTTm?e=download&nonce=3gtpbrrahtmcu&user=08769474311849947251Z&hash=vb4f106nfrnu0m7s2t9lteqel9bu9lc0 [following]\n",
      "--2021-03-01 12:21:20--  https://doc-0o-80-docs.googleusercontent.com/docs/securesc/1ibjbqmv2pnkirj6blrql7f5ftjp04cg/9rs149kpjsel6chmcn082f9bcf7401ko/1614601275000/16703018712613523847/08769474311849947251Z/1n2iImmVxmV9FtrNx2Z4FyVJI6bPsCTTm?e=download&nonce=3gtpbrrahtmcu&user=08769474311849947251Z&hash=vb4f106nfrnu0m7s2t9lteqel9bu9lc0\n",
      "Connecting to doc-0o-80-docs.googleusercontent.com (doc-0o-80-docs.googleusercontent.com)|2a00:1450:4009:806::2001|:443... connected.\n",
      "HTTP request sent, awaiting response... 200 OK\n",
      "Length: unspecified [application/zip]\n",
      "Saving to: ‘newsdata.zip’\n",
      "\n",
      "newsdata.zip            [  <=>               ]  25.44M  94.4MB/s    in 0.3s    \n",
      "\n",
      "2021-03-01 12:21:21 (94.4 MB/s) - ‘newsdata.zip’ saved [26677036]\n",
      "\n",
      "Archive:  newsdata.zip\n",
      "  inflating: News_Category_Dataset_v2.json  \n"
     ]
    }
   ],
   "source": [
    "!wget --load-cookies /tmp/cookies.txt \"https://docs.google.com/uc?export=download&confirm=$(wget --quiet --save-cookies /tmp/cookies.txt --keep-session-cookies --no-check-certificate 'https://docs.google.com/uc?export=download&id=1n2iImmVxmV9FtrNx2Z4FyVJI6bPsCTTm' -O- | sed -rn 's/.*confirm=([0-9A-Za-z_]+).*/\\1\\n/p')&id=1n2iImmVxmV9FtrNx2Z4FyVJI6bPsCTTm\" -O newsdata.zip && rm -rf /tmp/cookies.txt\n",
    "!unzip newsdata.zip"
   ]
  },
  {
   "cell_type": "code",
   "execution_count": 516,
   "metadata": {
    "id": "WX9TqmK7lDoK"
   },
   "outputs": [],
   "source": [
    "# Imports\n",
    "\n",
    "import torch\n",
    "import torch.nn.functional as F\n",
    "import re \n",
    "import matplotlib.pyplot as plt\n",
    "import seaborn as sns\n",
    "import torch.nn as nn\n",
    "import pandas as pd\n",
    "import numpy as np\n",
    "import string\n",
    "from sklearn.feature_extraction.text import CountVectorizer\n",
    "from torch.utils.data import Dataset, random_split\n",
    "from sklearn.feature_extraction.text import TfidfTransformer\n",
    "from sklearn.model_selection import train_test_split\n",
    "from sklearn.linear_model import LinearRegression\n",
    "import codecs\n",
    "from transformers import AutoTokenizer, AutoModelForTokenClassification, pipeline\n",
    "from tqdm.notebook import tqdm_notebook\n",
    "from tqdm import tqdm\n",
    "from collections import defaultdict\n",
    "tqdm_notebook.pandas()\n"
   ]
  },
  {
   "cell_type": "code",
   "execution_count": 4,
   "metadata": {
    "id": "X09jt8VRlDoM"
   },
   "outputs": [
    {
     "name": "stdout",
     "output_type": "stream",
     "text": [
      "cuda:0\n"
     ]
    }
   ],
   "source": [
    "# Setting random seed and device\n",
    "SEED = 1\n",
    "\n",
    "torch.manual_seed(SEED)\n",
    "torch.cuda.manual_seed(SEED)\n",
    "torch.backends.cudnn.deterministic = True\n",
    "\n",
    "use_cuda = torch.cuda.is_available()\n",
    "device = torch.device(\"cuda:0\" if use_cuda else \"cpu\")\n",
    "print(device)"
   ]
  },
  {
   "cell_type": "code",
   "execution_count": 5,
   "metadata": {
    "id": "AqhlzLl6lDoO"
   },
   "outputs": [],
   "source": [
    "# Load data\n",
    "train_df = pd.read_csv('data/train.csv')\n",
    "funlines_df = pd.read_csv('data/train_funlines.csv')\n",
    "test_df = pd.read_csv('data/dev.csv')\n",
    "news_df = pd.read_json('News_Category_Dataset_v2.json', lines=True)\n",
    "all_headlines = list(train_df['original']) + list(funlines_df['original'])\n",
    "\n",
    "embeddings_dict = {}\n",
    "with open(\"/vol/bitbucket/rp3317/data/glove.6B.50d.txt\", 'r') as f:\n",
    "    for line in f:\n",
    "        values = line.split()\n",
    "        word = values[0]\n",
    "        vector = np.asarray(values[1:], \"float32\")\n",
    "        embeddings_dict[word] = vector"
   ]
  },
  {
   "cell_type": "markdown",
   "metadata": {},
   "source": [
    "## Named Entity Recognition\n",
    "Casing of headlines makes traditional NER harder, train a statistical true caser then give to bert uncased model / use spacy NER"
   ]
  },
  {
   "cell_type": "code",
   "execution_count": 6,
   "metadata": {},
   "outputs": [
    {
     "data": {
      "image/png": "[encoded data removed]",
      "text/plain": [
       "<Figure size 1080x360 with 2 Axes>"
      ]
     },
     "metadata": {
      "needs_background": "light"
     },
     "output_type": "display_data"
    }
   ],
   "source": [
    "upperalpha = set('ABCDEFGHIJKLMNOPQRSTUVWXYZ')\n",
    "punctuation = string.punctuation + \"‘’”“’'/-\\\\.\"\n",
    "hasCap = lambda x: (x[0] in upperalpha) or x[0].isdigit() if len(x) > 0 else False\n",
    "def percentageCap(sentence):\n",
    "    cleaned = re.sub(r\"<(.*)\\/>\", \"\\g<1>\", sentence).strip(punctuation).split(' ')\n",
    "    return (len([w for w in cleaned if hasCap(w)]) / len(cleaned), ' '.join(cleaned))\n",
    "\n",
    "cap_headlines = np.array([percentageCap(h) for h in all_headlines])\n",
    "fig, ax =plt.subplots(1,2, figsize=(15,5))\n",
    "caps = cap_headlines[:,0].astype(float)\n",
    "\n",
    "sns.histplot(caps, ax=ax[0])\n",
    "ax[0].set(xlabel='Percentage of words in headline that begin with capital letter', ylabel='Number of headlines')\n",
    "\n",
    "ax[1].set_xlabel('Percentage of words in headline that begin with capital letter')\n",
    "ax[1].set_ylabel('Density')\n",
    "ax[1]=plt.hist(caps,cumulative=True, density=True, bins=50, alpha=0.8)\n",
    "plt.show()"
   ]
  },
  {
   "cell_type": "code",
   "execution_count": 7,
   "metadata": {},
   "outputs": [],
   "source": [
    "from sacremoses import MosesTruecaser, MosesTokenizer\n",
    "headlines_less_than = lambda limit: cap_headlines[caps < limit][:,1] \n",
    "headlines_more_than = lambda limit: cap_headlines[caps > limit][:,1] \n",
    "\n",
    "mtr = MosesTruecaser()\n",
    "mtok = MosesTokenizer(lang='en')\n",
    "tokenized_docs = [mtok.tokenize(line) for line in headlines_less_than(0.45)]\n",
    "truecase_results = mtr.train(tokenized_docs, save_to='big.truecasemodel')"
   ]
  },
  {
   "cell_type": "code",
   "execution_count": 8,
   "metadata": {},
   "outputs": [
    {
     "data": {
      "text/plain": [
       "'Kellyanne Conway melts down under grilling by Fox news'"
      ]
     },
     "execution_count": 8,
     "metadata": {},
     "output_type": "execute_result"
    }
   ],
   "source": [
    "\n",
    "def truecase(headline):\n",
    "    s = mtr.truecase(headline.lower(), return_str=True)\n",
    "    return s\n",
    "\n",
    "truecase(np.random.choice(headlines_more_than(0.8)))"
   ]
  },
  {
   "cell_type": "code",
   "execution_count": 9,
   "metadata": {},
   "outputs": [],
   "source": [
    "tokenizer = AutoTokenizer.from_pretrained(\"dslim/bert-base-NER-uncased\")\n",
    "model = AutoModelForTokenClassification.from_pretrained(\"dslim/bert-base-NER-uncased\")\n",
    "# ! python -m spacy download en_core_web_lg\n",
    "# nlp = spacy.load('en_core_web_lg')\n"
   ]
  },
  {
   "cell_type": "code",
   "execution_count": 606,
   "metadata": {},
   "outputs": [
    {
     "data": {
      "text/plain": [
       "[{'word': 'warren', 'type': 'GPE'}]"
      ]
     },
     "execution_count": 606,
     "metadata": {},
     "output_type": "execute_result"
    }
   ],
   "source": [
    "from spacy.pipeline import EntityRuler\n",
    "class EntityTagger:\n",
    "    def __init__(self, use_bert=False):\n",
    "        if use_bert:\n",
    "            self.nlp = pipeline(\"ner\", model=model, tokenizer=tokenizer, device=0)\n",
    "        else:\n",
    "            self.nlp = spacy.load(\"en_core_web_sm\")\n",
    "            ruler = self.nlp.add_pipe(\"entity_ruler\")\n",
    "            ruler.add_patterns([\n",
    "                {\"label\": \"PERSON\", \"pattern\": \"Trump\"},\n",
    "                {\"label\": \"PERSON\", \"pattern\": \"trump\"}\n",
    "            ])\n",
    "        self.use_bert = use_bert\n",
    "    \n",
    "    def _next_word_is_connected(self, results, i):\n",
    "        return (i < len(results) - 1) and \\\n",
    "                results[i+1]['word'].startswith('##') and \\\n",
    "                results[i]['end'] == results[i+1]['start'] \\\n",
    "        \n",
    "    def _process_results(self, results):\n",
    "        if not results:\n",
    "            return []\n",
    "        words = []\n",
    "        cur_word = \"\"\n",
    "        cur_start = results[0]['start']\n",
    "        for i, r in enumerate(results):\n",
    "            cur_word += re.sub(\"##(.*)\", \"\\g<1>\", r['word'])\n",
    "            if not self._next_word_is_connected(results, i):\n",
    "                words.append(dict(word=cur_word, type=r['entity'][2::], start=cur_start, end=r['end']))\n",
    "                cur_word = \"\"\n",
    "                cur_start = results[i+1]['start'] if i < len(results) - 1 else results[i]['start']\n",
    "            \n",
    "        return words\n",
    "    \n",
    "    def _process_spacy_results(self, results):\n",
    "        if results.ents:\n",
    "            return [dict(word=r.text.lower(), type=r.label_) for r in results.ents]\n",
    "        return []\n",
    "            \n",
    "    def tag(self, text):\n",
    "        tc = truecase(text)\n",
    "        results = self.nlp(tc)\n",
    "        if self.use_bert:\n",
    "            return self._process_results(results)\n",
    "        else:\n",
    "            return self._process_spacy_results(results)\n",
    "\n",
    "tagger = EntityTagger(use_bert=False)\n",
    "# example = \"Visa , Mastercard , Stripe , and eBay all quit Facebook ’s Libra in one day\"\n",
    "example = np.random.choice(headlines_more_than(0.7))\n",
    "# example = \"Donald trump refuses to send more aid to Puerto Rico , citing business interests\"\n",
    "        \n",
    "tagger.tag(example)"
   ]
  },
  {
   "cell_type": "code",
   "execution_count": 607,
   "metadata": {},
   "outputs": [],
   "source": [
    "import spacy\n",
    "from spacy.lang.en import English\n",
    "nlp = spacy.load('en_core_web_sm')\n",
    "class PreProcessor():\n",
    "    def __init__(self, remove_stops=False, lowercase=False, lemmatize=False, replace_edit=False):\n",
    "        self.remove_stops = remove_stops\n",
    "        self.lowercase = lowercase\n",
    "        self.lemmatize = lemmatize\n",
    "        self.replace_edit = replace_edit\n",
    "    \n",
    "    def process(self,row): \n",
    "        e, o = row['edit'], row['original']\n",
    "        if self.replace_edit:\n",
    "            replaced = re.sub(r\"<(.*)\\/>\", r\"\\g<1>\", row['original'])\n",
    "        else:\n",
    "            replaced = re.sub(r\"<(.*)\\/>\", e, o)\n",
    "        \n",
    "        replaced = replaced.translate(str.maketrans('','', punctuation))\n",
    "        if self.lowercase:\n",
    "            replaced = replaced.lower()\n",
    "        doc = nlp(replaced)\n",
    "        doc = [t for t in doc if t.text not in punctuation]\n",
    "        doc = [t for t in doc if not t.is_space] # Remove space tokens\n",
    "        if self.remove_stops:\n",
    "            doc = [t for t in doc if not (t.is_stop and t.text != e)] # Ensure edits aren't removed if they are stop words\n",
    "        if self.lemmatize:\n",
    "            st = \" \".join([t.lemma_ for t in doc])\n",
    "        else:\n",
    "            st = \" \".join([t.text for t in doc])\n",
    "            \n",
    "        return st\n",
    "# PreProcessor(remove_stops=True, lowercase=True, lemmatize=True) \\\n",
    "#     .process(dict(original=\"Trump announces ' precision strikes ' on Syria , decries ' <monster/> ' Assad\"))"
   ]
  },
  {
   "cell_type": "code",
   "execution_count": 608,
   "metadata": {},
   "outputs": [
    {
     "data": {
      "application/vnd.jupyter.widget-view+json": {
       "model_id": "746d6332518942d2bd15df5414fc8ba5",
       "version_major": 2,
       "version_minor": 0
      },
      "text/plain": [
       "  0%|          | 0/9652 [00:00<?, ?it/s]"
      ]
     },
     "metadata": {},
     "output_type": "display_data"
    },
    {
     "data": {
      "application/vnd.jupyter.widget-view+json": {
       "model_id": "4967b5f013a7425581895339dbed7287",
       "version_major": 2,
       "version_minor": 0
      },
      "text/plain": [
       "  0%|          | 0/9652 [00:00<?, ?it/s]"
      ]
     },
     "metadata": {},
     "output_type": "display_data"
    }
   ],
   "source": [
    "preprocessor = PreProcessor(remove_stops=False)\n",
    "train_df['cleaned'] = train_df.progress_apply(preprocessor.process, axis=1)\n",
    "train_df['entity_tags'] = train_df.progress_apply(lambda x: tagger.tag(x['cleaned']), axis=1)\n"
   ]
  },
  {
   "cell_type": "code",
   "execution_count": 609,
   "metadata": {
    "tags": []
   },
   "outputs": [],
   "source": [
    "def get_unique_entities(threshold=8):\n",
    "    unique = defaultdict(lambda: defaultdict(int))\n",
    "    for i, entities in enumerate(train_df['entity_tags']):\n",
    "        for e in entities:\n",
    "            unique[e['type']][e['word']] += 1\n",
    "    \n",
    "    thresholded = defaultdict(lambda: defaultdict(int))\n",
    "    for k, v in unique.items():\n",
    "        for ent, count in v.items():\n",
    "            if count >= threshold:\n",
    "                thresholded[k][ent] = count\n",
    "    \n",
    "    return thresholded\n",
    "entities = get_unique_entities()"
   ]
  },
  {
   "cell_type": "code",
   "execution_count": 610,
   "metadata": {
    "tags": []
   },
   "outputs": [
    {
     "data": {
      "application/vnd.jupyter.widget-view+json": {
       "model_id": "10a943d0af9e4c3b89ba4d73c4e769c2",
       "version_major": 2,
       "version_minor": 0
      },
      "text/plain": [
       "Canvas(toolbar=Toolbar(toolitems=[('Home', 'Reset original view', 'home', 'home'), ('Back', 'Back to previous …"
      ]
     },
     "metadata": {},
     "output_type": "display_data"
    },
    {
     "data": {
      "text/plain": [
       "Text(0, 0.5, 'Occurences')"
      ]
     },
     "execution_count": 610,
     "metadata": {},
     "output_type": "execute_result"
    }
   ],
   "source": [
    "names = np.array(sorted(entities['PERSON'].items(), key=lambda x: x[1])[::-1])\n",
    "counts = names[:,1].astype(int)\n",
    "# for i, c in enumerate(counts):\n",
    "#     print(f\"{names[i][0]} - {c * 100 / sum(counts):.2f}%\")\n",
    "fig = plt.figure(figsize=(15,4))\n",
    "plt.bar(names[:,0][2:30],counts[2:30])\n",
    "fig.axes[0].tick_params(axis=\"x\", labelsize=9)\n",
    "fig.axes[0].tick_params(axis=\"y\", labelsize=12)\n",
    "fig.axes[0].set_xlabel(\"People\")\n",
    "fig.axes[0].set_ylabel(\"Occurences\")"
   ]
  },
  {
   "cell_type": "code",
   "execution_count": 611,
   "metadata": {
    "tags": []
   },
   "outputs": [
    {
     "data": {
      "application/vnd.jupyter.widget-view+json": {
       "model_id": "b5ebf785f8804934a7526743ed11db5c",
       "version_major": 2,
       "version_minor": 0
      },
      "text/plain": [
       "  0%|          | 0/9652 [00:00<?, ?it/s]"
      ]
     },
     "metadata": {},
     "output_type": "display_data"
    }
   ],
   "source": [
    "train_df['cleaned_no_stops'] = train_df.progress_apply(PreProcessor(remove_stops=True, lowercase=True, lemmatize=True).process, axis=1)"
   ]
  },
  {
   "cell_type": "code",
   "execution_count": 612,
   "metadata": {},
   "outputs": [
    {
     "data": {
      "application/vnd.jupyter.widget-view+json": {
       "model_id": "e65ab2c3ac9e4cbd85a1f7d9b7608f7d",
       "version_major": 2,
       "version_minor": 0
      },
      "text/plain": [
       "  0%|          | 0/9652 [00:00<?, ?it/s]"
      ]
     },
     "metadata": {},
     "output_type": "display_data"
    }
   ],
   "source": [
    "train_df['cleaned_replaced'] = train_df.progress_apply(PreProcessor(remove_stops=True, lowercase=True, lemmatize=True, replace_edit=True).process, axis=1)"
   ]
  },
  {
   "cell_type": "code",
   "execution_count": 622,
   "metadata": {},
   "outputs": [
    {
     "name": "stderr",
     "output_type": "stream",
     "text": [
      "9652it [00:52, 184.55it/s]\n"
     ]
    }
   ],
   "source": [
    "def all_entities():\n",
    "    all_entities = set()\n",
    "    for k in entities.keys():\n",
    "        for e in entities[k]:\n",
    "            all_entities.add(e)\n",
    "    return all_entities\n",
    "\n",
    "def getNearbyWords():\n",
    "    nearby_words = defaultdict(set)\n",
    "    counts = defaultdict(int)\n",
    "    for i, w in tqdm(enumerate(train_df['cleaned_no_stops'])):\n",
    "        tags = train_df.iloc[i]['entity_tags']\n",
    "        edit = nlp(train_df.iloc[i]['edit'].lower())[0].lemma_\n",
    "        ents_in_headline = set(tag['word'] for tag in tags)\n",
    "        nearby = set(w.split(' ')) - ents_in_headline\n",
    "        for w in ents_in_headline:\n",
    "            for n in nearby:\n",
    "                counts[(w,n)] += train_df.iloc[i]['meanGrade']**3\n",
    "            nearby_words[w] |= nearby\n",
    "        nearby_words[w].add(edit)\n",
    "        counts[(w,edit)] += train_df.iloc[i]['meanGrade']**3\n",
    "    return nearby_words, counts\n",
    "\n",
    "all_entities = all_entities()\n",
    "nearby_words, counts = getNearbyWords()"
   ]
  },
  {
   "cell_type": "code",
   "execution_count": 623,
   "metadata": {},
   "outputs": [],
   "source": [
    "%matplotlib widget\n",
    "\n",
    "from sklearn.decomposition import PCA\n",
    "from mpl_toolkits.mplot3d import Axes3D\n",
    "from sklearn.cluster import KMeans\n",
    "\n",
    "sns.set_style(\"whitegrid\", {'axes.grid' : False})\n",
    "\n",
    "def getEmbs(ent, three_dims=False, topn=20, plot=False):\n",
    "    if ent not in nearby_words:\n",
    "        print(\"Not valid ent\")\n",
    "        return\n",
    "    words_to_plot = [w for w in nearby_words[ent] if w in embeddings_dict]\n",
    "    if not words_to_plot:\n",
    "        print(\"No words to plot\")\n",
    "        return\n",
    "    words_to_plot = sorted(words_to_plot, key=lambda w: -counts[(ent, w)])[:topn]\n",
    "    vectors = np.array([embeddings_dict[w] for w in words_to_plot])\n",
    "    if plot:\n",
    "        fig, ax = plt.subplots()\n",
    "        points = PCA(random_state=0).fit_transform(vectors)[:,:3]\n",
    "\n",
    "        if three_dims:\n",
    "            ax = Axes3D(fig)\n",
    "            ax.scatter(points[:,0], points[:,1], points[:,2])\n",
    "            for i, txt in enumerate(words_to_plot):\n",
    "                ax.text(points[i,0], points[i,1], points[i,2], txt)\n",
    "        else:\n",
    "            ax.scatter(points[:,0], points[:,1])\n",
    "            for i, txt in enumerate(words_to_plot):\n",
    "                ax.annotate(txt, (points[i,0], points[i,1]))\n",
    "        plt.show()\n",
    "    return words_to_plot, vectors\n",
    "    "
   ]
  },
  {
   "cell_type": "code",
   "execution_count": 647,
   "metadata": {},
   "outputs": [
    {
     "data": {
      "application/vnd.jupyter.widget-view+json": {
       "model_id": "75b95144a27442a396a9050c3327ef12",
       "version_major": 2,
       "version_minor": 0
      },
      "text/plain": [
       "Canvas(toolbar=Toolbar(toolitems=[('Home', 'Reset original view', 'home', 'home'), ('Back', 'Back to previous …"
      ]
     },
     "metadata": {},
     "output_type": "display_data"
    },
    {
     "data": {
      "text/plain": [
       "array([[-1.55733433e-02,  8.17999989e-02,  3.12751681e-01,\n",
       "         1.00454852e-01,  4.67611670e-01,  1.64791659e-01,\n",
       "        -1.37013197e-03,  3.26387674e-01, -1.60468832e-01,\n",
       "         8.87668580e-02, -8.61284137e-03,  7.69433379e-02,\n",
       "        -4.18436706e-01,  1.14647314e-01,  3.85698318e-01,\n",
       "         3.49440664e-01,  3.73915017e-01, -2.26627514e-01,\n",
       "        -1.84648693e-01, -4.88693357e-01, -2.52203345e-01,\n",
       "        -2.08886713e-02, -1.42889500e-01,  3.04569919e-02,\n",
       "         3.52010995e-01, -1.44483328e+00, -7.08439946e-02,\n",
       "         8.61185044e-02,  5.52396655e-01, -4.09995854e-01,\n",
       "         2.46321678e+00,  2.24441677e-01, -4.25893307e-01,\n",
       "        -7.88247772e-03,  5.22334874e-02, -1.25121653e-01,\n",
       "         1.86201692e-01, -1.30144842e-02, -6.03562593e-03,\n",
       "        -3.16595346e-01, -1.58024997e-01,  3.81294712e-02,\n",
       "         1.13100648e-01,  3.36586654e-01, -2.71748841e-01,\n",
       "         4.71266694e-02,  2.86404848e-01,  2.34870493e-01,\n",
       "         1.08109832e-01,  6.94566667e-02],\n",
       "       [-2.04981670e-01,  2.37300009e-01,  3.32076192e-01,\n",
       "        -2.06378177e-01,  3.93030047e-02,  2.40003347e-01,\n",
       "        -5.72983325e-01, -2.35467821e-01, -3.76614988e-01,\n",
       "        -6.21951699e-01, -1.15809333e+00, -4.77975041e-01,\n",
       "        -1.71322837e-01,  5.44449836e-02, -1.72886252e-03,\n",
       "        -3.35348338e-01, -1.43859997e-01, -3.62300165e-02,\n",
       "         4.63801235e-01, -1.23959482e-01, -4.92844954e-02,\n",
       "         1.52764976e-01,  3.00161690e-01, -2.37903357e-01,\n",
       "         2.47878879e-01, -1.90153337e+00, -3.12016666e-01,\n",
       "         2.23886639e-01, -3.17446709e-01,  1.24573380e-01,\n",
       "         1.70026672e+00,  4.10769999e-01, -1.15075171e+00,\n",
       "        -3.64090532e-01, -7.41248310e-01, -4.02103186e-01,\n",
       "        -2.97982156e-01,  1.06825009e-01, -7.56996691e-01,\n",
       "        -7.32558370e-01, -1.36378318e-01,  1.78986669e-01,\n",
       "        -8.17988336e-01, -1.31620526e-01,  1.12783149e-01,\n",
       "        -2.46978715e-01, -8.05544972e-01,  9.05090049e-02,\n",
       "         2.41079345e-01,  3.04764986e-01],\n",
       "       [ 2.95978367e-01,  6.50133193e-03, -9.22429979e-01,\n",
       "         4.28933315e-02,  2.97542661e-01, -1.02257997e-01,\n",
       "        -6.72186673e-01, -7.09195018e-01,  2.31886655e-01,\n",
       "         5.07613361e-01,  2.53653079e-01,  6.12399995e-01,\n",
       "         3.51169944e-01,  1.36363328e-01,  8.51066709e-01,\n",
       "         2.02571347e-01,  1.30461991e-01,  7.44000018e-01,\n",
       "        -1.05120337e+00, -4.44863379e-01,  5.99898338e-01,\n",
       "         3.50933343e-01,  2.93983310e-01,  5.85230052e-01,\n",
       "        -2.96073318e-01, -4.11309958e-01, -7.00843334e-01,\n",
       "         2.29133219e-02,  2.22940028e-01, -1.97383344e-01,\n",
       "         1.05455327e+00,  2.34513342e-01, -2.47296631e-01,\n",
       "         7.21566737e-01, -4.05739993e-01, -1.61376655e-01,\n",
       "        -3.77810657e-01, -4.96940017e-01,  1.56500041e-01,\n",
       "        -2.01820016e-01,  3.49330008e-01,  4.61720079e-02,\n",
       "        -2.71249980e-01,  6.77450001e-01,  4.53696668e-01,\n",
       "         8.93099904e-02, -1.20599665e-01, -8.92546713e-01,\n",
       "        -2.99840033e-01,  3.24759930e-02]], dtype=float32)"
      ]
     },
     "execution_count": 647,
     "metadata": {},
     "output_type": "execute_result"
    }
   ],
   "source": [
    "def getClusterVectors(ent, plot=False, n_clusters=3, topn=50):\n",
    "    words, vectors = getEmbs(ent, topn=topn)\n",
    "    kmeans = KMeans(n_clusters=n_clusters, random_state=0).fit(vectors)\n",
    "    if plot:\n",
    "        points = PCA(random_state=0).fit_transform(np.concatenate((vectors,kmeans.cluster_centers_)))[:,:3]\n",
    "        cluster_colours = np.repeat(n_clusters, n_clusters)\n",
    "        colours = np.concatenate((kmeans.labels_, cluster_colours))\n",
    "        fig, ax = plt.subplots()\n",
    "        ax.scatter(points[:,0], points[:,1], c=colours)\n",
    "        for i, txt in enumerate(words + [f'CLUSTER {i+1}' for i in range(n_clusters)]):\n",
    "            kwargs = {}\n",
    "            if 'CLUSTER ' in txt:\n",
    "                kwargs = {'weight': 'bold'}\n",
    "            ax.annotate(txt, (points[i,0], points[i,1]), **kwargs)\n",
    "        plt.show()\n",
    "    return kmeans.cluster_centers_\n",
    "\n",
    "# entity_clusters = {ent: getClusterVectors(ent, n_clusters=2, topn=10) for ent in tqdm(all_entities)}\n",
    "getClusterVectors('hillary clinton', plot=True, topn=15)\n"
   ]
  },
  {
   "cell_type": "markdown",
   "metadata": {},
   "source": [
    "# Collect features"
   ]
  },
  {
   "cell_type": "code",
   "execution_count": 468,
   "metadata": {},
   "outputs": [
    {
     "data": {
      "application/vnd.jupyter.widget-view+json": {
       "model_id": "615f9643727440d09d37ca2d07839db1",
       "version_major": 2,
       "version_minor": 0
      },
      "text/plain": [
       "  0%|          | 0/9652 [00:00<?, ?it/s]"
      ]
     },
     "metadata": {},
     "output_type": "display_data"
    },
    {
     "data": {
      "application/vnd.jupyter.widget-view+json": {
       "model_id": "6aceb884aafd44c1bf18d9d7467aedfb",
       "version_major": 2,
       "version_minor": 0
      },
      "text/plain": [
       "  0%|          | 0/9652 [00:00<?, ?it/s]"
      ]
     },
     "metadata": {},
     "output_type": "display_data"
    }
   ],
   "source": [
    "\n",
    "def position_of_edit(row):\n",
    "    words = row['original'].split(' ')\n",
    "    count = 0\n",
    "    for w in words:\n",
    "        if re.match(\"<.*\\/>\", w):\n",
    "            return count\n",
    "        count += 1\n",
    "    return 1\n",
    "\n",
    "def len_headline(row):\n",
    "    return len(row['original'].split(' '))\n",
    "    \n",
    "def funniness_of_each_entity():\n",
    "    funniness = defaultdict(float)\n",
    "    counts = defaultdict(int)\n",
    "    for i, ents in tqdm(enumerate(train_df['entity_tags'])):\n",
    "        for ent in ents:\n",
    "            funniness[ent['word']] += train_df.iloc[i]['meanGrade']\n",
    "            counts[ent['word']] += 1\n",
    "            \n",
    "    avg_funniness = dict()\n",
    "    for k, v in funniness.items():\n",
    "        avg_funniness[k] = funniness[k] / counts[k]\n",
    "    \n",
    "    return avg_funniness\n",
    "        \n",
    "train_df['edit_pos'] = train_df.progress_apply(position_of_edit, axis=1)\n",
    "train_df['len'] = train_df.progress_apply(len_headline, axis=1)"
   ]
  },
  {
   "cell_type": "code",
   "execution_count": 629,
   "metadata": {},
   "outputs": [
    {
     "name": "stderr",
     "output_type": "stream",
     "text": [
      "9652it [00:02, 4808.19it/s]\n"
     ]
    }
   ],
   "source": [
    "#  sorted(list(entity_funniness.items()), key=lambda x: -entity_funniness[x[0]])\n",
    "entity_funniness = funniness_of_each_entity()"
   ]
  },
  {
   "cell_type": "code",
   "execution_count": 630,
   "metadata": {},
   "outputs": [
    {
     "data": {
      "application/vnd.jupyter.widget-view+json": {
       "model_id": "72950c02f9384897a4567f1d9e4e5ce3",
       "version_major": 2,
       "version_minor": 0
      },
      "text/plain": [
       "  0%|          | 0/9652 [00:00<?, ?it/s]"
      ]
     },
     "metadata": {},
     "output_type": "display_data"
    },
    {
     "name": "stderr",
     "output_type": "stream",
     "text": [
      "<ipython-input-630-8049e178e731>:20: RuntimeWarning: invalid value encountered in power\n",
      "  score += (max_sim ** 0.25) * entity_funniness[ent] ** 3\n"
     ]
    },
    {
     "data": {
      "application/vnd.jupyter.widget-view+json": {
       "model_id": "5339e8b0f83648a3894daf8d647628dd",
       "version_major": 2,
       "version_minor": 0
      },
      "text/plain": [
       "Canvas(toolbar=Toolbar(toolitems=[('Home', 'Reset original view', 'home', 'home'), ('Back', 'Back to previous …"
      ]
     },
     "metadata": {},
     "output_type": "display_data"
    },
    {
     "data": {
      "text/plain": [
       "0.13855682801440736"
      ]
     },
     "execution_count": 630,
     "metadata": {},
     "output_type": "execute_result"
    }
   ],
   "source": [
    "def similarity(a, b):\n",
    "    return np.dot(a, b)/(np.linalg.norm(a)*np.linalg.norm(b))\n",
    "\n",
    "def get_max_similarity(vec, clusters):\n",
    "    return np.max([similarity(vec, c) for c in clusters])\n",
    "\n",
    "def entity_funniness_score(row): \n",
    "    r = row['cleaned_replaced']\n",
    "    relevant_entities = [x['word'] for x in row['entity_tags'] if (x['word'] in entity_funniness) and (x['word'] in entity_clusters)]\n",
    "    score = 0\n",
    "    for w in r.split(' '):\n",
    "        if w not in embeddings_dict or w in relevant_entities:\n",
    "            continue\n",
    "        vec = embeddings_dict[w]\n",
    "        for ent in relevant_entities:\n",
    "#             if not (ent in entities['PER'] or ent in entities['LOC']):\n",
    "#                 continue\n",
    "            clusters = entity_clusters[ent]\n",
    "            max_sim = get_max_similarity(vec, clusters)\n",
    "            score += (max_sim ** 0.25) * entity_funniness[ent] ** 3\n",
    "    return score\n",
    "    \n",
    "train_df['entity_funniness_score'] = train_df.progress_apply(entity_funniness_score, axis=1)\n",
    "train_df['entity_funniness_score'].fillna(0, inplace=True)\n",
    "fig, ax = plt.subplots()\n",
    "ax.hist(train_df['entity_funniness_score'].to_numpy(), bins=52)\n",
    "plt.show()\n",
    "train_df['entity_funniness_score'].corr(train_df['meanGrade'])"
   ]
  },
  {
   "cell_type": "code",
   "execution_count": 500,
   "metadata": {},
   "outputs": [
    {
     "data": {
      "application/vnd.jupyter.widget-view+json": {
       "model_id": "b9ffcc16ecb741ae9a1eccf39dc74729",
       "version_major": 2,
       "version_minor": 0
      },
      "text/plain": [
       "  0%|          | 0/9652 [00:00<?, ?it/s]"
      ]
     },
     "metadata": {},
     "output_type": "display_data"
    },
    {
     "data": {
      "application/vnd.jupyter.widget-view+json": {
       "model_id": "6970fb8449f748e68a6be487068ea0d7",
       "version_major": 2,
       "version_minor": 0
      },
      "text/plain": [
       "Canvas(toolbar=Toolbar(toolitems=[('Home', 'Reset original view', 'home', 'home'), ('Back', 'Back to previous …"
      ]
     },
     "metadata": {},
     "output_type": "display_data"
    },
    {
     "data": {
      "text/plain": [
       "-0.15680708656808165"
      ]
     },
     "execution_count": 500,
     "metadata": {},
     "output_type": "execute_result"
    }
   ],
   "source": [
    "def distance_of_edit_to_original(row):\n",
    "#     return np.random.randint(100) * 0.01\n",
    "    e = row['edit'].lower()\n",
    "    original = re.search('<(.*)\\/>', row['original']).group(1).lower()\n",
    "    if original in embeddings_dict and e in embeddings_dict:\n",
    "        return similarity(embeddings_dict[e], embeddings_dict[original])\n",
    "    return 0\n",
    "\n",
    "train_df['edit_similarity'] = train_df.progress_apply(distance_of_edit_to_original, axis=1)\n",
    "fig, ax = plt.subplots()\n",
    "ax.hist(train_df['edit_similarity'].to_numpy(), bins=52)\n",
    "plt.show()\n",
    "train_df['edit_similarity'].corr(train_df['meanGrade'])"
   ]
  },
  {
   "cell_type": "code",
   "execution_count": 631,
   "metadata": {},
   "outputs": [
    {
     "data": {
      "text/html": [
       "<div>\n",
       "<style scoped>\n",
       "    .dataframe tbody tr th:only-of-type {\n",
       "        vertical-align: middle;\n",
       "    }\n",
       "\n",
       "    .dataframe tbody tr th {\n",
       "        vertical-align: top;\n",
       "    }\n",
       "\n",
       "    .dataframe thead th {\n",
       "        text-align: right;\n",
       "    }\n",
       "</style>\n",
       "<table border=\"1\" class=\"dataframe\">\n",
       "  <thead>\n",
       "    <tr style=\"text-align: right;\">\n",
       "      <th></th>\n",
       "      <th>id</th>\n",
       "      <th>original</th>\n",
       "      <th>edit</th>\n",
       "      <th>grades</th>\n",
       "      <th>meanGrade</th>\n",
       "      <th>cleaned</th>\n",
       "      <th>entity_tags</th>\n",
       "      <th>cleaned_no_stops</th>\n",
       "      <th>edit_pos</th>\n",
       "      <th>len</th>\n",
       "      <th>cleaned_replaced</th>\n",
       "      <th>entity_funniness_score</th>\n",
       "      <th>edit_similarity</th>\n",
       "    </tr>\n",
       "  </thead>\n",
       "  <tbody>\n",
       "    <tr>\n",
       "      <th>0</th>\n",
       "      <td>14530</td>\n",
       "      <td>France is ‘ hunting down its citizens who join...</td>\n",
       "      <td>twins</td>\n",
       "      <td>10000</td>\n",
       "      <td>0.2</td>\n",
       "      <td>France is hunting down its citizens who joined...</td>\n",
       "      <td>[{'word': 'france', 'type': 'GPE'}, {'word': '...</td>\n",
       "      <td>france hunt citizen join twin trial iraq</td>\n",
       "      <td>9</td>\n",
       "      <td>15</td>\n",
       "      <td>france hunt citizen join isis trial iraq</td>\n",
       "      <td>5.194476</td>\n",
       "      <td>0.064800</td>\n",
       "    </tr>\n",
       "    <tr>\n",
       "      <th>1</th>\n",
       "      <td>13034</td>\n",
       "      <td>Pentagon claims 2,000 % increase in Russian tr...</td>\n",
       "      <td>bowling</td>\n",
       "      <td>33110</td>\n",
       "      <td>1.6</td>\n",
       "      <td>Pentagon claims 2000 increase in Russian troll...</td>\n",
       "      <td>[{'word': 'pentagon', 'type': 'ORG'}, {'word':...</td>\n",
       "      <td>pentagon claim 2000 increase russian troll bow...</td>\n",
       "      <td>9</td>\n",
       "      <td>17</td>\n",
       "      <td>pentagon claim 2000 increase russian troll syr...</td>\n",
       "      <td>9.437206</td>\n",
       "      <td>-0.019825</td>\n",
       "    </tr>\n",
       "    <tr>\n",
       "      <th>2</th>\n",
       "      <td>8731</td>\n",
       "      <td>Iceland PM Calls Snap Vote as Pedophile Furor ...</td>\n",
       "      <td>party</td>\n",
       "      <td>22100</td>\n",
       "      <td>1.0</td>\n",
       "      <td>Iceland PM Calls Snap Vote as Pedophile Furor ...</td>\n",
       "      <td>[]</td>\n",
       "      <td>iceland pm call snap vote pedophile furor cras...</td>\n",
       "      <td>9</td>\n",
       "      <td>11</td>\n",
       "      <td>iceland pm call snap vote pedophile furor cras...</td>\n",
       "      <td>0.000000</td>\n",
       "      <td>0.830763</td>\n",
       "    </tr>\n",
       "    <tr>\n",
       "      <th>3</th>\n",
       "      <td>76</td>\n",
       "      <td>In an apparent first , Iran and Israel &lt;engage...</td>\n",
       "      <td>slap</td>\n",
       "      <td>20000</td>\n",
       "      <td>0.4</td>\n",
       "      <td>In an apparent first Iran and Israel slap each...</td>\n",
       "      <td>[{'word': 'first', 'type': 'ORDINAL'}, {'word'...</td>\n",
       "      <td>apparent iran israel slap militarily</td>\n",
       "      <td>8</td>\n",
       "      <td>12</td>\n",
       "      <td>apparent iran israel engage militarily</td>\n",
       "      <td>5.065009</td>\n",
       "      <td>0.169812</td>\n",
       "    </tr>\n",
       "    <tr>\n",
       "      <th>4</th>\n",
       "      <td>6164</td>\n",
       "      <td>Trump was told weeks ago that Flynn misled &lt;Vi...</td>\n",
       "      <td>school</td>\n",
       "      <td>0</td>\n",
       "      <td>0.0</td>\n",
       "      <td>Trump was told weeks ago that Flynn misled sch...</td>\n",
       "      <td>[{'word': 'trump', 'type': 'PERSON'}, {'word':...</td>\n",
       "      <td>trump tell week ago flynn mislead school presi...</td>\n",
       "      <td>8</td>\n",
       "      <td>11</td>\n",
       "      <td>trump tell week ago flynn mislead vice president</td>\n",
       "      <td>9.538786</td>\n",
       "      <td>0.384219</td>\n",
       "    </tr>\n",
       "  </tbody>\n",
       "</table>\n",
       "</div>"
      ],
      "text/plain": [
       "      id                                           original     edit  grades  \\\n",
       "0  14530  France is ‘ hunting down its citizens who join...    twins   10000   \n",
       "1  13034  Pentagon claims 2,000 % increase in Russian tr...  bowling   33110   \n",
       "2   8731  Iceland PM Calls Snap Vote as Pedophile Furor ...    party   22100   \n",
       "3     76  In an apparent first , Iran and Israel <engage...     slap   20000   \n",
       "4   6164  Trump was told weeks ago that Flynn misled <Vi...   school       0   \n",
       "\n",
       "   meanGrade                                            cleaned  \\\n",
       "0        0.2  France is hunting down its citizens who joined...   \n",
       "1        1.6  Pentagon claims 2000 increase in Russian troll...   \n",
       "2        1.0  Iceland PM Calls Snap Vote as Pedophile Furor ...   \n",
       "3        0.4  In an apparent first Iran and Israel slap each...   \n",
       "4        0.0  Trump was told weeks ago that Flynn misled sch...   \n",
       "\n",
       "                                         entity_tags  \\\n",
       "0  [{'word': 'france', 'type': 'GPE'}, {'word': '...   \n",
       "1  [{'word': 'pentagon', 'type': 'ORG'}, {'word':...   \n",
       "2                                                 []   \n",
       "3  [{'word': 'first', 'type': 'ORDINAL'}, {'word'...   \n",
       "4  [{'word': 'trump', 'type': 'PERSON'}, {'word':...   \n",
       "\n",
       "                                    cleaned_no_stops  edit_pos  len  \\\n",
       "0           france hunt citizen join twin trial iraq         9   15   \n",
       "1  pentagon claim 2000 increase russian troll bow...         9   17   \n",
       "2  iceland pm call snap vote pedophile furor cras...         9   11   \n",
       "3               apparent iran israel slap militarily         8   12   \n",
       "4  trump tell week ago flynn mislead school presi...         8   11   \n",
       "\n",
       "                                    cleaned_replaced  entity_funniness_score  \\\n",
       "0           france hunt citizen join isis trial iraq                5.194476   \n",
       "1  pentagon claim 2000 increase russian troll syr...                9.437206   \n",
       "2  iceland pm call snap vote pedophile furor cras...                0.000000   \n",
       "3             apparent iran israel engage militarily                5.065009   \n",
       "4   trump tell week ago flynn mislead vice president                9.538786   \n",
       "\n",
       "   edit_similarity  \n",
       "0         0.064800  \n",
       "1        -0.019825  \n",
       "2         0.830763  \n",
       "3         0.169812  \n",
       "4         0.384219  "
      ]
     },
     "execution_count": 631,
     "metadata": {},
     "output_type": "execute_result"
    }
   ],
   "source": [
    "train_df.head()"
   ]
  },
  {
   "cell_type": "markdown",
   "metadata": {},
   "source": [
    "# Train neural net"
   ]
  },
  {
   "cell_type": "code",
   "execution_count": 632,
   "metadata": {},
   "outputs": [
    {
     "data": {
      "application/vnd.jupyter.widget-view+json": {
       "model_id": "68d1b3d0ea3549848536afaa364fb32b",
       "version_major": 2,
       "version_minor": 0
      },
      "text/plain": [
       "  0%|          | 0/2419 [00:00<?, ?it/s]"
      ]
     },
     "metadata": {},
     "output_type": "display_data"
    },
    {
     "data": {
      "application/vnd.jupyter.widget-view+json": {
       "model_id": "ee5cbb80253b4d3b9d0814f324b870e8",
       "version_major": 2,
       "version_minor": 0
      },
      "text/plain": [
       "  0%|          | 0/2419 [00:00<?, ?it/s]"
      ]
     },
     "metadata": {},
     "output_type": "display_data"
    },
    {
     "data": {
      "application/vnd.jupyter.widget-view+json": {
       "model_id": "858c51c8bd9941e5a859aa4db856f20c",
       "version_major": 2,
       "version_minor": 0
      },
      "text/plain": [
       "  0%|          | 0/2419 [00:00<?, ?it/s]"
      ]
     },
     "metadata": {},
     "output_type": "display_data"
    },
    {
     "data": {
      "application/vnd.jupyter.widget-view+json": {
       "model_id": "c5eb42bc867a47e78e15c1998be0bf57",
       "version_major": 2,
       "version_minor": 0
      },
      "text/plain": [
       "  0%|          | 0/2419 [00:00<?, ?it/s]"
      ]
     },
     "metadata": {},
     "output_type": "display_data"
    },
    {
     "data": {
      "application/vnd.jupyter.widget-view+json": {
       "model_id": "6fac65d9c9444ae2a10ab341e86f9c52",
       "version_major": 2,
       "version_minor": 0
      },
      "text/plain": [
       "  0%|          | 0/2419 [00:00<?, ?it/s]"
      ]
     },
     "metadata": {},
     "output_type": "display_data"
    },
    {
     "name": "stderr",
     "output_type": "stream",
     "text": [
      "<ipython-input-630-8049e178e731>:20: RuntimeWarning: invalid value encountered in power\n",
      "  score += (max_sim ** 0.25) * entity_funniness[ent] ** 3\n"
     ]
    }
   ],
   "source": [
    "test_df['cleaned'] = test_df.progress_apply(preprocessor.process, axis=1)\n",
    "test_df['entity_tags'] = test_df.progress_apply(lambda x: tagger.tag(x['cleaned']), axis=1)\n",
    "test_df['cleaned_no_stops'] = test_df.progress_apply(PreProcessor(remove_stops=True, lowercase=True, lemmatize=True).process, axis=1)\n",
    "test_df['cleaned_replaced'] = test_df.progress_apply(PreProcessor(remove_stops=True, lowercase=True, lemmatize=True, replace_edit=True).process, axis=1)\n",
    "test_df['entity_funniness_score'] = test_df.progress_apply(entity_funniness_score, axis=1)\n",
    "test_df['entity_funniness_score'].fillna(0, inplace=True)"
   ]
  },
  {
   "cell_type": "code",
   "execution_count": 633,
   "metadata": {},
   "outputs": [],
   "source": [
    "class Net(nn.Module):\n",
    "    def __init__(self):\n",
    "        super(Net, self).__init__()\n",
    "        self.fc1 = nn.Linear(1, 100)  \n",
    "        self.fc2 = nn.Linear(100, 100)  \n",
    "        self.fc3 = nn.Linear(100, 1)\n",
    "\n",
    "    def forward(self, x):\n",
    "        x = F.relu(self.fc1(x))\n",
    "        x = F.relu(self.fc2(x))\n",
    "        x = F.sigmoid(self.fc3(x))\n",
    "        return x * 4"
   ]
  },
  {
   "cell_type": "code",
   "execution_count": 636,
   "metadata": {},
   "outputs": [
    {
     "name": "stdout",
     "output_type": "stream",
     "text": [
      "Epoch 0   - TL : 0.372 | TRAIN RMSE: 0.610 | VL : 0.353 | VAL RMSE : 0.595\n",
      "Epoch 1   - TL : 0.348 | TRAIN RMSE: 0.590 | VL : 0.356 | VAL RMSE : 0.597\n",
      "Epoch 2   - TL : 0.344 | TRAIN RMSE: 0.587 | VL : 0.355 | VAL RMSE : 0.596\n",
      "Epoch 3   - TL : 0.342 | TRAIN RMSE: 0.585 | VL : 0.353 | VAL RMSE : 0.594\n",
      "Epoch 4   - TL : 0.341 | TRAIN RMSE: 0.584 | VL : 0.351 | VAL RMSE : 0.593\n",
      "Epoch 5   - TL : 0.342 | TRAIN RMSE: 0.584 | VL : 0.350 | VAL RMSE : 0.592\n",
      "Epoch 6   - TL : 0.339 | TRAIN RMSE: 0.582 | VL : 0.349 | VAL RMSE : 0.591\n",
      "Epoch 7   - TL : 0.338 | TRAIN RMSE: 0.582 | VL : 0.348 | VAL RMSE : 0.590\n",
      "Epoch 8   - TL : 0.338 | TRAIN RMSE: 0.581 | VL : 0.347 | VAL RMSE : 0.589\n",
      "Epoch 9   - TL : 0.337 | TRAIN RMSE: 0.581 | VL : 0.346 | VAL RMSE : 0.588\n",
      "Epoch 10  - TL : 0.337 | TRAIN RMSE: 0.580 | VL : 0.346 | VAL RMSE : 0.588\n",
      "Epoch 11  - TL : 0.337 | TRAIN RMSE: 0.580 | VL : 0.345 | VAL RMSE : 0.588\n",
      "Epoch 12  - TL : 0.336 | TRAIN RMSE: 0.580 | VL : 0.345 | VAL RMSE : 0.587\n",
      "Epoch 13  - TL : 0.336 | TRAIN RMSE: 0.580 | VL : 0.344 | VAL RMSE : 0.587\n",
      "Epoch 14  - TL : 0.336 | TRAIN RMSE: 0.579 | VL : 0.344 | VAL RMSE : 0.586\n",
      "Epoch 15  - TL : 0.335 | TRAIN RMSE: 0.579 | VL : 0.342 | VAL RMSE : 0.585\n",
      "Epoch 16  - TL : 0.335 | TRAIN RMSE: 0.579 | VL : 0.343 | VAL RMSE : 0.586\n",
      "Epoch 17  - TL : 0.335 | TRAIN RMSE: 0.579 | VL : 0.342 | VAL RMSE : 0.585\n",
      "Epoch 18  - TL : 0.335 | TRAIN RMSE: 0.579 | VL : 0.342 | VAL RMSE : 0.585\n",
      "Epoch 19  - TL : 0.335 | TRAIN RMSE: 0.579 | VL : 0.342 | VAL RMSE : 0.584\n",
      "Epoch 20  - TL : 0.335 | TRAIN RMSE: 0.579 | VL : 0.342 | VAL RMSE : 0.584\n",
      "Epoch 21  - TL : 0.335 | TRAIN RMSE: 0.579 | VL : 0.341 | VAL RMSE : 0.584\n",
      "Epoch 22  - TL : 0.335 | TRAIN RMSE: 0.578 | VL : 0.341 | VAL RMSE : 0.584\n",
      "Epoch 23  - TL : 0.334 | TRAIN RMSE: 0.578 | VL : 0.340 | VAL RMSE : 0.583\n",
      "Epoch 24  - TL : 0.334 | TRAIN RMSE: 0.578 | VL : 0.341 | VAL RMSE : 0.584\n",
      "Epoch 25  - TL : 0.334 | TRAIN RMSE: 0.578 | VL : 0.341 | VAL RMSE : 0.584\n",
      "Epoch 26  - TL : 0.334 | TRAIN RMSE: 0.578 | VL : 0.341 | VAL RMSE : 0.584\n",
      "Epoch 27  - TL : 0.334 | TRAIN RMSE: 0.578 | VL : 0.342 | VAL RMSE : 0.585\n",
      "Epoch 28  - TL : 0.334 | TRAIN RMSE: 0.578 | VL : 0.342 | VAL RMSE : 0.584\n",
      "Epoch 29  - TL : 0.334 | TRAIN RMSE: 0.578 | VL : 0.341 | VAL RMSE : 0.584\n",
      "Epoch 30  - TL : 0.334 | TRAIN RMSE: 0.578 | VL : 0.341 | VAL RMSE : 0.584\n",
      "Epoch 31  - TL : 0.334 | TRAIN RMSE: 0.578 | VL : 0.341 | VAL RMSE : 0.584\n",
      "Epoch 32  - TL : 0.334 | TRAIN RMSE: 0.578 | VL : 0.341 | VAL RMSE : 0.584\n",
      "Epoch 33  - TL : 0.334 | TRAIN RMSE: 0.578 | VL : 0.341 | VAL RMSE : 0.584\n",
      "Epoch 34  - TL : 0.334 | TRAIN RMSE: 0.578 | VL : 0.341 | VAL RMSE : 0.584\n",
      "Epoch 35  - TL : 0.334 | TRAIN RMSE: 0.578 | VL : 0.342 | VAL RMSE : 0.585\n",
      "Epoch 36  - TL : 0.334 | TRAIN RMSE: 0.578 | VL : 0.341 | VAL RMSE : 0.584\n",
      "Epoch 37  - TL : 0.333 | TRAIN RMSE: 0.577 | VL : 0.341 | VAL RMSE : 0.584\n",
      "Epoch 38  - TL : 0.333 | TRAIN RMSE: 0.577 | VL : 0.342 | VAL RMSE : 0.584\n",
      "Epoch 39  - TL : 0.333 | TRAIN RMSE: 0.577 | VL : 0.342 | VAL RMSE : 0.584\n"
     ]
    }
   ],
   "source": [
    "net = Net().to(device)\n",
    "# cols = ['edit_pos', 'len', 'edit_similarity', 'entity_funniness_score']\n",
    "cols = ['entity_funniness_score']\n",
    "training_data, dev_data, training_y, dev_y = train_test_split(train_df[cols], train_df['meanGrade'], test_size=0.1, random_state=42)\n",
    "train_X = torch.tensor(training_data.to_numpy()).float()\n",
    "val_X = torch.tensor(dev_data.to_numpy()).float()\n",
    "train_y = torch.tensor(training_y.to_numpy()).float()\n",
    "val_y = torch.tensor(dev_y.to_numpy()).float()\n",
    "test_X = torch.tensor(test_df[cols].to_numpy()).float()\n",
    "test_y = torch.tensor(test_df['meanGrade'].to_numpy()).float()\n",
    "\n",
    "train_ds = torch.utils.data.TensorDataset(train_X, train_y)\n",
    "val_ds = torch.utils.data.TensorDataset(val_X, val_y)\n",
    "test_ds = torch.utils.data.TensorDataset(test_X, test_y)\n",
    "\n",
    "train_loader = torch.utils.data.DataLoader(train_ds, batch_size=8)\n",
    "val_loader = torch.utils.data.DataLoader(val_ds, batch_size=8)\n",
    "test_loader = torch.utils.data.DataLoader(test_ds, batch_size=8)\n",
    "\n",
    "loss_fn = nn.MSELoss()\n",
    "loss_fn = loss_fn.to(device)\n",
    "optimizer = torch.optim.Adam(net.parameters(), lr=0.001)\n",
    "\n",
    "def train(epochs=40):\n",
    "    train_losses = []\n",
    "    val_losses = []\n",
    "    for e in range(epochs):\n",
    "        train_loss = 0\n",
    "        for batch_idx, (X, y) in enumerate(train_loader):\n",
    "            X, y = X.to(device), y.to(device)\n",
    "            optimizer.zero_grad()\n",
    "            pred = net(X).squeeze(1)\n",
    "            loss = loss_fn(pred, y)\n",
    "            train_loss += loss.item()\n",
    "            loss.backward()\n",
    "            optimizer.step()\n",
    "            \n",
    "        with torch.no_grad():\n",
    "            val_loss = 0\n",
    "            for batch_idx, (X, y) in enumerate(test_loader):\n",
    "                X, y = X.to(device), y.to(device)\n",
    "                pred = net(X)\n",
    "                loss = loss_fn(pred, y)\n",
    "                val_loss += loss.item()\n",
    "            vl = val_loss / len(test_loader)\n",
    "            val_losses.append(vl)\n",
    "            \n",
    "        tl = train_loss / len(train_loader)\n",
    "        train_losses.append(tl)\n",
    "        print(f\"Epoch {e:<3} - TL : {tl:.3f} | TRAIN RMSE: {np.sqrt(tl):.3f} | VL : {vl:.3f} | VAL RMSE : {np.sqrt(vl):.3f}\")\n",
    "    return train_losses, val_losses\n",
    "tl, vl = train()"
   ]
  },
  {
   "cell_type": "code",
   "execution_count": 638,
   "metadata": {},
   "outputs": [
    {
     "data": {
      "text/plain": [
       "0.5844752027416465"
      ]
     },
     "execution_count": 638,
     "metadata": {},
     "output_type": "execute_result"
    }
   ],
   "source": [
    "net.eval()\n",
    "with torch.no_grad():\n",
    "    test_loss = 0\n",
    "    for batch_idx, (X, y) in enumerate(test_loader):\n",
    "        X, y = X.to(device), y.to(device)\n",
    "        pred = net(X)\n",
    "        loss = loss_fn(pred, y)\n",
    "        test_loss += loss.item()\n",
    "    test_loss = test_loss / len(test_loader)\n",
    "\n",
    "np.sqrt(test_loss)"
   ]
  },
  {
   "cell_type": "code",
   "execution_count": 644,
   "metadata": {},
   "outputs": [
    {
     "data": {
      "application/vnd.jupyter.widget-view+json": {
       "model_id": "d5a023634cb64fe6935cc9666154f6a8",
       "version_major": 2,
       "version_minor": 0
      },
      "text/plain": [
       "Canvas(toolbar=Toolbar(toolitems=[('Home', 'Reset original view', 'home', 'home'), ('Back', 'Back to previous …"
      ]
     },
     "metadata": {},
     "output_type": "display_data"
    },
    {
     "data": {
      "text/plain": [
       "<matplotlib.legend.Legend at 0x7f3d86b4beb0>"
      ]
     },
     "execution_count": 644,
     "metadata": {},
     "output_type": "execute_result"
    }
   ],
   "source": [
    "fig, ax = plt.subplots()\n",
    "ax.plot(tl, label=\"Training Loss\")\n",
    "ax.plot(vl, label=\"Validation Loss\")\n",
    "plt.legend()"
   ]
  },
  {
   "cell_type": "code",
   "execution_count": 645,
   "metadata": {},
   "outputs": [
    {
     "name": "stdout",
     "output_type": "stream",
     "text": [
      "0.5804471787992478\n",
      "0.5866342641838275\n"
     ]
    }
   ],
   "source": [
    "print(np.mean([np.sqrt(x) for x in tl]))\n",
    "print(np.mean([np.sqrt(x) for x in vl]))"
   ]
  },
  {
   "cell_type": "code",
   "execution_count": null,
   "metadata": {},
   "outputs": [],
   "source": []
  }
 ],
 "metadata": {
  "colab": {
   "name": "task_1_main.ipynb",
   "provenance": []
  },
  "kernelspec": {
   "display_name": "nlp",
   "language": "python",
   "name": "nlp"
  },
  "language_info": {
   "codemirror_mode": {
    "name": "ipython",
    "version": 3
   },
   "file_extension": ".py",
   "mimetype": "text/x-python",
   "name": "python",
   "nbconvert_exporter": "python",
   "pygments_lexer": "ipython3",
   "version": "3.8.5"
  }
 },
 "nbformat": 4,
 "nbformat_minor": 4
}
