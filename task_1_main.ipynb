{
 "cells": [
  {
   "cell_type": "markdown",
   "metadata": {
    "id": "2TvyemfDlDmu"
   },
   "source": [
    "### Coursework coding instructions (please also see full coursework spec)\n",
    "\n",
    "Please choose if you want to do either Task 1 or Task 2. You should write your report about one task only.\n",
    "\n",
    "For the task you choose you will need to do two approaches:\n",
    "  - Approach 1, which can use use pre-trained embeddings / models\n",
    "  - Approach 2, which should not use any pre-trained embeddings or models\n",
    "We should be able to run both approaches from the same colab file\n",
    "\n",
    "#### Running your code:\n",
    "  - Your models should run automatically when running your colab file without further intervention\n",
    "  - For each task you should automatically output the performance of both models\n",
    "  - Your code should automatically download any libraries required\n",
    "\n",
    "#### Structure of your code:\n",
    "  - You are expected to use the 'train', 'eval' and 'model_performance' functions, although you may edit these as required\n",
    "  - Otherwise there are no restrictions on what you can do in your code\n",
    "\n",
    "#### Documentation:\n",
    "  - You are expected to produce a .README file summarising how you have approached both tasks\n",
    "\n",
    "#### Reproducibility:\n",
    "  - Your .README file should explain how to replicate the different experiments mentioned in your report\n",
    "\n",
    "Good luck! We are really looking forward to seeing your reports and your model code!"
   ]
  },
  {
   "cell_type": "code",
   "execution_count": 164,
   "metadata": {
    "id": "LRWFk-kelDoA",
    "scrolled": true,
    "tags": []
   },
   "outputs": [
    {
     "name": "stdout",
     "output_type": "stream",
     "text": [
      "Collecting transformers\n",
      "  Downloading transformers-4.3.3-py3-none-any.whl (1.9 MB)\n",
      "\u001b[K     |████████████████████████████████| 1.9 MB 12.1 MB/s eta 0:00:01\n",
      "\u001b[?25hRequirement already satisfied: sacremoses in /vol/bitbucket/rp3317/nlp/lib/python3.8/site-packages (from transformers) (0.0.43)\n",
      "Requirement already satisfied: numpy>=1.17 in /vol/bitbucket/rp3317/nlp/lib/python3.8/site-packages (from transformers) (1.20.1)\n",
      "Collecting filelock\n",
      "  Downloading filelock-3.0.12-py3-none-any.whl (7.6 kB)\n",
      "Requirement already satisfied: requests in /vol/bitbucket/rp3317/nlp/lib/python3.8/site-packages (from transformers) (2.22.0)\n",
      "Requirement already satisfied: regex!=2019.12.17 in /vol/bitbucket/rp3317/nlp/lib/python3.8/site-packages (from transformers) (2020.11.13)\n",
      "Requirement already satisfied: tqdm>=4.27 in /vol/bitbucket/rp3317/nlp/lib/python3.8/site-packages (from transformers) (4.57.0)\n",
      "Collecting tokenizers<0.11,>=0.10.1\n",
      "  Downloading tokenizers-0.10.1-cp38-cp38-manylinux2010_x86_64.whl (3.2 MB)\n",
      "\u001b[K     |████████████████████████████████| 3.2 MB 61.8 MB/s eta 0:00:01     |███████████████▎                | 1.5 MB 61.8 MB/s eta 0:00:01\n",
      "\u001b[?25hRequirement already satisfied: packaging in /vol/bitbucket/rp3317/nlp/lib/python3.8/site-packages (from transformers) (20.3)\n",
      "Requirement already satisfied: six in /vol/bitbucket/rp3317/nlp/lib/python3.8/site-packages (from sacremoses->transformers) (1.14.0)\n",
      "Requirement already satisfied: joblib in /vol/bitbucket/rp3317/nlp/lib/python3.8/site-packages (from sacremoses->transformers) (1.0.1)\n",
      "Requirement already satisfied: click in /vol/bitbucket/rp3317/nlp/lib/python3.8/site-packages (from sacremoses->transformers) (7.1.2)\n",
      "Installing collected packages: filelock, tokenizers, transformers\n",
      "Successfully installed filelock-3.0.12 tokenizers-0.10.1 transformers-4.3.3\n"
     ]
    }
   ],
   "source": [
    "# You will need to download any word embeddings required for your code, e.g.:\n",
    "# ! pip install sacremoses\n",
    "# ! pip install transformers\n",
    "# !wget http://nlp.stanford.edu/data/glove.6B.zip -P /vol/bitbucket/rp3317/data/\n",
    "# !unzip /vol/bitbucket/rp3317/data/glove.6B.zip -d /vol/bitbucket/rp3317/data/"
   ]
  },
  {
   "cell_type": "code",
   "execution_count": 274,
   "metadata": {
    "id": "LRWFk-kelDoA",
    "tags": []
   },
   "outputs": [],
   "source": [
    "# For any packages that Colab does not provide auotmatically you will also need to install these below, e.g.:\n",
    "\n",
    "#! pip install torch\n",
    "# ! pip install swifter\n",
    "# !wget https://cs.rochester.edu/u/nhossain/semeval-2020-task-7-dataset.zip -P data/\n",
    "# !unzip data/semeval-2020-task-7-dataset.zip"
   ]
  },
  {
   "cell_type": "code",
   "execution_count": 12,
   "metadata": {
    "collapsed": true,
    "jupyter": {
     "outputs_hidden": true
    },
    "tags": []
   },
   "outputs": [
    {
     "name": "stdout",
     "output_type": "stream",
     "text": [
      "--2021-03-01 12:21:20--  https://docs.google.com/uc?export=download&confirm=L_US&id=1n2iImmVxmV9FtrNx2Z4FyVJI6bPsCTTm\n",
      "Resolving docs.google.com (docs.google.com)... 2a00:1450:4009:817::200e, 172.217.169.14\n",
      "Connecting to docs.google.com (docs.google.com)|2a00:1450:4009:817::200e|:443... connected.\n",
      "HTTP request sent, awaiting response... 302 Moved Temporarily\n",
      "Location: https://doc-0o-80-docs.googleusercontent.com/docs/securesc/1ibjbqmv2pnkirj6blrql7f5ftjp04cg/9rs149kpjsel6chmcn082f9bcf7401ko/1614601275000/16703018712613523847/08769474311849947251Z/1n2iImmVxmV9FtrNx2Z4FyVJI6bPsCTTm?e=download [following]\n",
      "--2021-03-01 12:21:20--  https://doc-0o-80-docs.googleusercontent.com/docs/securesc/1ibjbqmv2pnkirj6blrql7f5ftjp04cg/9rs149kpjsel6chmcn082f9bcf7401ko/1614601275000/16703018712613523847/08769474311849947251Z/1n2iImmVxmV9FtrNx2Z4FyVJI6bPsCTTm?e=download\n",
      "Resolving doc-0o-80-docs.googleusercontent.com (doc-0o-80-docs.googleusercontent.com)... 2a00:1450:4009:806::2001, 216.58.204.65\n",
      "Connecting to doc-0o-80-docs.googleusercontent.com (doc-0o-80-docs.googleusercontent.com)|2a00:1450:4009:806::2001|:443... connected.\n",
      "HTTP request sent, awaiting response... 302 Found\n",
      "Location: https://docs.google.com/nonceSigner?nonce=3gtpbrrahtmcu&continue=https://doc-0o-80-docs.googleusercontent.com/docs/securesc/1ibjbqmv2pnkirj6blrql7f5ftjp04cg/9rs149kpjsel6chmcn082f9bcf7401ko/1614601275000/16703018712613523847/08769474311849947251Z/1n2iImmVxmV9FtrNx2Z4FyVJI6bPsCTTm?e%3Ddownload&hash=78acuqlm3l0m3bd0kdu4rbf4dl3fol50 [following]\n",
      "--2021-03-01 12:21:20--  https://docs.google.com/nonceSigner?nonce=3gtpbrrahtmcu&continue=https://doc-0o-80-docs.googleusercontent.com/docs/securesc/1ibjbqmv2pnkirj6blrql7f5ftjp04cg/9rs149kpjsel6chmcn082f9bcf7401ko/1614601275000/16703018712613523847/08769474311849947251Z/1n2iImmVxmV9FtrNx2Z4FyVJI6bPsCTTm?e%3Ddownload&hash=78acuqlm3l0m3bd0kdu4rbf4dl3fol50\n",
      "Connecting to docs.google.com (docs.google.com)|2a00:1450:4009:817::200e|:443... connected.\n",
      "HTTP request sent, awaiting response... 302 Found\n",
      "Location: https://doc-0o-80-docs.googleusercontent.com/docs/securesc/1ibjbqmv2pnkirj6blrql7f5ftjp04cg/9rs149kpjsel6chmcn082f9bcf7401ko/1614601275000/16703018712613523847/08769474311849947251Z/1n2iImmVxmV9FtrNx2Z4FyVJI6bPsCTTm?e=download&nonce=3gtpbrrahtmcu&user=08769474311849947251Z&hash=vb4f106nfrnu0m7s2t9lteqel9bu9lc0 [following]\n",
      "--2021-03-01 12:21:20--  https://doc-0o-80-docs.googleusercontent.com/docs/securesc/1ibjbqmv2pnkirj6blrql7f5ftjp04cg/9rs149kpjsel6chmcn082f9bcf7401ko/1614601275000/16703018712613523847/08769474311849947251Z/1n2iImmVxmV9FtrNx2Z4FyVJI6bPsCTTm?e=download&nonce=3gtpbrrahtmcu&user=08769474311849947251Z&hash=vb4f106nfrnu0m7s2t9lteqel9bu9lc0\n",
      "Connecting to doc-0o-80-docs.googleusercontent.com (doc-0o-80-docs.googleusercontent.com)|2a00:1450:4009:806::2001|:443... connected.\n",
      "HTTP request sent, awaiting response... 200 OK\n",
      "Length: unspecified [application/zip]\n",
      "Saving to: ‘newsdata.zip’\n",
      "\n",
      "newsdata.zip            [  <=>               ]  25.44M  94.4MB/s    in 0.3s    \n",
      "\n",
      "2021-03-01 12:21:21 (94.4 MB/s) - ‘newsdata.zip’ saved [26677036]\n",
      "\n",
      "Archive:  newsdata.zip\n",
      "  inflating: News_Category_Dataset_v2.json  \n"
     ]
    }
   ],
   "source": [
    "!wget --load-cookies /tmp/cookies.txt \"https://docs.google.com/uc?export=download&confirm=$(wget --quiet --save-cookies /tmp/cookies.txt --keep-session-cookies --no-check-certificate 'https://docs.google.com/uc?export=download&id=1n2iImmVxmV9FtrNx2Z4FyVJI6bPsCTTm' -O- | sed -rn 's/.*confirm=([0-9A-Za-z_]+).*/\\1\\n/p')&id=1n2iImmVxmV9FtrNx2Z4FyVJI6bPsCTTm\" -O newsdata.zip && rm -rf /tmp/cookies.txt\n",
    "!unzip newsdata.zip"
   ]
  },
  {
   "cell_type": "code",
   "execution_count": 296,
   "metadata": {
    "id": "WX9TqmK7lDoK"
   },
   "outputs": [],
   "source": [
    "# Imports\n",
    "\n",
    "import torch\n",
    "import seaborn as sns\n",
    "import torch.nn as nn\n",
    "import pandas as pd\n",
    "import numpy as np\n",
    "from sklearn.feature_extraction.text import CountVectorizer\n",
    "from torch.utils.data import Dataset, random_split\n",
    "from sklearn.feature_extraction.text import TfidfTransformer\n",
    "from sklearn.model_selection import train_test_split\n",
    "from sklearn.linear_model import LinearRegression\n",
    "import codecs\n",
    "from transformers import AutoTokenizer, AutoModelForTokenClassification, pipeline\n",
    "from tqdm.notebook import tqdm_notebook\n",
    "from collections import defaultdict\n",
    "tqdm_notebook.pandas()\n"
   ]
  },
  {
   "cell_type": "code",
   "execution_count": 2,
   "metadata": {
    "id": "X09jt8VRlDoM"
   },
   "outputs": [
    {
     "name": "stdout",
     "output_type": "stream",
     "text": [
      "cuda:0\n"
     ]
    }
   ],
   "source": [
    "# Setting random seed and device\n",
    "SEED = 1\n",
    "\n",
    "torch.manual_seed(SEED)\n",
    "torch.cuda.manual_seed(SEED)\n",
    "torch.backends.cudnn.deterministic = True\n",
    "\n",
    "use_cuda = torch.cuda.is_available()\n",
    "device = torch.device(\"cuda:0\" if use_cuda else \"cpu\")\n",
    "print(device)"
   ]
  },
  {
   "cell_type": "code",
   "execution_count": 59,
   "metadata": {
    "id": "AqhlzLl6lDoO"
   },
   "outputs": [],
   "source": [
    "# Load data\n",
    "train_df = pd.read_csv('data/train.csv')\n",
    "funlines_df = pd.read_csv('data/train_funlines.csv')\n",
    "test_df = pd.read_csv('data/dev.csv')\n",
    "news_df = pd.read_json('News_Category_Dataset_v2.json', lines=True)\n",
    "all_headlines = list(train_df['original']) + list(funlines_df['original'])"
   ]
  },
  {
   "cell_type": "code",
   "execution_count": 60,
   "metadata": {},
   "outputs": [
    {
     "data": {
      "text/html": [
       "<div>\n",
       "<style scoped>\n",
       "    .dataframe tbody tr th:only-of-type {\n",
       "        vertical-align: middle;\n",
       "    }\n",
       "\n",
       "    .dataframe tbody tr th {\n",
       "        vertical-align: top;\n",
       "    }\n",
       "\n",
       "    .dataframe thead th {\n",
       "        text-align: right;\n",
       "    }\n",
       "</style>\n",
       "<table border=\"1\" class=\"dataframe\">\n",
       "  <thead>\n",
       "    <tr style=\"text-align: right;\">\n",
       "      <th></th>\n",
       "      <th>category</th>\n",
       "      <th>headline</th>\n",
       "      <th>authors</th>\n",
       "      <th>link</th>\n",
       "      <th>short_description</th>\n",
       "      <th>date</th>\n",
       "    </tr>\n",
       "  </thead>\n",
       "  <tbody>\n",
       "    <tr>\n",
       "      <th>0</th>\n",
       "      <td>CRIME</td>\n",
       "      <td>There Were 2 Mass Shootings In Texas Last Week...</td>\n",
       "      <td>Melissa Jeltsen</td>\n",
       "      <td>https://www.huffingtonpost.com/entry/texas-ama...</td>\n",
       "      <td>She left her husband. He killed their children...</td>\n",
       "      <td>2018-05-26</td>\n",
       "    </tr>\n",
       "    <tr>\n",
       "      <th>1</th>\n",
       "      <td>ENTERTAINMENT</td>\n",
       "      <td>Will Smith Joins Diplo And Nicky Jam For The 2...</td>\n",
       "      <td>Andy McDonald</td>\n",
       "      <td>https://www.huffingtonpost.com/entry/will-smit...</td>\n",
       "      <td>Of course it has a song.</td>\n",
       "      <td>2018-05-26</td>\n",
       "    </tr>\n",
       "    <tr>\n",
       "      <th>2</th>\n",
       "      <td>ENTERTAINMENT</td>\n",
       "      <td>Hugh Grant Marries For The First Time At Age 57</td>\n",
       "      <td>Ron Dicker</td>\n",
       "      <td>https://www.huffingtonpost.com/entry/hugh-gran...</td>\n",
       "      <td>The actor and his longtime girlfriend Anna Ebe...</td>\n",
       "      <td>2018-05-26</td>\n",
       "    </tr>\n",
       "    <tr>\n",
       "      <th>3</th>\n",
       "      <td>ENTERTAINMENT</td>\n",
       "      <td>Jim Carrey Blasts 'Castrato' Adam Schiff And D...</td>\n",
       "      <td>Ron Dicker</td>\n",
       "      <td>https://www.huffingtonpost.com/entry/jim-carre...</td>\n",
       "      <td>The actor gives Dems an ass-kicking for not fi...</td>\n",
       "      <td>2018-05-26</td>\n",
       "    </tr>\n",
       "    <tr>\n",
       "      <th>4</th>\n",
       "      <td>ENTERTAINMENT</td>\n",
       "      <td>Julianna Margulies Uses Donald Trump Poop Bags...</td>\n",
       "      <td>Ron Dicker</td>\n",
       "      <td>https://www.huffingtonpost.com/entry/julianna-...</td>\n",
       "      <td>The \"Dietland\" actress said using the bags is ...</td>\n",
       "      <td>2018-05-26</td>\n",
       "    </tr>\n",
       "  </tbody>\n",
       "</table>\n",
       "</div>"
      ],
      "text/plain": [
       "        category                                           headline  \\\n",
       "0          CRIME  There Were 2 Mass Shootings In Texas Last Week...   \n",
       "1  ENTERTAINMENT  Will Smith Joins Diplo And Nicky Jam For The 2...   \n",
       "2  ENTERTAINMENT    Hugh Grant Marries For The First Time At Age 57   \n",
       "3  ENTERTAINMENT  Jim Carrey Blasts 'Castrato' Adam Schiff And D...   \n",
       "4  ENTERTAINMENT  Julianna Margulies Uses Donald Trump Poop Bags...   \n",
       "\n",
       "           authors                                               link  \\\n",
       "0  Melissa Jeltsen  https://www.huffingtonpost.com/entry/texas-ama...   \n",
       "1    Andy McDonald  https://www.huffingtonpost.com/entry/will-smit...   \n",
       "2       Ron Dicker  https://www.huffingtonpost.com/entry/hugh-gran...   \n",
       "3       Ron Dicker  https://www.huffingtonpost.com/entry/jim-carre...   \n",
       "4       Ron Dicker  https://www.huffingtonpost.com/entry/julianna-...   \n",
       "\n",
       "                                   short_description       date  \n",
       "0  She left her husband. He killed their children... 2018-05-26  \n",
       "1                           Of course it has a song. 2018-05-26  \n",
       "2  The actor and his longtime girlfriend Anna Ebe... 2018-05-26  \n",
       "3  The actor gives Dems an ass-kicking for not fi... 2018-05-26  \n",
       "4  The \"Dietland\" actress said using the bags is ... 2018-05-26  "
      ]
     },
     "execution_count": 60,
     "metadata": {},
     "output_type": "execute_result"
    }
   ],
   "source": [
    "news_df.head()"
   ]
  },
  {
   "cell_type": "markdown",
   "metadata": {},
   "source": [
    "## Named Entity Recognition\n",
    "Casing of headlines makes traditional NER harder, train a statistical true caser then give to bert uncased model / use spacy NER"
   ]
  },
  {
   "cell_type": "code",
   "execution_count": 395,
   "metadata": {},
   "outputs": [
    {
     "data": {
      "image/png": "[encoded data removed]",
      "text/plain": [
       "<Figure size 1080x360 with 2 Axes>"
      ]
     },
     "metadata": {
      "needs_background": "light"
     },
     "output_type": "display_data"
    }
   ],
   "source": [
    "import re \n",
    "upperalpha = set('ABCDEFGHIJKLMNOPQRSTUVWXYZ')\n",
    "punctuation = string.punctuation + \"‘’”“’'/-\\\\.\"\n",
    "hasCap = lambda x: (x[0] in upperalpha) or x[0].isdigit() if len(x) > 0 else False\n",
    "def percentageCap(sentence):\n",
    "    cleaned = re.sub(r\"<(.*)\\/>\", \"\\g<1>\", sentence).strip(punctuation).split(' ')\n",
    "    return (len([w for w in cleaned if hasCap(w)]) / len(cleaned), ' '.join(cleaned))\n",
    "\n",
    "cap_headlines = np.array([percentageCap(h) for h in all_headlines])\n",
    "fig, ax =plt.subplots(1,2, figsize=(15,5))\n",
    "caps = cap_headlines[:,0].astype(float)\n",
    "\n",
    "sns.histplot(caps, ax=ax[0])\n",
    "ax[0].set(xlabel='Percentage of words in headline that begin with capital letter', ylabel='Number of headlines')\n",
    "\n",
    "ax[1].set_xlabel('Percentage of words in headline that begin with capital letter')\n",
    "ax[1].set_ylabel('Density')\n",
    "ax[1]=plt.hist(caps,cumulative=True, density=True, bins=50, alpha=0.8)\n",
    "plt.show()"
   ]
  },
  {
   "cell_type": "code",
   "execution_count": 152,
   "metadata": {},
   "outputs": [],
   "source": [
    "from sacremoses import MosesTruecaser, MosesTokenizer\n",
    "headlines_less_than = lambda limit: cap_headlines[caps < limit][:,1] \n",
    "headlines_more_than = lambda limit: cap_headlines[caps > limit][:,1] \n",
    "\n",
    "mtr = MosesTruecaser()\n",
    "mtok = MosesTokenizer(lang='en')\n",
    "tokenized_docs = [mtok.tokenize(line) for line in headlines_less_than(0.45)]\n",
    "truecase_results = mtr.train(tokenized_docs, save_to='big.truecasemodel')"
   ]
  },
  {
   "cell_type": "code",
   "execution_count": 192,
   "metadata": {},
   "outputs": [
    {
     "data": {
      "text/plain": [
       "'are women candidates winning more in 2018'"
      ]
     },
     "execution_count": 192,
     "metadata": {},
     "output_type": "execute_result"
    }
   ],
   "source": [
    "\n",
    "def truecase(headline):\n",
    "    s = mtr.truecase(headline.lower(), return_str=True)\n",
    "    return s\n",
    "\n",
    "truecase(np.random.choice(headlines_more_than(0.8)))"
   ]
  },
  {
   "cell_type": "code",
   "execution_count": 214,
   "metadata": {},
   "outputs": [],
   "source": [
    "tokenizer = AutoTokenizer.from_pretrained(\"dslim/bert-base-NER-uncased\")\n",
    "model = AutoModelForTokenClassification.from_pretrained(\"dslim/bert-base-NER-uncased\")\n",
    "# ! python -m spacy download en_core_web_lg\n",
    "# nlp = spacy.load('en_core_web_lg')\n"
   ]
  },
  {
   "cell_type": "code",
   "execution_count": 270,
   "metadata": {},
   "outputs": [
    {
     "data": {
      "text/plain": [
       "[{'word': 'stephen', 'type': 'PER', 'start': 0, 'end': 7},\n",
       " {'word': 'king', 'type': 'PER', 'start': 8, 'end': 12},\n",
       " {'word': 'melania', 'type': 'PER', 'start': 31, 'end': 38},\n",
       " {'word': 'trump', 'type': 'PER', 'start': 39, 'end': 44}]"
      ]
     },
     "execution_count": 270,
     "metadata": {},
     "output_type": "execute_result"
    }
   ],
   "source": [
    "class EntityTagger:\n",
    "    def __init__(self):\n",
    "        self.nlp = pipeline(\"ner\", model=model, tokenizer=tokenizer, device=0)\n",
    "    \n",
    "    def _next_word_is_connected(self, results, i):\n",
    "        return (i < len(results) - 1) and \\\n",
    "                results[i+1]['word'].startswith('##') and \\\n",
    "                results[i]['end'] == results[i+1]['start'] \\\n",
    "        \n",
    "    def _process_results(self, results):\n",
    "        if not results:\n",
    "            return []\n",
    "        words = []\n",
    "        cur_word = \"\"\n",
    "        cur_start = results[0]['start']\n",
    "        for i, r in enumerate(results):\n",
    "            cur_word += re.sub(\"##(.*)\", \"\\g<1>\", r['word'])\n",
    "            if not self._next_word_is_connected(results, i):\n",
    "                words.append(dict(word=cur_word, type=r['entity'][2::], start=cur_start, end=r['end']))\n",
    "                cur_word = \"\"\n",
    "                cur_start = results[i+1]['start'] if i < len(results) - 1 else results[i]['start']\n",
    "            \n",
    "        return words\n",
    "            \n",
    "    def tag(self, text):\n",
    "        results = nlp(text)\n",
    "        return self._process_results(results)\n",
    "\n",
    "tagger = EntityTagger()\n",
    "# example = \"Visa , Mastercard , Stripe , and eBay all quit Facebook ’s Libra in one day\"\n",
    "example = np.random.choice(headlines_more_than(0.7))\n",
    "tagger.tag(example)"
   ]
  },
  {
   "cell_type": "code",
   "execution_count": 426,
   "metadata": {},
   "outputs": [],
   "source": [
    "from spacy.lang.en import English\n",
    "class PreProcessor():\n",
    "    def __init__(self, remove_stops=False):\n",
    "        self.tagger = English()\n",
    "        self.remove_stops = remove_stops\n",
    "    \n",
    "    def process(self,row): \n",
    "        e, o = row['edit'], row['original']\n",
    "        replaced = re.sub(r\"<(.*)\\/>\", r\"\\g<1>\", row['original']).translate(str.maketrans('','', punctuation))\n",
    "        doc = self.tagger(replaced)\n",
    "        doc = [t for t in doc if t.text not in punctuation]\n",
    "        doc = [t for t in doc if not t.is_space] # Remove space tokens\n",
    "        if self.remove_stops:\n",
    "            doc = [t for t in doc if not (t.is_stop and t.text != e)] # Ensure edits aren't removed if they are stop words\n",
    "        return \" \".join([d.text for d in doc])"
   ]
  },
  {
   "cell_type": "code",
   "execution_count": 415,
   "metadata": {},
   "outputs": [
    {
     "data": {
      "application/vnd.jupyter.widget-view+json": {
       "model_id": "a39bd156e6ea489aa5230a8df654c69a",
       "version_major": 2,
       "version_minor": 0
      },
      "text/plain": [
       "  0%|          | 0/9652 [00:00<?, ?it/s]"
      ]
     },
     "metadata": {},
     "output_type": "display_data"
    }
   ],
   "source": [
    "import pickle\n",
    "preprocessor = PreProcessor(remove_stops=False)\n",
    "train_df['cleaned'] = train_df.progress_apply(preprocessor.process, axis=1)\n",
    "train_df['entity_tags'] = train_df.progress_apply(lambda x: tagger.tag(x['cleaned']), axis=1)\n",
    "with open(\"traindf.pkl\", \"wb\") as f:\n",
    "    pickle.dump(train_df, f)"
   ]
  },
  {
   "cell_type": "code",
   "execution_count": 424,
   "metadata": {
    "tags": []
   },
   "outputs": [
    {
     "data": {
      "text/plain": [
       "Text(0, 0.5, 'Occurences')"
      ]
     },
     "execution_count": 424,
     "metadata": {},
     "output_type": "execute_result"
    },
    {
     "data": {
      "image/png": "[encoded data removed]",
      "text/plain": [
       "<Figure size 1800x504 with 1 Axes>"
      ]
     },
     "metadata": {
      "needs_background": "light"
     },
     "output_type": "display_data"
    }
   ],
   "source": [
    "def get_unique_entities():\n",
    "    unique = defaultdict(lambda: defaultdict(int))\n",
    "    for i, entities in enumerate(train_df['entity_tags']):\n",
    "        for e in entities:\n",
    "            unique[e['type']][e['word']] += 1\n",
    "    return unique\n",
    "entities = get_unique_entities()\n",
    "names = np.array(sorted(entities['PER'].items(), key=lambda x: x[1])[::-1])\n",
    "counts = names[:,1].astype(int)\n",
    "# for i, c in enumerate(counts):\n",
    "#     print(f\"{names[i][0]} - {c * 100 / sum(counts):.2f}%\")\n",
    "fig = plt.figure(figsize=(25,7))\n",
    "plt.bar(names[:,0][2:30],counts[2:30])\n",
    "fig.axes[0].tick_params(axis=\"x\", labelsize=9)\n",
    "fig.axes[0].tick_params(axis=\"y\", labelsize=12)\n",
    "fig.axes[0].set_xlabel(\"People\")\n",
    "fig.axes[0].set_ylabel(\"Occurences\")"
   ]
  },
  {
   "cell_type": "code",
   "execution_count": 427,
   "metadata": {},
   "outputs": [
    {
     "data": {
      "application/vnd.jupyter.widget-view+json": {
       "model_id": "99afbbdf7423463fa2eb1d1086915884",
       "version_major": 2,
       "version_minor": 0
      },
      "text/plain": [
       "  0%|          | 0/9652 [00:00<?, ?it/s]"
      ]
     },
     "metadata": {},
     "output_type": "display_data"
    }
   ],
   "source": [
    "train_df['cleaned_no_stops'] = train_df.progress_apply(PreProcessor(remove_stops=True).process, axis=1)"
   ]
  },
  {
   "cell_type": "markdown",
   "metadata": {},
   "source": [
    "# Data exploration\n",
    "- 0 - not funny\n",
    "- 1 - slightly funny\n",
    "- 2 - moderately funny\n",
    "- 3 - very funny"
   ]
  },
  {
   "cell_type": "code",
   "execution_count": 187,
   "metadata": {},
   "outputs": [
    {
     "data": {
      "text/plain": [
       "<AxesSubplot:xlabel='meanGrade', ylabel='Count'>"
      ]
     },
     "execution_count": 187,
     "metadata": {},
     "output_type": "execute_result"
    },
    {
     "data": {
      "image/png": "[encoded data removed]",
      "text/plain": [
       "<Figure size 432x288 with 1 Axes>"
      ]
     },
     "metadata": {
      "needs_background": "light"
     },
     "output_type": "display_data"
    }
   ],
   "source": [
    "sns.histplot(train_df.meanGrade, kde=True, bins=24)"
   ]
  },
  {
   "cell_type": "code",
   "execution_count": 5,
   "metadata": {},
   "outputs": [
    {
     "data": {
      "text/plain": [
       "<AxesSubplot:xlabel='grades', ylabel='count'>"
      ]
     },
     "execution_count": 5,
     "metadata": {},
     "output_type": "execute_result"
    },
    {
     "data": {
      "image/png": "[encoded data removed]",
      "text/plain": [
       "<Figure size 432x288 with 1 Axes>"
      ]
     },
     "metadata": {
      "needs_background": "light"
     },
     "output_type": "display_data"
    }
   ],
   "source": [
    "# Number of people grading each example\n",
    "sns.countplot(x=\"grades\", data=pd.DataFrame(train_df.grades.apply(lambda x : len(str(x))), columns=['grades']))"
   ]
  },
  {
   "cell_type": "code",
   "execution_count": 258,
   "metadata": {},
   "outputs": [
    {
     "name": "stdout",
     "output_type": "stream",
     "text": [
      "0.8 -       sewage - Entry Ban Could Cause <Doctor/> Shortages in Trump Territory , New Research Finds\n",
      "0.8 -        count - ' What are they trying to <hide/> ? ' Trump slams election officials over voter data request\n",
      "0.2 -        mayor - Nearly everyone around <Trump/> is being more critical of Charlottesville than he is\n",
      "1.4 -         ends - FCC chairman <defends/> First Amendment after Trump broadcaster threats\n",
      "1.2 -       coffee - Enraged Bernie Supporter Opens Fire on Republicans After Realizing he Ca n't Get a <Refund/> \n",
      "1.4 -     hamsters - Google Search Is Doing Irreparable Harm To <Muslims/> \n",
      "2.4 -         Acid - Barack Obama threatens to upstage Donald Trump 's <Europe/> trip as he visits Germany\n",
      "2.4 -      blankie - Ex-President Luiz Inacio Lula da Silva defies court order to turn himself into police , hunkers down with <supporters/> .\n",
      "2.4 -          rib - Trump holds joint press conference with Norway 's prime <minister/> — live updates\n"
     ]
    }
   ],
   "source": [
    "def getExamplesForFunninessBetween(f1, f2):\n",
    "    mg = train_df['meanGrade']\n",
    "    return train_df[((mg < f2) & (mg > f1))]\n",
    "def showSamples(n):\n",
    "    for i in range(3):\n",
    "        d = getExamplesForFunninessBetween(i, i+1).sample(n)\n",
    "        for i in range(n):\n",
    "            cell = d.iloc[i]\n",
    "            print(f\"{cell['meanGrade']} - {cell['edit']:>12} - {cell['original']}\")\n",
    "\n",
    "showSamples(3)"
   ]
  },
  {
   "cell_type": "markdown",
   "metadata": {},
   "source": [
    "# Preprocessing\n",
    "- Replace words in original with edit\n",
    "- Tokenise with spacy\n",
    "- Remove punctuation symbols\n",
    "- lowercase \n",
    "- Delete stop words\n",
    "\n",
    "## Ideas\n",
    "- Compare POS tag of old/new sentence\n",
    "- Make a language model on news articles and check perplexity/probability of edit = https://www.kaggle.com/rmisra/news-category-dataset\n",
    "- LDA model on real headlines - if its not part of the top 50 topics then probably out of domain\n",
    "- Check probability of all n-gram pairs surrounding edit\n",
    "- https://www.scribendi.ai/can-we-use-bert-as-a-language-model-to-assign-score-of-a-sentence/\n"
   ]
  },
  {
   "cell_type": "code",
   "execution_count": 84,
   "metadata": {},
   "outputs": [],
   "source": [
    "import re \n",
    "import string\n",
    "from spacy.tokenizer import Tokenizer\n",
    "from spacy.lang.en import English\n",
    "nlp = English()\n",
    "\n",
    "punctuation = set(string.punctuation + '‘’”“')\n",
    "pd.set_option('display.max_colwidth', None)\n",
    "\n",
    "def process(row): \n",
    "    e, o = row['edit'], row['original']\n",
    "    replaced = re.sub(r\"<.*\\/>\", e, o)\n",
    "    doc = nlp(replaced)\n",
    "    doc = [t for t in doc if t.text not in punctuation]\n",
    "    doc = [t for t in doc if not (t.is_stop and t.text != e)] # Ensure edits aren't removed if they are stop words\n",
    "    doc = [t for t in doc if not t.is_space] # Remove space tokens\n",
    "    return doc"
   ]
  },
  {
   "cell_type": "code",
   "execution_count": 85,
   "metadata": {},
   "outputs": [
    {
     "data": {
      "text/plain": [
       "0                         [France, hunting, citizens, joined, twins, trial, Iraq]\n",
       "1    [Pentagon, claims, 2,000, increase, Russian, trolls, bowling, strikes, mean]\n",
       "2              [Iceland, PM, Calls, Snap, Vote, Pedophile, Furor, Crashes, party]\n",
       "3                                      [apparent, Iran, Israel, slap, militarily]\n",
       "4                     [Trump, told, weeks, ago, Flynn, misled, school, President]\n",
       "5                                    [22, sounds, Trump, speech, Congress, chart]\n",
       "6                               [New, DOJ, alert, system, flag, laughter, police]\n",
       "7             [Grew, Fundamentalist, morons, m, Surprised, Surprised, Roy, Moore]\n",
       "8                                     [Canadians, pay, taxes, Americans, loonies]\n",
       "9                                   [Dutch, minister, resigns, drug, baron, blow]\n",
       "Name: edited, dtype: object"
      ]
     },
     "execution_count": 85,
     "metadata": {},
     "output_type": "execute_result"
    }
   ],
   "source": [
    "train_df['edited'] = train_df.apply(process, axis=1)\n",
    "train_df.head(10)['edited']"
   ]
  },
  {
   "cell_type": "code",
   "execution_count": 86,
   "metadata": {
    "id": "3RCmF7xulDoP"
   },
   "outputs": [],
   "source": [
    "# Number of epochs\n",
    "epochs = 10\n",
    "\n",
    "# Proportion of training data for train compared to dev\n",
    "train_proportion = 0.8"
   ]
  },
  {
   "cell_type": "code",
   "execution_count": 7,
   "metadata": {
    "id": "qAgZW6K1lDoR"
   },
   "outputs": [],
   "source": [
    "# We define our training loop\n",
    "def train(train_iter, dev_iter, model, number_epoch):\n",
    "    \"\"\"\n",
    "    Training loop for the model, which calls on eval to evaluate after each epoch\n",
    "    \"\"\"\n",
    "    print(\"Training model.\")\n",
    "    for epoch in range(1, number_epoch+1):\n",
    "        model.train()\n",
    "        epoch_loss = 0\n",
    "        epoch_sse = 0\n",
    "        no_observations = 0  # Observations used for training so far\n",
    "\n",
    "        for batch in train_iter:\n",
    "            feature, target = batch\n",
    "            feature, target = feature.to(device), target.to(device)\n",
    "\n",
    "            # for RNN:\n",
    "            model.batch_size = target.shape[0]\n",
    "            no_observations = no_observations + target.shape[0]\n",
    "            model.hidden = model.init_hidden()\n",
    "\n",
    "            predictions = model(feature).squeeze(1)\n",
    "            optimizer.zero_grad()\n",
    "            loss = loss_fn(predictions, target)\n",
    "            sse, __ = model_performance(predictions.detach().cpu().numpy(), target.detach().cpu().numpy())\n",
    "            loss.backward()\n",
    "            optimizer.step()\n",
    "\n",
    "            epoch_loss += loss.item()*target.shape[0]\n",
    "            epoch_sse += sse\n",
    "\n",
    "        valid_loss, valid_mse, __, __ = eval(dev_iter, model)\n",
    "        epoch_loss, epoch_mse = epoch_loss / no_observations, epoch_sse / no_observations\n",
    "        print(f'| Epoch: {epoch:02} | Train Loss: {epoch_loss:.2f} | Train MSE: {epoch_mse:.2f} | Train RMSE: {epoch_mse**0.5:.2f} | \\\n",
    "        Val. Loss: {valid_loss:.2f} | Val. MSE: {valid_mse:.2f} |  Val. RMSE: {valid_mse**0.5:.2f} |')"
   ]
  },
  {
   "cell_type": "code",
   "execution_count": 8,
   "metadata": {
    "id": "NzXeDgHmlDob"
   },
   "outputs": [],
   "source": [
    "# We evaluate performance on our dev set\n",
    "def eval(data_iter, model):\n",
    "    \"\"\"\n",
    "    Evaluating model performance on the dev set\n",
    "    \"\"\"\n",
    "    model.eval()\n",
    "    epoch_loss = 0\n",
    "    epoch_sse = 0\n",
    "    pred_all = []\n",
    "    trg_all = []\n",
    "    no_observations = 0\n",
    "\n",
    "    with torch.no_grad():\n",
    "        for batch in data_iter:\n",
    "            feature, target = batch\n",
    "\n",
    "            feature, target = feature.to(device), target.to(device)\n",
    "\n",
    "            # for RNN:\n",
    "            model.batch_size = target.shape[0]\n",
    "            no_observations = no_observations + target.shape[0]\n",
    "            model.hidden = model.init_hidden()\n",
    "\n",
    "            predictions = model(feature).squeeze(1)\n",
    "            loss = loss_fn(predictions, target)\n",
    "\n",
    "            # We get the mse\n",
    "            pred, trg = predictions.detach().cpu().numpy(), target.detach().cpu().numpy()\n",
    "            sse, __ = model_performance(pred, trg)\n",
    "\n",
    "            epoch_loss += loss.item()*target.shape[0]\n",
    "            epoch_sse += sse\n",
    "            pred_all.extend(pred)\n",
    "            trg_all.extend(trg)\n",
    "\n",
    "    return epoch_loss/no_observations, epoch_sse/no_observations, np.array(pred_all), np.array(trg_all)"
   ]
  },
  {
   "cell_type": "code",
   "execution_count": 9,
   "metadata": {
    "id": "2_22fHHElDog"
   },
   "outputs": [],
   "source": [
    "# How we print the model performance\n",
    "def model_performance(output, target, print_output=False):\n",
    "    \"\"\"\n",
    "    Returns SSE and MSE per batch (printing the MSE and the RMSE)\n",
    "    \"\"\"\n",
    "\n",
    "    sq_error = (output - target)**2\n",
    "\n",
    "    sse = np.sum(sq_error)\n",
    "    mse = np.mean(sq_error)\n",
    "    rmse = np.sqrt(mse)\n",
    "\n",
    "    if print_output:\n",
    "        print(f'| MSE: {mse:.2f} | RMSE: {rmse:.2f} |')\n",
    "\n",
    "    return sse, mse"
   ]
  },
  {
   "cell_type": "code",
   "execution_count": 10,
   "metadata": {
    "id": "LcxmqrKhlDoj"
   },
   "outputs": [],
   "source": [
    "def create_vocab(data):\n",
    "    \"\"\"\n",
    "    Creating a corpus of all the tokens used\n",
    "    \"\"\"\n",
    "    tokenized_corpus = [] # Let us put the tokenized corpus in a list\n",
    "    for sentence in data:\n",
    "        tokenized_sentence = []\n",
    "        for token in sentence.split(' '): # simplest split is\n",
    "            tokenized_sentence.append(token)\n",
    "        tokenized_corpus.append(tokenized_sentence)\n",
    "\n",
    "    # Create single list of all vocabulary\n",
    "    vocabulary = []  # Let us put all the tokens (mostly words) appearing in the vocabulary in a list\n",
    "    for sentence in tokenized_corpus:\n",
    "        for token in sentence:\n",
    "            if token not in vocabulary:\n",
    "                if True:\n",
    "                    vocabulary.append(token)\n",
    "\n",
    "    return vocabulary, tokenized_corpus"
   ]
  },
  {
   "cell_type": "code",
   "execution_count": 11,
   "metadata": {
    "id": "jzQ0KLXslDoq"
   },
   "outputs": [],
   "source": [
    "def collate_fn_padd(batch):\n",
    "    '''\n",
    "    We add padding to our minibatches and create tensors for our model\n",
    "    '''\n",
    "\n",
    "    batch_labels = [l for f, l in batch]\n",
    "    batch_features = [f for f, l in batch]\n",
    "\n",
    "    batch_features_len = [len(f) for f, l in batch]\n",
    "\n",
    "    seq_tensor = torch.zeros((len(batch), max(batch_features_len))).long()\n",
    "    for idx, (seq, seqlen) in enumerate(zip(batch_features, batch_features_len)):\n",
    "        seq_tensor[idx, :seqlen] = torch.LongTensor(seq)\n",
    "    batch_labels = torch.FloatTensor(batch_labels)\n",
    "\n",
    "    return seq_tensor, batch_labels\n",
    "\n",
    "class Task1Dataset(Dataset):\n",
    "\n",
    "    def __init__(self, train_data, labels):\n",
    "        self.x_train = train_data\n",
    "        self.y_train = labels\n",
    "\n",
    "    def __len__(self):\n",
    "        return len(self.y_train)\n",
    "\n",
    "    def __getitem__(self, item):\n",
    "        return self.x_train[item], self.y_train[item]"
   ]
  },
  {
   "cell_type": "code",
   "execution_count": 12,
   "metadata": {
    "id": "sWaxTh2UlDoy"
   },
   "outputs": [],
   "source": [
    "class BiLSTM(nn.Module):\n",
    "\n",
    "    def __init__(self, embedding_dim, hidden_dim, vocab_size, batch_size, device):\n",
    "        super(BiLSTM, self).__init__()\n",
    "        self.hidden_dim = hidden_dim\n",
    "        self.embedding_dim = embedding_dim\n",
    "        self.device = device\n",
    "        self.batch_size = batch_size\n",
    "        self.embedding = nn.Embedding(vocab_size, embedding_dim, padding_idx=0)\n",
    "\n",
    "        # The LSTM takes word embeddings as inputs, and outputs hidden states\n",
    "        # with dimensionality hidden_dim.\n",
    "        self.lstm = nn.LSTM(embedding_dim, hidden_dim, bidirectional=True)\n",
    "\n",
    "        # The linear layer that maps from hidden state space to tag space\n",
    "        self.hidden2label = nn.Linear(hidden_dim * 2, 1)\n",
    "        self.hidden = self.init_hidden()\n",
    "\n",
    "    def init_hidden(self):\n",
    "        # Before we've done anything, we dont have any hidden state.\n",
    "        # Refer to the Pytorch documentation to see exactly why they have this dimensionality.\n",
    "        # The axes semantics are (num_layers * num_directions, minibatch_size, hidden_dim)\n",
    "        return torch.zeros(2, self.batch_size, self.hidden_dim).to(self.device), \\\n",
    "               torch.zeros(2, self.batch_size, self.hidden_dim).to(self.device)\n",
    "\n",
    "    def forward(self, sentence):\n",
    "        embedded = self.embedding(sentence)\n",
    "        embedded = embedded.permute(1, 0, 2)\n",
    "\n",
    "        lstm_out, self.hidden = self.lstm(\n",
    "            embedded.view(len(embedded), self.batch_size, self.embedding_dim), self.hidden)\n",
    "\n",
    "        out = self.hidden2label(lstm_out[-1])\n",
    "        return out"
   ]
  },
  {
   "cell_type": "code",
   "execution_count": 14,
   "metadata": {
    "id": "bp9d32sOlDo6",
    "outputId": "9a477106-b5fb-4cf1-f1df-1ad21700d4c1",
    "scrolled": true
   },
   "outputs": [
    {
     "name": "stdout",
     "output_type": "stream",
     "text": [
      "Vocab created.\n",
      "Model initialised.\n",
      "Dataloaders created.\n",
      "Training model.\n",
      "| Epoch: 01 | Train Loss: 0.36 | Train MSE: 0.36 | Train RMSE: 0.60 |         Val. Loss: 0.34 | Val. MSE: 0.34 |  Val. RMSE: 0.58 |\n",
      "| Epoch: 02 | Train Loss: 0.35 | Train MSE: 0.35 | Train RMSE: 0.59 |         Val. Loss: 0.34 | Val. MSE: 0.34 |  Val. RMSE: 0.58 |\n",
      "| Epoch: 03 | Train Loss: 0.34 | Train MSE: 0.34 | Train RMSE: 0.59 |         Val. Loss: 0.34 | Val. MSE: 0.34 |  Val. RMSE: 0.58 |\n",
      "| Epoch: 04 | Train Loss: 0.34 | Train MSE: 0.34 | Train RMSE: 0.58 |         Val. Loss: 0.34 | Val. MSE: 0.34 |  Val. RMSE: 0.58 |\n",
      "| Epoch: 05 | Train Loss: 0.33 | Train MSE: 0.33 | Train RMSE: 0.58 |         Val. Loss: 0.34 | Val. MSE: 0.34 |  Val. RMSE: 0.58 |\n",
      "| Epoch: 06 | Train Loss: 0.29 | Train MSE: 0.29 | Train RMSE: 0.54 |         Val. Loss: 0.35 | Val. MSE: 0.35 |  Val. RMSE: 0.59 |\n",
      "| Epoch: 07 | Train Loss: 0.26 | Train MSE: 0.26 | Train RMSE: 0.51 |         Val. Loss: 0.36 | Val. MSE: 0.36 |  Val. RMSE: 0.60 |\n",
      "| Epoch: 08 | Train Loss: 0.24 | Train MSE: 0.24 | Train RMSE: 0.49 |         Val. Loss: 0.37 | Val. MSE: 0.37 |  Val. RMSE: 0.61 |\n",
      "| Epoch: 09 | Train Loss: 0.23 | Train MSE: 0.23 | Train RMSE: 0.48 |         Val. Loss: 0.38 | Val. MSE: 0.38 |  Val. RMSE: 0.61 |\n",
      "| Epoch: 10 | Train Loss: 0.22 | Train MSE: 0.22 | Train RMSE: 0.47 |         Val. Loss: 0.38 | Val. MSE: 0.38 |  Val. RMSE: 0.62 |\n"
     ]
    }
   ],
   "source": [
    "## Approach 1 code, using functions defined above:\n",
    "\n",
    "# We set our training data and test data\n",
    "training_data = train_df['original']\n",
    "test_data = test_df['original']\n",
    "\n",
    "# Creating word vectors\n",
    "training_vocab, training_tokenized_corpus = create_vocab(training_data)\n",
    "test_vocab, test_tokenized_corpus = create_vocab(test_data)\n",
    "\n",
    "# Creating joint vocab from test and train:\n",
    "joint_vocab, joint_tokenized_corpus = create_vocab(pd.concat([training_data, test_data]))\n",
    "\n",
    "print(\"Vocab created.\")\n",
    "\n",
    "# We create representations for our tokens\n",
    "wvecs = [] # word vectors\n",
    "word2idx = [] # word2index\n",
    "idx2word = []\n",
    "\n",
    "# This is a large file, it will take a while to load in the memory!\n",
    "glove_file = '/vol/bitbucket/rp3317/data/glove.6B.100d.txt'\n",
    "with codecs.open(glove_file, 'r','utf-8') as f:\n",
    "  index = 1\n",
    "  for line in f.readlines():\n",
    "    # Ignore the first line - first line typically contains vocab, dimensionality\n",
    "    if len(line.strip().split()) > 3:\n",
    "      word = line.strip().split()[0]\n",
    "      if word in joint_vocab:\n",
    "          (word, vec) = (word,\n",
    "                     list(map(float,line.strip().split()[1:])))\n",
    "          wvecs.append(vec)\n",
    "          word2idx.append((word, index))\n",
    "          idx2word.append((index, word))\n",
    "          index += 1\n",
    "\n",
    "wvecs = np.array(wvecs)\n",
    "word2idx = dict(word2idx)\n",
    "idx2word = dict(idx2word)\n",
    "\n",
    "vectorized_seqs = [[word2idx[tok] for tok in seq if tok in word2idx] for seq in training_tokenized_corpus]\n",
    "\n",
    "# To avoid any sentences being empty (if no words match to our word embeddings)\n",
    "vectorized_seqs = [x if len(x) > 0 else [0] for x in vectorized_seqs]\n",
    "\n",
    "INPUT_DIM = len(word2idx)\n",
    "EMBEDDING_DIM = 100\n",
    "BATCH_SIZE = 32\n",
    "\n",
    "model = BiLSTM(EMBEDDING_DIM, 50, INPUT_DIM, BATCH_SIZE, device)\n",
    "print(\"Model initialised.\")\n",
    "\n",
    "model.to(device)\n",
    "# We provide the model with our embeddings\n",
    "model.embedding.weight.data.copy_(torch.from_numpy(wvecs))\n",
    "\n",
    "feature = vectorized_seqs\n",
    "\n",
    "# 'feature' is a list of lists, each containing embedding IDs for word tokens\n",
    "train_and_dev = Task1Dataset(feature, train_df['meanGrade'])\n",
    "\n",
    "train_examples = round(len(train_and_dev)*train_proportion)\n",
    "dev_examples = len(train_and_dev) - train_examples\n",
    "\n",
    "train_dataset, dev_dataset = random_split(train_and_dev,\n",
    "                                           (train_examples,\n",
    "                                            dev_examples))\n",
    "\n",
    "train_loader = torch.utils.data.DataLoader(train_dataset, shuffle=True, batch_size=BATCH_SIZE, collate_fn=collate_fn_padd)\n",
    "dev_loader = torch.utils.data.DataLoader(dev_dataset, batch_size=BATCH_SIZE, collate_fn=collate_fn_padd)\n",
    "\n",
    "print(\"Dataloaders created.\")\n",
    "\n",
    "loss_fn = nn.MSELoss()\n",
    "loss_fn = loss_fn.to(device)\n",
    "\n",
    "optimizer = torch.optim.Adam(model.parameters())\n",
    "\n",
    "train(train_loader, dev_loader, model, epochs)"
   ]
  },
  {
   "cell_type": "markdown",
   "metadata": {
    "id": "rdeFaoc3lDpK"
   },
   "source": [
    "#### Approach 2: No pre-trained representations"
   ]
  },
  {
   "cell_type": "code",
   "execution_count": null,
   "metadata": {
    "id": "46gm47T4lDpQ",
    "outputId": "200c6ad7-aa53-4e25-8939-11b46e6e6759"
   },
   "outputs": [
    {
     "name": "stdout",
     "output_type": "stream",
     "text": [
      "\n",
      "Train performance:\n",
      "| MSE: 0.13 | RMSE: 0.37 |\n",
      "\n",
      "Dev performance:\n",
      "| MSE: 0.36 | RMSE: 0.60 |\n"
     ]
    }
   ],
   "source": [
    "train_and_dev = train_df['edit']\n",
    "\n",
    "training_data, dev_data, training_y, dev_y = train_test_split(train_df['edit'], train_df['meanGrade'],\n",
    "                                                                        test_size=(1-train_proportion),\n",
    "                                                                        random_state=42)\n",
    "\n",
    "# We train a Tf-idf model\n",
    "count_vect = CountVectorizer(stop_words='english')\n",
    "train_counts = count_vect.fit_transform(training_data)\n",
    "transformer = TfidfTransformer().fit(train_counts)\n",
    "train_counts = transformer.transform(train_counts)\n",
    "regression_model = LinearRegression().fit(train_counts, training_y)\n",
    "\n",
    "# Train predictions\n",
    "predicted_train = regression_model.predict(train_counts)\n",
    "\n",
    "# Calculate Tf-idf using train and dev, and validate model on dev:\n",
    "test_and_test_counts = count_vect.transform(train_and_dev)\n",
    "transformer = TfidfTransformer().fit(test_and_test_counts)\n",
    "\n",
    "test_counts = count_vect.transform(dev_data)\n",
    "\n",
    "test_counts = transformer.transform(test_counts)\n",
    "\n",
    "# Dev predictions\n",
    "predicted = regression_model.predict(test_counts)\n",
    "\n",
    "# We run the evaluation:\n",
    "print(\"\\nTrain performance:\")\n",
    "sse, mse = model_performance(predicted_train, training_y, True)\n",
    "\n",
    "print(\"\\nDev performance:\")\n",
    "sse, mse = model_performance(predicted, dev_y, True)"
   ]
  },
  {
   "cell_type": "markdown",
   "metadata": {
    "id": "9HyHwHkUlDpa"
   },
   "source": [
    "#### Baseline for task 2"
   ]
  },
  {
   "cell_type": "code",
   "execution_count": null,
   "metadata": {
    "id": "7DA3q4o1lDpd",
    "outputId": "fa88780f-7ed0-4c2b-f2cf-bc0b2883626d"
   },
   "outputs": [
    {
     "name": "stdout",
     "output_type": "stream",
     "text": [
      "\n",
      "Baseline performance:\n",
      "| MSE: 0.34 | RMSE: 0.58 |\n"
     ]
    }
   ],
   "source": [
    "# Baseline for the task\n",
    "pred_baseline = torch.zeros(len(dev_y)) + np.mean(training_y)\n",
    "print(\"\\nBaseline performance:\")\n",
    "sse, mse = model_performance(pred_baseline, dev_y, True)"
   ]
  },
  {
   "cell_type": "code",
   "execution_count": null,
   "metadata": {
    "id": "84nQDZyBlDpg"
   },
   "outputs": [],
   "source": []
  }
 ],
 "metadata": {
  "colab": {
   "name": "task_1_main.ipynb",
   "provenance": []
  },
  "kernelspec": {
   "display_name": "nlp",
   "language": "python",
   "name": "nlp"
  },
  "language_info": {
   "codemirror_mode": {
    "name": "ipython",
    "version": 3
   },
   "file_extension": ".py",
   "mimetype": "text/x-python",
   "name": "python",
   "nbconvert_exporter": "python",
   "pygments_lexer": "ipython3",
   "version": "3.8.5"
  }
 },
 "nbformat": 4,
 "nbformat_minor": 4
}
