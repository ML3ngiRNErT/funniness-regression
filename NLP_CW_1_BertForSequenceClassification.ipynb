{
  "nbformat": 4,
  "nbformat_minor": 0,
  "metadata": {
    "accelerator": "GPU",
    "colab": {
      "name": "NLP_CW_1 BertForSequenceClassification",
      "provenance": [],
      "collapsed_sections": [],
      "toc_visible": true
    },
    "kernelspec": {
      "display_name": "Python 3",
      "language": "python",
      "name": "python3"
    },
    "language_info": {
      "codemirror_mode": {
        "name": "ipython",
        "version": 3
      },
      "file_extension": ".py",
      "mimetype": "text/x-python",
      "name": "python",
      "nbconvert_exporter": "python",
      "pygments_lexer": "ipython3",
      "version": "3.7.1"
    }
  },
  "cells": [
    {
      "cell_type": "markdown",
      "metadata": {
        "id": "2TvyemfDlDmu"
      },
      "source": [
        "### Coursework coding instructions (please also see full coursework spec)\n",
        "\n",
        "Please choose if you want to do either Task 1 or Task 2. You should write your report about one task only.\n",
        "\n",
        "For the task you choose you will need to do two approaches:\n",
        "  - Approach 1, which can use use pre-trained embeddings / models\n",
        "  - Approach 2, which should not use any pre-trained embeddings or models\n",
        "We should be able to run both approaches from the same colab file\n",
        "\n",
        "#### Running your code:\n",
        "  - Your models should run automatically when running your colab file without further intervention\n",
        "  - For each task you should automatically output the performance of both models\n",
        "  - Your code should automatically download any libraries required\n",
        "\n",
        "#### Structure of your code:\n",
        "  - You are expected to use the 'train', 'eval' and 'model_performance' functions, although you may edit these as required\n",
        "  - Otherwise there are no restrictions on what you can do in your code\n",
        "\n",
        "#### Documentation:\n",
        "  - You are expected to produce a .README file summarising how you have approached both tasks\n",
        "\n",
        "#### Reproducibility:\n",
        "  - Your .README file should explain how to replicate the different experiments mentioned in your report\n",
        "\n",
        "Good luck! We are really looking forward to seeing your reports and your model code!"
      ]
    },
    {
      "cell_type": "markdown",
      "metadata": {
        "id": "qMEJ6e1tBnZW"
      },
      "source": [
        "## Setting up the environment"
      ]
    },
    {
      "cell_type": "code",
      "metadata": {
        "colab": {
          "base_uri": "https://localhost:8080/"
        },
        "id": "axmewNekXEkc",
        "outputId": "c54cf24e-5f91-45fb-ec2d-0d5045e4ad5d"
      },
      "source": [
        "from google.colab import drive\n",
        "drive.mount('/content/drive')"
      ],
      "execution_count": null,
      "outputs": [
        {
          "output_type": "stream",
          "text": [
            "Mounted at /content/drive\n"
          ],
          "name": "stdout"
        }
      ]
    },
    {
      "cell_type": "code",
      "metadata": {
        "colab": {
          "base_uri": "https://localhost:8080/"
        },
        "id": "tV6UcBDWEGUr",
        "outputId": "e2eac52e-ecca-49e5-94f5-3d7d836b51ff"
      },
      "source": [
        "!pip install ekphrasis"
      ],
      "execution_count": null,
      "outputs": [
        {
          "output_type": "stream",
          "text": [
            "Collecting ekphrasis\n",
            "\u001b[?25l  Downloading https://files.pythonhosted.org/packages/92/e6/37c59d65e78c3a2aaf662df58faca7250eb6b36c559b912a39a7ca204cfb/ekphrasis-0.5.1.tar.gz (80kB)\n",
            "\r\u001b[K     |████                            | 10kB 22.8MB/s eta 0:00:01\r\u001b[K     |████████▏                       | 20kB 28.4MB/s eta 0:00:01\r\u001b[K     |████████████▎                   | 30kB 21.2MB/s eta 0:00:01\r\u001b[K     |████████████████▍               | 40kB 24.4MB/s eta 0:00:01\r\u001b[K     |████████████████████▌           | 51kB 23.5MB/s eta 0:00:01\r\u001b[K     |████████████████████████▌       | 61kB 16.7MB/s eta 0:00:01\r\u001b[K     |████████████████████████████▋   | 71kB 17.1MB/s eta 0:00:01\r\u001b[K     |████████████████████████████████| 81kB 8.4MB/s \n",
            "\u001b[?25hRequirement already satisfied: termcolor in /usr/local/lib/python3.7/dist-packages (from ekphrasis) (1.1.0)\n",
            "Requirement already satisfied: tqdm in /usr/local/lib/python3.7/dist-packages (from ekphrasis) (4.41.1)\n",
            "Collecting colorama\n",
            "  Downloading https://files.pythonhosted.org/packages/44/98/5b86278fbbf250d239ae0ecb724f8572af1c91f4a11edf4d36a206189440/colorama-0.4.4-py2.py3-none-any.whl\n",
            "Collecting ujson\n",
            "\u001b[?25l  Downloading https://files.pythonhosted.org/packages/17/4e/50e8e4cf5f00b537095711c2c86ac4d7191aed2b4fffd5a19f06898f6929/ujson-4.0.2-cp37-cp37m-manylinux1_x86_64.whl (179kB)\n",
            "\u001b[K     |████████████████████████████████| 184kB 14.4MB/s \n",
            "\u001b[?25hRequirement already satisfied: matplotlib in /usr/local/lib/python3.7/dist-packages (from ekphrasis) (3.2.2)\n",
            "Requirement already satisfied: nltk in /usr/local/lib/python3.7/dist-packages (from ekphrasis) (3.2.5)\n",
            "Collecting ftfy\n",
            "\u001b[?25l  Downloading https://files.pythonhosted.org/packages/04/06/e5c80e2e0f979628d47345efba51f7ba386fe95963b11c594209085f5a9b/ftfy-5.9.tar.gz (66kB)\n",
            "\u001b[K     |████████████████████████████████| 71kB 11.4MB/s \n",
            "\u001b[?25hRequirement already satisfied: numpy in /usr/local/lib/python3.7/dist-packages (from ekphrasis) (1.19.5)\n",
            "Requirement already satisfied: python-dateutil>=2.1 in /usr/local/lib/python3.7/dist-packages (from matplotlib->ekphrasis) (2.8.1)\n",
            "Requirement already satisfied: kiwisolver>=1.0.1 in /usr/local/lib/python3.7/dist-packages (from matplotlib->ekphrasis) (1.3.1)\n",
            "Requirement already satisfied: pyparsing!=2.0.4,!=2.1.2,!=2.1.6,>=2.0.1 in /usr/local/lib/python3.7/dist-packages (from matplotlib->ekphrasis) (2.4.7)\n",
            "Requirement already satisfied: cycler>=0.10 in /usr/local/lib/python3.7/dist-packages (from matplotlib->ekphrasis) (0.10.0)\n",
            "Requirement already satisfied: six in /usr/local/lib/python3.7/dist-packages (from nltk->ekphrasis) (1.15.0)\n",
            "Requirement already satisfied: wcwidth in /usr/local/lib/python3.7/dist-packages (from ftfy->ekphrasis) (0.2.5)\n",
            "Building wheels for collected packages: ekphrasis, ftfy\n",
            "  Building wheel for ekphrasis (setup.py) ... \u001b[?25l\u001b[?25hdone\n",
            "  Created wheel for ekphrasis: filename=ekphrasis-0.5.1-cp37-none-any.whl size=82844 sha256=2681073c57b70a5e88837b5699b280d8f3c6facbc38a80ba8bb6f1121eac679c\n",
            "  Stored in directory: /root/.cache/pip/wheels/2f/c5/9b/c9b60f535a2cf9fdbc92d84c4801a010c35a9cd348011ed2a1\n",
            "  Building wheel for ftfy (setup.py) ... \u001b[?25l\u001b[?25hdone\n",
            "  Created wheel for ftfy: filename=ftfy-5.9-cp37-none-any.whl size=46451 sha256=9e077d0553e41bffa0a7186bd579754bbccec5209f375052a00c7f8f151c463f\n",
            "  Stored in directory: /root/.cache/pip/wheels/5e/2e/f0/b07196e8c929114998f0316894a61c752b63bfa3fdd50d2fc3\n",
            "Successfully built ekphrasis ftfy\n",
            "Installing collected packages: colorama, ujson, ftfy, ekphrasis\n",
            "Successfully installed colorama-0.4.4 ekphrasis-0.5.1 ftfy-5.9 ujson-4.0.2\n"
          ],
          "name": "stdout"
        }
      ]
    },
    {
      "cell_type": "code",
      "metadata": {
        "colab": {
          "base_uri": "https://localhost:8080/"
        },
        "id": "MbZQUEp1Xk31",
        "outputId": "48a275d0-cc41-414e-8883-008c135fecd7"
      },
      "source": [
        "!pip install transformers"
      ],
      "execution_count": null,
      "outputs": [
        {
          "output_type": "stream",
          "text": [
            "Collecting transformers\n",
            "\u001b[?25l  Downloading https://files.pythonhosted.org/packages/f9/54/5ca07ec9569d2f232f3166de5457b63943882f7950ddfcc887732fc7fb23/transformers-4.3.3-py3-none-any.whl (1.9MB)\n",
            "\r\u001b[K     |▏                               | 10kB 23.1MB/s eta 0:00:01\r\u001b[K     |▍                               | 20kB 29.5MB/s eta 0:00:01\r\u001b[K     |▌                               | 30kB 23.7MB/s eta 0:00:01\r\u001b[K     |▊                               | 40kB 27.5MB/s eta 0:00:01\r\u001b[K     |▉                               | 51kB 25.6MB/s eta 0:00:01\r\u001b[K     |█                               | 61kB 28.3MB/s eta 0:00:01\r\u001b[K     |█▏                              | 71kB 18.5MB/s eta 0:00:01\r\u001b[K     |█▍                              | 81kB 19.8MB/s eta 0:00:01\r\u001b[K     |█▌                              | 92kB 18.5MB/s eta 0:00:01\r\u001b[K     |█▊                              | 102kB 18.8MB/s eta 0:00:01\r\u001b[K     |██                              | 112kB 18.8MB/s eta 0:00:01\r\u001b[K     |██                              | 122kB 18.8MB/s eta 0:00:01\r\u001b[K     |██▎                             | 133kB 18.8MB/s eta 0:00:01\r\u001b[K     |██▍                             | 143kB 18.8MB/s eta 0:00:01\r\u001b[K     |██▋                             | 153kB 18.8MB/s eta 0:00:01\r\u001b[K     |██▊                             | 163kB 18.8MB/s eta 0:00:01\r\u001b[K     |███                             | 174kB 18.8MB/s eta 0:00:01\r\u001b[K     |███                             | 184kB 18.8MB/s eta 0:00:01\r\u001b[K     |███▎                            | 194kB 18.8MB/s eta 0:00:01\r\u001b[K     |███▌                            | 204kB 18.8MB/s eta 0:00:01\r\u001b[K     |███▋                            | 215kB 18.8MB/s eta 0:00:01\r\u001b[K     |███▉                            | 225kB 18.8MB/s eta 0:00:01\r\u001b[K     |████                            | 235kB 18.8MB/s eta 0:00:01\r\u001b[K     |████▏                           | 245kB 18.8MB/s eta 0:00:01\r\u001b[K     |████▎                           | 256kB 18.8MB/s eta 0:00:01\r\u001b[K     |████▌                           | 266kB 18.8MB/s eta 0:00:01\r\u001b[K     |████▋                           | 276kB 18.8MB/s eta 0:00:01\r\u001b[K     |████▉                           | 286kB 18.8MB/s eta 0:00:01\r\u001b[K     |█████                           | 296kB 18.8MB/s eta 0:00:01\r\u001b[K     |█████▏                          | 307kB 18.8MB/s eta 0:00:01\r\u001b[K     |█████▍                          | 317kB 18.8MB/s eta 0:00:01\r\u001b[K     |█████▌                          | 327kB 18.8MB/s eta 0:00:01\r\u001b[K     |█████▊                          | 337kB 18.8MB/s eta 0:00:01\r\u001b[K     |█████▉                          | 348kB 18.8MB/s eta 0:00:01\r\u001b[K     |██████                          | 358kB 18.8MB/s eta 0:00:01\r\u001b[K     |██████▏                         | 368kB 18.8MB/s eta 0:00:01\r\u001b[K     |██████▍                         | 378kB 18.8MB/s eta 0:00:01\r\u001b[K     |██████▋                         | 389kB 18.8MB/s eta 0:00:01\r\u001b[K     |██████▊                         | 399kB 18.8MB/s eta 0:00:01\r\u001b[K     |███████                         | 409kB 18.8MB/s eta 0:00:01\r\u001b[K     |███████                         | 419kB 18.8MB/s eta 0:00:01\r\u001b[K     |███████▎                        | 430kB 18.8MB/s eta 0:00:01\r\u001b[K     |███████▍                        | 440kB 18.8MB/s eta 0:00:01\r\u001b[K     |███████▋                        | 450kB 18.8MB/s eta 0:00:01\r\u001b[K     |███████▊                        | 460kB 18.8MB/s eta 0:00:01\r\u001b[K     |████████                        | 471kB 18.8MB/s eta 0:00:01\r\u001b[K     |████████▏                       | 481kB 18.8MB/s eta 0:00:01\r\u001b[K     |████████▎                       | 491kB 18.8MB/s eta 0:00:01\r\u001b[K     |████████▌                       | 501kB 18.8MB/s eta 0:00:01\r\u001b[K     |████████▋                       | 512kB 18.8MB/s eta 0:00:01\r\u001b[K     |████████▉                       | 522kB 18.8MB/s eta 0:00:01\r\u001b[K     |█████████                       | 532kB 18.8MB/s eta 0:00:01\r\u001b[K     |█████████▏                      | 542kB 18.8MB/s eta 0:00:01\r\u001b[K     |█████████▎                      | 552kB 18.8MB/s eta 0:00:01\r\u001b[K     |█████████▌                      | 563kB 18.8MB/s eta 0:00:01\r\u001b[K     |█████████▊                      | 573kB 18.8MB/s eta 0:00:01\r\u001b[K     |█████████▉                      | 583kB 18.8MB/s eta 0:00:01\r\u001b[K     |██████████                      | 593kB 18.8MB/s eta 0:00:01\r\u001b[K     |██████████▏                     | 604kB 18.8MB/s eta 0:00:01\r\u001b[K     |██████████▍                     | 614kB 18.8MB/s eta 0:00:01\r\u001b[K     |██████████▌                     | 624kB 18.8MB/s eta 0:00:01\r\u001b[K     |██████████▊                     | 634kB 18.8MB/s eta 0:00:01\r\u001b[K     |██████████▉                     | 645kB 18.8MB/s eta 0:00:01\r\u001b[K     |███████████                     | 655kB 18.8MB/s eta 0:00:01\r\u001b[K     |███████████▎                    | 665kB 18.8MB/s eta 0:00:01\r\u001b[K     |███████████▍                    | 675kB 18.8MB/s eta 0:00:01\r\u001b[K     |███████████▋                    | 686kB 18.8MB/s eta 0:00:01\r\u001b[K     |███████████▊                    | 696kB 18.8MB/s eta 0:00:01\r\u001b[K     |████████████                    | 706kB 18.8MB/s eta 0:00:01\r\u001b[K     |████████████                    | 716kB 18.8MB/s eta 0:00:01\r\u001b[K     |████████████▎                   | 727kB 18.8MB/s eta 0:00:01\r\u001b[K     |████████████▍                   | 737kB 18.8MB/s eta 0:00:01\r\u001b[K     |████████████▋                   | 747kB 18.8MB/s eta 0:00:01\r\u001b[K     |████████████▉                   | 757kB 18.8MB/s eta 0:00:01\r\u001b[K     |█████████████                   | 768kB 18.8MB/s eta 0:00:01\r\u001b[K     |█████████████▏                  | 778kB 18.8MB/s eta 0:00:01\r\u001b[K     |█████████████▎                  | 788kB 18.8MB/s eta 0:00:01\r\u001b[K     |█████████████▌                  | 798kB 18.8MB/s eta 0:00:01\r\u001b[K     |█████████████▋                  | 808kB 18.8MB/s eta 0:00:01\r\u001b[K     |█████████████▉                  | 819kB 18.8MB/s eta 0:00:01\r\u001b[K     |██████████████                  | 829kB 18.8MB/s eta 0:00:01\r\u001b[K     |██████████████▏                 | 839kB 18.8MB/s eta 0:00:01\r\u001b[K     |██████████████▍                 | 849kB 18.8MB/s eta 0:00:01\r\u001b[K     |██████████████▌                 | 860kB 18.8MB/s eta 0:00:01\r\u001b[K     |██████████████▊                 | 870kB 18.8MB/s eta 0:00:01\r\u001b[K     |██████████████▉                 | 880kB 18.8MB/s eta 0:00:01\r\u001b[K     |███████████████                 | 890kB 18.8MB/s eta 0:00:01\r\u001b[K     |███████████████▏                | 901kB 18.8MB/s eta 0:00:01\r\u001b[K     |███████████████▍                | 911kB 18.8MB/s eta 0:00:01\r\u001b[K     |███████████████▌                | 921kB 18.8MB/s eta 0:00:01\r\u001b[K     |███████████████▊                | 931kB 18.8MB/s eta 0:00:01\r\u001b[K     |████████████████                | 942kB 18.8MB/s eta 0:00:01\r\u001b[K     |████████████████                | 952kB 18.8MB/s eta 0:00:01\r\u001b[K     |████████████████▎               | 962kB 18.8MB/s eta 0:00:01\r\u001b[K     |████████████████▍               | 972kB 18.8MB/s eta 0:00:01\r\u001b[K     |████████████████▋               | 983kB 18.8MB/s eta 0:00:01\r\u001b[K     |████████████████▊               | 993kB 18.8MB/s eta 0:00:01\r\u001b[K     |█████████████████               | 1.0MB 18.8MB/s eta 0:00:01\r\u001b[K     |█████████████████               | 1.0MB 18.8MB/s eta 0:00:01\r\u001b[K     |█████████████████▎              | 1.0MB 18.8MB/s eta 0:00:01\r\u001b[K     |█████████████████▍              | 1.0MB 18.8MB/s eta 0:00:01\r\u001b[K     |█████████████████▋              | 1.0MB 18.8MB/s eta 0:00:01\r\u001b[K     |█████████████████▉              | 1.1MB 18.8MB/s eta 0:00:01\r\u001b[K     |██████████████████              | 1.1MB 18.8MB/s eta 0:00:01\r\u001b[K     |██████████████████▏             | 1.1MB 18.8MB/s eta 0:00:01\r\u001b[K     |██████████████████▎             | 1.1MB 18.8MB/s eta 0:00:01\r\u001b[K     |██████████████████▌             | 1.1MB 18.8MB/s eta 0:00:01\r\u001b[K     |██████████████████▋             | 1.1MB 18.8MB/s eta 0:00:01\r\u001b[K     |██████████████████▉             | 1.1MB 18.8MB/s eta 0:00:01\r\u001b[K     |███████████████████             | 1.1MB 18.8MB/s eta 0:00:01\r\u001b[K     |███████████████████▏            | 1.1MB 18.8MB/s eta 0:00:01\r\u001b[K     |███████████████████▍            | 1.1MB 18.8MB/s eta 0:00:01\r\u001b[K     |███████████████████▌            | 1.2MB 18.8MB/s eta 0:00:01\r\u001b[K     |███████████████████▊            | 1.2MB 18.8MB/s eta 0:00:01\r\u001b[K     |███████████████████▉            | 1.2MB 18.8MB/s eta 0:00:01\r\u001b[K     |████████████████████            | 1.2MB 18.8MB/s eta 0:00:01\r\u001b[K     |████████████████████▏           | 1.2MB 18.8MB/s eta 0:00:01\r\u001b[K     |████████████████████▍           | 1.2MB 18.8MB/s eta 0:00:01\r\u001b[K     |████████████████████▌           | 1.2MB 18.8MB/s eta 0:00:01\r\u001b[K     |████████████████████▊           | 1.2MB 18.8MB/s eta 0:00:01\r\u001b[K     |█████████████████████           | 1.2MB 18.8MB/s eta 0:00:01\r\u001b[K     |█████████████████████           | 1.2MB 18.8MB/s eta 0:00:01\r\u001b[K     |█████████████████████▎          | 1.3MB 18.8MB/s eta 0:00:01\r\u001b[K     |█████████████████████▍          | 1.3MB 18.8MB/s eta 0:00:01\r\u001b[K     |█████████████████████▋          | 1.3MB 18.8MB/s eta 0:00:01\r\u001b[K     |█████████████████████▊          | 1.3MB 18.8MB/s eta 0:00:01\r\u001b[K     |██████████████████████          | 1.3MB 18.8MB/s eta 0:00:01\r\u001b[K     |██████████████████████          | 1.3MB 18.8MB/s eta 0:00:01\r\u001b[K     |██████████████████████▎         | 1.3MB 18.8MB/s eta 0:00:01\r\u001b[K     |██████████████████████▌         | 1.3MB 18.8MB/s eta 0:00:01\r\u001b[K     |██████████████████████▋         | 1.3MB 18.8MB/s eta 0:00:01\r\u001b[K     |██████████████████████▉         | 1.4MB 18.8MB/s eta 0:00:01\r\u001b[K     |███████████████████████         | 1.4MB 18.8MB/s eta 0:00:01\r\u001b[K     |███████████████████████▏        | 1.4MB 18.8MB/s eta 0:00:01\r\u001b[K     |███████████████████████▎        | 1.4MB 18.8MB/s eta 0:00:01\r\u001b[K     |███████████████████████▌        | 1.4MB 18.8MB/s eta 0:00:01\r\u001b[K     |███████████████████████▋        | 1.4MB 18.8MB/s eta 0:00:01\r\u001b[K     |███████████████████████▉        | 1.4MB 18.8MB/s eta 0:00:01\r\u001b[K     |████████████████████████        | 1.4MB 18.8MB/s eta 0:00:01\r\u001b[K     |████████████████████████▏       | 1.4MB 18.8MB/s eta 0:00:01\r\u001b[K     |████████████████████████▍       | 1.4MB 18.8MB/s eta 0:00:01\r\u001b[K     |████████████████████████▌       | 1.5MB 18.8MB/s eta 0:00:01\r\u001b[K     |████████████████████████▊       | 1.5MB 18.8MB/s eta 0:00:01\r\u001b[K     |████████████████████████▉       | 1.5MB 18.8MB/s eta 0:00:01\r\u001b[K     |█████████████████████████       | 1.5MB 18.8MB/s eta 0:00:01\r\u001b[K     |█████████████████████████▏      | 1.5MB 18.8MB/s eta 0:00:01\r\u001b[K     |█████████████████████████▍      | 1.5MB 18.8MB/s eta 0:00:01\r\u001b[K     |█████████████████████████▋      | 1.5MB 18.8MB/s eta 0:00:01\r\u001b[K     |█████████████████████████▊      | 1.5MB 18.8MB/s eta 0:00:01\r\u001b[K     |██████████████████████████      | 1.5MB 18.8MB/s eta 0:00:01\r\u001b[K     |██████████████████████████      | 1.5MB 18.8MB/s eta 0:00:01\r\u001b[K     |██████████████████████████▎     | 1.6MB 18.8MB/s eta 0:00:01\r\u001b[K     |██████████████████████████▍     | 1.6MB 18.8MB/s eta 0:00:01\r\u001b[K     |██████████████████████████▋     | 1.6MB 18.8MB/s eta 0:00:01\r\u001b[K     |██████████████████████████▊     | 1.6MB 18.8MB/s eta 0:00:01\r\u001b[K     |███████████████████████████     | 1.6MB 18.8MB/s eta 0:00:01\r\u001b[K     |███████████████████████████▏    | 1.6MB 18.8MB/s eta 0:00:01\r\u001b[K     |███████████████████████████▎    | 1.6MB 18.8MB/s eta 0:00:01\r\u001b[K     |███████████████████████████▌    | 1.6MB 18.8MB/s eta 0:00:01\r\u001b[K     |███████████████████████████▋    | 1.6MB 18.8MB/s eta 0:00:01\r\u001b[K     |███████████████████████████▉    | 1.6MB 18.8MB/s eta 0:00:01\r\u001b[K     |████████████████████████████    | 1.7MB 18.8MB/s eta 0:00:01\r\u001b[K     |████████████████████████████▏   | 1.7MB 18.8MB/s eta 0:00:01\r\u001b[K     |████████████████████████████▎   | 1.7MB 18.8MB/s eta 0:00:01\r\u001b[K     |████████████████████████████▌   | 1.7MB 18.8MB/s eta 0:00:01\r\u001b[K     |████████████████████████████▊   | 1.7MB 18.8MB/s eta 0:00:01\r\u001b[K     |████████████████████████████▉   | 1.7MB 18.8MB/s eta 0:00:01\r\u001b[K     |█████████████████████████████   | 1.7MB 18.8MB/s eta 0:00:01\r\u001b[K     |█████████████████████████████▏  | 1.7MB 18.8MB/s eta 0:00:01\r\u001b[K     |█████████████████████████████▍  | 1.7MB 18.8MB/s eta 0:00:01\r\u001b[K     |█████████████████████████████▌  | 1.8MB 18.8MB/s eta 0:00:01\r\u001b[K     |█████████████████████████████▊  | 1.8MB 18.8MB/s eta 0:00:01\r\u001b[K     |█████████████████████████████▉  | 1.8MB 18.8MB/s eta 0:00:01\r\u001b[K     |██████████████████████████████  | 1.8MB 18.8MB/s eta 0:00:01\r\u001b[K     |██████████████████████████████▎ | 1.8MB 18.8MB/s eta 0:00:01\r\u001b[K     |██████████████████████████████▍ | 1.8MB 18.8MB/s eta 0:00:01\r\u001b[K     |██████████████████████████████▋ | 1.8MB 18.8MB/s eta 0:00:01\r\u001b[K     |██████████████████████████████▊ | 1.8MB 18.8MB/s eta 0:00:01\r\u001b[K     |███████████████████████████████ | 1.8MB 18.8MB/s eta 0:00:01\r\u001b[K     |███████████████████████████████ | 1.8MB 18.8MB/s eta 0:00:01\r\u001b[K     |███████████████████████████████▎| 1.9MB 18.8MB/s eta 0:00:01\r\u001b[K     |███████████████████████████████▍| 1.9MB 18.8MB/s eta 0:00:01\r\u001b[K     |███████████████████████████████▋| 1.9MB 18.8MB/s eta 0:00:01\r\u001b[K     |███████████████████████████████▉| 1.9MB 18.8MB/s eta 0:00:01\r\u001b[K     |████████████████████████████████| 1.9MB 18.8MB/s eta 0:00:01\r\u001b[K     |████████████████████████████████| 1.9MB 18.8MB/s \n",
            "\u001b[?25hRequirement already satisfied: tqdm>=4.27 in /usr/local/lib/python3.7/dist-packages (from transformers) (4.41.1)\n",
            "Requirement already satisfied: regex!=2019.12.17 in /usr/local/lib/python3.7/dist-packages (from transformers) (2019.12.20)\n",
            "Requirement already satisfied: packaging in /usr/local/lib/python3.7/dist-packages (from transformers) (20.9)\n",
            "Requirement already satisfied: requests in /usr/local/lib/python3.7/dist-packages (from transformers) (2.23.0)\n",
            "Collecting tokenizers<0.11,>=0.10.1\n",
            "\u001b[?25l  Downloading https://files.pythonhosted.org/packages/71/23/2ddc317b2121117bf34dd00f5b0de194158f2a44ee2bf5e47c7166878a97/tokenizers-0.10.1-cp37-cp37m-manylinux2010_x86_64.whl (3.2MB)\n",
            "\u001b[K     |████████████████████████████████| 3.2MB 50.8MB/s \n",
            "\u001b[?25hRequirement already satisfied: numpy>=1.17 in /usr/local/lib/python3.7/dist-packages (from transformers) (1.19.5)\n",
            "Requirement already satisfied: importlib-metadata; python_version < \"3.8\" in /usr/local/lib/python3.7/dist-packages (from transformers) (3.7.0)\n",
            "Requirement already satisfied: filelock in /usr/local/lib/python3.7/dist-packages (from transformers) (3.0.12)\n",
            "Collecting sacremoses\n",
            "\u001b[?25l  Downloading https://files.pythonhosted.org/packages/7d/34/09d19aff26edcc8eb2a01bed8e98f13a1537005d31e95233fd48216eed10/sacremoses-0.0.43.tar.gz (883kB)\n",
            "\u001b[K     |████████████████████████████████| 890kB 53.9MB/s \n",
            "\u001b[?25hRequirement already satisfied: pyparsing>=2.0.2 in /usr/local/lib/python3.7/dist-packages (from packaging->transformers) (2.4.7)\n",
            "Requirement already satisfied: chardet<4,>=3.0.2 in /usr/local/lib/python3.7/dist-packages (from requests->transformers) (3.0.4)\n",
            "Requirement already satisfied: urllib3!=1.25.0,!=1.25.1,<1.26,>=1.21.1 in /usr/local/lib/python3.7/dist-packages (from requests->transformers) (1.24.3)\n",
            "Requirement already satisfied: certifi>=2017.4.17 in /usr/local/lib/python3.7/dist-packages (from requests->transformers) (2020.12.5)\n",
            "Requirement already satisfied: idna<3,>=2.5 in /usr/local/lib/python3.7/dist-packages (from requests->transformers) (2.10)\n",
            "Requirement already satisfied: typing-extensions>=3.6.4; python_version < \"3.8\" in /usr/local/lib/python3.7/dist-packages (from importlib-metadata; python_version < \"3.8\"->transformers) (3.7.4.3)\n",
            "Requirement already satisfied: zipp>=0.5 in /usr/local/lib/python3.7/dist-packages (from importlib-metadata; python_version < \"3.8\"->transformers) (3.4.0)\n",
            "Requirement already satisfied: six in /usr/local/lib/python3.7/dist-packages (from sacremoses->transformers) (1.15.0)\n",
            "Requirement already satisfied: click in /usr/local/lib/python3.7/dist-packages (from sacremoses->transformers) (7.1.2)\n",
            "Requirement already satisfied: joblib in /usr/local/lib/python3.7/dist-packages (from sacremoses->transformers) (1.0.1)\n",
            "Building wheels for collected packages: sacremoses\n",
            "  Building wheel for sacremoses (setup.py) ... \u001b[?25l\u001b[?25hdone\n",
            "  Created wheel for sacremoses: filename=sacremoses-0.0.43-cp37-none-any.whl size=893262 sha256=bd98a788eebf74ade75f52a7c2ef9edbf3b3a74a118be574f8483640c52d25c2\n",
            "  Stored in directory: /root/.cache/pip/wheels/29/3c/fd/7ce5c3f0666dab31a50123635e6fb5e19ceb42ce38d4e58f45\n",
            "Successfully built sacremoses\n",
            "Installing collected packages: tokenizers, sacremoses, transformers\n",
            "Successfully installed sacremoses-0.0.43 tokenizers-0.10.1 transformers-4.3.3\n"
          ],
          "name": "stdout"
        }
      ]
    },
    {
      "cell_type": "code",
      "metadata": {
        "colab": {
          "base_uri": "https://localhost:8080/"
        },
        "id": "wzCRdDeahuqk",
        "outputId": "1c6b1ea3-5212-46ae-a74b-0e3fc5194356"
      },
      "source": [
        "!python -m spacy download en_core_web_lg"
      ],
      "execution_count": null,
      "outputs": [
        {
          "output_type": "stream",
          "text": [
            "Collecting en_core_web_lg==2.2.5\n",
            "\u001b[?25l  Downloading https://github.com/explosion/spacy-models/releases/download/en_core_web_lg-2.2.5/en_core_web_lg-2.2.5.tar.gz (827.9MB)\n",
            "\u001b[K     |████████████████████████████████| 827.9MB 1.2MB/s \n",
            "\u001b[?25hRequirement already satisfied: spacy>=2.2.2 in /usr/local/lib/python3.7/dist-packages (from en_core_web_lg==2.2.5) (2.2.4)\n",
            "Requirement already satisfied: srsly<1.1.0,>=1.0.2 in /usr/local/lib/python3.7/dist-packages (from spacy>=2.2.2->en_core_web_lg==2.2.5) (1.0.5)\n",
            "Requirement already satisfied: catalogue<1.1.0,>=0.0.7 in /usr/local/lib/python3.7/dist-packages (from spacy>=2.2.2->en_core_web_lg==2.2.5) (1.0.0)\n",
            "Requirement already satisfied: thinc==7.4.0 in /usr/local/lib/python3.7/dist-packages (from spacy>=2.2.2->en_core_web_lg==2.2.5) (7.4.0)\n",
            "Requirement already satisfied: preshed<3.1.0,>=3.0.2 in /usr/local/lib/python3.7/dist-packages (from spacy>=2.2.2->en_core_web_lg==2.2.5) (3.0.5)\n",
            "Requirement already satisfied: cymem<2.1.0,>=2.0.2 in /usr/local/lib/python3.7/dist-packages (from spacy>=2.2.2->en_core_web_lg==2.2.5) (2.0.5)\n",
            "Requirement already satisfied: plac<1.2.0,>=0.9.6 in /usr/local/lib/python3.7/dist-packages (from spacy>=2.2.2->en_core_web_lg==2.2.5) (1.1.3)\n",
            "Requirement already satisfied: requests<3.0.0,>=2.13.0 in /usr/local/lib/python3.7/dist-packages (from spacy>=2.2.2->en_core_web_lg==2.2.5) (2.23.0)\n",
            "Requirement already satisfied: wasabi<1.1.0,>=0.4.0 in /usr/local/lib/python3.7/dist-packages (from spacy>=2.2.2->en_core_web_lg==2.2.5) (0.8.2)\n",
            "Requirement already satisfied: blis<0.5.0,>=0.4.0 in /usr/local/lib/python3.7/dist-packages (from spacy>=2.2.2->en_core_web_lg==2.2.5) (0.4.1)\n",
            "Requirement already satisfied: tqdm<5.0.0,>=4.38.0 in /usr/local/lib/python3.7/dist-packages (from spacy>=2.2.2->en_core_web_lg==2.2.5) (4.41.1)\n",
            "Requirement already satisfied: numpy>=1.15.0 in /usr/local/lib/python3.7/dist-packages (from spacy>=2.2.2->en_core_web_lg==2.2.5) (1.19.5)\n",
            "Requirement already satisfied: setuptools in /usr/local/lib/python3.7/dist-packages (from spacy>=2.2.2->en_core_web_lg==2.2.5) (54.0.0)\n",
            "Requirement already satisfied: murmurhash<1.1.0,>=0.28.0 in /usr/local/lib/python3.7/dist-packages (from spacy>=2.2.2->en_core_web_lg==2.2.5) (1.0.5)\n",
            "Requirement already satisfied: importlib-metadata>=0.20; python_version < \"3.8\" in /usr/local/lib/python3.7/dist-packages (from catalogue<1.1.0,>=0.0.7->spacy>=2.2.2->en_core_web_lg==2.2.5) (3.7.0)\n",
            "Requirement already satisfied: chardet<4,>=3.0.2 in /usr/local/lib/python3.7/dist-packages (from requests<3.0.0,>=2.13.0->spacy>=2.2.2->en_core_web_lg==2.2.5) (3.0.4)\n",
            "Requirement already satisfied: urllib3!=1.25.0,!=1.25.1,<1.26,>=1.21.1 in /usr/local/lib/python3.7/dist-packages (from requests<3.0.0,>=2.13.0->spacy>=2.2.2->en_core_web_lg==2.2.5) (1.24.3)\n",
            "Requirement already satisfied: idna<3,>=2.5 in /usr/local/lib/python3.7/dist-packages (from requests<3.0.0,>=2.13.0->spacy>=2.2.2->en_core_web_lg==2.2.5) (2.10)\n",
            "Requirement already satisfied: certifi>=2017.4.17 in /usr/local/lib/python3.7/dist-packages (from requests<3.0.0,>=2.13.0->spacy>=2.2.2->en_core_web_lg==2.2.5) (2020.12.5)\n",
            "Requirement already satisfied: typing-extensions>=3.6.4; python_version < \"3.8\" in /usr/local/lib/python3.7/dist-packages (from importlib-metadata>=0.20; python_version < \"3.8\"->catalogue<1.1.0,>=0.0.7->spacy>=2.2.2->en_core_web_lg==2.2.5) (3.7.4.3)\n",
            "Requirement already satisfied: zipp>=0.5 in /usr/local/lib/python3.7/dist-packages (from importlib-metadata>=0.20; python_version < \"3.8\"->catalogue<1.1.0,>=0.0.7->spacy>=2.2.2->en_core_web_lg==2.2.5) (3.4.0)\n",
            "Building wheels for collected packages: en-core-web-lg\n",
            "  Building wheel for en-core-web-lg (setup.py) ... \u001b[?25l\u001b[?25hdone\n",
            "  Created wheel for en-core-web-lg: filename=en_core_web_lg-2.2.5-cp37-none-any.whl size=829180944 sha256=ba2e989b7970f3d8296e3149521c027069dbcfccebd7943a5d043c8a7e0500f3\n",
            "  Stored in directory: /tmp/pip-ephem-wheel-cache-7pc0f7pi/wheels/2a/c1/a6/fc7a877b1efca9bc6a089d6f506f16d3868408f9ff89f8dbfc\n",
            "Successfully built en-core-web-lg\n",
            "Installing collected packages: en-core-web-lg\n",
            "Successfully installed en-core-web-lg-2.2.5\n",
            "\u001b[38;5;2m✔ Download and installation successful\u001b[0m\n",
            "You can now load the model via spacy.load('en_core_web_lg')\n"
          ],
          "name": "stdout"
        }
      ]
    },
    {
      "cell_type": "markdown",
      "metadata": {
        "id": "LlGJI2spBvA8"
      },
      "source": [
        "## Setting up the notebook"
      ]
    },
    {
      "cell_type": "code",
      "metadata": {
        "id": "WX9TqmK7lDoK"
      },
      "source": [
        "# Imports\n",
        "\n",
        "import torch\n",
        "import torch.nn as nn\n",
        "import pandas as pd\n",
        "import numpy as np\n",
        "import codecs\n",
        "import re\n",
        "import spacy\n",
        "import nltk\n",
        "import torch.nn.functional as F\n",
        "\n",
        "from tqdm import tqdm\n",
        "from nltk.corpus import stopwords\n",
        "from sklearn.feature_extraction.text import CountVectorizer\n",
        "from sklearn.feature_extraction.text import TfidfTransformer\n",
        "from sklearn.model_selection import train_test_split\n",
        "from sklearn.linear_model import LinearRegression\n",
        "from torch.utils.data import Dataset, random_split\n",
        "from ekphrasis.classes.preprocessor import TextPreProcessor\n",
        "from ekphrasis.classes.tokenizer import SocialTokenizer\n",
        "from transformers import BertForSequenceClassification, BertTokenizer"
      ],
      "execution_count": null,
      "outputs": []
    },
    {
      "cell_type": "code",
      "metadata": {
        "id": "X09jt8VRlDoM"
      },
      "source": [
        "# Setting random seed and device\n",
        "SEED = 1\n",
        "\n",
        "torch.manual_seed(SEED)\n",
        "torch.cuda.manual_seed(SEED)\n",
        "torch.backends.cudnn.deterministic = True\n",
        "\n",
        "use_cuda = torch.cuda.is_available()\n",
        "device = \"cpu\" #torch.device(\"cuda:0\" if use_cuda else \"cpu\")"
      ],
      "execution_count": null,
      "outputs": []
    },
    {
      "cell_type": "markdown",
      "metadata": {
        "id": "VS3a06yIByAu"
      },
      "source": [
        "## Loading the data"
      ]
    },
    {
      "cell_type": "code",
      "metadata": {
        "id": "AqhlzLl6lDoO"
      },
      "source": [
        "# Load data\n",
        "train_df = pd.read_csv('/content/drive/MyDrive/data/task-1/train.csv')\n",
        "test_df = pd.read_csv('/content/drive/MyDrive/data/task-1/dev (1).csv')"
      ],
      "execution_count": null,
      "outputs": []
    },
    {
      "cell_type": "code",
      "metadata": {
        "id": "3d9SWnJpOqL0"
      },
      "source": [
        "nlp = spacy.load('en_core_web_lg')"
      ],
      "execution_count": null,
      "outputs": []
    },
    {
      "cell_type": "code",
      "metadata": {
        "id": "kN0NukhFcraW",
        "colab": {
          "base_uri": "https://localhost:8080/",
          "height": 204
        },
        "outputId": "c023ae94-06e9-4c46-c377-ab4f1c64a413"
      },
      "source": [
        "train_df.head()"
      ],
      "execution_count": null,
      "outputs": [
        {
          "output_type": "execute_result",
          "data": {
            "text/html": [
              "<div>\n",
              "<style scoped>\n",
              "    .dataframe tbody tr th:only-of-type {\n",
              "        vertical-align: middle;\n",
              "    }\n",
              "\n",
              "    .dataframe tbody tr th {\n",
              "        vertical-align: top;\n",
              "    }\n",
              "\n",
              "    .dataframe thead th {\n",
              "        text-align: right;\n",
              "    }\n",
              "</style>\n",
              "<table border=\"1\" class=\"dataframe\">\n",
              "  <thead>\n",
              "    <tr style=\"text-align: right;\">\n",
              "      <th></th>\n",
              "      <th>id</th>\n",
              "      <th>original</th>\n",
              "      <th>edit</th>\n",
              "      <th>grades</th>\n",
              "      <th>meanGrade</th>\n",
              "    </tr>\n",
              "  </thead>\n",
              "  <tbody>\n",
              "    <tr>\n",
              "      <th>0</th>\n",
              "      <td>14530</td>\n",
              "      <td>France is ‘ hunting down its citizens who join...</td>\n",
              "      <td>twins</td>\n",
              "      <td>10000</td>\n",
              "      <td>0.2</td>\n",
              "    </tr>\n",
              "    <tr>\n",
              "      <th>1</th>\n",
              "      <td>13034</td>\n",
              "      <td>Pentagon claims 2,000 % increase in Russian tr...</td>\n",
              "      <td>bowling</td>\n",
              "      <td>33110</td>\n",
              "      <td>1.6</td>\n",
              "    </tr>\n",
              "    <tr>\n",
              "      <th>2</th>\n",
              "      <td>8731</td>\n",
              "      <td>Iceland PM Calls Snap Vote as Pedophile Furor ...</td>\n",
              "      <td>party</td>\n",
              "      <td>22100</td>\n",
              "      <td>1.0</td>\n",
              "    </tr>\n",
              "    <tr>\n",
              "      <th>3</th>\n",
              "      <td>76</td>\n",
              "      <td>In an apparent first , Iran and Israel &lt;engage...</td>\n",
              "      <td>slap</td>\n",
              "      <td>20000</td>\n",
              "      <td>0.4</td>\n",
              "    </tr>\n",
              "    <tr>\n",
              "      <th>4</th>\n",
              "      <td>6164</td>\n",
              "      <td>Trump was told weeks ago that Flynn misled &lt;Vi...</td>\n",
              "      <td>school</td>\n",
              "      <td>0</td>\n",
              "      <td>0.0</td>\n",
              "    </tr>\n",
              "  </tbody>\n",
              "</table>\n",
              "</div>"
            ],
            "text/plain": [
              "      id                                           original  ... grades  meanGrade\n",
              "0  14530  France is ‘ hunting down its citizens who join...  ...  10000        0.2\n",
              "1  13034  Pentagon claims 2,000 % increase in Russian tr...  ...  33110        1.6\n",
              "2   8731  Iceland PM Calls Snap Vote as Pedophile Furor ...  ...  22100        1.0\n",
              "3     76  In an apparent first , Iran and Israel <engage...  ...  20000        0.4\n",
              "4   6164  Trump was told weeks ago that Flynn misled <Vi...  ...      0        0.0\n",
              "\n",
              "[5 rows x 5 columns]"
            ]
          },
          "metadata": {
            "tags": []
          },
          "execution_count": 5
        }
      ]
    },
    {
      "cell_type": "code",
      "metadata": {
        "colab": {
          "base_uri": "https://localhost:8080/",
          "height": 35
        },
        "id": "RzcqNqiuJGGn",
        "outputId": "b6dc8f76-6b6e-42d0-f388-f13689f1cbf7"
      },
      "source": [
        "train_df['original'][0]"
      ],
      "execution_count": null,
      "outputs": [
        {
          "output_type": "execute_result",
          "data": {
            "application/vnd.google.colaboratory.intrinsic+json": {
              "type": "string"
            },
            "text/plain": [
              "'France is ‘ hunting down its citizens who joined <Isis/> ’ without trial in Iraq'"
            ]
          },
          "metadata": {
            "tags": []
          },
          "execution_count": 6
        }
      ]
    },
    {
      "cell_type": "code",
      "metadata": {
        "colab": {
          "base_uri": "https://localhost:8080/"
        },
        "id": "aNRwr_OnacvP",
        "outputId": "661fccf5-8c3b-44fe-c30f-ba5b3f5360b9"
      },
      "source": [
        "train_df.info()"
      ],
      "execution_count": null,
      "outputs": [
        {
          "output_type": "stream",
          "text": [
            "<class 'pandas.core.frame.DataFrame'>\n",
            "RangeIndex: 9652 entries, 0 to 9651\n",
            "Data columns (total 5 columns):\n",
            " #   Column     Non-Null Count  Dtype  \n",
            "---  ------     --------------  -----  \n",
            " 0   id         9652 non-null   int64  \n",
            " 1   original   9652 non-null   object \n",
            " 2   edit       9652 non-null   object \n",
            " 3   grades     9652 non-null   int64  \n",
            " 4   meanGrade  9652 non-null   float64\n",
            "dtypes: float64(1), int64(2), object(2)\n",
            "memory usage: 377.2+ KB\n"
          ],
          "name": "stdout"
        }
      ]
    },
    {
      "cell_type": "code",
      "metadata": {
        "colab": {
          "base_uri": "https://localhost:8080/",
          "height": 204
        },
        "id": "CqWAY91bWFM8",
        "outputId": "f4abec3d-d014-4e5f-8c28-ec971b932a87"
      },
      "source": [
        "test_df.head()"
      ],
      "execution_count": null,
      "outputs": [
        {
          "output_type": "execute_result",
          "data": {
            "text/html": [
              "<div>\n",
              "<style scoped>\n",
              "    .dataframe tbody tr th:only-of-type {\n",
              "        vertical-align: middle;\n",
              "    }\n",
              "\n",
              "    .dataframe tbody tr th {\n",
              "        vertical-align: top;\n",
              "    }\n",
              "\n",
              "    .dataframe thead th {\n",
              "        text-align: right;\n",
              "    }\n",
              "</style>\n",
              "<table border=\"1\" class=\"dataframe\">\n",
              "  <thead>\n",
              "    <tr style=\"text-align: right;\">\n",
              "      <th></th>\n",
              "      <th>id</th>\n",
              "      <th>original</th>\n",
              "      <th>edit</th>\n",
              "      <th>grades</th>\n",
              "      <th>meanGrade</th>\n",
              "    </tr>\n",
              "  </thead>\n",
              "  <tbody>\n",
              "    <tr>\n",
              "      <th>0</th>\n",
              "      <td>1723</td>\n",
              "      <td>Thousands of gay and bisexual &lt;men/&gt; convicted...</td>\n",
              "      <td>swans</td>\n",
              "      <td>22100</td>\n",
              "      <td>1.0</td>\n",
              "    </tr>\n",
              "    <tr>\n",
              "      <th>1</th>\n",
              "      <td>12736</td>\n",
              "      <td>Special &lt;prosecutor/&gt; appointed to Trump Russia</td>\n",
              "      <td>chef</td>\n",
              "      <td>21100</td>\n",
              "      <td>0.8</td>\n",
              "    </tr>\n",
              "    <tr>\n",
              "      <th>2</th>\n",
              "      <td>12274</td>\n",
              "      <td>Spanish police detain man and search Ripoll ad...</td>\n",
              "      <td>squad</td>\n",
              "      <td>21000</td>\n",
              "      <td>0.6</td>\n",
              "    </tr>\n",
              "    <tr>\n",
              "      <th>3</th>\n",
              "      <td>8823</td>\n",
              "      <td>N.Y. Times &lt;reprimands/&gt; reporter for sharing ...</td>\n",
              "      <td>applauds</td>\n",
              "      <td>32210</td>\n",
              "      <td>1.6</td>\n",
              "    </tr>\n",
              "    <tr>\n",
              "      <th>4</th>\n",
              "      <td>5087</td>\n",
              "      <td>Vladimir Putin Releases Video Simulation Of Ru...</td>\n",
              "      <td>balloon</td>\n",
              "      <td>11000</td>\n",
              "      <td>0.4</td>\n",
              "    </tr>\n",
              "  </tbody>\n",
              "</table>\n",
              "</div>"
            ],
            "text/plain": [
              "      id                                           original  ... grades  meanGrade\n",
              "0   1723  Thousands of gay and bisexual <men/> convicted...  ...  22100        1.0\n",
              "1  12736    Special <prosecutor/> appointed to Trump Russia  ...  21100        0.8\n",
              "2  12274  Spanish police detain man and search Ripoll ad...  ...  21000        0.6\n",
              "3   8823  N.Y. Times <reprimands/> reporter for sharing ...  ...  32210        1.6\n",
              "4   5087  Vladimir Putin Releases Video Simulation Of Ru...  ...  11000        0.4\n",
              "\n",
              "[5 rows x 5 columns]"
            ]
          },
          "metadata": {
            "tags": []
          },
          "execution_count": 8
        }
      ]
    },
    {
      "cell_type": "markdown",
      "metadata": {
        "id": "Jt-MKtTEB0vV"
      },
      "source": [
        "## Data cleaning and pre-processing"
      ]
    },
    {
      "cell_type": "code",
      "metadata": {
        "id": "EGhbGB_Phpu1"
      },
      "source": [
        "def capitalisation_by_ner(sentence, entities=['GPE', 'ORG', 'NORP', 'PERSON']):\r\n",
        "    edited_row = []\r\n",
        "\r\n",
        "    trial_doc = nlp(sentence)\r\n",
        "        \r\n",
        "    for tok in trial_doc:\r\n",
        "        if tok.ent_type_ in entities:\r\n",
        "            edited_row.append(tok.text)\r\n",
        "        else:\r\n",
        "            edited_row.append(tok.text.lower())\r\n",
        "    \r\n",
        "    return ' '.join(edited_row)"
      ],
      "execution_count": null,
      "outputs": []
    },
    {
      "cell_type": "code",
      "metadata": {
        "id": "q8pCEBigg47h"
      },
      "source": [
        "# Word replacement\r\n",
        "# Join the contractions\r\n",
        "# Tokenize\r\n",
        "# remove stop words\r\n",
        "# remove punct EXCEPT ! ? #\r\n",
        "# Twitter handles\r\n",
        "\r\n",
        "def preprocessor(df):\r\n",
        "    _df = pd.DataFrame(index=df.index, columns=['edited_sentences', 'meanGrade'])\r\n",
        "\r\n",
        "    _df['meanGrade'] = df.meanGrade\r\n",
        "\r\n",
        "    text_processor = TextPreProcessor(\r\n",
        "        fix_html=True,  # fix HTML tokens\r\n",
        "\r\n",
        "        # corpus from which the word statistics are going to be used \r\n",
        "        # for word segmentation \r\n",
        "        segmenter=\"english\", \r\n",
        "\r\n",
        "        # corpus from which the word statistics are going to be used \r\n",
        "        # for spell correction\r\n",
        "        corrector=\"english\", \r\n",
        "\r\n",
        "        unpack_hashtags=False,  # perform word segmentation on hashtags\r\n",
        "        unpack_contractions=False,  # Unpack contractions (can't -> can not)\r\n",
        "        spell_correct=True,  # spell correction for elongated words\r\n",
        "    )\r\n",
        "    \r\n",
        "    punct = \"[\\.,:;\\(\\)\\[\\]@\\-\\$£]\"\r\n",
        "    \r\n",
        "    nltk.download('stopwords')\r\n",
        "    stops = stopwords.words('english')\r\n",
        "\r\n",
        "    # Word replacement + join the contractions\r\n",
        "    # NOTE: need to deal with ' '\r\n",
        "    # NOTE: Numbers/digits have not been removed\r\n",
        "    # NOTE: We have removed all stop words. We analysed the sentiment of the stop \r\n",
        "    # words in the training set to determine if removing them would negatively \r\n",
        "    # affect our results. The motivation for this check was that any word with a \r\n",
        "    # sentiment would affect the funniness score of the sentence. \r\n",
        "    # Since stop words have no sentiment, they have been removed\r\n",
        "    # This doesn't retain any twitter handles, but retains the hashtags\r\n",
        "\r\n",
        "    _df['edited_sentences'] = df[['original', 'edit']] \\\r\n",
        "        .apply(lambda x: re.subn(\"<.*/>\", x[1], x[0])[0], axis=1) \\\r\n",
        "        .apply(lambda x: capitalisation_by_ner(x)) \\\r\n",
        "        .str.replace(\" (?P<one>\\w*'\\w+)\", lambda x: x.group(\"one\")) \\\r\n",
        "        .apply(lambda x: text_processor.pre_process_doc(x)) \\\r\n",
        "        .str.replace(\"#\", \"# \") \\\r\n",
        "        .str.replace(\"[‘’]\", \"'\") \\\r\n",
        "        .str.replace(\"'s\", \"\") \\\r\n",
        "        .str.replace(punct, \"\") \\\r\n",
        "        .apply(lambda x: \" \".join([w for w in x.split(\" \") if w not in stops])) \\\r\n",
        "        .str.replace(\"[0-9]\", \"\")\r\n",
        "\r\n",
        "    return _df"
      ],
      "execution_count": null,
      "outputs": []
    },
    {
      "cell_type": "markdown",
      "metadata": {
        "id": "UfMd1ARqB_EP"
      },
      "source": [
        "## Setting up training and evaluation methods"
      ]
    },
    {
      "cell_type": "code",
      "metadata": {
        "id": "3RCmF7xulDoP"
      },
      "source": [
        "# Number of epochs\n",
        "epochs = 10\n",
        "\n",
        "# Proportion of training data for train compared to dev\n",
        "train_proportion = 0.9"
      ],
      "execution_count": null,
      "outputs": []
    },
    {
      "cell_type": "code",
      "metadata": {
        "id": "NzXeDgHmlDob"
      },
      "source": [
        "# We evaluate performance on our dev set\n",
        "\n",
        "def eval(data_iter, model):\n",
        "    \"\"\"\n",
        "    Evaluating model performance on the dev set\n",
        "    \"\"\"\n",
        "    model.eval()\n",
        "    epoch_loss = 0\n",
        "    epoch_sse = 0\n",
        "    pred_all = []\n",
        "    trg_all = []\n",
        "    no_observations = 0\n",
        "\n",
        "    with torch.no_grad():\n",
        "        for batch in data_iter:\n",
        "            item_dict = batch\n",
        "            feature, target = item_dict['input_ids'], item_dict['labels']\n",
        "\n",
        "            feature, target = feature.to(device), target.to(device)\n",
        "            # print(feature)\n",
        "\n",
        "            # for RNN:\n",
        "            # model.batch_size = target.shape[0]\n",
        "            no_observations = no_observations + target.shape[0]\n",
        "            # model.hidden = model.init_hidden()\n",
        "            model = model.to(device)\n",
        "\n",
        "            predictions = model(feature)\n",
        "            predictions = predictions.logits.squeeze(1).to(device)\n",
        "            loss = loss_fn(predictions, target)\n",
        "\n",
        "            # We get the mse\n",
        "            pred, trg = predictions.detach().cpu().numpy(), target.detach().cpu().numpy()\n",
        "            sse, __ = model_performance(pred, trg)\n",
        "\n",
        "            epoch_loss += loss.item()*target.shape[0]\n",
        "            epoch_sse += sse\n",
        "            pred_all.extend(pred)\n",
        "            trg_all.extend(trg)\n",
        "\n",
        "    return epoch_loss/no_observations, epoch_sse/no_observations, np.array(pred_all), np.array(trg_all)"
      ],
      "execution_count": null,
      "outputs": []
    },
    {
      "cell_type": "code",
      "metadata": {
        "id": "2_22fHHElDog"
      },
      "source": [
        "# How we print the model performance\n",
        "def model_performance(output, target, print_output=False):\n",
        "    \"\"\"\n",
        "    Returns SSE and MSE per batch (printing the MSE and the RMSE)\n",
        "    \"\"\"\n",
        "\n",
        "    sq_error = (output - target)**2\n",
        "\n",
        "    sse = np.sum(sq_error)\n",
        "    mse = np.mean(sq_error)\n",
        "    rmse = np.sqrt(mse)\n",
        "\n",
        "    if print_output:\n",
        "        print(f'| MSE: {mse:.2f} | RMSE: {rmse:.2f} |')\n",
        "\n",
        "    return sse, mse"
      ],
      "execution_count": null,
      "outputs": []
    },
    {
      "cell_type": "code",
      "metadata": {
        "id": "jzQ0KLXslDoq"
      },
      "source": [
        "class Task1Dataset(Dataset):\n",
        "\n",
        "    def __init__(self, train_data, labels):\n",
        "        self.x_train = train_data\n",
        "        self.y_train = labels\n",
        "\n",
        "    def __len__(self):\n",
        "        return len(self.y_train)\n",
        "\n",
        "    def __getitem__(self, idx):\n",
        "        item = {key: torch.tensor(val[idx]) for key, val in self.x_train.items()}\n",
        "        item['labels'] = torch.tensor(self.y_train[idx], dtype=torch.float)\n",
        "        return item"
      ],
      "execution_count": null,
      "outputs": []
    },
    {
      "cell_type": "markdown",
      "metadata": {
        "id": "g-P1BWWxCDrP"
      },
      "source": [
        "## Preparing the data"
      ]
    },
    {
      "cell_type": "code",
      "metadata": {
        "colab": {
          "base_uri": "https://localhost:8080/"
        },
        "id": "xeLPXxWThOod",
        "outputId": "1ca32fa2-6eab-449c-8be8-5f3896f9c392"
      },
      "source": [
        "clean_train_df = preprocessor(train_df)\r\n",
        "clean_test_df = preprocessor(test_df)"
      ],
      "execution_count": null,
      "outputs": [
        {
          "output_type": "stream",
          "text": [
            "Reading english - 1grams ...\n"
          ],
          "name": "stdout"
        },
        {
          "output_type": "stream",
          "text": [
            "/usr/local/lib/python3.7/dist-packages/ekphrasis/classes/exmanager.py:14: FutureWarning: Possible nested set at position 42\n",
            "  regexes = {k.lower(): re.compile(self.expressions[k]) for k, v in\n"
          ],
          "name": "stderr"
        },
        {
          "output_type": "stream",
          "text": [
            "[nltk_data] Downloading package stopwords to /root/nltk_data...\n",
            "[nltk_data]   Package stopwords is already up-to-date!\n",
            "Reading english - 1grams ...\n",
            "[nltk_data] Downloading package stopwords to /root/nltk_data...\n",
            "[nltk_data]   Package stopwords is already up-to-date!\n"
          ],
          "name": "stdout"
        }
      ]
    },
    {
      "cell_type": "code",
      "metadata": {
        "id": "3DUPjPIzCl8P"
      },
      "source": [
        "## Approach 1 code, using functions defined above:\r\n",
        "\r\n",
        "# We set our training data and test data\r\n",
        "training_data = clean_train_df['edited_sentences']\r\n",
        "test_data = clean_test_df['edited_sentences']\r\n",
        "\r\n",
        "# Creating word vectors\r\n",
        "tokenizer = BertTokenizer.from_pretrained('bert-base-uncased')\r\n"
      ],
      "execution_count": null,
      "outputs": []
    },
    {
      "cell_type": "code",
      "metadata": {
        "id": "sd58T-FpCuvz"
      },
      "source": [
        "train_X = tokenizer(training_data.to_list(), add_special_tokens=False, padding=True, return_tensors=\"pt\")"
      ],
      "execution_count": null,
      "outputs": []
    },
    {
      "cell_type": "code",
      "metadata": {
        "id": "oOlgvA1xC8ES"
      },
      "source": [
        "train_dataset = Task1Dataset(train_X, train_df['meanGrade'])"
      ],
      "execution_count": null,
      "outputs": []
    },
    {
      "cell_type": "markdown",
      "metadata": {
        "id": "3i88xMmrCG7P"
      },
      "source": [
        "## Initialising and training the model"
      ]
    },
    {
      "cell_type": "code",
      "metadata": {
        "colab": {
          "base_uri": "https://localhost:8080/"
        },
        "id": "81WbQ7fdDaDx",
        "outputId": "3ab9d40b-56a0-45cc-e87e-fa2405767e49"
      },
      "source": [
        "model = BertForSequenceClassification.from_pretrained('bert-base-uncased', num_labels=1)\r\n",
        "print(\"Model initialised.\")\r\n",
        "\r\n",
        "model = model.to(device)"
      ],
      "execution_count": null,
      "outputs": [
        {
          "output_type": "stream",
          "text": [
            "Some weights of the model checkpoint at bert-base-uncased were not used when initializing BertForSequenceClassification: ['cls.predictions.bias', 'cls.predictions.transform.dense.weight', 'cls.predictions.transform.dense.bias', 'cls.predictions.decoder.weight', 'cls.seq_relationship.weight', 'cls.seq_relationship.bias', 'cls.predictions.transform.LayerNorm.weight', 'cls.predictions.transform.LayerNorm.bias']\n",
            "- This IS expected if you are initializing BertForSequenceClassification from the checkpoint of a model trained on another task or with another architecture (e.g. initializing a BertForSequenceClassification model from a BertForPreTraining model).\n",
            "- This IS NOT expected if you are initializing BertForSequenceClassification from the checkpoint of a model that you expect to be exactly identical (initializing a BertForSequenceClassification model from a BertForSequenceClassification model).\n",
            "Some weights of BertForSequenceClassification were not initialized from the model checkpoint at bert-base-uncased and are newly initialized: ['classifier.weight', 'classifier.bias']\n",
            "You should probably TRAIN this model on a down-stream task to be able to use it for predictions and inference.\n"
          ],
          "name": "stderr"
        },
        {
          "output_type": "stream",
          "text": [
            "Model initialised.\n"
          ],
          "name": "stdout"
        }
      ]
    },
    {
      "cell_type": "code",
      "metadata": {
        "id": "bp9d32sOlDo6",
        "scrolled": true,
        "colab": {
          "base_uri": "https://localhost:8080/"
        },
        "outputId": "acf68aa6-66e9-4a0a-83fe-9e882a3cbc5e"
      },
      "source": [
        "train_examples = round(len(train_dataset)*train_proportion)\n",
        "dev_examples = len(train_dataset) - train_examples\n",
        "\n",
        "train_dataset, dev_dataset = random_split(train_dataset,\n",
        "                                           (train_examples,\n",
        "                                            dev_examples))\n",
        "BATCH_SIZE = 32\n",
        "train_loader = torch.utils.data.DataLoader(train_dataset, shuffle=True, batch_size=BATCH_SIZE)\n",
        "dev_loader = torch.utils.data.DataLoader(dev_dataset, batch_size=BATCH_SIZE)\n",
        "\n",
        "print(\"Dataloaders created.\")\n",
        "\n",
        "loss_fn = nn.MSELoss()\n",
        "loss_fn = loss_fn.to(device)\n",
        "\n",
        "optimizer = torch.optim.Adam(model.parameters())\n"
      ],
      "execution_count": null,
      "outputs": [
        {
          "output_type": "stream",
          "text": [
            "Dataloaders created.\n"
          ],
          "name": "stdout"
        }
      ]
    },
    {
      "cell_type": "code",
      "metadata": {
        "id": "7LMNdofuQtW6"
      },
      "source": [
        "from transformers import EvalPrediction\r\n",
        "\r\n",
        "def evaluation_metric(eval_prediction):\r\n",
        "  predictions = eval_prediction.predictions\r\n",
        "  target = eval_prediction.label_ids\r\n",
        "  pred, trg = predictions, target\r\n",
        "  sse, mse = model_performance(pred, trg, print_output=True)\r\n",
        "  return {\"sse\": str(sse), \"mse\": str(mse), \"rmse\": str(mse ** 0.5)}"
      ],
      "execution_count": null,
      "outputs": []
    },
    {
      "cell_type": "code",
      "metadata": {
        "id": "45oUSRisZ4Yb"
      },
      "source": [
        "from transformers import Trainer, TrainingArguments\r\n",
        "epochs=2\r\n",
        "lr = 3e-5\r\n",
        "\r\n",
        "training_args = TrainingArguments(\r\n",
        "    output_dir=f'./results_ep{epochs}_lr{str(lr)}',          # output directory\r\n",
        "    num_train_epochs=epochs,              # total number of training epochs\r\n",
        "    per_device_train_batch_size=16,  # batch size per device during training\r\n",
        "    per_device_eval_batch_size=8,   # batch size for evaluation\r\n",
        "    warmup_steps=0,                # number of warmup steps for learning rate scheduler\r\n",
        "    weight_decay=0.01,               # strength of weight decay\r\n",
        "    logging_dir=f'./logs_ep{epochs}_lr{str(lr)}',            # directory for storing logs\r\n",
        "    logging_steps=1,\r\n",
        "    evaluation_strategy=\"steps\",\r\n",
        "    learning_rate=lr,\r\n",
        "    eval_steps=50\r\n",
        ")\r\n",
        "\r\n",
        "trainer = Trainer(\r\n",
        "    model=model,                         # the instantiated 🤗 Transformers model to be trained\r\n",
        "    args=training_args,                  # training arguments, defined above\r\n",
        "    train_dataset=train_dataset,         # training dataset\r\n",
        "    eval_dataset=dev_dataset,             # evaluation dataset\r\n",
        "    compute_metrics = evaluation_metric\r\n",
        ")"
      ],
      "execution_count": null,
      "outputs": []
    },
    {
      "cell_type": "code",
      "metadata": {
        "colab": {
          "base_uri": "https://localhost:8080/",
          "height": 1000
        },
        "id": "LCondAvEi4Ro",
        "outputId": "1096e6c3-f748-4b53-b1dd-0dac5dbedebe"
      },
      "source": [
        "trainer.train()"
      ],
      "execution_count": null,
      "outputs": [
        {
          "output_type": "stream",
          "text": [
            "/usr/local/lib/python3.7/dist-packages/ipykernel_launcher.py:11: UserWarning: To copy construct from a tensor, it is recommended to use sourceTensor.clone().detach() or sourceTensor.clone().detach().requires_grad_(True), rather than torch.tensor(sourceTensor).\n",
            "  # This is added back by InteractiveShellApp.init_path()\n"
          ],
          "name": "stderr"
        },
        {
          "output_type": "display_data",
          "data": {
            "text/html": [
              "\n",
              "    <div>\n",
              "        <style>\n",
              "            /* Turns off some styling */\n",
              "            progress {\n",
              "                /* gets rid of default border in Firefox and Opera. */\n",
              "                border: none;\n",
              "                /* Needs to be in here for Safari polyfill so background images work as expected. */\n",
              "                background-size: auto;\n",
              "            }\n",
              "        </style>\n",
              "      \n",
              "      <progress value='1086' max='1086' style='width:300px; height:20px; vertical-align: middle;'></progress>\n",
              "      [1086/1086 03:01, Epoch 2/2]\n",
              "    </div>\n",
              "    <table border=\"1\" class=\"dataframe\">\n",
              "  <thead>\n",
              "    <tr style=\"text-align: left;\">\n",
              "      <th>Step</th>\n",
              "      <th>Training Loss</th>\n",
              "      <th>Validation Loss</th>\n",
              "      <th>Sse</th>\n",
              "      <th>Mse</th>\n",
              "      <th>Rmse</th>\n",
              "      <th>Runtime</th>\n",
              "      <th>Samples Per Second</th>\n",
              "    </tr>\n",
              "  </thead>\n",
              "  <tbody>\n",
              "    <tr>\n",
              "      <td>50</td>\n",
              "      <td>0.520300</td>\n",
              "      <td>0.350563</td>\n",
              "      <td>323951.88</td>\n",
              "      <td>0.34787712</td>\n",
              "      <td>0.5898110841712075</td>\n",
              "      <td>1.856600</td>\n",
              "      <td>519.774000</td>\n",
              "    </tr>\n",
              "    <tr>\n",
              "      <td>100</td>\n",
              "      <td>0.263300</td>\n",
              "      <td>0.340805</td>\n",
              "      <td>319244.75</td>\n",
              "      <td>0.34282234</td>\n",
              "      <td>0.5855103270746282</td>\n",
              "      <td>1.859700</td>\n",
              "      <td>518.892000</td>\n",
              "    </tr>\n",
              "    <tr>\n",
              "      <td>150</td>\n",
              "      <td>0.429300</td>\n",
              "      <td>0.352909</td>\n",
              "      <td>335685.53</td>\n",
              "      <td>0.36047736</td>\n",
              "      <td>0.6003976666367038</td>\n",
              "      <td>1.876400</td>\n",
              "      <td>514.276000</td>\n",
              "    </tr>\n",
              "    <tr>\n",
              "      <td>200</td>\n",
              "      <td>0.492700</td>\n",
              "      <td>0.349710</td>\n",
              "      <td>325903.62</td>\n",
              "      <td>0.34997302</td>\n",
              "      <td>0.5915851780916884</td>\n",
              "      <td>1.886600</td>\n",
              "      <td>511.511000</td>\n",
              "    </tr>\n",
              "    <tr>\n",
              "      <td>250</td>\n",
              "      <td>0.479700</td>\n",
              "      <td>0.383942</td>\n",
              "      <td>358415.47</td>\n",
              "      <td>0.384886</td>\n",
              "      <td>0.6203918089241055</td>\n",
              "      <td>1.892700</td>\n",
              "      <td>509.847000</td>\n",
              "    </tr>\n",
              "    <tr>\n",
              "      <td>300</td>\n",
              "      <td>0.249500</td>\n",
              "      <td>0.345438</td>\n",
              "      <td>322268.12</td>\n",
              "      <td>0.346069</td>\n",
              "      <td>0.5882763025245482</td>\n",
              "      <td>1.920800</td>\n",
              "      <td>502.397000</td>\n",
              "    </tr>\n",
              "    <tr>\n",
              "      <td>350</td>\n",
              "      <td>0.527400</td>\n",
              "      <td>0.342627</td>\n",
              "      <td>319613.03</td>\n",
              "      <td>0.34321785</td>\n",
              "      <td>0.5858479749315904</td>\n",
              "      <td>1.946100</td>\n",
              "      <td>495.869000</td>\n",
              "    </tr>\n",
              "    <tr>\n",
              "      <td>400</td>\n",
              "      <td>0.484000</td>\n",
              "      <td>0.345418</td>\n",
              "      <td>322531.94</td>\n",
              "      <td>0.3463523</td>\n",
              "      <td>0.5885170422244127</td>\n",
              "      <td>1.968000</td>\n",
              "      <td>490.358000</td>\n",
              "    </tr>\n",
              "    <tr>\n",
              "      <td>450</td>\n",
              "      <td>0.217600</td>\n",
              "      <td>0.340467</td>\n",
              "      <td>318026.84</td>\n",
              "      <td>0.3415145</td>\n",
              "      <td>0.5843924178113339</td>\n",
              "      <td>1.995100</td>\n",
              "      <td>483.682000</td>\n",
              "    </tr>\n",
              "    <tr>\n",
              "      <td>500</td>\n",
              "      <td>0.341200</td>\n",
              "      <td>0.340346</td>\n",
              "      <td>317886.9</td>\n",
              "      <td>0.34136423</td>\n",
              "      <td>0.5842638399609357</td>\n",
              "      <td>2.021300</td>\n",
              "      <td>477.404000</td>\n",
              "    </tr>\n",
              "    <tr>\n",
              "      <td>550</td>\n",
              "      <td>0.390000</td>\n",
              "      <td>0.341047</td>\n",
              "      <td>320496.06</td>\n",
              "      <td>0.34416607</td>\n",
              "      <td>0.586656688552048</td>\n",
              "      <td>1.988900</td>\n",
              "      <td>485.189000</td>\n",
              "    </tr>\n",
              "    <tr>\n",
              "      <td>600</td>\n",
              "      <td>0.426300</td>\n",
              "      <td>0.350953</td>\n",
              "      <td>332575.75</td>\n",
              "      <td>0.35713792</td>\n",
              "      <td>0.5976101726646644</td>\n",
              "      <td>2.000200</td>\n",
              "      <td>482.448000</td>\n",
              "    </tr>\n",
              "    <tr>\n",
              "      <td>650</td>\n",
              "      <td>0.402000</td>\n",
              "      <td>0.354457</td>\n",
              "      <td>334989.28</td>\n",
              "      <td>0.35972968</td>\n",
              "      <td>0.5997746888947015</td>\n",
              "      <td>1.976600</td>\n",
              "      <td>488.217000</td>\n",
              "    </tr>\n",
              "    <tr>\n",
              "      <td>700</td>\n",
              "      <td>0.266800</td>\n",
              "      <td>0.348313</td>\n",
              "      <td>325294.47</td>\n",
              "      <td>0.34931886</td>\n",
              "      <td>0.5910320312481928</td>\n",
              "      <td>1.990700</td>\n",
              "      <td>484.758000</td>\n",
              "    </tr>\n",
              "    <tr>\n",
              "      <td>750</td>\n",
              "      <td>0.456700</td>\n",
              "      <td>0.338621</td>\n",
              "      <td>318079.62</td>\n",
              "      <td>0.34157118</td>\n",
              "      <td>0.584440914047398</td>\n",
              "      <td>1.986600</td>\n",
              "      <td>485.744000</td>\n",
              "    </tr>\n",
              "    <tr>\n",
              "      <td>800</td>\n",
              "      <td>0.311900</td>\n",
              "      <td>0.341775</td>\n",
              "      <td>324588.2</td>\n",
              "      <td>0.34856042</td>\n",
              "      <td>0.5903900597561923</td>\n",
              "      <td>1.976700</td>\n",
              "      <td>488.182000</td>\n",
              "    </tr>\n",
              "    <tr>\n",
              "      <td>850</td>\n",
              "      <td>0.312200</td>\n",
              "      <td>0.350863</td>\n",
              "      <td>347291.12</td>\n",
              "      <td>0.3729401</td>\n",
              "      <td>0.6106882128213094</td>\n",
              "      <td>1.972200</td>\n",
              "      <td>489.306000</td>\n",
              "    </tr>\n",
              "    <tr>\n",
              "      <td>900</td>\n",
              "      <td>0.222900</td>\n",
              "      <td>0.334059</td>\n",
              "      <td>346420.97</td>\n",
              "      <td>0.37200567</td>\n",
              "      <td>0.6099226764621406</td>\n",
              "      <td>1.973900</td>\n",
              "      <td>488.887000</td>\n",
              "    </tr>\n",
              "    <tr>\n",
              "      <td>950</td>\n",
              "      <td>0.258500</td>\n",
              "      <td>0.329863</td>\n",
              "      <td>331478.06</td>\n",
              "      <td>0.35595915</td>\n",
              "      <td>0.5966231199131404</td>\n",
              "      <td>1.983900</td>\n",
              "      <td>486.408000</td>\n",
              "    </tr>\n",
              "    <tr>\n",
              "      <td>1000</td>\n",
              "      <td>0.228000</td>\n",
              "      <td>0.331971</td>\n",
              "      <td>332048.47</td>\n",
              "      <td>0.35657167</td>\n",
              "      <td>0.5971362276289421</td>\n",
              "      <td>1.987200</td>\n",
              "      <td>485.606000</td>\n",
              "    </tr>\n",
              "    <tr>\n",
              "      <td>1050</td>\n",
              "      <td>0.389500</td>\n",
              "      <td>0.330134</td>\n",
              "      <td>331634.03</td>\n",
              "      <td>0.35612664</td>\n",
              "      <td>0.5967634676039648</td>\n",
              "      <td>1.992100</td>\n",
              "      <td>484.412000</td>\n",
              "    </tr>\n",
              "  </tbody>\n",
              "</table><p>"
            ],
            "text/plain": [
              "<IPython.core.display.HTML object>"
            ]
          },
          "metadata": {
            "tags": []
          }
        },
        {
          "output_type": "stream",
          "text": [
            "Trainer is attempting to log a value of \"323951.88\" of type <class 'str'> for key \"eval/sse\" as a scalar. This invocation of Tensorboard's writer.add_scalar() is incorrect so we dropped this attribute.\n",
            "Trainer is attempting to log a value of \"0.34787712\" of type <class 'str'> for key \"eval/mse\" as a scalar. This invocation of Tensorboard's writer.add_scalar() is incorrect so we dropped this attribute.\n",
            "Trainer is attempting to log a value of \"0.5898110841712075\" of type <class 'str'> for key \"eval/rmse\" as a scalar. This invocation of Tensorboard's writer.add_scalar() is incorrect so we dropped this attribute.\n"
          ],
          "name": "stderr"
        },
        {
          "output_type": "stream",
          "text": [
            "| MSE: 0.35 | RMSE: 0.59 |\n"
          ],
          "name": "stdout"
        },
        {
          "output_type": "stream",
          "text": [
            "Trainer is attempting to log a value of \"319244.75\" of type <class 'str'> for key \"eval/sse\" as a scalar. This invocation of Tensorboard's writer.add_scalar() is incorrect so we dropped this attribute.\n",
            "Trainer is attempting to log a value of \"0.34282234\" of type <class 'str'> for key \"eval/mse\" as a scalar. This invocation of Tensorboard's writer.add_scalar() is incorrect so we dropped this attribute.\n",
            "Trainer is attempting to log a value of \"0.5855103270746282\" of type <class 'str'> for key \"eval/rmse\" as a scalar. This invocation of Tensorboard's writer.add_scalar() is incorrect so we dropped this attribute.\n"
          ],
          "name": "stderr"
        },
        {
          "output_type": "stream",
          "text": [
            "| MSE: 0.34 | RMSE: 0.59 |\n"
          ],
          "name": "stdout"
        },
        {
          "output_type": "stream",
          "text": [
            "Trainer is attempting to log a value of \"335685.53\" of type <class 'str'> for key \"eval/sse\" as a scalar. This invocation of Tensorboard's writer.add_scalar() is incorrect so we dropped this attribute.\n",
            "Trainer is attempting to log a value of \"0.36047736\" of type <class 'str'> for key \"eval/mse\" as a scalar. This invocation of Tensorboard's writer.add_scalar() is incorrect so we dropped this attribute.\n",
            "Trainer is attempting to log a value of \"0.6003976666367038\" of type <class 'str'> for key \"eval/rmse\" as a scalar. This invocation of Tensorboard's writer.add_scalar() is incorrect so we dropped this attribute.\n"
          ],
          "name": "stderr"
        },
        {
          "output_type": "stream",
          "text": [
            "| MSE: 0.36 | RMSE: 0.60 |\n"
          ],
          "name": "stdout"
        },
        {
          "output_type": "stream",
          "text": [
            "Trainer is attempting to log a value of \"325903.62\" of type <class 'str'> for key \"eval/sse\" as a scalar. This invocation of Tensorboard's writer.add_scalar() is incorrect so we dropped this attribute.\n",
            "Trainer is attempting to log a value of \"0.34997302\" of type <class 'str'> for key \"eval/mse\" as a scalar. This invocation of Tensorboard's writer.add_scalar() is incorrect so we dropped this attribute.\n",
            "Trainer is attempting to log a value of \"0.5915851780916884\" of type <class 'str'> for key \"eval/rmse\" as a scalar. This invocation of Tensorboard's writer.add_scalar() is incorrect so we dropped this attribute.\n"
          ],
          "name": "stderr"
        },
        {
          "output_type": "stream",
          "text": [
            "| MSE: 0.35 | RMSE: 0.59 |\n"
          ],
          "name": "stdout"
        },
        {
          "output_type": "stream",
          "text": [
            "Trainer is attempting to log a value of \"358415.47\" of type <class 'str'> for key \"eval/sse\" as a scalar. This invocation of Tensorboard's writer.add_scalar() is incorrect so we dropped this attribute.\n",
            "Trainer is attempting to log a value of \"0.384886\" of type <class 'str'> for key \"eval/mse\" as a scalar. This invocation of Tensorboard's writer.add_scalar() is incorrect so we dropped this attribute.\n",
            "Trainer is attempting to log a value of \"0.6203918089241055\" of type <class 'str'> for key \"eval/rmse\" as a scalar. This invocation of Tensorboard's writer.add_scalar() is incorrect so we dropped this attribute.\n"
          ],
          "name": "stderr"
        },
        {
          "output_type": "stream",
          "text": [
            "| MSE: 0.38 | RMSE: 0.62 |\n"
          ],
          "name": "stdout"
        },
        {
          "output_type": "stream",
          "text": [
            "Trainer is attempting to log a value of \"322268.12\" of type <class 'str'> for key \"eval/sse\" as a scalar. This invocation of Tensorboard's writer.add_scalar() is incorrect so we dropped this attribute.\n",
            "Trainer is attempting to log a value of \"0.346069\" of type <class 'str'> for key \"eval/mse\" as a scalar. This invocation of Tensorboard's writer.add_scalar() is incorrect so we dropped this attribute.\n",
            "Trainer is attempting to log a value of \"0.5882763025245482\" of type <class 'str'> for key \"eval/rmse\" as a scalar. This invocation of Tensorboard's writer.add_scalar() is incorrect so we dropped this attribute.\n"
          ],
          "name": "stderr"
        },
        {
          "output_type": "stream",
          "text": [
            "| MSE: 0.35 | RMSE: 0.59 |\n"
          ],
          "name": "stdout"
        },
        {
          "output_type": "stream",
          "text": [
            "Trainer is attempting to log a value of \"319613.03\" of type <class 'str'> for key \"eval/sse\" as a scalar. This invocation of Tensorboard's writer.add_scalar() is incorrect so we dropped this attribute.\n",
            "Trainer is attempting to log a value of \"0.34321785\" of type <class 'str'> for key \"eval/mse\" as a scalar. This invocation of Tensorboard's writer.add_scalar() is incorrect so we dropped this attribute.\n",
            "Trainer is attempting to log a value of \"0.5858479749315904\" of type <class 'str'> for key \"eval/rmse\" as a scalar. This invocation of Tensorboard's writer.add_scalar() is incorrect so we dropped this attribute.\n"
          ],
          "name": "stderr"
        },
        {
          "output_type": "stream",
          "text": [
            "| MSE: 0.34 | RMSE: 0.59 |\n"
          ],
          "name": "stdout"
        },
        {
          "output_type": "stream",
          "text": [
            "Trainer is attempting to log a value of \"322531.94\" of type <class 'str'> for key \"eval/sse\" as a scalar. This invocation of Tensorboard's writer.add_scalar() is incorrect so we dropped this attribute.\n",
            "Trainer is attempting to log a value of \"0.3463523\" of type <class 'str'> for key \"eval/mse\" as a scalar. This invocation of Tensorboard's writer.add_scalar() is incorrect so we dropped this attribute.\n",
            "Trainer is attempting to log a value of \"0.5885170422244127\" of type <class 'str'> for key \"eval/rmse\" as a scalar. This invocation of Tensorboard's writer.add_scalar() is incorrect so we dropped this attribute.\n"
          ],
          "name": "stderr"
        },
        {
          "output_type": "stream",
          "text": [
            "| MSE: 0.35 | RMSE: 0.59 |\n"
          ],
          "name": "stdout"
        },
        {
          "output_type": "stream",
          "text": [
            "Trainer is attempting to log a value of \"318026.84\" of type <class 'str'> for key \"eval/sse\" as a scalar. This invocation of Tensorboard's writer.add_scalar() is incorrect so we dropped this attribute.\n",
            "Trainer is attempting to log a value of \"0.3415145\" of type <class 'str'> for key \"eval/mse\" as a scalar. This invocation of Tensorboard's writer.add_scalar() is incorrect so we dropped this attribute.\n",
            "Trainer is attempting to log a value of \"0.5843924178113339\" of type <class 'str'> for key \"eval/rmse\" as a scalar. This invocation of Tensorboard's writer.add_scalar() is incorrect so we dropped this attribute.\n"
          ],
          "name": "stderr"
        },
        {
          "output_type": "stream",
          "text": [
            "| MSE: 0.34 | RMSE: 0.58 |\n"
          ],
          "name": "stdout"
        },
        {
          "output_type": "stream",
          "text": [
            "Trainer is attempting to log a value of \"317886.9\" of type <class 'str'> for key \"eval/sse\" as a scalar. This invocation of Tensorboard's writer.add_scalar() is incorrect so we dropped this attribute.\n",
            "Trainer is attempting to log a value of \"0.34136423\" of type <class 'str'> for key \"eval/mse\" as a scalar. This invocation of Tensorboard's writer.add_scalar() is incorrect so we dropped this attribute.\n",
            "Trainer is attempting to log a value of \"0.5842638399609357\" of type <class 'str'> for key \"eval/rmse\" as a scalar. This invocation of Tensorboard's writer.add_scalar() is incorrect so we dropped this attribute.\n"
          ],
          "name": "stderr"
        },
        {
          "output_type": "stream",
          "text": [
            "| MSE: 0.34 | RMSE: 0.58 |\n"
          ],
          "name": "stdout"
        },
        {
          "output_type": "stream",
          "text": [
            "/usr/local/lib/python3.7/dist-packages/ipykernel_launcher.py:11: UserWarning: To copy construct from a tensor, it is recommended to use sourceTensor.clone().detach() or sourceTensor.clone().detach().requires_grad_(True), rather than torch.tensor(sourceTensor).\n",
            "  # This is added back by InteractiveShellApp.init_path()\n",
            "Trainer is attempting to log a value of \"320496.06\" of type <class 'str'> for key \"eval/sse\" as a scalar. This invocation of Tensorboard's writer.add_scalar() is incorrect so we dropped this attribute.\n",
            "Trainer is attempting to log a value of \"0.34416607\" of type <class 'str'> for key \"eval/mse\" as a scalar. This invocation of Tensorboard's writer.add_scalar() is incorrect so we dropped this attribute.\n",
            "Trainer is attempting to log a value of \"0.586656688552048\" of type <class 'str'> for key \"eval/rmse\" as a scalar. This invocation of Tensorboard's writer.add_scalar() is incorrect so we dropped this attribute.\n"
          ],
          "name": "stderr"
        },
        {
          "output_type": "stream",
          "text": [
            "| MSE: 0.34 | RMSE: 0.59 |\n"
          ],
          "name": "stdout"
        },
        {
          "output_type": "stream",
          "text": [
            "Trainer is attempting to log a value of \"332575.75\" of type <class 'str'> for key \"eval/sse\" as a scalar. This invocation of Tensorboard's writer.add_scalar() is incorrect so we dropped this attribute.\n",
            "Trainer is attempting to log a value of \"0.35713792\" of type <class 'str'> for key \"eval/mse\" as a scalar. This invocation of Tensorboard's writer.add_scalar() is incorrect so we dropped this attribute.\n",
            "Trainer is attempting to log a value of \"0.5976101726646644\" of type <class 'str'> for key \"eval/rmse\" as a scalar. This invocation of Tensorboard's writer.add_scalar() is incorrect so we dropped this attribute.\n"
          ],
          "name": "stderr"
        },
        {
          "output_type": "stream",
          "text": [
            "| MSE: 0.36 | RMSE: 0.60 |\n"
          ],
          "name": "stdout"
        },
        {
          "output_type": "stream",
          "text": [
            "Trainer is attempting to log a value of \"334989.28\" of type <class 'str'> for key \"eval/sse\" as a scalar. This invocation of Tensorboard's writer.add_scalar() is incorrect so we dropped this attribute.\n",
            "Trainer is attempting to log a value of \"0.35972968\" of type <class 'str'> for key \"eval/mse\" as a scalar. This invocation of Tensorboard's writer.add_scalar() is incorrect so we dropped this attribute.\n",
            "Trainer is attempting to log a value of \"0.5997746888947015\" of type <class 'str'> for key \"eval/rmse\" as a scalar. This invocation of Tensorboard's writer.add_scalar() is incorrect so we dropped this attribute.\n"
          ],
          "name": "stderr"
        },
        {
          "output_type": "stream",
          "text": [
            "| MSE: 0.36 | RMSE: 0.60 |\n"
          ],
          "name": "stdout"
        },
        {
          "output_type": "stream",
          "text": [
            "Trainer is attempting to log a value of \"325294.47\" of type <class 'str'> for key \"eval/sse\" as a scalar. This invocation of Tensorboard's writer.add_scalar() is incorrect so we dropped this attribute.\n",
            "Trainer is attempting to log a value of \"0.34931886\" of type <class 'str'> for key \"eval/mse\" as a scalar. This invocation of Tensorboard's writer.add_scalar() is incorrect so we dropped this attribute.\n",
            "Trainer is attempting to log a value of \"0.5910320312481928\" of type <class 'str'> for key \"eval/rmse\" as a scalar. This invocation of Tensorboard's writer.add_scalar() is incorrect so we dropped this attribute.\n"
          ],
          "name": "stderr"
        },
        {
          "output_type": "stream",
          "text": [
            "| MSE: 0.35 | RMSE: 0.59 |\n"
          ],
          "name": "stdout"
        },
        {
          "output_type": "stream",
          "text": [
            "Trainer is attempting to log a value of \"318079.62\" of type <class 'str'> for key \"eval/sse\" as a scalar. This invocation of Tensorboard's writer.add_scalar() is incorrect so we dropped this attribute.\n",
            "Trainer is attempting to log a value of \"0.34157118\" of type <class 'str'> for key \"eval/mse\" as a scalar. This invocation of Tensorboard's writer.add_scalar() is incorrect so we dropped this attribute.\n",
            "Trainer is attempting to log a value of \"0.584440914047398\" of type <class 'str'> for key \"eval/rmse\" as a scalar. This invocation of Tensorboard's writer.add_scalar() is incorrect so we dropped this attribute.\n"
          ],
          "name": "stderr"
        },
        {
          "output_type": "stream",
          "text": [
            "| MSE: 0.34 | RMSE: 0.58 |\n"
          ],
          "name": "stdout"
        },
        {
          "output_type": "stream",
          "text": [
            "Trainer is attempting to log a value of \"324588.2\" of type <class 'str'> for key \"eval/sse\" as a scalar. This invocation of Tensorboard's writer.add_scalar() is incorrect so we dropped this attribute.\n",
            "Trainer is attempting to log a value of \"0.34856042\" of type <class 'str'> for key \"eval/mse\" as a scalar. This invocation of Tensorboard's writer.add_scalar() is incorrect so we dropped this attribute.\n",
            "Trainer is attempting to log a value of \"0.5903900597561923\" of type <class 'str'> for key \"eval/rmse\" as a scalar. This invocation of Tensorboard's writer.add_scalar() is incorrect so we dropped this attribute.\n"
          ],
          "name": "stderr"
        },
        {
          "output_type": "stream",
          "text": [
            "| MSE: 0.35 | RMSE: 0.59 |\n"
          ],
          "name": "stdout"
        },
        {
          "output_type": "stream",
          "text": [
            "Trainer is attempting to log a value of \"347291.12\" of type <class 'str'> for key \"eval/sse\" as a scalar. This invocation of Tensorboard's writer.add_scalar() is incorrect so we dropped this attribute.\n",
            "Trainer is attempting to log a value of \"0.3729401\" of type <class 'str'> for key \"eval/mse\" as a scalar. This invocation of Tensorboard's writer.add_scalar() is incorrect so we dropped this attribute.\n",
            "Trainer is attempting to log a value of \"0.6106882128213094\" of type <class 'str'> for key \"eval/rmse\" as a scalar. This invocation of Tensorboard's writer.add_scalar() is incorrect so we dropped this attribute.\n"
          ],
          "name": "stderr"
        },
        {
          "output_type": "stream",
          "text": [
            "| MSE: 0.37 | RMSE: 0.61 |\n"
          ],
          "name": "stdout"
        },
        {
          "output_type": "stream",
          "text": [
            "Trainer is attempting to log a value of \"346420.97\" of type <class 'str'> for key \"eval/sse\" as a scalar. This invocation of Tensorboard's writer.add_scalar() is incorrect so we dropped this attribute.\n",
            "Trainer is attempting to log a value of \"0.37200567\" of type <class 'str'> for key \"eval/mse\" as a scalar. This invocation of Tensorboard's writer.add_scalar() is incorrect so we dropped this attribute.\n",
            "Trainer is attempting to log a value of \"0.6099226764621406\" of type <class 'str'> for key \"eval/rmse\" as a scalar. This invocation of Tensorboard's writer.add_scalar() is incorrect so we dropped this attribute.\n"
          ],
          "name": "stderr"
        },
        {
          "output_type": "stream",
          "text": [
            "| MSE: 0.37 | RMSE: 0.61 |\n"
          ],
          "name": "stdout"
        },
        {
          "output_type": "stream",
          "text": [
            "Trainer is attempting to log a value of \"331478.06\" of type <class 'str'> for key \"eval/sse\" as a scalar. This invocation of Tensorboard's writer.add_scalar() is incorrect so we dropped this attribute.\n",
            "Trainer is attempting to log a value of \"0.35595915\" of type <class 'str'> for key \"eval/mse\" as a scalar. This invocation of Tensorboard's writer.add_scalar() is incorrect so we dropped this attribute.\n",
            "Trainer is attempting to log a value of \"0.5966231199131404\" of type <class 'str'> for key \"eval/rmse\" as a scalar. This invocation of Tensorboard's writer.add_scalar() is incorrect so we dropped this attribute.\n"
          ],
          "name": "stderr"
        },
        {
          "output_type": "stream",
          "text": [
            "| MSE: 0.36 | RMSE: 0.60 |\n"
          ],
          "name": "stdout"
        },
        {
          "output_type": "stream",
          "text": [
            "Trainer is attempting to log a value of \"332048.47\" of type <class 'str'> for key \"eval/sse\" as a scalar. This invocation of Tensorboard's writer.add_scalar() is incorrect so we dropped this attribute.\n",
            "Trainer is attempting to log a value of \"0.35657167\" of type <class 'str'> for key \"eval/mse\" as a scalar. This invocation of Tensorboard's writer.add_scalar() is incorrect so we dropped this attribute.\n",
            "Trainer is attempting to log a value of \"0.5971362276289421\" of type <class 'str'> for key \"eval/rmse\" as a scalar. This invocation of Tensorboard's writer.add_scalar() is incorrect so we dropped this attribute.\n"
          ],
          "name": "stderr"
        },
        {
          "output_type": "stream",
          "text": [
            "| MSE: 0.36 | RMSE: 0.60 |\n"
          ],
          "name": "stdout"
        },
        {
          "output_type": "stream",
          "text": [
            "/usr/local/lib/python3.7/dist-packages/ipykernel_launcher.py:11: UserWarning: To copy construct from a tensor, it is recommended to use sourceTensor.clone().detach() or sourceTensor.clone().detach().requires_grad_(True), rather than torch.tensor(sourceTensor).\n",
            "  # This is added back by InteractiveShellApp.init_path()\n",
            "Trainer is attempting to log a value of \"331634.03\" of type <class 'str'> for key \"eval/sse\" as a scalar. This invocation of Tensorboard's writer.add_scalar() is incorrect so we dropped this attribute.\n",
            "Trainer is attempting to log a value of \"0.35612664\" of type <class 'str'> for key \"eval/mse\" as a scalar. This invocation of Tensorboard's writer.add_scalar() is incorrect so we dropped this attribute.\n",
            "Trainer is attempting to log a value of \"0.5967634676039648\" of type <class 'str'> for key \"eval/rmse\" as a scalar. This invocation of Tensorboard's writer.add_scalar() is incorrect so we dropped this attribute.\n"
          ],
          "name": "stderr"
        },
        {
          "output_type": "stream",
          "text": [
            "| MSE: 0.36 | RMSE: 0.60 |\n"
          ],
          "name": "stdout"
        },
        {
          "output_type": "execute_result",
          "data": {
            "text/plain": [
              "TrainOutput(global_step=1086, training_loss=0.3601614636048318, metrics={'train_runtime': 181.7395, 'train_samples_per_second': 5.976, 'total_flos': 285323669754900, 'epoch': 2.0})"
            ]
          },
          "metadata": {
            "tags": []
          },
          "execution_count": 25
        }
      ]
    },
    {
      "cell_type": "code",
      "metadata": {
        "id": "di4T-_yMdJ_6"
      },
      "source": [
        "drive_dir = '/content/drive/MyDrive/BERT/'\r\n",
        "model.save_pretrained(drive_dir)"
      ],
      "execution_count": null,
      "outputs": []
    },
    {
      "cell_type": "markdown",
      "metadata": {
        "id": "P57W7x1jl_NR"
      },
      "source": [
        "### Evaluation"
      ]
    },
    {
      "cell_type": "code",
      "metadata": {
        "colab": {
          "base_uri": "https://localhost:8080/",
          "height": 278
        },
        "id": "aTuQmDrGmkGZ",
        "outputId": "ff4ebaed-9c63-43ff-f249-eb34921f1db1"
      },
      "source": [
        "trainer.evaluate()"
      ],
      "execution_count": null,
      "outputs": [
        {
          "output_type": "stream",
          "text": [
            "/usr/local/lib/python3.7/dist-packages/ipykernel_launcher.py:11: UserWarning: To copy construct from a tensor, it is recommended to use sourceTensor.clone().detach() or sourceTensor.clone().detach().requires_grad_(True), rather than torch.tensor(sourceTensor).\n",
            "  # This is added back by InteractiveShellApp.init_path()\n"
          ],
          "name": "stderr"
        },
        {
          "output_type": "display_data",
          "data": {
            "text/html": [
              "\n",
              "    <div>\n",
              "        <style>\n",
              "            /* Turns off some styling */\n",
              "            progress {\n",
              "                /* gets rid of default border in Firefox and Opera. */\n",
              "                border: none;\n",
              "                /* Needs to be in here for Safari polyfill so background images work as expected. */\n",
              "                background-size: auto;\n",
              "            }\n",
              "        </style>\n",
              "      \n",
              "      <progress value='121' max='121' style='width:300px; height:20px; vertical-align: middle;'></progress>\n",
              "      [121/121 00:02]\n",
              "    </div>\n",
              "    "
            ],
            "text/plain": [
              "<IPython.core.display.HTML object>"
            ]
          },
          "metadata": {
            "tags": []
          }
        },
        {
          "output_type": "stream",
          "text": [
            "Trainer is attempting to log a value of \"333731.3\" of type <class 'str'> for key \"eval/sse\" as a scalar. This invocation of Tensorboard's writer.add_scalar() is incorrect so we dropped this attribute.\n",
            "Trainer is attempting to log a value of \"0.35837883\" of type <class 'str'> for key \"eval/mse\" as a scalar. This invocation of Tensorboard's writer.add_scalar() is incorrect so we dropped this attribute.\n",
            "Trainer is attempting to log a value of \"0.5986474985931779\" of type <class 'str'> for key \"eval/rmse\" as a scalar. This invocation of Tensorboard's writer.add_scalar() is incorrect so we dropped this attribute.\n"
          ],
          "name": "stderr"
        },
        {
          "output_type": "stream",
          "text": [
            "| MSE: 0.36 | RMSE: 0.60 |\n"
          ],
          "name": "stdout"
        },
        {
          "output_type": "execute_result",
          "data": {
            "text/plain": [
              "{'epoch': 2.0,\n",
              " 'eval_loss': 0.33027008175849915,\n",
              " 'eval_mse': '0.35837883',\n",
              " 'eval_rmse': '0.5986474985931779',\n",
              " 'eval_runtime': 2.1452,\n",
              " 'eval_samples_per_second': 449.839,\n",
              " 'eval_sse': '333731.3'}"
            ]
          },
          "metadata": {
            "tags": []
          },
          "execution_count": 27
        }
      ]
    },
    {
      "cell_type": "markdown",
      "metadata": {
        "id": "s-Pxr-8CCS7A"
      },
      "source": [
        "##### Prep the dev data for evaluation"
      ]
    },
    {
      "cell_type": "code",
      "metadata": {
        "id": "Z9JK2zaQjzUi"
      },
      "source": [
        "test_X = tokenizer(training_data.to_list(), add_special_tokens=False, padding=True, return_tensors=\"pt\")"
      ],
      "execution_count": null,
      "outputs": []
    },
    {
      "cell_type": "code",
      "metadata": {
        "colab": {
          "base_uri": "https://localhost:8080/"
        },
        "id": "hUE3yXHekWoP",
        "outputId": "cbea7e0a-9a8d-4156-9da9-2dfa2b398dec"
      },
      "source": [
        "test_X = test_X.to(device)\r\n",
        "test_X"
      ],
      "execution_count": null,
      "outputs": [
        {
          "output_type": "execute_result",
          "data": {
            "text/plain": [
              "{'input_ids': tensor([[ 2605,  1005,  5933,  ...,     0,     0,     0],\n",
              "        [20864,  4447,  1003,  ...,     0,     0,     0],\n",
              "        [10399,  7610,  4455,  ...,     0,     0,     0],\n",
              "        ...,\n",
              "        [ 8592,  2240, 11485,  ...,     0,     0,     0],\n",
              "        [ 3996,  2610,  5690,  ...,     0,     0,     0],\n",
              "        [ 2160,  4844,  2740,  ...,     0,     0,     0]]), 'token_type_ids': tensor([[0, 0, 0,  ..., 0, 0, 0],\n",
              "        [0, 0, 0,  ..., 0, 0, 0],\n",
              "        [0, 0, 0,  ..., 0, 0, 0],\n",
              "        ...,\n",
              "        [0, 0, 0,  ..., 0, 0, 0],\n",
              "        [0, 0, 0,  ..., 0, 0, 0],\n",
              "        [0, 0, 0,  ..., 0, 0, 0]]), 'attention_mask': tensor([[1, 1, 1,  ..., 0, 0, 0],\n",
              "        [1, 1, 1,  ..., 0, 0, 0],\n",
              "        [1, 1, 1,  ..., 0, 0, 0],\n",
              "        ...,\n",
              "        [1, 1, 1,  ..., 0, 0, 0],\n",
              "        [1, 1, 1,  ..., 0, 0, 0],\n",
              "        [1, 1, 1,  ..., 0, 0, 0]])}"
            ]
          },
          "metadata": {
            "tags": []
          },
          "execution_count": 29
        }
      ]
    },
    {
      "cell_type": "code",
      "metadata": {
        "id": "gerpYukej8TJ"
      },
      "source": [
        "test_dataset = Task1Dataset(test_X, clean_test_df['meanGrade'])"
      ],
      "execution_count": null,
      "outputs": []
    },
    {
      "cell_type": "code",
      "metadata": {
        "id": "3iMFgYVDkLwH"
      },
      "source": [
        "test_loader = torch.utils.data.DataLoader(test_dataset, batch_size=BATCH_SIZE)"
      ],
      "execution_count": null,
      "outputs": []
    },
    {
      "cell_type": "code",
      "metadata": {
        "id": "yRwwMx3QunVK"
      },
      "source": [
        "def model_eval(data_loader, model):\r\n",
        "  model.eval()\r\n",
        "  preds = []\r\n",
        "  targets = []\r\n",
        "  rmse = 0\r\n",
        "  model = model.to(device)\r\n",
        "\r\n",
        "  with torch.no_grad():\r\n",
        "    for batch in data_loader:\r\n",
        "          input_ids = batch['input_ids'].to(device)\r\n",
        "          attention_mask = batch['attention_mask'].to(device)\r\n",
        "          labels = batch['labels'].to(device)\r\n",
        "          outputs = model(input_ids, attention_mask=attention_mask, labels=labels)\r\n",
        "          preds.extend(outputs.logits.squeeze(1).detach().cpu().numpy())\r\n",
        "          targets.extend(labels.detach().cpu().numpy())\r\n",
        "\r\n",
        "  preds = np.array(preds)\r\n",
        "  targets = np.array(targets)\r\n",
        "  print(preds, targets)\r\n",
        "  model_performance(preds, targets, print_output=True)\r\n",
        "  return preds, targets"
      ],
      "execution_count": null,
      "outputs": []
    },
    {
      "cell_type": "markdown",
      "metadata": {
        "id": "UuHs0uo0Cfpe"
      },
      "source": [
        "###### Evaluate the model on dev data"
      ]
    },
    {
      "cell_type": "code",
      "metadata": {
        "id": "7sQDwXTYmByQ",
        "colab": {
          "base_uri": "https://localhost:8080/"
        },
        "outputId": "346a7ce7-2713-4b9b-a8ec-83a0652694d0"
      },
      "source": [
        "predictions, target = model_eval(test_loader, model)\r\n",
        "model_performance(predictions, target, print_output=True)"
      ],
      "execution_count": null,
      "outputs": [
        {
          "output_type": "stream",
          "text": [
            "/usr/local/lib/python3.7/dist-packages/ipykernel_launcher.py:11: UserWarning: To copy construct from a tensor, it is recommended to use sourceTensor.clone().detach() or sourceTensor.clone().detach().requires_grad_(True), rather than torch.tensor(sourceTensor).\n",
            "  # This is added back by InteractiveShellApp.init_path()\n"
          ],
          "name": "stderr"
        },
        {
          "output_type": "stream",
          "text": [
            "[0.76395303 1.0368106  0.8054189  ... 1.2668734  0.79196304 1.0110961 ] [1.  0.8 0.6 ... 1.4 1.4 0.6]\n",
            "| MSE: 0.35 | RMSE: 0.59 |\n",
            "| MSE: 0.35 | RMSE: 0.59 |\n"
          ],
          "name": "stdout"
        },
        {
          "output_type": "execute_result",
          "data": {
            "text/plain": [
              "(843.3108, 0.34861958)"
            ]
          },
          "metadata": {
            "tags": []
          },
          "execution_count": 42
        }
      ]
    },
    {
      "cell_type": "code",
      "metadata": {
        "colab": {
          "base_uri": "https://localhost:8080/"
        },
        "id": "Z7vAQMOxpMTb",
        "outputId": "ffafb87e-118a-4f59-b1a6-71285c56b714"
      },
      "source": [
        "model"
      ],
      "execution_count": null,
      "outputs": [
        {
          "output_type": "execute_result",
          "data": {
            "text/plain": [
              "BertForSequenceClassification(\n",
              "  (bert): BertModel(\n",
              "    (embeddings): BertEmbeddings(\n",
              "      (word_embeddings): Embedding(30522, 768, padding_idx=0)\n",
              "      (position_embeddings): Embedding(512, 768)\n",
              "      (token_type_embeddings): Embedding(2, 768)\n",
              "      (LayerNorm): LayerNorm((768,), eps=1e-12, elementwise_affine=True)\n",
              "      (dropout): Dropout(p=0.1, inplace=False)\n",
              "    )\n",
              "    (encoder): BertEncoder(\n",
              "      (layer): ModuleList(\n",
              "        (0): BertLayer(\n",
              "          (attention): BertAttention(\n",
              "            (self): BertSelfAttention(\n",
              "              (query): Linear(in_features=768, out_features=768, bias=True)\n",
              "              (key): Linear(in_features=768, out_features=768, bias=True)\n",
              "              (value): Linear(in_features=768, out_features=768, bias=True)\n",
              "              (dropout): Dropout(p=0.1, inplace=False)\n",
              "            )\n",
              "            (output): BertSelfOutput(\n",
              "              (dense): Linear(in_features=768, out_features=768, bias=True)\n",
              "              (LayerNorm): LayerNorm((768,), eps=1e-12, elementwise_affine=True)\n",
              "              (dropout): Dropout(p=0.1, inplace=False)\n",
              "            )\n",
              "          )\n",
              "          (intermediate): BertIntermediate(\n",
              "            (dense): Linear(in_features=768, out_features=3072, bias=True)\n",
              "          )\n",
              "          (output): BertOutput(\n",
              "            (dense): Linear(in_features=3072, out_features=768, bias=True)\n",
              "            (LayerNorm): LayerNorm((768,), eps=1e-12, elementwise_affine=True)\n",
              "            (dropout): Dropout(p=0.1, inplace=False)\n",
              "          )\n",
              "        )\n",
              "        (1): BertLayer(\n",
              "          (attention): BertAttention(\n",
              "            (self): BertSelfAttention(\n",
              "              (query): Linear(in_features=768, out_features=768, bias=True)\n",
              "              (key): Linear(in_features=768, out_features=768, bias=True)\n",
              "              (value): Linear(in_features=768, out_features=768, bias=True)\n",
              "              (dropout): Dropout(p=0.1, inplace=False)\n",
              "            )\n",
              "            (output): BertSelfOutput(\n",
              "              (dense): Linear(in_features=768, out_features=768, bias=True)\n",
              "              (LayerNorm): LayerNorm((768,), eps=1e-12, elementwise_affine=True)\n",
              "              (dropout): Dropout(p=0.1, inplace=False)\n",
              "            )\n",
              "          )\n",
              "          (intermediate): BertIntermediate(\n",
              "            (dense): Linear(in_features=768, out_features=3072, bias=True)\n",
              "          )\n",
              "          (output): BertOutput(\n",
              "            (dense): Linear(in_features=3072, out_features=768, bias=True)\n",
              "            (LayerNorm): LayerNorm((768,), eps=1e-12, elementwise_affine=True)\n",
              "            (dropout): Dropout(p=0.1, inplace=False)\n",
              "          )\n",
              "        )\n",
              "        (2): BertLayer(\n",
              "          (attention): BertAttention(\n",
              "            (self): BertSelfAttention(\n",
              "              (query): Linear(in_features=768, out_features=768, bias=True)\n",
              "              (key): Linear(in_features=768, out_features=768, bias=True)\n",
              "              (value): Linear(in_features=768, out_features=768, bias=True)\n",
              "              (dropout): Dropout(p=0.1, inplace=False)\n",
              "            )\n",
              "            (output): BertSelfOutput(\n",
              "              (dense): Linear(in_features=768, out_features=768, bias=True)\n",
              "              (LayerNorm): LayerNorm((768,), eps=1e-12, elementwise_affine=True)\n",
              "              (dropout): Dropout(p=0.1, inplace=False)\n",
              "            )\n",
              "          )\n",
              "          (intermediate): BertIntermediate(\n",
              "            (dense): Linear(in_features=768, out_features=3072, bias=True)\n",
              "          )\n",
              "          (output): BertOutput(\n",
              "            (dense): Linear(in_features=3072, out_features=768, bias=True)\n",
              "            (LayerNorm): LayerNorm((768,), eps=1e-12, elementwise_affine=True)\n",
              "            (dropout): Dropout(p=0.1, inplace=False)\n",
              "          )\n",
              "        )\n",
              "        (3): BertLayer(\n",
              "          (attention): BertAttention(\n",
              "            (self): BertSelfAttention(\n",
              "              (query): Linear(in_features=768, out_features=768, bias=True)\n",
              "              (key): Linear(in_features=768, out_features=768, bias=True)\n",
              "              (value): Linear(in_features=768, out_features=768, bias=True)\n",
              "              (dropout): Dropout(p=0.1, inplace=False)\n",
              "            )\n",
              "            (output): BertSelfOutput(\n",
              "              (dense): Linear(in_features=768, out_features=768, bias=True)\n",
              "              (LayerNorm): LayerNorm((768,), eps=1e-12, elementwise_affine=True)\n",
              "              (dropout): Dropout(p=0.1, inplace=False)\n",
              "            )\n",
              "          )\n",
              "          (intermediate): BertIntermediate(\n",
              "            (dense): Linear(in_features=768, out_features=3072, bias=True)\n",
              "          )\n",
              "          (output): BertOutput(\n",
              "            (dense): Linear(in_features=3072, out_features=768, bias=True)\n",
              "            (LayerNorm): LayerNorm((768,), eps=1e-12, elementwise_affine=True)\n",
              "            (dropout): Dropout(p=0.1, inplace=False)\n",
              "          )\n",
              "        )\n",
              "        (4): BertLayer(\n",
              "          (attention): BertAttention(\n",
              "            (self): BertSelfAttention(\n",
              "              (query): Linear(in_features=768, out_features=768, bias=True)\n",
              "              (key): Linear(in_features=768, out_features=768, bias=True)\n",
              "              (value): Linear(in_features=768, out_features=768, bias=True)\n",
              "              (dropout): Dropout(p=0.1, inplace=False)\n",
              "            )\n",
              "            (output): BertSelfOutput(\n",
              "              (dense): Linear(in_features=768, out_features=768, bias=True)\n",
              "              (LayerNorm): LayerNorm((768,), eps=1e-12, elementwise_affine=True)\n",
              "              (dropout): Dropout(p=0.1, inplace=False)\n",
              "            )\n",
              "          )\n",
              "          (intermediate): BertIntermediate(\n",
              "            (dense): Linear(in_features=768, out_features=3072, bias=True)\n",
              "          )\n",
              "          (output): BertOutput(\n",
              "            (dense): Linear(in_features=3072, out_features=768, bias=True)\n",
              "            (LayerNorm): LayerNorm((768,), eps=1e-12, elementwise_affine=True)\n",
              "            (dropout): Dropout(p=0.1, inplace=False)\n",
              "          )\n",
              "        )\n",
              "        (5): BertLayer(\n",
              "          (attention): BertAttention(\n",
              "            (self): BertSelfAttention(\n",
              "              (query): Linear(in_features=768, out_features=768, bias=True)\n",
              "              (key): Linear(in_features=768, out_features=768, bias=True)\n",
              "              (value): Linear(in_features=768, out_features=768, bias=True)\n",
              "              (dropout): Dropout(p=0.1, inplace=False)\n",
              "            )\n",
              "            (output): BertSelfOutput(\n",
              "              (dense): Linear(in_features=768, out_features=768, bias=True)\n",
              "              (LayerNorm): LayerNorm((768,), eps=1e-12, elementwise_affine=True)\n",
              "              (dropout): Dropout(p=0.1, inplace=False)\n",
              "            )\n",
              "          )\n",
              "          (intermediate): BertIntermediate(\n",
              "            (dense): Linear(in_features=768, out_features=3072, bias=True)\n",
              "          )\n",
              "          (output): BertOutput(\n",
              "            (dense): Linear(in_features=3072, out_features=768, bias=True)\n",
              "            (LayerNorm): LayerNorm((768,), eps=1e-12, elementwise_affine=True)\n",
              "            (dropout): Dropout(p=0.1, inplace=False)\n",
              "          )\n",
              "        )\n",
              "        (6): BertLayer(\n",
              "          (attention): BertAttention(\n",
              "            (self): BertSelfAttention(\n",
              "              (query): Linear(in_features=768, out_features=768, bias=True)\n",
              "              (key): Linear(in_features=768, out_features=768, bias=True)\n",
              "              (value): Linear(in_features=768, out_features=768, bias=True)\n",
              "              (dropout): Dropout(p=0.1, inplace=False)\n",
              "            )\n",
              "            (output): BertSelfOutput(\n",
              "              (dense): Linear(in_features=768, out_features=768, bias=True)\n",
              "              (LayerNorm): LayerNorm((768,), eps=1e-12, elementwise_affine=True)\n",
              "              (dropout): Dropout(p=0.1, inplace=False)\n",
              "            )\n",
              "          )\n",
              "          (intermediate): BertIntermediate(\n",
              "            (dense): Linear(in_features=768, out_features=3072, bias=True)\n",
              "          )\n",
              "          (output): BertOutput(\n",
              "            (dense): Linear(in_features=3072, out_features=768, bias=True)\n",
              "            (LayerNorm): LayerNorm((768,), eps=1e-12, elementwise_affine=True)\n",
              "            (dropout): Dropout(p=0.1, inplace=False)\n",
              "          )\n",
              "        )\n",
              "        (7): BertLayer(\n",
              "          (attention): BertAttention(\n",
              "            (self): BertSelfAttention(\n",
              "              (query): Linear(in_features=768, out_features=768, bias=True)\n",
              "              (key): Linear(in_features=768, out_features=768, bias=True)\n",
              "              (value): Linear(in_features=768, out_features=768, bias=True)\n",
              "              (dropout): Dropout(p=0.1, inplace=False)\n",
              "            )\n",
              "            (output): BertSelfOutput(\n",
              "              (dense): Linear(in_features=768, out_features=768, bias=True)\n",
              "              (LayerNorm): LayerNorm((768,), eps=1e-12, elementwise_affine=True)\n",
              "              (dropout): Dropout(p=0.1, inplace=False)\n",
              "            )\n",
              "          )\n",
              "          (intermediate): BertIntermediate(\n",
              "            (dense): Linear(in_features=768, out_features=3072, bias=True)\n",
              "          )\n",
              "          (output): BertOutput(\n",
              "            (dense): Linear(in_features=3072, out_features=768, bias=True)\n",
              "            (LayerNorm): LayerNorm((768,), eps=1e-12, elementwise_affine=True)\n",
              "            (dropout): Dropout(p=0.1, inplace=False)\n",
              "          )\n",
              "        )\n",
              "        (8): BertLayer(\n",
              "          (attention): BertAttention(\n",
              "            (self): BertSelfAttention(\n",
              "              (query): Linear(in_features=768, out_features=768, bias=True)\n",
              "              (key): Linear(in_features=768, out_features=768, bias=True)\n",
              "              (value): Linear(in_features=768, out_features=768, bias=True)\n",
              "              (dropout): Dropout(p=0.1, inplace=False)\n",
              "            )\n",
              "            (output): BertSelfOutput(\n",
              "              (dense): Linear(in_features=768, out_features=768, bias=True)\n",
              "              (LayerNorm): LayerNorm((768,), eps=1e-12, elementwise_affine=True)\n",
              "              (dropout): Dropout(p=0.1, inplace=False)\n",
              "            )\n",
              "          )\n",
              "          (intermediate): BertIntermediate(\n",
              "            (dense): Linear(in_features=768, out_features=3072, bias=True)\n",
              "          )\n",
              "          (output): BertOutput(\n",
              "            (dense): Linear(in_features=3072, out_features=768, bias=True)\n",
              "            (LayerNorm): LayerNorm((768,), eps=1e-12, elementwise_affine=True)\n",
              "            (dropout): Dropout(p=0.1, inplace=False)\n",
              "          )\n",
              "        )\n",
              "        (9): BertLayer(\n",
              "          (attention): BertAttention(\n",
              "            (self): BertSelfAttention(\n",
              "              (query): Linear(in_features=768, out_features=768, bias=True)\n",
              "              (key): Linear(in_features=768, out_features=768, bias=True)\n",
              "              (value): Linear(in_features=768, out_features=768, bias=True)\n",
              "              (dropout): Dropout(p=0.1, inplace=False)\n",
              "            )\n",
              "            (output): BertSelfOutput(\n",
              "              (dense): Linear(in_features=768, out_features=768, bias=True)\n",
              "              (LayerNorm): LayerNorm((768,), eps=1e-12, elementwise_affine=True)\n",
              "              (dropout): Dropout(p=0.1, inplace=False)\n",
              "            )\n",
              "          )\n",
              "          (intermediate): BertIntermediate(\n",
              "            (dense): Linear(in_features=768, out_features=3072, bias=True)\n",
              "          )\n",
              "          (output): BertOutput(\n",
              "            (dense): Linear(in_features=3072, out_features=768, bias=True)\n",
              "            (LayerNorm): LayerNorm((768,), eps=1e-12, elementwise_affine=True)\n",
              "            (dropout): Dropout(p=0.1, inplace=False)\n",
              "          )\n",
              "        )\n",
              "        (10): BertLayer(\n",
              "          (attention): BertAttention(\n",
              "            (self): BertSelfAttention(\n",
              "              (query): Linear(in_features=768, out_features=768, bias=True)\n",
              "              (key): Linear(in_features=768, out_features=768, bias=True)\n",
              "              (value): Linear(in_features=768, out_features=768, bias=True)\n",
              "              (dropout): Dropout(p=0.1, inplace=False)\n",
              "            )\n",
              "            (output): BertSelfOutput(\n",
              "              (dense): Linear(in_features=768, out_features=768, bias=True)\n",
              "              (LayerNorm): LayerNorm((768,), eps=1e-12, elementwise_affine=True)\n",
              "              (dropout): Dropout(p=0.1, inplace=False)\n",
              "            )\n",
              "          )\n",
              "          (intermediate): BertIntermediate(\n",
              "            (dense): Linear(in_features=768, out_features=3072, bias=True)\n",
              "          )\n",
              "          (output): BertOutput(\n",
              "            (dense): Linear(in_features=3072, out_features=768, bias=True)\n",
              "            (LayerNorm): LayerNorm((768,), eps=1e-12, elementwise_affine=True)\n",
              "            (dropout): Dropout(p=0.1, inplace=False)\n",
              "          )\n",
              "        )\n",
              "        (11): BertLayer(\n",
              "          (attention): BertAttention(\n",
              "            (self): BertSelfAttention(\n",
              "              (query): Linear(in_features=768, out_features=768, bias=True)\n",
              "              (key): Linear(in_features=768, out_features=768, bias=True)\n",
              "              (value): Linear(in_features=768, out_features=768, bias=True)\n",
              "              (dropout): Dropout(p=0.1, inplace=False)\n",
              "            )\n",
              "            (output): BertSelfOutput(\n",
              "              (dense): Linear(in_features=768, out_features=768, bias=True)\n",
              "              (LayerNorm): LayerNorm((768,), eps=1e-12, elementwise_affine=True)\n",
              "              (dropout): Dropout(p=0.1, inplace=False)\n",
              "            )\n",
              "          )\n",
              "          (intermediate): BertIntermediate(\n",
              "            (dense): Linear(in_features=768, out_features=3072, bias=True)\n",
              "          )\n",
              "          (output): BertOutput(\n",
              "            (dense): Linear(in_features=3072, out_features=768, bias=True)\n",
              "            (LayerNorm): LayerNorm((768,), eps=1e-12, elementwise_affine=True)\n",
              "            (dropout): Dropout(p=0.1, inplace=False)\n",
              "          )\n",
              "        )\n",
              "      )\n",
              "    )\n",
              "    (pooler): BertPooler(\n",
              "      (dense): Linear(in_features=768, out_features=768, bias=True)\n",
              "      (activation): Tanh()\n",
              "    )\n",
              "  )\n",
              "  (dropout): Dropout(p=0.1, inplace=False)\n",
              "  (classifier): Linear(in_features=768, out_features=1, bias=True)\n",
              ")"
            ]
          },
          "metadata": {
            "tags": []
          },
          "execution_count": 33
        }
      ]
    },
    {
      "cell_type": "code",
      "metadata": {
        "colab": {
          "base_uri": "https://localhost:8080/",
          "height": 265
        },
        "id": "6hngjdBclRiY",
        "outputId": "ce5e7e5d-e6ce-485e-a805-4a1ac2bc00e4"
      },
      "source": [
        "import matplotlib.pyplot as plt\r\n",
        "\r\n",
        "plt.hist(predictions, bins=30)\r\n",
        "plt.hist(target, bins=30, alpha=0.5)\r\n",
        "plt.show()"
      ],
      "execution_count": null,
      "outputs": [
        {
          "output_type": "display_data",
          "data": {
            "image/png": "[encoded data removed]",
            "text/plain": [
              "<Figure size 432x288 with 1 Axes>"
            ]
          },
          "metadata": {
            "tags": [],
            "needs_background": "light"
          }
        }
      ]
    },
    {
      "cell_type": "code",
      "metadata": {
        "colab": {
          "base_uri": "https://localhost:8080/"
        },
        "id": "4EHAVSa0ly8Q",
        "outputId": "fd2a4c58-4677-4091-9ed1-927674dc5c03"
      },
      "source": [
        "print(min(preds))\r\n",
        "print(max(preds))\r\n",
        "rounded_preds = np.round_(preds, decimals=1)\r\n",
        "print(min(rounded_preds))\r\n",
        "print(max(rounded_preds))"
      ],
      "execution_count": null,
      "outputs": [
        {
          "output_type": "stream",
          "text": [
            "0.73230493\n",
            "1.2782159\n",
            "0.7\n",
            "1.3\n"
          ],
          "name": "stdout"
        }
      ]
    },
    {
      "cell_type": "markdown",
      "metadata": {
        "id": "wJDLFvh9CkUu"
      },
      "source": [
        "###### Get the final RMSE for all the training data"
      ]
    },
    {
      "cell_type": "code",
      "metadata": {
        "id": "1R_iScDghKnE"
      },
      "source": [
        "train_dataset = Task1Dataset(train_X, train_df['meanGrade'])\r\n",
        "train_loader = torch.utils.data.DataLoader(train_dataset, batch_size=BATCH_SIZE)"
      ],
      "execution_count": null,
      "outputs": []
    },
    {
      "cell_type": "code",
      "metadata": {
        "colab": {
          "base_uri": "https://localhost:8080/"
        },
        "id": "qBIcn6efhxBm",
        "outputId": "cfee58c1-e0d5-4b10-cc4e-c55286f6c3f8"
      },
      "source": [
        "predictions_t, targets_t = model_eval(train_loader, model)"
      ],
      "execution_count": null,
      "outputs": [
        {
          "output_type": "stream",
          "text": [
            "/usr/local/lib/python3.7/dist-packages/ipykernel_launcher.py:11: UserWarning: To copy construct from a tensor, it is recommended to use sourceTensor.clone().detach() or sourceTensor.clone().detach().requires_grad_(True), rather than torch.tensor(sourceTensor).\n",
            "  # This is added back by InteractiveShellApp.init_path()\n"
          ],
          "name": "stderr"
        },
        {
          "output_type": "stream",
          "text": [
            "[0.76395303 1.0368106  0.8054189  ... 0.7708231  1.0429242  0.9800718 ] [0.2 1.6 1.  ... 0.6 1.4 0.4]\n",
            "| MSE: 0.32 | RMSE: 0.56 |\n"
          ],
          "name": "stdout"
        }
      ]
    },
    {
      "cell_type": "markdown",
      "metadata": {
        "id": "31aFgkm7C6B4"
      },
      "source": [
        "##### Visualise the results of evaluation"
      ]
    },
    {
      "cell_type": "code",
      "metadata": {
        "id": "wuq3lAA_gEyi"
      },
      "source": [
        "train_results = pd.DataFrame({'predictions': predictions_t, 'target': targets_t})"
      ],
      "execution_count": null,
      "outputs": []
    },
    {
      "cell_type": "code",
      "metadata": {
        "id": "5f8ALKmOiZnn"
      },
      "source": [
        "test_results = pd.DataFrame({'predictions': predictions, 'target': target})"
      ],
      "execution_count": null,
      "outputs": []
    },
    {
      "cell_type": "code",
      "metadata": {
        "colab": {
          "base_uri": "https://localhost:8080/",
          "height": 638
        },
        "id": "7g6xy-wyZSRv",
        "outputId": "7ffd48c2-6081-4818-ff85-6a49a27250cb"
      },
      "source": [
        "import seaborn as sns\r\n",
        "\r\n",
        "fig, (ax1, ax2) = plt.subplots(ncols=2, figsize=(20, 10))\r\n",
        "\r\n",
        "\r\n",
        "\r\n",
        "sns.boxplot(x='target', y='predictions', data=train_results, ax=ax1)\r\n",
        "sns.boxplot(x='target', y='predictions', data=test_results, ax=ax2)\r\n",
        "ax1.set_title('Train Predictions')\r\n",
        "ax2.set_title('Test Predictions')"
      ],
      "execution_count": null,
      "outputs": [
        {
          "output_type": "execute_result",
          "data": {
            "text/plain": [
              "Text(0.5, 1.0, 'Test Predictions')"
            ]
          },
          "metadata": {
            "tags": []
          },
          "execution_count": 52
        },
        {
          "output_type": "display_data",
          "data": {
            "image/png": "[encoded data removed]",
            "text/plain": [
              "<Figure size 1440x720 with 2 Axes>"
            ]
          },
          "metadata": {
            "tags": [],
            "needs_background": "light"
          }
        }
      ]
    },
    {
      "cell_type": "code",
      "metadata": {
        "id": "lk4lGC-RkwKx"
      },
      "source": [
        "test_results.to_csv(drive_dir + 'test_results_bert.csv')"
      ],
      "execution_count": null,
      "outputs": []
    },
    {
      "cell_type": "code",
      "metadata": {
        "colab": {
          "base_uri": "https://localhost:8080/",
          "height": 621
        },
        "id": "9cnTkk4FlfV8",
        "outputId": "e22e3c30-55e8-4934-f37c-0f94f8e05442"
      },
      "source": [
        "fig, (ax1, ax2) = plt.subplots(ncols=2, figsize=(20, 10))\r\n",
        "\r\n",
        " \r\n",
        "\r\n",
        "sns.scatterplot(x='target', y='predictions', data=train_results, ax=ax1)\r\n",
        "sns.scatterplot(x='target', y='predictions', data=test_results, ax=ax2)\r\n",
        "ax1.set_title('Train Predictions')\r\n",
        "ax2.set_title('Test Predictions')\r\n",
        "\r\n",
        " \r\n",
        "\r\n",
        "plt.show()"
      ],
      "execution_count": null,
      "outputs": [
        {
          "output_type": "display_data",
          "data": {
            "image/png": "[encoded data removed]",
            "text/plain": [
              "<Figure size 1440x720 with 2 Axes>"
            ]
          },
          "metadata": {
            "tags": [],
            "needs_background": "light"
          }
        }
      ]
    },
    {
      "cell_type": "code",
      "metadata": {
        "id": "84nQDZyBlDpg"
      },
      "source": [
        ""
      ],
      "execution_count": null,
      "outputs": []
    }
  ]
}